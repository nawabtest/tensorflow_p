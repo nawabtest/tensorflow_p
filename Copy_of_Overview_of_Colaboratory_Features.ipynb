{
  "cells": [
    {
      "cell_type": "markdown",
      "metadata": {
        "id": "view-in-github",
        "colab_type": "text"
      },
      "source": [
        "<a href=\"https://colab.research.google.com/github/nawabtest/tensorflow_p/blob/dev/Copy_of_Overview_of_Colaboratory_Features.ipynb\" target=\"_parent\"><img src=\"https://colab.research.google.com/assets/colab-badge.svg\" alt=\"Open In Colab\"/></a>"
      ]
    },
    {
      "cell_type": "markdown",
      "metadata": {
        "id": "JyG45Qk3qQLS"
      },
      "source": [
        "# Cells\n",
        "A notebook is a list of cells. Cells contain either explanatory text or executable code and its output. Click a cell to select it."
      ]
    },
    {
      "cell_type": "code",
      "source": [],
      "metadata": {
        "id": "Bln79nKKoUrR"
      },
      "execution_count": null,
      "outputs": []
    },
    {
      "cell_type": "code",
      "source": [],
      "metadata": {
        "id": "70n77ofaEnea"
      },
      "execution_count": null,
      "outputs": []
    },
    {
      "cell_type": "markdown",
      "metadata": {
        "id": "KR921S_OQSHG"
      },
      "source": [
        "## Code cells\n",
        "Below is a **code cell**. Once the toolbar button indicates CONNECTED, click in the cell to select it and execute the contents in the following ways:\n",
        "\n",
        "* Click the **Play icon** in the left gutter of the cell;\n",
        "* Type **Cmd/Ctrl+Enter** to run the cell in place;\n",
        "* Type **Shift+Enter** to run the cell and move focus to the next cell (adding one if none exists); or\n",
        "* Type **Alt+Enter** to run the cell and insert a new code cell immediately below it.\n",
        "\n",
        "There are additional options for running some or all cells in the **Runtime** menu.\n"
      ]
    },
    {
      "cell_type": "code",
      "execution_count": null,
      "metadata": {
        "cellView": "both",
        "colab": {
          "base_uri": "https://localhost:8080/"
        },
        "id": "WUtu4316QSHL",
        "outputId": "0290501e-edfe-476f-cea3-a392126680b3"
      },
      "outputs": [
        {
          "output_type": "execute_result",
          "data": {
            "text/plain": [
              "10"
            ]
          },
          "metadata": {},
          "execution_count": 2
        }
      ],
      "source": [
        "a = 10\n",
        "a"
      ]
    },
    {
      "cell_type": "markdown",
      "metadata": {
        "id": "Id6tDF1HQSHD"
      },
      "source": [
        "## Text cells\n",
        "This is a **text cell**. You can **double-click** to edit this cell. Text cells\n",
        "use markdown syntax. To learn more, see our [markdown\n",
        "guide](/notebooks/markdown_guide.ipynb).\n",
        "\n",
        "You can also add math to text cells using [LaTeX](http://www.latex-project.org/)\n",
        "to be rendered by [MathJax](https://www.mathjax.org). Just place the statement\n",
        "within a pair of **\\$** signs. For example `$\\sqrt{3x-1}+(1+x)^2$` becomes\n",
        "$\\sqrt{3x-1}+(1+x)^2.$\n"
      ]
    },
    {
      "cell_type": "markdown",
      "metadata": {
        "id": "7bqjkGKwQSHW"
      },
      "source": [
        "## Adding and moving cells\n",
        "You can add new cells by using the **+ CODE** and **+ TEXT** buttons that show when you hover between cells. These buttons are also in the toolbar above the notebook where they can be used to add a cell below the currently selected cell.\n",
        "\n",
        "You can move a cell by selecting it and clicking **Cell Up** or **Cell Down** in the top toolbar.\n",
        "\n",
        "Consecutive cells can be selected by \"lasso selection\" by dragging from outside one cell and through the group.  Non-adjacent cells can be selected concurrently by clicking one and then holding down Ctrl while clicking another.  Similarly, using Shift instead of Ctrl will select all intermediate cells."
      ]
    },
    {
      "cell_type": "markdown",
      "metadata": {
        "id": "GOwlZRXEQSHZ"
      },
      "source": [
        "# Working with python\n",
        "Colaboratory is built on top of [Jupyter Notebook](https://jupyter.org/). Below are some examples of convenience functions provided."
      ]
    },
    {
      "cell_type": "markdown",
      "metadata": {
        "id": "RVuqWUXPQSHa"
      },
      "source": [
        "Long running python processes can be interrupted. Run the following cell and select **Runtime -> Interrupt execution** (*hotkey: Cmd/Ctrl-M I*) to stop execution."
      ]
    },
    {
      "cell_type": "code",
      "execution_count": null,
      "metadata": {
        "cellView": "both",
        "colab": {
          "base_uri": "https://localhost:8080/"
        },
        "id": "d-S-3nYLQSHb",
        "outputId": "4ab926ad-cbd1-47ca-ec5f-39a9263a4746"
      },
      "outputs": [
        {
          "output_type": "stream",
          "name": "stdout",
          "text": [
            "Sleeping\n",
            "Done Sleeping\n"
          ]
        }
      ],
      "source": [
        "import time\n",
        "print(\"Sleeping\")\n",
        "time.sleep(30) # sleep for a while; interrupt me!\n",
        "print(\"Done Sleeping\")"
      ]
    },
    {
      "cell_type": "markdown",
      "metadata": {
        "id": "Wej_mEyXQSHc"
      },
      "source": [
        "## System aliases\n",
        "\n",
        "Jupyter includes shortcuts for common operations, such as ls:"
      ]
    },
    {
      "cell_type": "code",
      "execution_count": null,
      "metadata": {
        "cellView": "both",
        "colab": {
          "base_uri": "https://localhost:8080/"
        },
        "id": "5OCYEvK5QSHf",
        "outputId": "989433a7-58d8-42a7-9ac9-94166ed80384"
      },
      "outputs": [
        {
          "output_type": "stream",
          "name": "stdout",
          "text": [
            "'['\t\t\t\t      mknod\n",
            " 7z\t\t\t\t      mktemp\n",
            " 7za\t\t\t\t      mm2gv\n",
            " 7zr\t\t\t\t      more\n",
            " aclocal\t\t\t      mount\n",
            " aclocal-1.16\t\t\t      mountpoint\n",
            " acyclic\t\t\t      mpexpand\n",
            " add-apt-repository\t\t      mpic++\n",
            " addpart\t\t\t      mpicc\n",
            " addr2line\t\t\t      mpiCC\n",
            " aggregate_profile\t\t      mpicc.openmpi\n",
            " apropos\t\t\t      mpiCC.openmpi\n",
            " apt\t\t\t\t      mpic++.openmpi\n",
            " apt-add-repository\t\t      mpicxx\n",
            " apt-cache\t\t\t      mpicxx.openmpi\n",
            " apt-cdrom\t\t\t      mpiexec\n",
            " apt-config\t\t\t      mpiexec.openmpi\n",
            " apt-extracttemplates\t\t      mpif77\n",
            " apt-ftparchive\t\t\t      mpif77.openmpi\n",
            " apt-get\t\t\t      mpif90\n",
            " apt-key\t\t\t      mpif90.openmpi\n",
            " apt-mark\t\t\t      mpifort\n",
            " apt-sortpkgs\t\t\t      mpifort.openmpi\n",
            " ar\t\t\t\t      mpijavac\n",
            " arch\t\t\t\t      mpijavac.pl\n",
            " as\t\t\t\t      mpirun\n",
            " asan_symbolize\t\t\t      mpirun.openmpi\n",
            " asan_symbolize-14\t\t      mv\n",
            " autoconf\t\t\t      mysql_config\n",
            " autoheader\t\t\t      namei\n",
            " autom4te\t\t\t      nawk\n",
            " automake\t\t\t      nc-config\n",
            " automake-1.16\t\t\t      ncurses5-config\n",
            " autoreconf\t\t\t      ncurses6-config\n",
            " autoscan\t\t\t      ncursesw5-config\n",
            " autoupdate\t\t\t      ncursesw6-config\n",
            " awk\t\t\t\t      neato\n",
            " b2\t\t\t\t      neqn\n",
            " b2sum\t\t\t\t      networkctl\n",
            " base32\t\t\t\t      newgrp\n",
            " base64\t\t\t\t      nice\n",
            " basename\t\t\t      nisdomainname\n",
            " basenc\t\t\t\t      nl\n",
            " bash\t\t\t\t      nm\n",
            " bashbug\t\t\t      nns\n",
            " bcomps\t\t\t\t      nnsd\n",
            " bcp\t\t\t\t      nnslog\n",
            " bjam\t\t\t\t      nohup\n",
            " bootctl\t\t\t      nop\n",
            " browse\t\t\t\t      nproc\n",
            " bunzip2\t\t\t      nroff\n",
            " busctl\t\t\t\t      nsenter\n",
            " bzcat\t\t\t\t      nstat\n",
            " bzcmp\t\t\t\t      numfmt\n",
            " bzdiff\t\t\t\t      objcopy\n",
            " bzegrep\t\t\t      objdump\n",
            " bzexe\t\t\t\t      od\n",
            " bzfgrep\t\t\t      ogdi-config\n",
            " bzgrep\t\t\t\t      ompi-clean\n",
            " bzip2\t\t\t\t      ompi_info\n",
            " bzip2recover\t\t\t      ompi-server\n",
            " bzless\t\t\t\t      opalc++\n",
            " bzmore\t\t\t\t      opalcc\n",
            " c++\t\t\t\t      opal_wrapper\n",
            " c89\t\t\t\t      open\n",
            " c89-gcc\t\t\t      opencv_annotation\n",
            " c99\t\t\t\t      opencv_interactive-calibration\n",
            " c99-gcc\t\t\t      opencv_model_diagnostics\n",
            " captoinfo\t\t\t      opencv_version\n",
            " cat\t\t\t\t      opencv_visualisation\n",
            " catman\t\t\t\t      opencv_waldboost_detector\n",
            " cc\t\t\t\t      openssl\n",
            " ccomps\t\t\t\t      ortecc\n",
            " c++filt\t\t\t      orte-clean\n",
            " chage\t\t\t\t      orted\n",
            " chattr\t\t\t\t      orte-info\n",
            " chcon\t\t\t\t      orterun\n",
            " chfn\t\t\t\t      orte-server\n",
            " chgrp\t\t\t\t      osage\n",
            " chmod\t\t\t\t      oshc++\n",
            " choom\t\t\t\t      oshcc\n",
            " chown\t\t\t\t      oshCC\n",
            " chronic\t\t\t      oshcxx\n",
            " chrt\t\t\t\t      oshfort\n",
            " chsh\t\t\t\t      oshmem_info\n",
            " circo\t\t\t\t      oshrun\n",
            " cksum\t\t\t\t      p7zip\n",
            " clang\t\t\t\t      pack200\n",
            " clang++\t\t\t      page\n",
            " clang++-14\t\t\t      pager\n",
            " clang-14\t\t\t      pandoc\n",
            " clang-cpp-14\t\t\t      paperconf\n",
            " clear\t\t\t\t      parallel\n",
            " clear_console\t\t\t      partx\n",
            " clinfo\t\t\t\t      passwd\n",
            " cluster\t\t\t      paste\n",
            " cmake\t\t\t\t      patch\n",
            " cmp\t\t\t\t      patchwork\n",
            " col\t\t\t\t      pathchk\n",
            " colcrt\t\t\t\t      pcre2-config\n",
            " colrm\t\t\t\t      pcre-config\n",
            " column\t\t\t\t      pdb3\n",
            " combine\t\t\t      pdb3.10\n",
            " comm\t\t\t\t      pee\n",
            " compile_et\t\t\t      peekfd\n",
            " corelist\t\t\t      perl\n",
            " cp\t\t\t\t      perl5.34.0\n",
            " cpack\t\t\t\t      perl5.34-x86_64-linux-gnu\n",
            " cpan\t\t\t\t      perlbug\n",
            " cpan5.34-x86_64-linux-gnu\t      perldoc\n",
            " cpp\t\t\t\t      perlivp\n",
            " cpp-11\t\t\t\t      perlthanks\n",
            " c_rehash\t\t\t      pg_config\n",
            " csplit\t\t\t\t      pgrep\n",
            " ctest\t\t\t\t      pic\n",
            " ctstat\t\t\t\t      piconv\n",
            " curl\t\t\t\t      pidof\n",
            " curl-config\t\t\t      pidwait\n",
            " cut\t\t\t\t      pinentry\n",
            " cvtsudoers\t\t\t      pinentry-curses\n",
            " dash\t\t\t\t      pinky\n",
            " date\t\t\t\t      pkaction\n",
            " dbus-cleanup-sockets\t\t      pkcheck\n",
            " dbus-daemon\t\t\t      pkexec\n",
            " dbus-monitor\t\t\t      pkg-config\n",
            " dbus-run-session\t\t      pkgdata\n",
            " dbus-send\t\t\t      pkill\n",
            " dbus-update-activation-environment   pkttyagent\n",
            " dbus-uuidgen\t\t\t      pl2pm\n",
            " dd\t\t\t\t      pldd\n",
            " debconf\t\t\t      pmap\n",
            " debconf-apt-progress\t\t      pngfix\n",
            " debconf-communicate\t\t      png-fix-itxt\n",
            " debconf-copydb\t\t\t      pod2html\n",
            " debconf-escape\t\t\t      pod2man\n",
            " debconf-set-selections\t\t      pod2text\n",
            " debconf-show\t\t\t      pod2usage\n",
            " deb-systemd-helper\t\t      podchecker\n",
            " deb-systemd-invoke\t\t      pprof-symbolize\n",
            " delpart\t\t\t      pr\n",
            " derb\t\t\t\t      preconv\n",
            " df\t\t\t\t      prename\n",
            " dh_autotools-dev_restoreconfig       printenv\n",
            " dh_autotools-dev_updateconfig\t      printf\n",
            " diff\t\t\t\t      prlimit\n",
            " diff3\t\t\t\t      profile2mat\n",
            " diffimg\t\t\t      protoc\n",
            " dijkstra\t\t\t      prove\n",
            " dir\t\t\t\t      prtstat\n",
            " dircolors\t\t\t      prune\n",
            " dirmngr\t\t\t      ps\n",
            " dirmngr-client\t\t\t      pslog\n",
            " dirname\t\t\t      pstree\n",
            " dmesg\t\t\t\t      pstree.x11\n",
            " dnsdomainname\t\t\t      pt\n",
            " domainname\t\t\t      ptar\n",
            " dot\t\t\t\t      ptardiff\n",
            " dot2gxl\t\t\t      ptargrep\n",
            " dot_builtins\t\t\t      ptx\n",
            " dotty\t\t\t\t      pwd\n",
            " dpkg\t\t\t\t      pwdx\n",
            " dpkg-architecture\t\t      py3clean\n",
            " dpkg-buildflags\t\t      py3compile\n",
            " dpkg-buildpackage\t\t      py3versions\n",
            " dpkg-checkbuilddeps\t\t      pydoc3\n",
            " dpkg-deb\t\t\t      pydoc3.10\n",
            " dpkg-distaddfile\t\t      pygettext3\n",
            " dpkg-divert\t\t\t      pygettext3.10\n",
            " dpkg-genbuildinfo\t\t      python3\n",
            " dpkg-genchanges\t\t      python3.10\n",
            " dpkg-gencontrol\t\t      python3.10-config\n",
            " dpkg-gensymbols\t\t      python3-config\n",
            " dpkg-maintscript-helper\t      qt-faststart\n",
            " dpkg-mergechangelogs\t\t      quickbook\n",
            " dpkg-name\t\t\t      R\n",
            " dpkg-parsechangelog\t\t      ranlib\n",
            " dpkg-query\t\t\t      rbash\n",
            " dpkg-realpath\t\t\t      rcp\n",
            " dpkg-scanpackages\t\t      rdma\n",
            " dpkg-scansources\t\t      readelf\n",
            " dpkg-shlibdeps\t\t\t      readlink\n",
            " dpkg-source\t\t\t      realpath\n",
            " dpkg-split\t\t\t      rename\n",
            " dpkg-statoverride\t\t      renice\n",
            " dpkg-trigger\t\t\t      reset\n",
            " dpkg-vendor\t\t\t      resizepart\n",
            " dtplite\t\t\t      resolvectl\n",
            " du\t\t\t\t      rev\n",
            " dwp\t\t\t\t      rgrep\n",
            " echo\t\t\t\t      rlogin\n",
            " edgepaint\t\t\t      rm\n",
            " editor\t\t\t\t      rmdir\n",
            " egrep\t\t\t\t      rmic\n",
            " elfedit\t\t\t      rmid\n",
            " enc2xs\t\t\t\t      rmiregistry\n",
            " encguess\t\t\t      routef\n",
            " env\t\t\t\t      routel\n",
            " eqn\t\t\t\t      rpcgen\n",
            " errno\t\t\t\t      rrsync\n",
            " ex\t\t\t\t      Rscript\n",
            " expand\t\t\t\t      rsh\n",
            " expiry\t\t\t\t      rsync\n",
            " expr\t\t\t\t      rsync-ssl\n",
            " f77\t\t\t\t      rtstat\n",
            " f95\t\t\t\t      runcon\n",
            " factor\t\t\t\t      run-parts\n",
            " faillog\t\t\t      rview\n",
            " fallocate\t\t\t      rvim\n",
            " false\t\t\t\t      savelog\n",
            " fc-cache\t\t\t      sccmap\n",
            " fc-cat\t\t\t\t      scp\n",
            " fc-conflist\t\t\t      script\n",
            " fc-list\t\t\t      scriptlive\n",
            " fc-match\t\t\t      scriptreplay\n",
            " fc-pattern\t\t\t      sdiff\n",
            " fc-query\t\t\t      sed\n",
            " fc-scan\t\t\t      select-editor\n",
            " fc-validate\t\t\t      sensible-browser\n",
            " fdp\t\t\t\t      sensible-editor\n",
            " ffmpeg\t\t\t\t      sensible-pager\n",
            " ffplay\t\t\t\t      seq\n",
            " ffprobe\t\t\t      serialver\n",
            " fgrep\t\t\t\t      setarch\n",
            " file\t\t\t\t      setpriv\n",
            " file-rename\t\t\t      setsid\n",
            " fincore\t\t\t      setterm\n",
            " find\t\t\t\t      sfdp\n",
            " findmnt\t\t\t      sftp\n",
            " fio\t\t\t\t      sg\n",
            " fio2gnuplot\t\t\t      sh\n",
            " fio-btrace2fio\t\t\t      sha1sum\n",
            " fio-dedupe\t\t\t      sha224sum\n",
            " fio_generate_plots\t\t      sha256sum\n",
            " fio-genzipf\t\t\t      sha384sum\n",
            " fio_jsonplus_clat2csv\t\t      sha512sum\n",
            " fio-verify-state\t\t      shasum\n",
            " flock\t\t\t\t      shmemc++\n",
            " fmt\t\t\t\t      shmemcc\n",
            " fold\t\t\t\t      shmemCC\n",
            " free\t\t\t\t      shmemcxx\n",
            " funzip\t\t\t\t      shmemfort\n",
            " fuser\t\t\t\t      shmemrun\n",
            " fusermount\t\t\t      shred\n",
            " g++\t\t\t\t      shuf\n",
            " g++-11\t\t\t\t      size\n",
            " gapplication\t\t\t      skill\n",
            " gc\t\t\t\t      slabtop\n",
            " gcc\t\t\t\t      sleep\n",
            " gcc-11\t\t\t\t      slogin\n",
            " gcc-ar\t\t\t\t      snice\n",
            " gcc-ar-11\t\t\t      soelim\n",
            " gcc-nm\t\t\t\t      sort\n",
            " gcc-nm-11\t\t\t      splain\n",
            " gcc-ranlib\t\t\t      split\n",
            " gcc-ranlib-11\t\t\t      sponge\n",
            " gcov\t\t\t\t      ss\n",
            " gcov-11\t\t\t      ssh\n",
            " gcov-dump\t\t\t      ssh-add\n",
            " gcov-dump-11\t\t\t      ssh-agent\n",
            " gcov-tool\t\t\t      ssh-argv0\n",
            " gcov-tool-11\t\t\t      ssh-copy-id\n",
            " gdal-config\t\t\t      ssh-keygen\n",
            " gdbus\t\t\t\t      ssh-keyscan\n",
            " genbrk\t\t\t\t      stat\n",
            " gencat\t\t\t\t      stdbuf\n",
            " gencfu\t\t\t\t      streamzip\n",
            " gencnval\t\t\t      strings\n",
            " gendict\t\t\t      strip\n",
            " genfio\t\t\t\t      stty\n",
            " genrb\t\t\t\t      su\n",
            " geos-config\t\t\t      sudo\n",
            " geqn\t\t\t\t      sudoedit\n",
            " getconf\t\t\t      sudoreplay\n",
            " getent\t\t\t\t      sum\n",
            " getopt\t\t\t\t      sync\n",
            " gfortran\t\t\t      systemctl\n",
            " gfortran-11\t\t\t      systemd\n",
            " gio\t\t\t\t      systemd-analyze\n",
            " gio-querymodules\t\t      systemd-ask-password\n",
            " git\t\t\t\t      systemd-cat\n",
            " git-lfs\t\t\t      systemd-cgls\n",
            " git-receive-pack\t\t      systemd-cgtop\n",
            " git-shell\t\t\t      systemd-cryptenroll\n",
            " git-upload-archive\t\t      systemd-delta\n",
            " git-upload-pack\t\t      systemd-detect-virt\n",
            " glib-compile-schemas\t\t      systemd-escape\n",
            " gmake\t\t\t\t      systemd-id128\n",
            " gml2gv\t\t\t\t      systemd-inhibit\n",
            " gold\t\t\t\t      systemd-machine-id-setup\n",
            " google-pprof\t\t\t      systemd-mount\n",
            " gpasswd\t\t\t      systemd-notify\n",
            " gpg\t\t\t\t      systemd-path\n",
            " gpg2\t\t\t\t      systemd-run\n",
            " gpg-agent\t\t\t      systemd-socket-activate\n",
            " gpgcompose\t\t\t      systemd-stdio-bridge\n",
            " gpgconf\t\t\t      systemd-sysext\n",
            " gpg-connect-agent\t\t      systemd-sysusers\n",
            " gpgparsemail\t\t\t      systemd-tmpfiles\n",
            " gpgsm\t\t\t\t      systemd-tty-ask-password-agent\n",
            " gpgsplit\t\t\t      systemd-umount\n",
            " gpgtar\t\t\t\t      tabs\n",
            " gpgv\t\t\t\t      tac\n",
            " gpg-wks-server\t\t\t      tail\n",
            " gpg-zip\t\t\t      tar\n",
            " gpic\t\t\t\t      taskset\n",
            " gprof\t\t\t\t      tbl\n",
            " graphml2gv\t\t\t      tcldocstrip\n",
            " grep\t\t\t\t      tclsh\n",
            " gresource\t\t\t      tclsh8.6\n",
            " groff\t\t\t\t      tcltk-depends\n",
            " grog\t\t\t\t      tee\n",
            " grops\t\t\t\t      tempfile\n",
            " grotty\t\t\t\t      test\n",
            " groups\t\t\t\t      tic\n",
            " gsettings\t\t\t      timedatectl\n",
            " gtbl\t\t\t\t      timeout\n",
            " gtk-update-icon-cache\t\t      tload\n",
            " gunzip\t\t\t\t      tmux\n",
            " gv2gml\t\t\t\t      toe\n",
            " gv2gxl\t\t\t\t      top\n",
            " gvcolor\t\t\t      touch\n",
            " gvgen\t\t\t\t      tput\n",
            " gvmap\t\t\t\t      tr\n",
            " gvmap.sh\t\t\t      tred\n",
            " gvpack\t\t\t\t      troff\n",
            " gvpr\t\t\t\t      true\n",
            " gxl2dot\t\t\t      truncate\n",
            " gxl2gv\t\t\t\t      ts\n",
            " gzexe\t\t\t\t      tset\n",
            " gzip\t\t\t\t      tsort\n",
            " h2ph\t\t\t\t      tty\n",
            " h2xs\t\t\t\t      twopi\n",
            " h5c++\t\t\t\t      tzselect\n",
            " h5cc\t\t\t\t      ucf\n",
            " h5fc\t\t\t\t      ucfq\n",
            " hardlink\t\t\t      ucfr\n",
            " hd\t\t\t\t      uclampset\n",
            " head\t\t\t\t      uconv\n",
            " helpztags\t\t\t      ul\n",
            " hexdump\t\t\t      ulockmgr_server\n",
            " hostid\t\t\t\t      umount\n",
            " hostname\t\t\t      uname\n",
            " hostnamectl\t\t\t      uncompress\n",
            " i386\t\t\t\t      unexpand\n",
            " iconv\t\t\t\t      unflatten\n",
            " icuexportdata\t\t\t      uniq\n",
            " icuinfo\t\t\t      unlink\n",
            " id\t\t\t\t      unlzma\n",
            " ifdata\t\t\t\t      unpack200\n",
            " ifnames\t\t\t      unrar\n",
            " ifne\t\t\t\t      unrar-nonfree\n",
            " infocmp\t\t\t      unshare\n",
            " infotocap\t\t\t      unxz\n",
            " inspect\t\t\t      unzip\n",
            " install\t\t\t      unzipsfx\n",
            " instmodsh\t\t\t      update-alternatives\n",
            " ionice\t\t\t\t      update-mime-database\n",
            " ip\t\t\t\t      uptime\n",
            " ipcmk\t\t\t\t      users\n",
            " ipcrm\t\t\t\t      utmpdump\n",
            " ipcs\t\t\t\t      vdir\n",
            " ischroot\t\t\t      vi\n",
            " isutf8\t\t\t\t      vidir\n",
            " jaotc\t\t\t\t      view\n",
            " jar\t\t\t\t      vim\n",
            " jarsigner\t\t\t      vim.basic\n",
            " java\t\t\t\t      vimdiff\n",
            " javac\t\t\t\t      vimdot\n",
            " javadoc\t\t\t      vimtutor\n",
            " javap\t\t\t\t      vipe\n",
            " jcmd\t\t\t\t      vmstat\n",
            " jdb\t\t\t\t      w\n",
            " jdeprscan\t\t\t      wall\n",
            " jdeps\t\t\t\t      watch\n",
            " jexec\t\t\t\t      watchgnupg\n",
            " jfr\t\t\t\t      wc\n",
            " jhsdb\t\t\t\t      wdctl\n",
            " jimage\t\t\t\t      wget\n",
            " jinfo\t\t\t\t      whatis\n",
            " jjs\t\t\t\t      whereis\n",
            " jlink\t\t\t\t      which\n",
            " jmap\t\t\t\t      which.debianutils\n",
            " jmod\t\t\t\t      who\n",
            " join\t\t\t\t      whoami\n",
            " journalctl\t\t\t      wish\n",
            " jps\t\t\t\t      wish8.6\n",
            " jrunscript\t\t\t      write\n",
            " jshell\t\t\t\t      write.ul\n",
            " json_pp\t\t\t      X11\n",
            " jstack\t\t\t\t      x86_64\n",
            " jstat\t\t\t\t      x86_64-linux-gnu-addr2line\n",
            " jstatd\t\t\t\t      x86_64-linux-gnu-ar\n",
            " kbxutil\t\t\t      x86_64-linux-gnu-as\n",
            " kernel-install\t\t\t      x86_64-linux-gnu-c++filt\n",
            " keyring\t\t\t      x86_64-linux-gnu-cpp\n",
            " keytool\t\t\t      x86_64-linux-gnu-cpp-11\n",
            " kill\t\t\t\t      x86_64-linux-gnu-dwp\n",
            " killall\t\t\t      x86_64-linux-gnu-elfedit\n",
            " kmod\t\t\t\t      x86_64-linux-gnu-g++\n",
            " krb5-config\t\t\t      x86_64-linux-gnu-g++-11\n",
            " krb5-config.mit\t\t      x86_64-linux-gnu-gcc\n",
            " last\t\t\t\t      x86_64-linux-gnu-gcc-11\n",
            " lastb\t\t\t\t      x86_64-linux-gnu-gcc-ar\n",
            " lastlog\t\t\t      x86_64-linux-gnu-gcc-ar-11\n",
            " lcf\t\t\t\t      x86_64-linux-gnu-gcc-nm\n",
            " lckdo\t\t\t\t      x86_64-linux-gnu-gcc-nm-11\n",
            " ld\t\t\t\t      x86_64-linux-gnu-gcc-ranlib\n",
            " ld.bfd\t\t\t\t      x86_64-linux-gnu-gcc-ranlib-11\n",
            " ldd\t\t\t\t      x86_64-linux-gnu-gcov\n",
            " ld.gold\t\t\t      x86_64-linux-gnu-gcov-11\n",
            " lefty\t\t\t\t      x86_64-linux-gnu-gcov-dump\n",
            " less\t\t\t\t      x86_64-linux-gnu-gcov-dump-11\n",
            " lessecho\t\t\t      x86_64-linux-gnu-gcov-tool\n",
            " lessfile\t\t\t      x86_64-linux-gnu-gcov-tool-11\n",
            " lesskey\t\t\t      x86_64-linux-gnu-gfortran\n",
            " lesspipe\t\t\t      x86_64-linux-gnu-gfortran-11\n",
            " lexgrog\t\t\t      x86_64-linux-gnu-gold\n",
            " libnetcfg\t\t\t      x86_64-linux-gnu-gprof\n",
            " libpng16-config\t\t      x86_64-linux-gnu-ld\n",
            " libpng-config\t\t\t      x86_64-linux-gnu-ld.bfd\n",
            " link\t\t\t\t      x86_64-linux-gnu-ld.gold\n",
            " linux32\t\t\t      x86_64-linux-gnu-lto-dump-11\n",
            " linux64\t\t\t      x86_64-linux-gnu-nm\n",
            " ln\t\t\t\t      x86_64-linux-gnu-objcopy\n",
            " lneato\t\t\t\t      x86_64-linux-gnu-objdump\n",
            " lnstat\t\t\t\t      x86_64-linux-gnu-pkg-config\n",
            " locale\t\t\t\t      x86_64-linux-gnu-python3.10-config\n",
            " locale-check\t\t\t      x86_64-linux-gnu-python3-config\n",
            " localectl\t\t\t      x86_64-linux-gnu-ranlib\n",
            " localedef\t\t\t      x86_64-linux-gnu-readelf\n",
            " logger\t\t\t\t      x86_64-linux-gnu-size\n",
            " login\t\t\t\t      x86_64-linux-gnu-strings\n",
            " loginctl\t\t\t      x86_64-linux-gnu-strip\n",
            " logname\t\t\t      x86_64-pc-linux-gnu-pkg-config\n",
            " look\t\t\t\t      xargs\n",
            " ls\t\t\t\t      xauth\n",
            " lsattr\t\t\t\t      xdg-desktop-icon\n",
            " lsblk\t\t\t\t      xdg-desktop-menu\n",
            " lsb_release\t\t\t      xdg-email\n",
            " lscpu\t\t\t\t      xdg-icon-resource\n",
            " lsipc\t\t\t\t      xdg-mime\n",
            " lslocks\t\t\t      xdg-open\n",
            " lslogins\t\t\t      xdg-screensaver\n",
            " lsmem\t\t\t\t      xdg-settings\n",
            " lsmod\t\t\t\t      xml2-config\n",
            " lsns\t\t\t\t      xsel\n",
            " lsof\t\t\t\t      xsubpp\n",
            " lspgpot\t\t\t      xxd\n",
            " lto-dump-11\t\t\t      xz\n",
            " lzcat\t\t\t\t      xzcat\n",
            " lzcmp\t\t\t\t      xzcmp\n",
            " lzdiff\t\t\t\t      xzdiff\n",
            " lzegrep\t\t\t      xzegrep\n",
            " lzfgrep\t\t\t      xzfgrep\n",
            " lzgrep\t\t\t\t      xzgrep\n",
            " lzless\t\t\t\t      xzless\n",
            " lzma\t\t\t\t      xzmore\n",
            " lzmainfo\t\t\t      yes\n",
            " lzmore\t\t\t\t      ypdomainname\n",
            " m4\t\t\t\t      zcat\n",
            " make\t\t\t\t      zcmp\n",
            " makeconv\t\t\t      zdiff\n",
            " make-first-existing-target\t      zdump\n",
            " man\t\t\t\t      zegrep\n",
            " mandb\t\t\t\t      zfgrep\n",
            " manpath\t\t\t      zforce\n",
            " man.REAL\t\t\t      zgrep\n",
            " man-recode\t\t\t      zip\n",
            " mawk\t\t\t\t      zipcloak\n",
            " mcookie\t\t\t      zipdetails\n",
            " md5sum\t\t\t\t      zipgrep\n",
            " md5sum.textutils\t\t      zipinfo\n",
            " mesg\t\t\t\t      zipnote\n",
            " migrate-pubring-from-classic-gpg     zipsplit\n",
            " mingle\t\t\t\t      zless\n",
            " mispipe\t\t\t      zmore\n",
            " mkdir\t\t\t\t      znew\n",
            " mkfifo\t\t\t\t      zrun\n"
          ]
        }
      ],
      "source": [
        "!ls /bin"
      ]
    },
    {
      "cell_type": "markdown",
      "metadata": {
        "id": "y8Da6JWKQSHh"
      },
      "source": [
        "That `!ls` probably generated a large output. You can select the cell and clear the output by either:\n",
        "\n",
        "1. Clicking on the clear output button (x) in the toolbar above the cell; or\n",
        "2. Right clicking the left gutter of the output area and selecting \"Clear output\" from the context menu.\n",
        "\n",
        "Execute any other process using `!` with string interpolation from python variables, and note the result can be assigned to a variable:"
      ]
    },
    {
      "cell_type": "code",
      "execution_count": null,
      "metadata": {
        "cellView": "both",
        "id": "zqGrv0blQSHj",
        "outputId": "77ee844a-b73c-48c6-e122-5e504c814d4a",
        "colab": {
          "base_uri": "https://localhost:8080/"
        }
      },
      "outputs": [
        {
          "output_type": "execute_result",
          "data": {
            "text/plain": [
              "['Colaboratory is great!',\n",
              " 'Colaboratory is great!',\n",
              " 'Colaboratory is great!',\n",
              " 'Colaboratory is great!']"
            ]
          },
          "metadata": {},
          "execution_count": 5
        }
      ],
      "source": [
        "# In https://github.com/ipython/ipython/pull/10545, single quote strings are ignored\n",
        "message = 'Colaboratory is great!'\n",
        "foo = !unset message && echo -e '{message}\\n{message}\\n'$message\"\\n$message\"\n",
        "foo"
      ]
    },
    {
      "cell_type": "markdown",
      "metadata": {
        "id": "qM4myQGfQboQ"
      },
      "source": [
        "## Magics\n",
        "Colaboratory shares the notion of magics from Jupyter. There are shorthand annotations that change how a cell's text is executed. To learn more, see [Jupyter's magics page](http://nbviewer.jupyter.org/github/ipython/ipython/blob/1.x/examples/notebooks/Cell%20Magics.ipynb).\n"
      ]
    },
    {
      "cell_type": "code",
      "execution_count": null,
      "metadata": {
        "cellView": "both",
        "colab": {
          "height": 38,
          "base_uri": "https://localhost:8080/"
        },
        "id": "odfM-_GxWbCy",
        "outputId": "fe7ae0eb-9180-464e-a0f3-21de367c5ac4"
      },
      "outputs": [
        {
          "output_type": "display_data",
          "data": {
            "text/plain": [
              "<IPython.core.display.HTML object>"
            ],
            "text/html": [
              "<marquee style='width: 30%; color: blue;'><b>Whee!</b></marquee>\n"
            ]
          },
          "metadata": {}
        }
      ],
      "source": [
        "%%html\n",
        "<marquee style='width: 30%; color: blue;'><b>Whee!</b></marquee>"
      ]
    },
    {
      "cell_type": "code",
      "execution_count": null,
      "metadata": {
        "colab": {
          "height": 221,
          "base_uri": "https://localhost:8080/"
        },
        "id": "_YrTcK7k22Fp",
        "outputId": "cf7cec44-948e-4af1-864a-c6d51490eb53"
      },
      "outputs": [
        {
          "output_type": "display_data",
          "data": {
            "text/plain": [
              "<IPython.core.display.HTML object>"
            ],
            "text/html": [
              "<svg xmlns=\"http://www.w3.org/2000/svg\" viewBox=\"0 0 450 400\" width=\"200\" height=\"200\">\n",
              "  <rect x=\"80\" y=\"60\" width=\"250\" height=\"250\" rx=\"20\" style=\"fill:red; stroke:black; fill-opacity:0.7\" />\n",
              "  <rect x=\"180\" y=\"110\" width=\"250\" height=\"250\" rx=\"40\" style=\"fill:blue; stroke:black; fill-opacity:0.5;\" />\n",
              "</svg>\n"
            ]
          },
          "metadata": {}
        }
      ],
      "source": [
        "%%html\n",
        "<svg xmlns=\"http://www.w3.org/2000/svg\" viewBox=\"0 0 450 400\" width=\"200\" height=\"200\">\n",
        "  <rect x=\"80\" y=\"60\" width=\"250\" height=\"250\" rx=\"20\" style=\"fill:red; stroke:black; fill-opacity:0.7\" />\n",
        "  <rect x=\"180\" y=\"110\" width=\"250\" height=\"250\" rx=\"40\" style=\"fill:blue; stroke:black; fill-opacity:0.5;\" />\n",
        "</svg>"
      ]
    },
    {
      "cell_type": "markdown",
      "metadata": {
        "id": "d4L9TOP9QSHn"
      },
      "source": [
        "## Automatic completions and exploring code\n",
        "\n",
        "Colab provides automatic completions to explore attributes of Python objects, as well as to quickly view documentation strings. As an example, first run the following cell to import the  [`numpy`](http://www.numpy.org) module."
      ]
    },
    {
      "cell_type": "code",
      "execution_count": null,
      "metadata": {
        "cellView": "both",
        "id": "Q0JKWcmtQSHp"
      },
      "outputs": [],
      "source": [
        "import numpy as np"
      ]
    },
    {
      "cell_type": "markdown",
      "metadata": {
        "id": "1M890-bXeyYp"
      },
      "source": [
        "If you now insert your cursor after `np` and press **Period**(`.`), you will see the list of available completions within the `np` module. Completions can be opened again by using **Ctrl+Space**."
      ]
    },
    {
      "cell_type": "code",
      "execution_count": null,
      "metadata": {
        "cellView": "both",
        "id": "j6QRIfUHQSHq",
        "outputId": "323c3825-d2af-422a-c49f-191753a0909c",
        "colab": {
          "base_uri": "https://localhost:8080/"
        }
      },
      "outputs": [
        {
          "output_type": "execute_result",
          "data": {
            "text/plain": [
              "<module 'numpy' from '/usr/local/lib/python3.10/dist-packages/numpy/__init__.py'>"
            ]
          },
          "metadata": {},
          "execution_count": 9
        }
      ],
      "source": [
        "np"
      ]
    },
    {
      "cell_type": "markdown",
      "metadata": {
        "id": "g6MfomFhQSHs"
      },
      "source": [
        "If you type an open parenthesis after any function or class in the module, you will see a pop-up of its documentation string:"
      ]
    },
    {
      "cell_type": "code",
      "execution_count": null,
      "metadata": {
        "cellView": "both",
        "id": "SD0XnrVhQSHt",
        "outputId": "09a2d539-16d1-45de-85b4-541f2a95c175",
        "colab": {
          "base_uri": "https://localhost:8080/"
        }
      },
      "outputs": [
        {
          "output_type": "execute_result",
          "data": {
            "text/plain": [
              "numpy.ndarray"
            ]
          },
          "metadata": {},
          "execution_count": 10
        }
      ],
      "source": [
        "np.ndarray"
      ]
    },
    {
      "cell_type": "markdown",
      "metadata": {
        "id": "GVIVDgdaRjPQ"
      },
      "source": [
        "The documentation can be opened again using **Ctrl+Shift+Space** or you can view the documentation for method by mouse hovering over the method name.\n",
        "\n",
        "When hovering over the method name the `Open in tab` link will open the documentation in a persistent pane. The `View source` link will navigate to the source code for the method."
      ]
    },
    {
      "cell_type": "markdown",
      "metadata": {
        "id": "TYTBdJXxfqiJ"
      },
      "source": [
        "## Exception Formatting"
      ]
    },
    {
      "cell_type": "markdown",
      "metadata": {
        "id": "4bqAVK-aQSHx"
      },
      "source": [
        "Exceptions are formatted nicely in Colab outputs:"
      ]
    },
    {
      "cell_type": "code",
      "execution_count": null,
      "metadata": {
        "cellView": "both",
        "id": "CrJf1PEmQSHx",
        "outputId": "632d8737-0f5d-411b-ca58-226aa4068496",
        "colab": {
          "base_uri": "https://localhost:8080/",
          "height": 211
        }
      },
      "outputs": [
        {
          "output_type": "error",
          "ename": "ZeroDivisionError",
          "evalue": "ignored",
          "traceback": [
            "\u001b[0;31m---------------------------------------------------------------------------\u001b[0m",
            "\u001b[0;31mZeroDivisionError\u001b[0m                         Traceback (most recent call last)",
            "\u001b[0;32m<ipython-input-11-d93e730d8440>\u001b[0m in \u001b[0;36m<cell line: 3>\u001b[0;34m()\u001b[0m\n\u001b[1;32m      1\u001b[0m \u001b[0mx\u001b[0m \u001b[0;34m=\u001b[0m \u001b[0;36m1\u001b[0m\u001b[0;34m\u001b[0m\u001b[0;34m\u001b[0m\u001b[0m\n\u001b[1;32m      2\u001b[0m \u001b[0my\u001b[0m \u001b[0;34m=\u001b[0m \u001b[0;36m4\u001b[0m\u001b[0;34m\u001b[0m\u001b[0;34m\u001b[0m\u001b[0m\n\u001b[0;32m----> 3\u001b[0;31m \u001b[0mz\u001b[0m \u001b[0;34m=\u001b[0m \u001b[0my\u001b[0m\u001b[0;34m/\u001b[0m\u001b[0;34m(\u001b[0m\u001b[0;36m1\u001b[0m\u001b[0;34m-\u001b[0m\u001b[0mx\u001b[0m\u001b[0;34m)\u001b[0m\u001b[0;34m\u001b[0m\u001b[0;34m\u001b[0m\u001b[0m\n\u001b[0m",
            "\u001b[0;31mZeroDivisionError\u001b[0m: division by zero"
          ]
        }
      ],
      "source": [
        "x = 1\n",
        "y = 4\n",
        "z = y/(1-x)"
      ]
    },
    {
      "cell_type": "markdown",
      "metadata": {
        "id": "7cRnhv_7N4Pa"
      },
      "source": [
        "## Rich, interactive outputs\n",
        "Until now all of the generated outputs have been text, but they can be more interesting, like the chart below."
      ]
    },
    {
      "cell_type": "code",
      "execution_count": null,
      "metadata": {
        "id": "JVXnTqyE9RET",
        "outputId": "37e5f27d-a62d-4f2f-fa02-e7f233e582e6",
        "colab": {
          "base_uri": "https://localhost:8080/",
          "height": 452
        }
      },
      "outputs": [
        {
          "output_type": "display_data",
          "data": {
            "text/plain": [
              "<Figure size 640x480 with 1 Axes>"
            ],
            "image/png": "[encoded data removed]"
          },
          "metadata": {}
        }
      ],
      "source": [
        "import numpy as np\n",
        "from matplotlib import pyplot as plt\n",
        "\n",
        "ys = 200 + np.random.randn(100)\n",
        "x = [x for x in range(len(ys))]\n",
        "\n",
        "plt.plot(x, ys, '-')\n",
        "plt.fill_between(x, ys, 195, where=(ys > 195), facecolor='g', alpha=0.6)\n",
        "\n",
        "plt.title(\"Fills and Alpha Example\")\n",
        "plt.show()"
      ]
    },
    {
      "cell_type": "markdown",
      "metadata": {
        "id": "aro-UJgUQSH1"
      },
      "source": [
        "# Integration with Drive\n",
        "\n",
        "Colaboratory is integrated with Google Drive. It allows you to share, comment, and collaborate on the same document with multiple people:\n",
        "\n",
        "* The **SHARE** button (top-right of the toolbar) allows you to share the notebook and control permissions set on it.\n",
        "\n",
        "* **File->Make a Copy** creates a copy of the notebook in Drive.\n",
        "\n",
        "* **File->Save** saves the File to Drive. **File->Save and checkpoint** pins the version so it doesn't get deleted from the revision history.\n",
        "\n",
        "* **File->Revision history** shows the notebook's revision history."
      ]
    },
    {
      "cell_type": "markdown",
      "metadata": {
        "id": "4hfV37gxpP_c"
      },
      "source": [
        "## Commenting on a cell\n",
        "You can comment on a Colaboratory notebook like you would on a Google Document. Comments are attached to cells, and are displayed next to the cell they refer to. If you have **comment-only** permissions, you will see a comment button on the top right of the cell when you hover over it.\n",
        "\n",
        "If you have edit or comment permissions you can comment on a cell in one of three ways:\n",
        "\n",
        "1. Select a cell and click the comment button in the toolbar above the top-right corner of the cell.\n",
        "1. Right click a text cell and select **Add a comment** from the context menu.\n",
        "3. Use the shortcut **Ctrl+Shift+M** to add a comment to the currently selected cell.\n",
        "\n",
        "You can resolve and reply to comments, and you can target comments to specific collaborators by typing *+[email address]* (e.g., `+user@domain.com`). Addressed collaborators will be emailed.\n",
        "\n",
        "The Comment button in the top-right corner of the page shows all comments attached to the notebook."
      ]
    },
    {
      "cell_type": "code",
      "source": [
        "import tensorflow as tf\n",
        "X = tf.constant([-7., -4., -1., 2., 5., 8., 11., 14.], dtype=tf.float32)\n",
        "Y = tf.constant([3., 6., 9., 12., 15., 18., 21., 24.], dtype=tf.float32)\n",
        "X,Y"
      ],
      "metadata": {
        "colab": {
          "base_uri": "https://localhost:8080/"
        },
        "id": "iWfDrkSIcn6V",
        "outputId": "5a5a8a92-3746-4785-d92a-960c73d99a9b"
      },
      "execution_count": null,
      "outputs": [
        {
          "output_type": "execute_result",
          "data": {
            "text/plain": [
              "(<tf.Tensor: shape=(8,), dtype=float32, numpy=array([-7., -4., -1.,  2.,  5.,  8., 11., 14.], dtype=float32)>,\n",
              " <tf.Tensor: shape=(8,), dtype=float32, numpy=array([ 3.,  6.,  9., 12., 15., 18., 21., 24.], dtype=float32)>)"
            ]
          },
          "metadata": {},
          "execution_count": 14
        }
      ]
    },
    {
      "cell_type": "code",
      "source": [
        "input_shape = X[0].shape\n",
        "output_shape = Y[0].shape\n",
        "input_shape, output_shape"
      ],
      "metadata": {
        "colab": {
          "base_uri": "https://localhost:8080/"
        },
        "id": "mwB-O4WLdh34",
        "outputId": "7d8ecdad-eb4e-48bd-b5eb-ef0a43d0d888"
      },
      "execution_count": null,
      "outputs": [
        {
          "output_type": "execute_result",
          "data": {
            "text/plain": [
              "(TensorShape([]), TensorShape([]))"
            ]
          },
          "metadata": {},
          "execution_count": 15
        }
      ]
    },
    {
      "cell_type": "code",
      "source": [
        "import matplotlib.pyplot as plt\n",
        "plt.scatter(X,Y)"
      ],
      "metadata": {
        "colab": {
          "base_uri": "https://localhost:8080/",
          "height": 452
        },
        "id": "9SsGQ0b9dxv4",
        "outputId": "0714cbc0-2ff4-448d-ed8f-7e59fa9b3a2a"
      },
      "execution_count": null,
      "outputs": [
        {
          "output_type": "execute_result",
          "data": {
            "text/plain": [
              "<matplotlib.collections.PathCollection at 0x7a7001e16fb0>"
            ]
          },
          "metadata": {},
          "execution_count": 16
        },
        {
          "output_type": "display_data",
          "data": {
            "text/plain": [
              "<Figure size 640x480 with 1 Axes>"
            ],
            "image/png": "[encoded data removed]"
          },
          "metadata": {}
        }
      ]
    },
    {
      "cell_type": "code",
      "source": [
        "# Set Random Seed\n",
        "tf.random.set_seed(42)\n",
        "\n",
        "# 1. Create a Model using the sequential API\n",
        "model = tf.keras.Sequential(\n",
        "    [tf.keras.layers.Dense(1)]\n",
        ")\n",
        "\n",
        "# 2. Compile the Model\n",
        "model.compile(loss=tf.keras.losses.mae, # mae is short for mean optimizer error\n",
        "              optimizer=tf.keras.optimizers.SGD(), # SGD is short for stochaistic Gradient Descent\n",
        "               metrics=[\"mae\"])\n",
        "\n",
        "# 3. Fit the Model\n",
        "# model.fit(X, Y, epochs=5)\n",
        "model.fit(tf.expand_dims(X, axis=-1), Y, epochs=5) # <- updated line\n",
        "\n"
      ],
      "metadata": {
        "colab": {
          "base_uri": "https://localhost:8080/"
        },
        "id": "8rcr4f_qeI3T",
        "outputId": "4761ef8b-8a18-4f2e-ead9-fd90b196d9f9"
      },
      "execution_count": null,
      "outputs": [
        {
          "output_type": "stream",
          "name": "stdout",
          "text": [
            "Epoch 1/5\n",
            "1/1 [==============================] - 0s 447ms/step - loss: 16.9542 - mae: 16.9542\n",
            "Epoch 2/5\n",
            "1/1 [==============================] - 0s 12ms/step - loss: 16.6730 - mae: 16.6730\n",
            "Epoch 3/5\n",
            "1/1 [==============================] - 0s 8ms/step - loss: 16.3917 - mae: 16.3917\n",
            "Epoch 4/5\n",
            "1/1 [==============================] - 0s 9ms/step - loss: 16.1105 - mae: 16.1105\n",
            "Epoch 5/5\n",
            "1/1 [==============================] - 0s 7ms/step - loss: 15.8292 - mae: 15.8292\n"
          ]
        },
        {
          "output_type": "execute_result",
          "data": {
            "text/plain": [
              "<keras.callbacks.History at 0x7a6ffed6bd00>"
            ]
          },
          "metadata": {},
          "execution_count": 17
        }
      ]
    },
    {
      "cell_type": "code",
      "source": [
        "# Try and make a prediction using our model\n",
        "model.predict([17.0])"
      ],
      "metadata": {
        "id": "96pKUXMQ0C5h",
        "outputId": "0d8965c4-dbc9-4ec8-b420-42c653bb2e12",
        "colab": {
          "base_uri": "https://localhost:8080/"
        }
      },
      "execution_count": null,
      "outputs": [
        {
          "output_type": "stream",
          "name": "stdout",
          "text": [
            "1/1 [==============================] - 0s 69ms/step\n"
          ]
        },
        {
          "output_type": "execute_result",
          "data": {
            "text/plain": [
              "array([[-9.113625]], dtype=float32)"
            ]
          },
          "metadata": {},
          "execution_count": 18
        }
      ]
    },
    {
      "cell_type": "code",
      "source": [
        "y_pred = model.predict([17.0])\n",
        "y_pred"
      ],
      "metadata": {
        "id": "WGbNYxyZ0kYp",
        "outputId": "15e35a9e-c9b6-4e7e-af6a-cd849c834a61",
        "colab": {
          "base_uri": "https://localhost:8080/"
        }
      },
      "execution_count": null,
      "outputs": [
        {
          "output_type": "stream",
          "name": "stdout",
          "text": [
            "1/1 [==============================] - 0s 28ms/step\n"
          ]
        },
        {
          "output_type": "execute_result",
          "data": {
            "text/plain": [
              "array([[-9.113625]], dtype=float32)"
            ]
          },
          "metadata": {},
          "execution_count": 19
        }
      ]
    },
    {
      "cell_type": "code",
      "source": [
        "y_pred + 11"
      ],
      "metadata": {
        "id": "flmdJNJg0vkW",
        "outputId": "1fa73c47-0415-451b-c072-3c724a12d1bc",
        "colab": {
          "base_uri": "https://localhost:8080/"
        }
      },
      "execution_count": null,
      "outputs": [
        {
          "output_type": "execute_result",
          "data": {
            "text/plain": [
              "array([[1.8863754]], dtype=float32)"
            ]
          },
          "metadata": {},
          "execution_count": 20
        }
      ]
    },
    {
      "cell_type": "markdown",
      "source": [
        "# Improving the Model\n",
        "We can improve our model by altering the steps we used to create a model.\n",
        "\n",
        "1. ** Creating a Model ** - we might add more layers, increase the number of hidden units\n",
        "within each of the hidden layers, change activation function of each layer\n",
        "2. ** Compiling a Model** - we might change the optimization function or perhaps\n",
        "** learning rate ** of the optimization function\n",
        "3. ** Fitting a Model ** - here we might fit a model for more **epochs**\n",
        "(leave it training for longer) or on more data(give the model more examples to learn)"
      ],
      "metadata": {
        "id": "nvn_9GkHSKJQ"
      }
    },
    {
      "cell_type": "code",
      "source": [
        "# Lets rebuild our model\n",
        "#1. Create the model\n",
        "model = tf.keras.Sequential([\n",
        "    tf.keras.layers.Dense(50, activation=None),\n",
        "    tf.keras.layers.Dense(1)\n",
        "])\n",
        "\n",
        "#2. Compile the Model\n",
        "model.compile(loss=tf.keras.losses.mae,\n",
        "              optimizer=tf.keras.optimizers.Adam(lr=0.01),\n",
        "              metrics=[\"mae\"])\n",
        "\n",
        "#3. Fit the Model (this time we will train for longer)\n",
        "#model.fit(X,Y,epochs=100)\n",
        "model.fit(tf.expand_dims(X, axis=-1), Y, epochs=100) # <- updated line\n",
        "\n"
      ],
      "metadata": {
        "id": "Uen2WbAFS-U2",
        "outputId": "83a99f9a-bf8e-4fdf-8f24-028dbd60c62a",
        "colab": {
          "base_uri": "https://localhost:8080/"
        }
      },
      "execution_count": null,
      "outputs": [
        {
          "output_type": "stream",
          "name": "stderr",
          "text": [
            "WARNING:absl:`lr` is deprecated in Keras optimizer, please use `learning_rate` or use the legacy optimizer, e.g.,tf.keras.optimizers.legacy.Adam.\n"
          ]
        },
        {
          "output_type": "stream",
          "name": "stdout",
          "text": [
            "Epoch 1/100\n",
            "1/1 [==============================] - 0s 445ms/step - loss: 12.0011 - mae: 12.0011\n",
            "Epoch 2/100\n",
            "1/1 [==============================] - 0s 8ms/step - loss: 11.9359 - mae: 11.9359\n",
            "Epoch 3/100\n",
            "1/1 [==============================] - 0s 7ms/step - loss: 11.8707 - mae: 11.8707\n",
            "Epoch 4/100\n",
            "1/1 [==============================] - 0s 7ms/step - loss: 11.8054 - mae: 11.8054\n",
            "Epoch 5/100\n",
            "1/1 [==============================] - 0s 10ms/step - loss: 11.7400 - mae: 11.7400\n",
            "Epoch 6/100\n",
            "1/1 [==============================] - 0s 8ms/step - loss: 11.6746 - mae: 11.6746\n",
            "Epoch 7/100\n",
            "1/1 [==============================] - 0s 8ms/step - loss: 11.6090 - mae: 11.6090\n",
            "Epoch 8/100\n",
            "1/1 [==============================] - 0s 8ms/step - loss: 11.5434 - mae: 11.5434\n",
            "Epoch 9/100\n",
            "1/1 [==============================] - 0s 9ms/step - loss: 11.4776 - mae: 11.4776\n",
            "Epoch 10/100\n",
            "1/1 [==============================] - 0s 8ms/step - loss: 11.4118 - mae: 11.4118\n",
            "Epoch 11/100\n",
            "1/1 [==============================] - 0s 9ms/step - loss: 11.3458 - mae: 11.3458\n",
            "Epoch 12/100\n",
            "1/1 [==============================] - 0s 7ms/step - loss: 11.2797 - mae: 11.2797\n",
            "Epoch 13/100\n",
            "1/1 [==============================] - 0s 7ms/step - loss: 11.2134 - mae: 11.2134\n",
            "Epoch 14/100\n",
            "1/1 [==============================] - 0s 10ms/step - loss: 11.1470 - mae: 11.1470\n",
            "Epoch 15/100\n",
            "1/1 [==============================] - 0s 7ms/step - loss: 11.0805 - mae: 11.0805\n",
            "Epoch 16/100\n",
            "1/1 [==============================] - 0s 7ms/step - loss: 11.0138 - mae: 11.0138\n",
            "Epoch 17/100\n",
            "1/1 [==============================] - 0s 6ms/step - loss: 10.9470 - mae: 10.9470\n",
            "Epoch 18/100\n",
            "1/1 [==============================] - 0s 6ms/step - loss: 10.8800 - mae: 10.8800\n",
            "Epoch 19/100\n",
            "1/1 [==============================] - 0s 7ms/step - loss: 10.8128 - mae: 10.8128\n",
            "Epoch 20/100\n",
            "1/1 [==============================] - 0s 6ms/step - loss: 10.7454 - mae: 10.7454\n",
            "Epoch 21/100\n",
            "1/1 [==============================] - 0s 7ms/step - loss: 10.6779 - mae: 10.6779\n",
            "Epoch 22/100\n",
            "1/1 [==============================] - 0s 8ms/step - loss: 10.6102 - mae: 10.6102\n",
            "Epoch 23/100\n",
            "1/1 [==============================] - 0s 8ms/step - loss: 10.5423 - mae: 10.5423\n",
            "Epoch 24/100\n",
            "1/1 [==============================] - 0s 7ms/step - loss: 10.4742 - mae: 10.4742\n",
            "Epoch 25/100\n",
            "1/1 [==============================] - 0s 7ms/step - loss: 10.4059 - mae: 10.4059\n",
            "Epoch 26/100\n",
            "1/1 [==============================] - 0s 8ms/step - loss: 10.3373 - mae: 10.3373\n",
            "Epoch 27/100\n",
            "1/1 [==============================] - 0s 7ms/step - loss: 10.2686 - mae: 10.2686\n",
            "Epoch 28/100\n",
            "1/1 [==============================] - 0s 8ms/step - loss: 10.1996 - mae: 10.1996\n",
            "Epoch 29/100\n",
            "1/1 [==============================] - 0s 6ms/step - loss: 10.1304 - mae: 10.1304\n",
            "Epoch 30/100\n",
            "1/1 [==============================] - 0s 7ms/step - loss: 10.0609 - mae: 10.0609\n",
            "Epoch 31/100\n",
            "1/1 [==============================] - 0s 7ms/step - loss: 9.9912 - mae: 9.9912\n",
            "Epoch 32/100\n",
            "1/1 [==============================] - 0s 7ms/step - loss: 9.9213 - mae: 9.9213\n",
            "Epoch 33/100\n",
            "1/1 [==============================] - 0s 7ms/step - loss: 9.8511 - mae: 9.8511\n",
            "Epoch 34/100\n",
            "1/1 [==============================] - 0s 7ms/step - loss: 9.7806 - mae: 9.7806\n",
            "Epoch 35/100\n",
            "1/1 [==============================] - 0s 7ms/step - loss: 9.7098 - mae: 9.7098\n",
            "Epoch 36/100\n",
            "1/1 [==============================] - 0s 6ms/step - loss: 9.6388 - mae: 9.6388\n",
            "Epoch 37/100\n",
            "1/1 [==============================] - 0s 6ms/step - loss: 9.5675 - mae: 9.5675\n",
            "Epoch 38/100\n",
            "1/1 [==============================] - 0s 6ms/step - loss: 9.4959 - mae: 9.4959\n",
            "Epoch 39/100\n",
            "1/1 [==============================] - 0s 7ms/step - loss: 9.4240 - mae: 9.4240\n",
            "Epoch 40/100\n",
            "1/1 [==============================] - 0s 6ms/step - loss: 9.3518 - mae: 9.3518\n",
            "Epoch 41/100\n",
            "1/1 [==============================] - 0s 6ms/step - loss: 9.2793 - mae: 9.2793\n",
            "Epoch 42/100\n",
            "1/1 [==============================] - 0s 6ms/step - loss: 9.2065 - mae: 9.2065\n",
            "Epoch 43/100\n",
            "1/1 [==============================] - 0s 5ms/step - loss: 9.1333 - mae: 9.1333\n",
            "Epoch 44/100\n",
            "1/1 [==============================] - 0s 6ms/step - loss: 9.0599 - mae: 9.0599\n",
            "Epoch 45/100\n",
            "1/1 [==============================] - 0s 5ms/step - loss: 8.9861 - mae: 8.9861\n",
            "Epoch 46/100\n",
            "1/1 [==============================] - 0s 5ms/step - loss: 8.9120 - mae: 8.9120\n",
            "Epoch 47/100\n",
            "1/1 [==============================] - 0s 6ms/step - loss: 8.8375 - mae: 8.8375\n",
            "Epoch 48/100\n",
            "1/1 [==============================] - 0s 6ms/step - loss: 8.7627 - mae: 8.7627\n",
            "Epoch 49/100\n",
            "1/1 [==============================] - 0s 6ms/step - loss: 8.6875 - mae: 8.6875\n",
            "Epoch 50/100\n",
            "1/1 [==============================] - 0s 5ms/step - loss: 8.6120 - mae: 8.6120\n",
            "Epoch 51/100\n",
            "1/1 [==============================] - 0s 5ms/step - loss: 8.5361 - mae: 8.5361\n",
            "Epoch 52/100\n",
            "1/1 [==============================] - 0s 5ms/step - loss: 8.4599 - mae: 8.4599\n",
            "Epoch 53/100\n",
            "1/1 [==============================] - 0s 6ms/step - loss: 8.3833 - mae: 8.3833\n",
            "Epoch 54/100\n",
            "1/1 [==============================] - 0s 6ms/step - loss: 8.3063 - mae: 8.3063\n",
            "Epoch 55/100\n",
            "1/1 [==============================] - 0s 10ms/step - loss: 8.2290 - mae: 8.2290\n",
            "Epoch 56/100\n",
            "1/1 [==============================] - 0s 7ms/step - loss: 8.1512 - mae: 8.1512\n",
            "Epoch 57/100\n",
            "1/1 [==============================] - 0s 7ms/step - loss: 8.0731 - mae: 8.0731\n",
            "Epoch 58/100\n",
            "1/1 [==============================] - 0s 6ms/step - loss: 7.9945 - mae: 7.9945\n",
            "Epoch 59/100\n",
            "1/1 [==============================] - 0s 8ms/step - loss: 7.9156 - mae: 7.9156\n",
            "Epoch 60/100\n",
            "1/1 [==============================] - 0s 6ms/step - loss: 7.8362 - mae: 7.8362\n",
            "Epoch 61/100\n",
            "1/1 [==============================] - 0s 6ms/step - loss: 7.7565 - mae: 7.7565\n",
            "Epoch 62/100\n",
            "1/1 [==============================] - 0s 5ms/step - loss: 7.6763 - mae: 7.6763\n",
            "Epoch 63/100\n",
            "1/1 [==============================] - 0s 7ms/step - loss: 7.5957 - mae: 7.5957\n",
            "Epoch 64/100\n",
            "1/1 [==============================] - 0s 10ms/step - loss: 7.5147 - mae: 7.5147\n",
            "Epoch 65/100\n",
            "1/1 [==============================] - 0s 7ms/step - loss: 7.4332 - mae: 7.4332\n",
            "Epoch 66/100\n",
            "1/1 [==============================] - 0s 6ms/step - loss: 7.3514 - mae: 7.3514\n",
            "Epoch 67/100\n",
            "1/1 [==============================] - 0s 6ms/step - loss: 7.2690 - mae: 7.2690\n",
            "Epoch 68/100\n",
            "1/1 [==============================] - 0s 9ms/step - loss: 7.1863 - mae: 7.1863\n",
            "Epoch 69/100\n",
            "1/1 [==============================] - 0s 8ms/step - loss: 7.1030 - mae: 7.1030\n",
            "Epoch 70/100\n",
            "1/1 [==============================] - 0s 7ms/step - loss: 7.0194 - mae: 7.0194\n",
            "Epoch 71/100\n",
            "1/1 [==============================] - 0s 7ms/step - loss: 6.9665 - mae: 6.9665\n",
            "Epoch 72/100\n",
            "1/1 [==============================] - 0s 6ms/step - loss: 6.9571 - mae: 6.9571\n",
            "Epoch 73/100\n",
            "1/1 [==============================] - 0s 8ms/step - loss: 6.9479 - mae: 6.9479\n",
            "Epoch 74/100\n",
            "1/1 [==============================] - 0s 13ms/step - loss: 6.9388 - mae: 6.9388\n",
            "Epoch 75/100\n",
            "1/1 [==============================] - 0s 8ms/step - loss: 6.9300 - mae: 6.9300\n",
            "Epoch 76/100\n",
            "1/1 [==============================] - 0s 7ms/step - loss: 6.9213 - mae: 6.9213\n",
            "Epoch 77/100\n",
            "1/1 [==============================] - 0s 7ms/step - loss: 6.9127 - mae: 6.9127\n",
            "Epoch 78/100\n",
            "1/1 [==============================] - 0s 7ms/step - loss: 6.9043 - mae: 6.9043\n",
            "Epoch 79/100\n",
            "1/1 [==============================] - 0s 7ms/step - loss: 6.8959 - mae: 6.8959\n",
            "Epoch 80/100\n",
            "1/1 [==============================] - 0s 9ms/step - loss: 6.8877 - mae: 6.8877\n",
            "Epoch 81/100\n",
            "1/1 [==============================] - 0s 8ms/step - loss: 6.8795 - mae: 6.8795\n",
            "Epoch 82/100\n",
            "1/1 [==============================] - 0s 9ms/step - loss: 6.8714 - mae: 6.8714\n",
            "Epoch 83/100\n",
            "1/1 [==============================] - 0s 8ms/step - loss: 6.8633 - mae: 6.8633\n",
            "Epoch 84/100\n",
            "1/1 [==============================] - 0s 9ms/step - loss: 6.8554 - mae: 6.8554\n",
            "Epoch 85/100\n",
            "1/1 [==============================] - 0s 8ms/step - loss: 6.8474 - mae: 6.8474\n",
            "Epoch 86/100\n",
            "1/1 [==============================] - 0s 8ms/step - loss: 6.8454 - mae: 6.8454\n",
            "Epoch 87/100\n",
            "1/1 [==============================] - 0s 7ms/step - loss: 6.8483 - mae: 6.8483\n",
            "Epoch 88/100\n",
            "1/1 [==============================] - 0s 6ms/step - loss: 6.8456 - mae: 6.8456\n",
            "Epoch 89/100\n",
            "1/1 [==============================] - 0s 7ms/step - loss: 6.8378 - mae: 6.8378\n",
            "Epoch 90/100\n",
            "1/1 [==============================] - 0s 9ms/step - loss: 6.8254 - mae: 6.8254\n",
            "Epoch 91/100\n",
            "1/1 [==============================] - 0s 6ms/step - loss: 6.8089 - mae: 6.8089\n",
            "Epoch 92/100\n",
            "1/1 [==============================] - 0s 6ms/step - loss: 6.8002 - mae: 6.8002\n",
            "Epoch 93/100\n",
            "1/1 [==============================] - 0s 6ms/step - loss: 6.7943 - mae: 6.7943\n",
            "Epoch 94/100\n",
            "1/1 [==============================] - 0s 7ms/step - loss: 6.7882 - mae: 6.7882\n",
            "Epoch 95/100\n",
            "1/1 [==============================] - 0s 6ms/step - loss: 6.7820 - mae: 6.7820\n",
            "Epoch 96/100\n",
            "1/1 [==============================] - 0s 6ms/step - loss: 6.7756 - mae: 6.7756\n",
            "Epoch 97/100\n",
            "1/1 [==============================] - 0s 6ms/step - loss: 6.7691 - mae: 6.7691\n",
            "Epoch 98/100\n",
            "1/1 [==============================] - 0s 6ms/step - loss: 6.7625 - mae: 6.7625\n",
            "Epoch 99/100\n",
            "1/1 [==============================] - 0s 6ms/step - loss: 6.7558 - mae: 6.7558\n",
            "Epoch 100/100\n",
            "1/1 [==============================] - 0s 6ms/step - loss: 6.7490 - mae: 6.7490\n"
          ]
        },
        {
          "output_type": "execute_result",
          "data": {
            "text/plain": [
              "<keras.callbacks.History at 0x7a6ffe1d05b0>"
            ]
          },
          "metadata": {},
          "execution_count": 21
        }
      ]
    },
    {
      "cell_type": "code",
      "source": [
        "# Lets see if our model prediction has improved\n",
        "model.predict([17.0])"
      ],
      "metadata": {
        "id": "k7ByTruEYMj7",
        "outputId": "f1e0716e-33ae-4997-eb09-6bda1bcd61de",
        "colab": {
          "base_uri": "https://localhost:8080/"
        }
      },
      "execution_count": null,
      "outputs": [
        {
          "output_type": "stream",
          "name": "stdout",
          "text": [
            "1/1 [==============================] - 0s 61ms/step\n"
          ]
        },
        {
          "output_type": "execute_result",
          "data": {
            "text/plain": [
              "array([[31.425873]], dtype=float32)"
            ]
          },
          "metadata": {},
          "execution_count": 22
        }
      ]
    },
    {
      "cell_type": "code",
      "source": [
        "import tensorflow as tf\n",
        "X = tf.range(-100,100,4)\n",
        "X"
      ],
      "metadata": {
        "id": "qmvBYlhuwO08",
        "outputId": "1d3987db-9fb1-44df-d1b9-ff248973d0cf",
        "colab": {
          "base_uri": "https://localhost:8080/"
        }
      },
      "execution_count": null,
      "outputs": [
        {
          "output_type": "execute_result",
          "data": {
            "text/plain": [
              "<tf.Tensor: shape=(50,), dtype=int32, numpy=\n",
              "array([-100,  -96,  -92,  -88,  -84,  -80,  -76,  -72,  -68,  -64,  -60,\n",
              "        -56,  -52,  -48,  -44,  -40,  -36,  -32,  -28,  -24,  -20,  -16,\n",
              "        -12,   -8,   -4,    0,    4,    8,   12,   16,   20,   24,   28,\n",
              "         32,   36,   40,   44,   48,   52,   56,   60,   64,   68,   72,\n",
              "         76,   80,   84,   88,   92,   96], dtype=int32)>"
            ]
          },
          "metadata": {},
          "execution_count": 23
        }
      ]
    },
    {
      "cell_type": "code",
      "source": [
        "Y = X + 10\n",
        "Y"
      ],
      "metadata": {
        "id": "tAm2m_GpRYla",
        "outputId": "6b2f31ce-c1f7-4218-9df5-5aa69294382f",
        "colab": {
          "base_uri": "https://localhost:8080/"
        }
      },
      "execution_count": null,
      "outputs": [
        {
          "output_type": "execute_result",
          "data": {
            "text/plain": [
              "<tf.Tensor: shape=(50,), dtype=int32, numpy=\n",
              "array([-90, -86, -82, -78, -74, -70, -66, -62, -58, -54, -50, -46, -42,\n",
              "       -38, -34, -30, -26, -22, -18, -14, -10,  -6,  -2,   2,   6,  10,\n",
              "        14,  18,  22,  26,  30,  34,  38,  42,  46,  50,  54,  58,  62,\n",
              "        66,  70,  74,  78,  82,  86,  90,  94,  98, 102, 106], dtype=int32)>"
            ]
          },
          "metadata": {},
          "execution_count": 24
        }
      ]
    },
    {
      "cell_type": "code",
      "source": [
        "X_train = X[:40]\n",
        "X_train\n",
        "X_test = X[40:]\n",
        "Y_train = Y[:40]\n",
        "Y_train\n",
        "Y_test = Y[40:]"
      ],
      "metadata": {
        "id": "n6vX6cF3ULhE"
      },
      "execution_count": null,
      "outputs": []
    },
    {
      "cell_type": "markdown",
      "source": [
        "Common ways to Improve a Deep Model\n",
        "1. Adding Layers\n",
        "2. Improve the number of hidden units\n",
        "3. Change the Activation Function\n",
        "4. Change the Optimization function\n",
        "5. Change the Learning Rate\n",
        "6. Fitting on moredata\n",
        "7. Fitting for longer"
      ],
      "metadata": {
        "id": "36S3eZ_iYHso"
      }
    },
    {
      "cell_type": "markdown",
      "source": [
        "* Total params - total number of parameter in the model.\n",
        "* Trainable parameter - these are the trainable parameters (pattern) the model can update as it trains.\n",
        "* Non-Trainable params - these parameters aren't updated during training (this is typical when you bring already learn patterns or parameter from other models during *transfer learning*)"
      ],
      "metadata": {
        "id": "eBMazMtiJzrV"
      }
    },
    {
      "cell_type": "markdown",
      "source": [
        "# Improving the Model\n",
        "We can improve our model by altering the steps we used to create a model.\n",
        "\n",
        "1. ** Creating a Model ** - we might add more layers, increase the number of hidden units\n",
        "within each of the hidden layers, change activation function of each layer\n",
        "2. ** Compiling a Model** - we might change the optimization function or perhaps ** learning rate ** of the optimization function\n",
        "3. ** Fitting a Model ** - here we might fit a model for more **epochs**\n",
        "(leave it training for longer) or on more data(give the model more examples to learn)"
      ],
      "metadata": {
        "id": "xT6OfNMwKbXQ"
      }
    },
    {
      "cell_type": "code",
      "source": [
        "# Lets create a model which builds automatically by defining the input_shape argument in the first layer\n",
        "tf.random.set_seed(42)\n",
        "\n",
        "# 1. Create a model\n",
        "model = tf.keras.Sequential([\n",
        "    tf.keras.layers.Dense(10,input_shape=[1],name=\"input_layer\"),\n",
        "    tf.keras.layers.Dense(1, name=\"output_layer\")\n",
        "], name=\"model_1\")\n",
        "\n",
        "# 2. Compile the model\n",
        "model.compile(loss=tf.keras.losses.mae,\n",
        "              optimizer=tf.keras.optimizers.SGD(),\n",
        "              metrics=[\"mae\"])\n",
        "\n",
        "# 3. Summary\n",
        "model.summary()\n",
        "\n",
        "# 4. Fit the Model\n",
        "model.fit(X_train, Y_train, epochs=100, verbose=0)"
      ],
      "metadata": {
        "id": "n31FExTjQpD-",
        "outputId": "9f8f14c7-858a-4a4e-a7be-5e7c9baee40d",
        "colab": {
          "base_uri": "https://localhost:8080/"
        }
      },
      "execution_count": null,
      "outputs": [
        {
          "output_type": "stream",
          "name": "stdout",
          "text": [
            "Model: \"model_1\"\n",
            "_________________________________________________________________\n",
            " Layer (type)                Output Shape              Param #   \n",
            "=================================================================\n",
            " input_layer (Dense)         (None, 10)                20        \n",
            "                                                                 \n",
            " output_layer (Dense)        (None, 1)                 11        \n",
            "                                                                 \n",
            "=================================================================\n",
            "Total params: 31\n",
            "Trainable params: 31\n",
            "Non-trainable params: 0\n",
            "_________________________________________________________________\n"
          ]
        },
        {
          "output_type": "execute_result",
          "data": {
            "text/plain": [
              "<keras.callbacks.History at 0x7a6ffc927ee0>"
            ]
          },
          "metadata": {},
          "execution_count": 26
        }
      ]
    },
    {
      "cell_type": "code",
      "source": [
        "from tensorflow.keras.utils import plot_model\n",
        "\n",
        "plot_model(model=model, show_shapes=True)"
      ],
      "metadata": {
        "id": "vQMliUpnSlIb",
        "outputId": "55ff13e9-ea54-4a89-97f8-21c152f44f9b",
        "colab": {
          "base_uri": "https://localhost:8080/",
          "height": 312
        }
      },
      "execution_count": null,
      "outputs": [
        {
          "output_type": "execute_result",
          "data": {
            "image/png": "[encoded data removed]",
            "text/plain": [
              "<IPython.core.display.Image object>"
            ]
          },
          "metadata": {},
          "execution_count": 27
        }
      ]
    },
    {
      "cell_type": "markdown",
      "source": [
        "** Visualizing our model predictions **\n",
        "To visualize predictions, its a good idea to plot them against the ground truth labels.\n",
        "\n",
        "Often you will see this in the form of y_test or y_true versus y_pred(ground truth versus your model)"
      ],
      "metadata": {
        "id": "4rZEd29xVud6"
      }
    },
    {
      "cell_type": "code",
      "source": [
        "# Visualizinig our Model prediction\n",
        "y_pred = model.predict(X_test)\n",
        "y_pred"
      ],
      "metadata": {
        "id": "jHDr_oySVUr_",
        "outputId": "8e041c2a-b18b-4bb8-9b88-45ca699fb6c4",
        "colab": {
          "base_uri": "https://localhost:8080/"
        }
      },
      "execution_count": null,
      "outputs": [
        {
          "output_type": "stream",
          "name": "stdout",
          "text": [
            "1/1 [==============================] - 0s 64ms/step\n"
          ]
        },
        {
          "output_type": "execute_result",
          "data": {
            "text/plain": [
              "array([[ 76.95869],\n",
              "       [ 81.97729],\n",
              "       [ 86.99588],\n",
              "       [ 92.01448],\n",
              "       [ 97.03309],\n",
              "       [102.05168],\n",
              "       [107.07029],\n",
              "       [112.08888],\n",
              "       [117.1075 ],\n",
              "       [122.12609]], dtype=float32)"
            ]
          },
          "metadata": {},
          "execution_count": 28
        }
      ]
    },
    {
      "cell_type": "code",
      "source": [
        "# Lets create a plotting function\n",
        "def plot_predictions(train_data=X_train,\n",
        "                     train_labels=Y_train,\n",
        "                     test_data=X_test,\n",
        "                     test_labels=Y_test,\n",
        "                     predictions=y_pred):\n",
        "\n",
        "  \"\"\"\n",
        "  Plot Traing, Test Data and Predictions and compare predictions to ground truth table\n",
        "\n",
        "  \"\"\"\n",
        "\n",
        "  plt.figure(figsize=(10, 7))\n",
        "  #Plot Training Data in Blue\n",
        "  plt.scatter(train_data, train_labels, c=\"b\", label=\"Training Data\")\n",
        "  #Plot Testing Data in Green\n",
        "  plt.scatter(test_data, test_labels, c=\"g\", label=\"Test Data\")\n",
        "  #Plot Model's prediction in Red\n",
        "  plt.scatter(test_data, predictions, c=\"r\", label=\"Predictions\")\n",
        "  #Show the Legend\n",
        "  plt.legend()"
      ],
      "metadata": {
        "id": "ni3173x5W5OL"
      },
      "execution_count": null,
      "outputs": []
    },
    {
      "cell_type": "code",
      "source": [
        "import matplotlib.pyplot as plt\n",
        "plot_predictions()"
      ],
      "metadata": {
        "id": "bLmBZf24ZMw5",
        "outputId": "76fdbbc9-3512-4f9a-c6e2-80b06338ec09",
        "colab": {
          "base_uri": "https://localhost:8080/",
          "height": 599
        }
      },
      "execution_count": null,
      "outputs": [
        {
          "output_type": "display_data",
          "data": {
            "text/plain": [
              "<Figure size 1000x700 with 1 Axes>"
            ],
            "image/png": "[encoded data removed]"
          },
          "metadata": {}
        }
      ]
    },
    {
      "cell_type": "markdown",
      "source": [
        "### Evaluating a Model prediction's with regression evaluation metrics\n",
        "\n",
        "Depending on the problem you are working on there will be different evaluation metrics to evaluate your model's performance.\n",
        "\n",
        "Since we are working on a regression two of the main metrics:\n",
        "* MAE - Mean Absolute Error, On an average how wrong if each of the model's predictions.\n",
        "* MSE - Mean Square Error, \"square the average errors\""
      ],
      "metadata": {
        "id": "s4m7V-J8TvNp"
      }
    },
    {
      "cell_type": "code",
      "source": [
        "# Evaluate the model on the test\n",
        "model.evaluate(X_test, Y_test)"
      ],
      "metadata": {
        "id": "vpg9R4xkWz25",
        "outputId": "48516acf-0339-4d33-f3d2-145572e2cd56",
        "colab": {
          "base_uri": "https://localhost:8080/"
        }
      },
      "execution_count": null,
      "outputs": [
        {
          "output_type": "stream",
          "name": "stdout",
          "text": [
            "1/1 [==============================] - 0s 164ms/step - loss: 11.5424 - mae: 11.5424\n"
          ]
        },
        {
          "output_type": "execute_result",
          "data": {
            "text/plain": [
              "[11.542384147644043, 11.542384147644043]"
            ]
          },
          "metadata": {},
          "execution_count": 31
        }
      ]
    },
    {
      "cell_type": "code",
      "source": [
        "tf.constant(y_pred)\n",
        "tf.squeeze(y_pred)"
      ],
      "metadata": {
        "id": "sduLF_cSXEbr",
        "outputId": "f154afa7-9f82-4f4b-db22-f870fb3875df",
        "colab": {
          "base_uri": "https://localhost:8080/"
        }
      },
      "execution_count": null,
      "outputs": [
        {
          "output_type": "execute_result",
          "data": {
            "text/plain": [
              "<tf.Tensor: shape=(10,), dtype=float32, numpy=\n",
              "array([ 76.95869,  81.97729,  86.99588,  92.01448,  97.03309, 102.05168,\n",
              "       107.07029, 112.08888, 117.1075 , 122.12609], dtype=float32)>"
            ]
          },
          "metadata": {},
          "execution_count": 32
        }
      ]
    },
    {
      "cell_type": "code",
      "source": [
        "# Calculate the mean absolute error\n",
        "#tf.keras.losses.MAE(y_pred, Y_test)\n",
        "tf.keras.losses.MSE(y_pred, Y_test)\n",
        "#tf.keras.losses.Huber(y_pred, Y_test)"
      ],
      "metadata": {
        "id": "8Cg1L_eNXRUy",
        "outputId": "3015b668-ed52-4aa7-b4e2-f806cc6eada7",
        "colab": {
          "base_uri": "https://localhost:8080/"
        }
      },
      "execution_count": null,
      "outputs": [
        {
          "output_type": "execute_result",
          "data": {
            "text/plain": [
              "<tf.Tensor: shape=(10,), dtype=int32, numpy=\n",
              "array([ 276,  181,  136,  148,  213,  328,  493,  708,  973, 1288],\n",
              "      dtype=int32)>"
            ]
          },
          "metadata": {},
          "execution_count": 33
        }
      ]
    },
    {
      "cell_type": "code",
      "source": [
        "mae = tf.metrics.mean_absolute_error(y_true=Y_test,\n",
        "                                     y_pred=tf.squeeze(y_pred))\n",
        "\n",
        "mae"
      ],
      "metadata": {
        "id": "5I7lhEAMZ3mj",
        "outputId": "63b524c7-829c-43da-916d-48e3b56e70b0",
        "colab": {
          "base_uri": "https://localhost:8080/"
        }
      },
      "execution_count": null,
      "outputs": [
        {
          "output_type": "execute_result",
          "data": {
            "text/plain": [
              "<tf.Tensor: shape=(), dtype=float32, numpy=11.542387>"
            ]
          },
          "metadata": {},
          "execution_count": 34
        }
      ]
    },
    {
      "cell_type": "code",
      "source": [
        "Y_test"
      ],
      "metadata": {
        "id": "2IQgI3rcXG3d",
        "outputId": "35a44fe0-a02b-42ad-86ef-b542da34738c",
        "colab": {
          "base_uri": "https://localhost:8080/"
        }
      },
      "execution_count": null,
      "outputs": [
        {
          "output_type": "execute_result",
          "data": {
            "text/plain": [
              "<tf.Tensor: shape=(10,), dtype=int32, numpy=array([ 70,  74,  78,  82,  86,  90,  94,  98, 102, 106], dtype=int32)>"
            ]
          },
          "metadata": {},
          "execution_count": 35
        }
      ]
    },
    {
      "cell_type": "code",
      "source": [
        "# Calculate the Mean Square Error vvvvvvvvmx  jjjjjjjjjjjjjjjjjjjjjjjjjm hhhhhhhhhhhh            hhh   hhhhhhhhhhhhhhh\n",
        "mse = tf.metrics.mean_squared_error(y_true=Y_test,\n",
        "                                    y_pred=tf.squeeze(y_pred))\n",
        "\n",
        "mse"
      ],
      "metadata": {
        "id": "J47cktdxf1Mv",
        "outputId": "d5d4f3e8-51b5-4a9a-fc17-1cdc2cacaadc",
        "colab": {
          "base_uri": "https://localhost:8080/"
        }
      },
      "execution_count": null,
      "outputs": [
        {
          "output_type": "execute_result",
          "data": {
            "text/plain": [
              "<tf.Tensor: shape=(), dtype=float32, numpy=141.78645>"
            ]
          },
          "metadata": {},
          "execution_count": 36
        }
      ]
    },
    {
      "cell_type": "code",
      "source": [
        "# Make some functions to reuse MAE and MSE\n",
        "def mae(y_true, Y_pred):\n",
        "  return tf.metrics.mean_absolute_error(y_true=y_true,\n",
        "                                        y_pred=tf.squeeze(y_pred))\n",
        "\n",
        "def mse(y_true, Y_pred):\n",
        "  return tf.metrics.mean_squared_error(y_true=y_true,\n",
        "                                        y_pred=tf.squeeze(y_pred))\n",
        "mae(Y_test,y_pred)\n",
        "mse(Y_test,y_pred)"
      ],
      "metadata": {
        "id": "l2QfQG2uhFPV",
        "outputId": "dcf35785-32b3-45ec-f858-9bcc3786343a",
        "colab": {
          "base_uri": "https://localhost:8080/"
        }
      },
      "execution_count": null,
      "outputs": [
        {
          "output_type": "execute_result",
          "data": {
            "text/plain": [
              "<tf.Tensor: shape=(), dtype=float32, numpy=141.78645>"
            ]
          },
          "metadata": {},
          "execution_count": 37
        }
      ]
    },
    {
      "cell_type": "markdown",
      "source": [
        "### Running experiments to improve our model\n",
        "\n",
        "1.   List item\n",
        "2.   List item\n",
        "\n",
        "\n",
        "```Build a model -> fit it -> evaluate it -> tweak it -> fit it -> evaluate it -> tweak it -> fit it -> evaluate it....\n"
      ],
      "metadata": {
        "id": "oxKDNU2QkrEo"
      }
    },
    {
      "cell_type": "code",
      "source": [
        "X_train, Y_train"
      ],
      "metadata": {
        "id": "4PxzLLVjpzez",
        "outputId": "0e2a4408-b077-4a80-989d-6b964aa90662",
        "colab": {
          "base_uri": "https://localhost:8080/"
        }
      },
      "execution_count": null,
      "outputs": [
        {
          "output_type": "execute_result",
          "data": {
            "text/plain": [
              "(<tf.Tensor: shape=(40,), dtype=int32, numpy=\n",
              " array([-100,  -96,  -92,  -88,  -84,  -80,  -76,  -72,  -68,  -64,  -60,\n",
              "         -56,  -52,  -48,  -44,  -40,  -36,  -32,  -28,  -24,  -20,  -16,\n",
              "         -12,   -8,   -4,    0,    4,    8,   12,   16,   20,   24,   28,\n",
              "          32,   36,   40,   44,   48,   52,   56], dtype=int32)>,\n",
              " <tf.Tensor: shape=(40,), dtype=int32, numpy=\n",
              " array([-90, -86, -82, -78, -74, -70, -66, -62, -58, -54, -50, -46, -42,\n",
              "        -38, -34, -30, -26, -22, -18, -14, -10,  -6,  -2,   2,   6,  10,\n",
              "         14,  18,  22,  26,  30,  34,  38,  42,  46,  50,  54,  58,  62,\n",
              "         66], dtype=int32)>)"
            ]
          },
          "metadata": {},
          "execution_count": 38
        }
      ]
    },
    {
      "cell_type": "markdown",
      "source": [
        "1. Get more data - get more examples for your model to train on (more oppertunities to learn patterns or relationship between features and labels).\n",
        "2. Make your model larger(using a more complex model) - this might come in form of more layers or more hidden units in each layer.\n",
        "3. Train for longer - give your model more of a change to find patterns in data.\n",
        "\n",
        "Lets do 3 modelling experiments\n",
        "1. `model_1` - same as the original model, 1 layer, trained for 100 epochs.\n",
        "2. `model_2` - 2 layers trained for 100 epochs.\n",
        "3. `model_3` - 2 layers trained for 500 epochs.\n",
        "\n",
        "**Build model_1"
      ],
      "metadata": {
        "id": "pr9az1ekWBrJ"
      }
    },
    {
      "cell_type": "code",
      "source": [
        "#Set random seed\n",
        "tf.random.set_seed(42)\n",
        "\n",
        "# 1. Create the model\n",
        "#model_1 = tf.keras.Sequential([\n",
        " #   tf.keras.layers.Dense(1)\n",
        "#])\n",
        "model_1 = tf.keras.Sequential([\n",
        "   #tf.keras.layers.Dense(1,input_shape=[1]) #name=\"output_layer\")\n",
        "    tf.keras.layers.Dense(1) #name=\"output_layer\")\n",
        "])\n",
        "\n",
        "# 2. Compile the model\n",
        "model_1.compile(loss=tf.keras.losses.mae,\n",
        "                optimizer=tf.keras.optimizers.SGD(),\n",
        "                metrics=[\"mae\"])\n",
        "\n",
        "# 3. Summary\n",
        "#model_1.summary()\n",
        "\n",
        "# 4. Fit the model\n",
        "model_1.fit(tf.expand_dims(X_train, axis=-1), Y_train, epochs=100)\n",
        "#model.fit(tf.expand_dims(X, axis=-1), Y, epochs=100)\n"
      ],
      "metadata": {
        "id": "_8AQS9KNXmtA",
        "outputId": "c3064e1a-796a-4a70-be7b-d54449a9bb0e",
        "colab": {
          "base_uri": "https://localhost:8080/"
        }
      },
      "execution_count": null,
      "outputs": [
        {
          "output_type": "stream",
          "name": "stdout",
          "text": [
            "Epoch 1/100\n",
            "2/2 [==============================] - 0s 13ms/step - loss: 109.8765 - mae: 109.8765\n",
            "Epoch 2/100\n",
            "2/2 [==============================] - 0s 5ms/step - loss: 74.4210 - mae: 74.4210\n",
            "Epoch 3/100\n",
            "2/2 [==============================] - 0s 8ms/step - loss: 36.8613 - mae: 36.8613\n",
            "Epoch 4/100\n",
            "2/2 [==============================] - 0s 4ms/step - loss: 7.8219 - mae: 7.8219\n",
            "Epoch 5/100\n",
            "2/2 [==============================] - 0s 5ms/step - loss: 9.7450 - mae: 9.7450\n",
            "Epoch 6/100\n",
            "2/2 [==============================] - 0s 4ms/step - loss: 9.0784 - mae: 9.0784\n",
            "Epoch 7/100\n",
            "2/2 [==============================] - 0s 5ms/step - loss: 9.4907 - mae: 9.4907\n",
            "Epoch 8/100\n",
            "2/2 [==============================] - 0s 7ms/step - loss: 9.3523 - mae: 9.3523\n",
            "Epoch 9/100\n",
            "2/2 [==============================] - 0s 4ms/step - loss: 7.5483 - mae: 7.5483\n",
            "Epoch 10/100\n",
            "2/2 [==============================] - 0s 4ms/step - loss: 12.6134 - mae: 12.6134\n",
            "Epoch 11/100\n",
            "2/2 [==============================] - 0s 5ms/step - loss: 10.3600 - mae: 10.3600\n",
            "Epoch 12/100\n",
            "2/2 [==============================] - 0s 5ms/step - loss: 18.5493 - mae: 18.5493\n",
            "Epoch 13/100\n",
            "2/2 [==============================] - 0s 4ms/step - loss: 9.7640 - mae: 9.7640\n",
            "Epoch 14/100\n",
            "2/2 [==============================] - 0s 4ms/step - loss: 15.7290 - mae: 15.7290\n",
            "Epoch 15/100\n",
            "2/2 [==============================] - 0s 4ms/step - loss: 11.2412 - mae: 11.2412\n",
            "Epoch 16/100\n",
            "2/2 [==============================] - 0s 5ms/step - loss: 8.6263 - mae: 8.6263\n",
            "Epoch 17/100\n",
            "2/2 [==============================] - 0s 4ms/step - loss: 13.8007 - mae: 13.8007\n",
            "Epoch 18/100\n",
            "2/2 [==============================] - 0s 4ms/step - loss: 11.6619 - mae: 11.6619\n",
            "Epoch 19/100\n",
            "2/2 [==============================] - 0s 6ms/step - loss: 17.7377 - mae: 17.7377\n",
            "Epoch 20/100\n",
            "2/2 [==============================] - 0s 5ms/step - loss: 14.8737 - mae: 14.8737\n",
            "Epoch 21/100\n",
            "2/2 [==============================] - 0s 5ms/step - loss: 10.7866 - mae: 10.7866\n",
            "Epoch 22/100\n",
            "2/2 [==============================] - 0s 4ms/step - loss: 8.5284 - mae: 8.5284\n",
            "Epoch 23/100\n",
            "2/2 [==============================] - 0s 4ms/step - loss: 9.8202 - mae: 9.8202\n",
            "Epoch 24/100\n",
            "2/2 [==============================] - 0s 6ms/step - loss: 10.8843 - mae: 10.8843\n",
            "Epoch 25/100\n",
            "2/2 [==============================] - 0s 8ms/step - loss: 9.1515 - mae: 9.1515\n",
            "Epoch 26/100\n",
            "2/2 [==============================] - 0s 5ms/step - loss: 13.1134 - mae: 13.1134\n",
            "Epoch 27/100\n",
            "2/2 [==============================] - 0s 6ms/step - loss: 10.4444 - mae: 10.4444\n",
            "Epoch 28/100\n",
            "2/2 [==============================] - 0s 6ms/step - loss: 13.4569 - mae: 13.4569\n",
            "Epoch 29/100\n",
            "2/2 [==============================] - 0s 7ms/step - loss: 9.6481 - mae: 9.6481\n",
            "Epoch 30/100\n",
            "2/2 [==============================] - 0s 7ms/step - loss: 17.2821 - mae: 17.2821\n",
            "Epoch 31/100\n",
            "2/2 [==============================] - 0s 7ms/step - loss: 22.8123 - mae: 22.8123\n",
            "Epoch 32/100\n",
            "2/2 [==============================] - 0s 6ms/step - loss: 7.9482 - mae: 7.9482\n",
            "Epoch 33/100\n",
            "2/2 [==============================] - 0s 6ms/step - loss: 14.2025 - mae: 14.2025\n",
            "Epoch 34/100\n",
            "2/2 [==============================] - 0s 7ms/step - loss: 12.4609 - mae: 12.4609\n",
            "Epoch 35/100\n",
            "2/2 [==============================] - 0s 4ms/step - loss: 8.2747 - mae: 8.2747\n",
            "Epoch 36/100\n",
            "2/2 [==============================] - 0s 6ms/step - loss: 10.4833 - mae: 10.4833\n",
            "Epoch 37/100\n",
            "2/2 [==============================] - 0s 4ms/step - loss: 10.1342 - mae: 10.1342\n",
            "Epoch 38/100\n",
            "2/2 [==============================] - 0s 4ms/step - loss: 11.3100 - mae: 11.3100\n",
            "Epoch 39/100\n",
            "2/2 [==============================] - 0s 4ms/step - loss: 14.8267 - mae: 14.8267\n",
            "Epoch 40/100\n",
            "2/2 [==============================] - 0s 3ms/step - loss: 12.9564 - mae: 12.9564\n",
            "Epoch 41/100\n",
            "2/2 [==============================] - 0s 4ms/step - loss: 9.3535 - mae: 9.3535\n",
            "Epoch 42/100\n",
            "2/2 [==============================] - 0s 4ms/step - loss: 11.0000 - mae: 11.0000\n",
            "Epoch 43/100\n",
            "2/2 [==============================] - 0s 4ms/step - loss: 8.3572 - mae: 8.3572\n",
            "Epoch 44/100\n",
            "2/2 [==============================] - 0s 4ms/step - loss: 13.0103 - mae: 13.0103\n",
            "Epoch 45/100\n",
            "2/2 [==============================] - 0s 4ms/step - loss: 13.7532 - mae: 13.7532\n",
            "Epoch 46/100\n",
            "2/2 [==============================] - 0s 4ms/step - loss: 8.4530 - mae: 8.4530\n",
            "Epoch 47/100\n",
            "2/2 [==============================] - 0s 4ms/step - loss: 9.1950 - mae: 9.1950\n",
            "Epoch 48/100\n",
            "2/2 [==============================] - 0s 4ms/step - loss: 10.6977 - mae: 10.6977\n",
            "Epoch 49/100\n",
            "2/2 [==============================] - 0s 5ms/step - loss: 7.8068 - mae: 7.8068\n",
            "Epoch 50/100\n",
            "2/2 [==============================] - 0s 5ms/step - loss: 9.6140 - mae: 9.6140\n",
            "Epoch 51/100\n",
            "2/2 [==============================] - 0s 4ms/step - loss: 9.1984 - mae: 9.1984\n",
            "Epoch 52/100\n",
            "2/2 [==============================] - 0s 4ms/step - loss: 16.4662 - mae: 16.4662\n",
            "Epoch 53/100\n",
            "2/2 [==============================] - 0s 4ms/step - loss: 14.1120 - mae: 14.1120\n",
            "Epoch 54/100\n",
            "2/2 [==============================] - 0s 4ms/step - loss: 21.0368 - mae: 21.0368\n",
            "Epoch 55/100\n",
            "2/2 [==============================] - 0s 6ms/step - loss: 16.4964 - mae: 16.4964\n",
            "Epoch 56/100\n",
            "2/2 [==============================] - 0s 6ms/step - loss: 9.8986 - mae: 9.8986\n",
            "Epoch 57/100\n",
            "2/2 [==============================] - 0s 4ms/step - loss: 9.6837 - mae: 9.6837\n",
            "Epoch 58/100\n",
            "2/2 [==============================] - 0s 5ms/step - loss: 9.0052 - mae: 9.0052\n",
            "Epoch 59/100\n",
            "2/2 [==============================] - 0s 7ms/step - loss: 10.2116 - mae: 10.2116\n",
            "Epoch 60/100\n",
            "2/2 [==============================] - 0s 3ms/step - loss: 8.4524 - mae: 8.4524\n",
            "Epoch 61/100\n",
            "2/2 [==============================] - 0s 4ms/step - loss: 9.2910 - mae: 9.2910\n",
            "Epoch 62/100\n",
            "2/2 [==============================] - 0s 4ms/step - loss: 7.1058 - mae: 7.1058\n",
            "Epoch 63/100\n",
            "2/2 [==============================] - 0s 4ms/step - loss: 8.6817 - mae: 8.6817\n",
            "Epoch 64/100\n",
            "2/2 [==============================] - 0s 4ms/step - loss: 9.2592 - mae: 9.2592\n",
            "Epoch 65/100\n",
            "2/2 [==============================] - 0s 4ms/step - loss: 10.5209 - mae: 10.5209\n",
            "Epoch 66/100\n",
            "2/2 [==============================] - 0s 5ms/step - loss: 15.6589 - mae: 15.6589\n",
            "Epoch 67/100\n",
            "2/2 [==============================] - 0s 4ms/step - loss: 10.0605 - mae: 10.0605\n",
            "Epoch 68/100\n",
            "2/2 [==============================] - 0s 4ms/step - loss: 9.0420 - mae: 9.0420\n",
            "Epoch 69/100\n",
            "2/2 [==============================] - 0s 4ms/step - loss: 12.5312 - mae: 12.5312\n",
            "Epoch 70/100\n",
            "2/2 [==============================] - 0s 4ms/step - loss: 9.0149 - mae: 9.0149\n",
            "Epoch 71/100\n",
            "2/2 [==============================] - 0s 4ms/step - loss: 9.9923 - mae: 9.9923\n",
            "Epoch 72/100\n",
            "2/2 [==============================] - 0s 4ms/step - loss: 10.0240 - mae: 10.0240\n",
            "Epoch 73/100\n",
            "2/2 [==============================] - 0s 4ms/step - loss: 12.5153 - mae: 12.5153\n",
            "Epoch 74/100\n",
            "2/2 [==============================] - 0s 4ms/step - loss: 10.5484 - mae: 10.5484\n",
            "Epoch 75/100\n",
            "2/2 [==============================] - 0s 4ms/step - loss: 9.6854 - mae: 9.6854\n",
            "Epoch 76/100\n",
            "2/2 [==============================] - 0s 4ms/step - loss: 11.1629 - mae: 11.1629\n",
            "Epoch 77/100\n",
            "2/2 [==============================] - 0s 6ms/step - loss: 8.3304 - mae: 8.3304\n",
            "Epoch 78/100\n",
            "2/2 [==============================] - 0s 4ms/step - loss: 9.0439 - mae: 9.0439\n",
            "Epoch 79/100\n",
            "2/2 [==============================] - 0s 8ms/step - loss: 19.7253 - mae: 19.7253\n",
            "Epoch 80/100\n",
            "2/2 [==============================] - 0s 6ms/step - loss: 17.8967 - mae: 17.8967\n",
            "Epoch 81/100\n",
            "2/2 [==============================] - 0s 7ms/step - loss: 7.0812 - mae: 7.0812\n",
            "Epoch 82/100\n",
            "2/2 [==============================] - 0s 6ms/step - loss: 10.4689 - mae: 10.4689\n",
            "Epoch 83/100\n",
            "2/2 [==============================] - 0s 6ms/step - loss: 9.9002 - mae: 9.9002\n",
            "Epoch 84/100\n",
            "2/2 [==============================] - 0s 6ms/step - loss: 7.9455 - mae: 7.9455\n",
            "Epoch 85/100\n",
            "2/2 [==============================] - 0s 7ms/step - loss: 9.4414 - mae: 9.4414\n",
            "Epoch 86/100\n",
            "2/2 [==============================] - 0s 6ms/step - loss: 9.2674 - mae: 9.2674\n",
            "Epoch 87/100\n",
            "2/2 [==============================] - 0s 6ms/step - loss: 12.0411 - mae: 12.0411\n",
            "Epoch 88/100\n",
            "2/2 [==============================] - 0s 8ms/step - loss: 10.6614 - mae: 10.6614\n",
            "Epoch 89/100\n",
            "2/2 [==============================] - 0s 5ms/step - loss: 7.2925 - mae: 7.2925\n",
            "Epoch 90/100\n",
            "2/2 [==============================] - 0s 4ms/step - loss: 12.8008 - mae: 12.8008\n",
            "Epoch 91/100\n",
            "2/2 [==============================] - 0s 5ms/step - loss: 7.3743 - mae: 7.3743\n",
            "Epoch 92/100\n",
            "2/2 [==============================] - 0s 5ms/step - loss: 7.7447 - mae: 7.7447\n",
            "Epoch 93/100\n",
            "2/2 [==============================] - 0s 7ms/step - loss: 7.1527 - mae: 7.1527\n",
            "Epoch 94/100\n",
            "2/2 [==============================] - 0s 5ms/step - loss: 12.6417 - mae: 12.6417\n",
            "Epoch 95/100\n",
            "2/2 [==============================] - 0s 6ms/step - loss: 10.0190 - mae: 10.0190\n",
            "Epoch 96/100\n",
            "2/2 [==============================] - 0s 5ms/step - loss: 9.1452 - mae: 9.1452\n",
            "Epoch 97/100\n",
            "2/2 [==============================] - 0s 6ms/step - loss: 12.0424 - mae: 12.0424\n",
            "Epoch 98/100\n",
            "2/2 [==============================] - 0s 6ms/step - loss: 9.1629 - mae: 9.1629\n",
            "Epoch 99/100\n",
            "2/2 [==============================] - 0s 9ms/step - loss: 8.5116 - mae: 8.5116\n",
            "Epoch 100/100\n",
            "2/2 [==============================] - 0s 4ms/step - loss: 14.3823 - mae: 14.3823\n"
          ]
        },
        {
          "output_type": "execute_result",
          "data": {
            "text/plain": [
              "<keras.callbacks.History at 0x7a6ffe751de0>"
            ]
          },
          "metadata": {},
          "execution_count": 39
        }
      ]
    },
    {
      "cell_type": "code",
      "source": [
        "# Make and plot predictions for model_1_1\n",
        "y_preds_1 = model_1.predict(X_test)\n",
        "plot_predictions(predictions=y_preds_1)"
      ],
      "metadata": {
        "colab": {
          "base_uri": "https://localhost:8080/",
          "height": 616
        },
        "id": "bm6WPt2A7jin",
        "outputId": "57d481de-3fe2-4420-c9b6-c2c670841e62"
      },
      "execution_count": null,
      "outputs": [
        {
          "output_type": "stream",
          "name": "stdout",
          "text": [
            "1/1 [==============================] - 0s 55ms/step\n"
          ]
        },
        {
          "output_type": "display_data",
          "data": {
            "text/plain": [
              "<Figure size 1000x700 with 1 Axes>"
            ],
            "image/png": "[encoded data removed]"
          },
          "metadata": {}
        }
      ]
    },
    {
      "cell_type": "code",
      "source": [
        "# Calculate model_1evaluation metrics\n",
        "mae_1 = mae(Y_test, y_preds_1)\n",
        "mse_1 = mse(Y_test, y_preds_1)\n",
        "mae_1, mse_1"
      ],
      "metadata": {
        "colab": {
          "base_uri": "https://localhost:8080/"
        },
        "id": "-7ZHurag5RTh",
        "outputId": "3b73c974-1e7a-4f6c-f664-8c6f1207056d"
      },
      "execution_count": null,
      "outputs": [
        {
          "output_type": "execute_result",
          "data": {
            "text/plain": [
              "(<tf.Tensor: shape=(), dtype=float32, numpy=11.542387>,\n",
              " <tf.Tensor: shape=(), dtype=float32, numpy=141.78645>)"
            ]
          },
          "metadata": {},
          "execution_count": 41
        }
      ]
    },
    {
      "cell_type": "markdown",
      "source": [
        "** Build `model_2`**\n",
        "\n",
        "* 2 dense layers, trained for 100 epochs"
      ],
      "metadata": {
        "id": "5u18qu5rFie2"
      }
    },
    {
      "cell_type": "code",
      "source": [
        "# Set the random seed\n",
        "tf.random.set_seed(42)\n",
        "\n",
        "# 1. Create the model\n",
        "model_2 = tf.keras.Sequential([\n",
        "    tf.keras.layers.Dense(10),\n",
        "    tf.keras.layers.Dense(1)\n",
        "])\n",
        "\n",
        "#2. Compile the model\n",
        "model_2.compile(loss=tf.keras.losses.mae,\n",
        "                optimizer=tf.keras.optimizers.SGD(),\n",
        "                metrics=[\"mse\"])\n",
        "\n",
        "#3. Fit the model\n",
        "#model_2.fit(X_train, Y_train, epochs=100)\n",
        "model_2.fit(tf.expand_dims(X_train, axis=-1), Y_train, epochs=100)"
      ],
      "metadata": {
        "id": "ieaVjvkKGAK4",
        "outputId": "961a105c-8860-4356-8582-343444ce7702",
        "colab": {
          "base_uri": "https://localhost:8080/"
        }
      },
      "execution_count": null,
      "outputs": [
        {
          "output_type": "stream",
          "name": "stdout",
          "text": [
            "Epoch 1/100\n",
            "2/2 [==============================] - 0s 9ms/step - loss: 34.7498 - mse: 1683.0261\n",
            "Epoch 2/100\n",
            "2/2 [==============================] - 0s 6ms/step - loss: 28.0481 - mse: 1018.1755\n",
            "Epoch 3/100\n",
            "2/2 [==============================] - 0s 4ms/step - loss: 32.7548 - mse: 1623.8740\n",
            "Epoch 4/100\n",
            "2/2 [==============================] - 0s 4ms/step - loss: 29.3595 - mse: 1281.9167\n",
            "Epoch 5/100\n",
            "2/2 [==============================] - 0s 4ms/step - loss: 15.8818 - mse: 332.4890\n",
            "Epoch 6/100\n",
            "2/2 [==============================] - 0s 4ms/step - loss: 12.5752 - mse: 206.9568\n",
            "Epoch 7/100\n",
            "2/2 [==============================] - 0s 7ms/step - loss: 11.8222 - mse: 173.2394\n",
            "Epoch 8/100\n",
            "2/2 [==============================] - 0s 5ms/step - loss: 10.8235 - mse: 128.6336\n",
            "Epoch 9/100\n",
            "2/2 [==============================] - 0s 4ms/step - loss: 36.9263 - mse: 2087.0151\n",
            "Epoch 10/100\n",
            "2/2 [==============================] - 0s 4ms/step - loss: 24.6840 - mse: 853.6112\n",
            "Epoch 11/100\n",
            "2/2 [==============================] - 0s 5ms/step - loss: 11.0407 - mse: 179.6434\n",
            "Epoch 12/100\n",
            "2/2 [==============================] - 0s 4ms/step - loss: 24.5151 - mse: 843.3690\n",
            "Epoch 13/100\n",
            "2/2 [==============================] - 0s 5ms/step - loss: 19.1470 - mse: 515.0492\n",
            "Epoch 14/100\n",
            "2/2 [==============================] - 0s 9ms/step - loss: 23.3292 - mse: 832.9328\n",
            "Epoch 15/100\n",
            "2/2 [==============================] - 0s 4ms/step - loss: 15.1756 - mse: 309.6843\n",
            "Epoch 16/100\n",
            "2/2 [==============================] - 0s 9ms/step - loss: 11.3170 - mse: 148.1324\n",
            "Epoch 17/100\n",
            "2/2 [==============================] - 0s 9ms/step - loss: 23.0738 - mse: 744.3737\n",
            "Epoch 18/100\n",
            "2/2 [==============================] - 0s 4ms/step - loss: 11.3711 - mse: 200.6586\n",
            "Epoch 19/100\n",
            "2/2 [==============================] - 0s 5ms/step - loss: 13.9739 - mse: 304.4387\n",
            "Epoch 20/100\n",
            "2/2 [==============================] - 0s 5ms/step - loss: 11.2117 - mse: 146.3926\n",
            "Epoch 21/100\n",
            "2/2 [==============================] - 0s 5ms/step - loss: 17.2987 - mse: 424.0389\n",
            "Epoch 22/100\n",
            "2/2 [==============================] - 0s 8ms/step - loss: 15.5353 - mse: 332.6603\n",
            "Epoch 23/100\n",
            "2/2 [==============================] - 0s 7ms/step - loss: 9.2320 - mse: 118.5216\n",
            "Epoch 24/100\n",
            "2/2 [==============================] - 0s 6ms/step - loss: 17.2516 - mse: 407.7273\n",
            "Epoch 25/100\n",
            "2/2 [==============================] - 0s 5ms/step - loss: 15.9273 - mse: 333.2456\n",
            "Epoch 26/100\n",
            "2/2 [==============================] - 0s 5ms/step - loss: 20.9083 - mse: 648.2503\n",
            "Epoch 27/100\n",
            "2/2 [==============================] - 0s 6ms/step - loss: 26.0116 - mse: 1056.1077\n",
            "Epoch 28/100\n",
            "2/2 [==============================] - 0s 6ms/step - loss: 18.5026 - mse: 541.9266\n",
            "Epoch 29/100\n",
            "2/2 [==============================] - 0s 5ms/step - loss: 9.2383 - mse: 97.3302\n",
            "Epoch 30/100\n",
            "2/2 [==============================] - 0s 7ms/step - loss: 29.1256 - mse: 1516.6400\n",
            "Epoch 31/100\n",
            "2/2 [==============================] - 0s 11ms/step - loss: 52.7558 - mse: 4977.2998\n",
            "Epoch 32/100\n",
            "2/2 [==============================] - 0s 6ms/step - loss: 11.9365 - mse: 207.9391\n",
            "Epoch 33/100\n",
            "2/2 [==============================] - 0s 6ms/step - loss: 15.5431 - mse: 333.0438\n",
            "Epoch 34/100\n",
            "2/2 [==============================] - 0s 5ms/step - loss: 12.6261 - mse: 210.9219\n",
            "Epoch 35/100\n",
            "2/2 [==============================] - 0s 7ms/step - loss: 9.2077 - mse: 91.9636\n",
            "Epoch 36/100\n",
            "2/2 [==============================] - 0s 7ms/step - loss: 16.5406 - mse: 397.9496\n",
            "Epoch 37/100\n",
            "2/2 [==============================] - 0s 8ms/step - loss: 11.0637 - mse: 192.1912\n",
            "Epoch 38/100\n",
            "2/2 [==============================] - 0s 5ms/step - loss: 18.1916 - mse: 435.6618\n",
            "Epoch 39/100\n",
            "2/2 [==============================] - 0s 5ms/step - loss: 19.1256 - mse: 532.0483\n",
            "Epoch 40/100\n",
            "2/2 [==============================] - 0s 4ms/step - loss: 20.4775 - mse: 612.6854\n",
            "Epoch 41/100\n",
            "2/2 [==============================] - 0s 6ms/step - loss: 14.8463 - mse: 276.4547\n",
            "Epoch 42/100\n",
            "2/2 [==============================] - 0s 5ms/step - loss: 12.2326 - mse: 184.0324\n",
            "Epoch 43/100\n",
            "2/2 [==============================] - 0s 5ms/step - loss: 10.7046 - mse: 164.8410\n",
            "Epoch 44/100\n",
            "2/2 [==============================] - 0s 5ms/step - loss: 22.9119 - mse: 821.6157\n",
            "Epoch 45/100\n",
            "2/2 [==============================] - 0s 4ms/step - loss: 10.3514 - mse: 128.5662\n",
            "Epoch 46/100\n",
            "2/2 [==============================] - 0s 5ms/step - loss: 11.7366 - mse: 179.1814\n",
            "Epoch 47/100\n",
            "2/2 [==============================] - 0s 4ms/step - loss: 9.6591 - mse: 153.5476\n",
            "Epoch 48/100\n",
            "2/2 [==============================] - 0s 5ms/step - loss: 17.2711 - mse: 404.7565\n",
            "Epoch 49/100\n",
            "2/2 [==============================] - 0s 4ms/step - loss: 9.5417 - mse: 99.1645\n",
            "Epoch 50/100\n",
            "2/2 [==============================] - 0s 4ms/step - loss: 13.7675 - mse: 257.6353\n",
            "Epoch 51/100\n",
            "2/2 [==============================] - 0s 4ms/step - loss: 11.5734 - mse: 153.9568\n",
            "Epoch 52/100\n",
            "2/2 [==============================] - 0s 4ms/step - loss: 30.4471 - mse: 1600.6311\n",
            "Epoch 53/100\n",
            "2/2 [==============================] - 0s 4ms/step - loss: 14.3048 - mse: 300.1848\n",
            "Epoch 54/100\n",
            "2/2 [==============================] - 0s 4ms/step - loss: 23.8886 - mse: 852.8045\n",
            "Epoch 55/100\n",
            "2/2 [==============================] - 0s 4ms/step - loss: 23.1027 - mse: 798.8428\n",
            "Epoch 56/100\n",
            "2/2 [==============================] - 0s 4ms/step - loss: 10.8500 - mse: 170.9585\n",
            "Epoch 57/100\n",
            "2/2 [==============================] - 0s 4ms/step - loss: 12.7020 - mse: 197.1453\n",
            "Epoch 58/100\n",
            "2/2 [==============================] - 0s 5ms/step - loss: 9.5745 - mse: 102.2333\n",
            "Epoch 59/100\n",
            "2/2 [==============================] - 0s 4ms/step - loss: 12.4807 - mse: 214.2902\n",
            "Epoch 60/100\n",
            "2/2 [==============================] - 0s 4ms/step - loss: 11.8917 - mse: 192.5539\n",
            "Epoch 61/100\n",
            "2/2 [==============================] - 0s 4ms/step - loss: 16.9794 - mse: 404.0727\n",
            "Epoch 62/100\n",
            "2/2 [==============================] - 0s 4ms/step - loss: 10.3903 - mse: 131.0801\n",
            "Epoch 63/100\n",
            "2/2 [==============================] - 0s 4ms/step - loss: 10.3443 - mse: 140.3706\n",
            "Epoch 64/100\n",
            "2/2 [==============================] - 0s 4ms/step - loss: 24.2142 - mse: 863.0551\n",
            "Epoch 65/100\n",
            "2/2 [==============================] - 0s 4ms/step - loss: 10.5252 - mse: 134.0341\n",
            "Epoch 66/100\n",
            "2/2 [==============================] - 0s 4ms/step - loss: 21.2262 - mse: 664.8458\n",
            "Epoch 67/100\n",
            "2/2 [==============================] - 0s 4ms/step - loss: 10.5249 - mse: 129.2466\n",
            "Epoch 68/100\n",
            "2/2 [==============================] - 0s 8ms/step - loss: 14.3864 - mse: 312.2040\n",
            "Epoch 69/100\n",
            "2/2 [==============================] - 0s 5ms/step - loss: 10.6192 - mse: 129.4853\n",
            "Epoch 70/100\n",
            "2/2 [==============================] - 0s 5ms/step - loss: 12.7057 - mse: 205.4097\n",
            "Epoch 71/100\n",
            "2/2 [==============================] - 0s 5ms/step - loss: 13.1368 - mse: 233.1153\n",
            "Epoch 72/100\n",
            "2/2 [==============================] - 0s 5ms/step - loss: 19.6652 - mse: 549.2683\n",
            "Epoch 73/100\n",
            "2/2 [==============================] - 0s 7ms/step - loss: 11.1991 - mse: 190.8665\n",
            "Epoch 74/100\n",
            "2/2 [==============================] - 0s 6ms/step - loss: 21.9629 - mse: 750.8965\n",
            "Epoch 75/100\n",
            "2/2 [==============================] - 0s 6ms/step - loss: 7.1820 - mse: 71.3320\n",
            "Epoch 76/100\n",
            "2/2 [==============================] - 0s 4ms/step - loss: 9.4088 - mse: 149.8661\n",
            "Epoch 77/100\n",
            "2/2 [==============================] - 0s 5ms/step - loss: 22.0234 - mse: 725.3685\n",
            "Epoch 78/100\n",
            "2/2 [==============================] - 0s 4ms/step - loss: 17.7463 - mse: 478.2792\n",
            "Epoch 79/100\n",
            "2/2 [==============================] - 0s 4ms/step - loss: 14.8908 - mse: 324.7523\n",
            "Epoch 80/100\n",
            "2/2 [==============================] - 0s 4ms/step - loss: 25.2461 - mse: 973.1764\n",
            "Epoch 81/100\n",
            "2/2 [==============================] - 0s 5ms/step - loss: 10.9544 - mse: 142.4537\n",
            "Epoch 82/100\n",
            "2/2 [==============================] - 0s 6ms/step - loss: 12.7204 - mse: 231.5704\n",
            "Epoch 83/100\n",
            "2/2 [==============================] - 0s 5ms/step - loss: 17.4814 - mse: 398.3881\n",
            "Epoch 84/100\n",
            "2/2 [==============================] - 0s 5ms/step - loss: 7.2762 - mse: 73.0982\n",
            "Epoch 85/100\n",
            "2/2 [==============================] - 0s 4ms/step - loss: 15.0100 - mse: 314.5792\n",
            "Epoch 86/100\n",
            "2/2 [==============================] - 0s 4ms/step - loss: 15.3222 - mse: 316.2813\n",
            "Epoch 87/100\n",
            "2/2 [==============================] - 0s 4ms/step - loss: 19.1802 - mse: 524.5105\n",
            "Epoch 88/100\n",
            "2/2 [==============================] - 0s 4ms/step - loss: 29.6347 - mse: 1269.8464\n",
            "Epoch 89/100\n",
            "2/2 [==============================] - 0s 4ms/step - loss: 10.1489 - mse: 124.1029\n",
            "Epoch 90/100\n",
            "2/2 [==============================] - 0s 4ms/step - loss: 21.3702 - mse: 654.1682\n",
            "Epoch 91/100\n",
            "2/2 [==============================] - 0s 4ms/step - loss: 10.5367 - mse: 162.4091\n",
            "Epoch 92/100\n",
            "2/2 [==============================] - 0s 4ms/step - loss: 18.2602 - mse: 456.8243\n",
            "Epoch 93/100\n",
            "2/2 [==============================] - 0s 3ms/step - loss: 6.8108 - mse: 66.9733\n",
            "Epoch 94/100\n",
            "2/2 [==============================] - 0s 4ms/step - loss: 13.0358 - mse: 231.3524\n",
            "Epoch 95/100\n",
            "2/2 [==============================] - 0s 5ms/step - loss: 18.4550 - mse: 502.5194\n",
            "Epoch 96/100\n",
            "2/2 [==============================] - 0s 4ms/step - loss: 10.3633 - mse: 178.0406\n",
            "Epoch 97/100\n",
            "2/2 [==============================] - 0s 5ms/step - loss: 14.4615 - mse: 316.0737\n",
            "Epoch 98/100\n",
            "2/2 [==============================] - 0s 5ms/step - loss: 6.5713 - mse: 60.2818\n",
            "Epoch 99/100\n",
            "2/2 [==============================] - 0s 4ms/step - loss: 12.5826 - mse: 229.2080\n",
            "Epoch 100/100\n",
            "2/2 [==============================] - 0s 4ms/step - loss: 19.3856 - mse: 552.0596\n"
          ]
        },
        {
          "output_type": "execute_result",
          "data": {
            "text/plain": [
              "<keras.callbacks.History at 0x7a6ffea62f50>"
            ]
          },
          "metadata": {},
          "execution_count": 42
        }
      ]
    },
    {
      "cell_type": "code",
      "source": [
        "# Make and plot predictions for model_2\n",
        "y_preds_2 = model_2.predict(X_test)\n",
        "plot_predictions(predictions=y_preds_2)"
      ],
      "metadata": {
        "id": "JwBQPHNZLOFU",
        "outputId": "35f2f4b3-2db4-455e-c2ac-c50968efc0e0",
        "colab": {
          "base_uri": "https://localhost:8080/",
          "height": 654
        }
      },
      "execution_count": null,
      "outputs": [
        {
          "output_type": "stream",
          "name": "stderr",
          "text": [
            "WARNING:tensorflow:5 out of the last 6 calls to <function Model.make_predict_function.<locals>.predict_function at 0x7a6ffeaf7a30> triggered tf.function retracing. Tracing is expensive and the excessive number of tracings could be due to (1) creating @tf.function repeatedly in a loop, (2) passing tensors with different shapes, (3) passing Python objects instead of tensors. For (1), please define your @tf.function outside of the loop. For (2), @tf.function has reduce_retracing=True option that can avoid unnecessary retracing. For (3), please refer to https://www.tensorflow.org/guide/function#controlling_retracing and https://www.tensorflow.org/api_docs/python/tf/function for  more details.\n"
          ]
        },
        {
          "output_type": "stream",
          "name": "stdout",
          "text": [
            "1/1 [==============================] - 0s 50ms/step\n"
          ]
        },
        {
          "output_type": "display_data",
          "data": {
            "text/plain": [
              "<Figure size 1000x700 with 1 Axes>"
            ],
            "image/png": "[encoded data removed]"
          },
          "metadata": {}
        }
      ]
    },
    {
      "cell_type": "code",
      "source": [
        "# Calculate model_2 evaluation metrics\n",
        "mae_2 = mae(Y_test, y_preds_2)\n",
        "mse_2 = mse(Y_test, y_preds_2)\n",
        "mae_2, mse_2"
      ],
      "metadata": {
        "id": "cHovZ9qhL0eW",
        "outputId": "0df51050-8981-42d7-845c-5f43d11f7c14",
        "colab": {
          "base_uri": "https://localhost:8080/"
        }
      },
      "execution_count": null,
      "outputs": [
        {
          "output_type": "execute_result",
          "data": {
            "text/plain": [
              "(<tf.Tensor: shape=(), dtype=float32, numpy=11.542387>,\n",
              " <tf.Tensor: shape=(), dtype=float32, numpy=141.78645>)"
            ]
          },
          "metadata": {},
          "execution_count": 44
        }
      ]
    },
    {
      "cell_type": "markdown",
      "source": [
        "**Build model_3**\n",
        "\n",
        "2 layers trained for 100 epochs"
      ],
      "metadata": {
        "id": "_hN_S9a8M-PZ"
      }
    },
    {
      "cell_type": "code",
      "source": [
        "# Set the random seed\n",
        "tf.random.set_seed(42)\n",
        "\n",
        "# 1. Create the model\n",
        "model_3 = tf.keras.Sequential([\n",
        "    #tf.keras.layers.Dense(10),\n",
        "    #tf.keras.layers.Dense(1)\n",
        "    tf.keras.layers.Dense(10, input_shape=[1]),\n",
        "    tf.keras.layers.Dense(1, input_shape=[1])\n",
        "])\n",
        "\n",
        "#2. Compile the model\n",
        "model_3.compile(loss=tf.keras.losses.mae,\n",
        "                optimizer=tf.keras.optimizers.SGD(),\n",
        "                metrics=[\"mae\"])\n",
        "\n",
        "#3. Fit the model\n",
        "model_3.fit(X_train, Y_train, epochs=500)"
      ],
      "metadata": {
        "id": "Q6KE5N9JM8n7",
        "outputId": "e8187ed3-d22c-4935-977d-13385a0b67c7",
        "colab": {
          "base_uri": "https://localhost:8080/"
        }
      },
      "execution_count": null,
      "outputs": [
        {
          "output_type": "stream",
          "name": "stdout",
          "text": [
            "Epoch 1/500\n",
            "2/2 [==============================] - 0s 9ms/step - loss: 23.8857 - mae: 23.8857\n",
            "Epoch 2/500\n",
            "2/2 [==============================] - 0s 5ms/step - loss: 23.2439 - mae: 23.2439\n",
            "Epoch 3/500\n",
            "2/2 [==============================] - 0s 4ms/step - loss: 28.1096 - mae: 28.1096\n",
            "Epoch 4/500\n",
            "2/2 [==============================] - 0s 4ms/step - loss: 20.0630 - mae: 20.0630\n",
            "Epoch 5/500\n",
            "2/2 [==============================] - 0s 5ms/step - loss: 13.5200 - mae: 13.5200\n",
            "Epoch 6/500\n",
            "2/2 [==============================] - 0s 5ms/step - loss: 10.8960 - mae: 10.8960\n",
            "Epoch 7/500\n",
            "2/2 [==============================] - 0s 5ms/step - loss: 11.8814 - mae: 11.8814\n",
            "Epoch 8/500\n",
            "2/2 [==============================] - 0s 6ms/step - loss: 10.8186 - mae: 10.8186\n",
            "Epoch 9/500\n",
            "2/2 [==============================] - 0s 4ms/step - loss: 37.0228 - mae: 37.0228\n",
            "Epoch 10/500\n",
            "2/2 [==============================] - 0s 5ms/step - loss: 24.7648 - mae: 24.7648\n",
            "Epoch 11/500\n",
            "2/2 [==============================] - 0s 4ms/step - loss: 11.0308 - mae: 11.0308\n",
            "Epoch 12/500\n",
            "2/2 [==============================] - 0s 6ms/step - loss: 24.4674 - mae: 24.4674\n",
            "Epoch 13/500\n",
            "2/2 [==============================] - 0s 5ms/step - loss: 19.1947 - mae: 19.1947\n",
            "Epoch 14/500\n",
            "2/2 [==============================] - 0s 5ms/step - loss: 23.3957 - mae: 23.3957\n",
            "Epoch 15/500\n",
            "2/2 [==============================] - 0s 5ms/step - loss: 15.2138 - mae: 15.2138\n",
            "Epoch 16/500\n",
            "2/2 [==============================] - 0s 5ms/step - loss: 11.3329 - mae: 11.3329\n",
            "Epoch 17/500\n",
            "2/2 [==============================] - 0s 4ms/step - loss: 23.1344 - mae: 23.1344\n",
            "Epoch 18/500\n",
            "2/2 [==============================] - 0s 5ms/step - loss: 11.7524 - mae: 11.7524\n",
            "Epoch 19/500\n",
            "2/2 [==============================] - 0s 6ms/step - loss: 16.4285 - mae: 16.4285\n",
            "Epoch 20/500\n",
            "2/2 [==============================] - 0s 5ms/step - loss: 8.2395 - mae: 8.2395\n",
            "Epoch 21/500\n",
            "2/2 [==============================] - 0s 4ms/step - loss: 14.4359 - mae: 14.4359\n",
            "Epoch 22/500\n",
            "2/2 [==============================] - 0s 6ms/step - loss: 12.8535 - mae: 12.8535\n",
            "Epoch 23/500\n",
            "2/2 [==============================] - 0s 12ms/step - loss: 15.4859 - mae: 15.4859\n",
            "Epoch 24/500\n",
            "2/2 [==============================] - 0s 5ms/step - loss: 15.2764 - mae: 15.2764\n",
            "Epoch 25/500\n",
            "2/2 [==============================] - 0s 4ms/step - loss: 14.3435 - mae: 14.3435\n",
            "Epoch 26/500\n",
            "2/2 [==============================] - 0s 4ms/step - loss: 19.3563 - mae: 19.3563\n",
            "Epoch 27/500\n",
            "2/2 [==============================] - 0s 5ms/step - loss: 11.4399 - mae: 11.4399\n",
            "Epoch 28/500\n",
            "2/2 [==============================] - 0s 4ms/step - loss: 29.0592 - mae: 29.0592\n",
            "Epoch 29/500\n",
            "2/2 [==============================] - 0s 4ms/step - loss: 9.2453 - mae: 9.2453\n",
            "Epoch 30/500\n",
            "2/2 [==============================] - 0s 5ms/step - loss: 29.8051 - mae: 29.8051\n",
            "Epoch 31/500\n",
            "2/2 [==============================] - 0s 5ms/step - loss: 54.0774 - mae: 54.0774\n",
            "Epoch 32/500\n",
            "2/2 [==============================] - 0s 5ms/step - loss: 9.5568 - mae: 9.5568\n",
            "Epoch 33/500\n",
            "2/2 [==============================] - 0s 4ms/step - loss: 12.1476 - mae: 12.1476\n",
            "Epoch 34/500\n",
            "2/2 [==============================] - 0s 4ms/step - loss: 23.8646 - mae: 23.8646\n",
            "Epoch 35/500\n",
            "2/2 [==============================] - 0s 4ms/step - loss: 12.6234 - mae: 12.6234\n",
            "Epoch 36/500\n",
            "2/2 [==============================] - 0s 5ms/step - loss: 21.5443 - mae: 21.5443\n",
            "Epoch 37/500\n",
            "2/2 [==============================] - 0s 7ms/step - loss: 11.3601 - mae: 11.3601\n",
            "Epoch 38/500\n",
            "2/2 [==============================] - 0s 7ms/step - loss: 13.4381 - mae: 13.4381\n",
            "Epoch 39/500\n",
            "2/2 [==============================] - 0s 21ms/step - loss: 10.7740 - mae: 10.7740\n",
            "Epoch 40/500\n",
            "2/2 [==============================] - 0s 8ms/step - loss: 16.5672 - mae: 16.5672\n",
            "Epoch 41/500\n",
            "2/2 [==============================] - 0s 8ms/step - loss: 10.9532 - mae: 10.9532\n",
            "Epoch 42/500\n",
            "2/2 [==============================] - 0s 11ms/step - loss: 9.2850 - mae: 9.2850\n",
            "Epoch 43/500\n",
            "2/2 [==============================] - 0s 18ms/step - loss: 9.5847 - mae: 9.5847\n",
            "Epoch 44/500\n",
            "2/2 [==============================] - 0s 17ms/step - loss: 27.9627 - mae: 27.9627\n",
            "Epoch 45/500\n",
            "2/2 [==============================] - 0s 13ms/step - loss: 11.2706 - mae: 11.2706\n",
            "Epoch 46/500\n",
            "2/2 [==============================] - 0s 15ms/step - loss: 14.0474 - mae: 14.0474\n",
            "Epoch 47/500\n",
            "2/2 [==============================] - 0s 12ms/step - loss: 13.5063 - mae: 13.5063\n",
            "Epoch 48/500\n",
            "2/2 [==============================] - 0s 11ms/step - loss: 17.3451 - mae: 17.3451\n",
            "Epoch 49/500\n",
            "2/2 [==============================] - 0s 12ms/step - loss: 9.5055 - mae: 9.5055\n",
            "Epoch 50/500\n",
            "2/2 [==============================] - 0s 9ms/step - loss: 13.6921 - mae: 13.6921\n",
            "Epoch 51/500\n",
            "2/2 [==============================] - 0s 12ms/step - loss: 11.5516 - mae: 11.5516\n",
            "Epoch 52/500\n",
            "2/2 [==============================] - 0s 16ms/step - loss: 30.2086 - mae: 30.2086\n",
            "Epoch 53/500\n",
            "2/2 [==============================] - 0s 12ms/step - loss: 13.7224 - mae: 13.7224\n",
            "Epoch 54/500\n",
            "2/2 [==============================] - 0s 14ms/step - loss: 26.4309 - mae: 26.4309\n",
            "Epoch 55/500\n",
            "2/2 [==============================] - 0s 6ms/step - loss: 26.0188 - mae: 26.0188\n",
            "Epoch 56/500\n",
            "2/2 [==============================] - 0s 8ms/step - loss: 11.2297 - mae: 11.2297\n",
            "Epoch 57/500\n",
            "2/2 [==============================] - 0s 11ms/step - loss: 13.2089 - mae: 13.2089\n",
            "Epoch 58/500\n",
            "2/2 [==============================] - 0s 6ms/step - loss: 9.8632 - mae: 9.8632\n",
            "Epoch 59/500\n",
            "2/2 [==============================] - 0s 7ms/step - loss: 13.4056 - mae: 13.4056\n",
            "Epoch 60/500\n",
            "2/2 [==============================] - 0s 6ms/step - loss: 10.9298 - mae: 10.9298\n",
            "Epoch 61/500\n",
            "2/2 [==============================] - 0s 6ms/step - loss: 13.5567 - mae: 13.5567\n",
            "Epoch 62/500\n",
            "2/2 [==============================] - 0s 6ms/step - loss: 17.8863 - mae: 17.8863\n",
            "Epoch 63/500\n",
            "2/2 [==============================] - 0s 7ms/step - loss: 8.7332 - mae: 8.7332\n",
            "Epoch 64/500\n",
            "2/2 [==============================] - 0s 6ms/step - loss: 16.1433 - mae: 16.1433\n",
            "Epoch 65/500\n",
            "2/2 [==============================] - 0s 6ms/step - loss: 10.7427 - mae: 10.7427\n",
            "Epoch 66/500\n",
            "2/2 [==============================] - 0s 6ms/step - loss: 22.2037 - mae: 22.2037\n",
            "Epoch 67/500\n",
            "2/2 [==============================] - 0s 6ms/step - loss: 10.2671 - mae: 10.2671\n",
            "Epoch 68/500\n",
            "2/2 [==============================] - 0s 9ms/step - loss: 13.4786 - mae: 13.4786\n",
            "Epoch 69/500\n",
            "2/2 [==============================] - 0s 8ms/step - loss: 11.4356 - mae: 11.4356\n",
            "Epoch 70/500\n",
            "2/2 [==============================] - 0s 12ms/step - loss: 13.6218 - mae: 13.6218\n",
            "Epoch 71/500\n",
            "2/2 [==============================] - 0s 10ms/step - loss: 15.6431 - mae: 15.6431\n",
            "Epoch 72/500\n",
            "2/2 [==============================] - 0s 14ms/step - loss: 11.8568 - mae: 11.8568\n",
            "Epoch 73/500\n",
            "2/2 [==============================] - 0s 11ms/step - loss: 16.6445 - mae: 16.6445\n",
            "Epoch 74/500\n",
            "2/2 [==============================] - 0s 9ms/step - loss: 24.1907 - mae: 24.1907\n",
            "Epoch 75/500\n",
            "2/2 [==============================] - 0s 12ms/step - loss: 9.6372 - mae: 9.6372\n",
            "Epoch 76/500\n",
            "2/2 [==============================] - 0s 10ms/step - loss: 12.4918 - mae: 12.4918\n",
            "Epoch 77/500\n",
            "2/2 [==============================] - 0s 10ms/step - loss: 16.7518 - mae: 16.7518\n",
            "Epoch 78/500\n",
            "2/2 [==============================] - 0s 7ms/step - loss: 9.0839 - mae: 9.0839\n",
            "Epoch 79/500\n",
            "2/2 [==============================] - 0s 7ms/step - loss: 24.0880 - mae: 24.0880\n",
            "Epoch 80/500\n",
            "2/2 [==============================] - 0s 10ms/step - loss: 26.8922 - mae: 26.8922\n",
            "Epoch 81/500\n",
            "2/2 [==============================] - 0s 9ms/step - loss: 11.7471 - mae: 11.7471\n",
            "Epoch 82/500\n",
            "2/2 [==============================] - 0s 6ms/step - loss: 11.9875 - mae: 11.9875\n",
            "Epoch 83/500\n",
            "2/2 [==============================] - 0s 5ms/step - loss: 17.3728 - mae: 17.3728\n",
            "Epoch 84/500\n",
            "2/2 [==============================] - 0s 5ms/step - loss: 7.2631 - mae: 7.2631\n",
            "Epoch 85/500\n",
            "2/2 [==============================] - 0s 5ms/step - loss: 14.9309 - mae: 14.9309\n",
            "Epoch 86/500\n",
            "2/2 [==============================] - 0s 4ms/step - loss: 15.2601 - mae: 15.2601\n",
            "Epoch 87/500\n",
            "2/2 [==============================] - 0s 5ms/step - loss: 19.0518 - mae: 19.0518\n",
            "Epoch 88/500\n",
            "2/2 [==============================] - 0s 5ms/step - loss: 29.9744 - mae: 29.9744\n",
            "Epoch 89/500\n",
            "2/2 [==============================] - 0s 6ms/step - loss: 10.2060 - mae: 10.2060\n",
            "Epoch 90/500\n",
            "2/2 [==============================] - 0s 5ms/step - loss: 21.6449 - mae: 21.6449\n",
            "Epoch 91/500\n",
            "2/2 [==============================] - 0s 5ms/step - loss: 10.6095 - mae: 10.6095\n",
            "Epoch 92/500\n",
            "2/2 [==============================] - 0s 5ms/step - loss: 18.5044 - mae: 18.5044\n",
            "Epoch 93/500\n",
            "2/2 [==============================] - 0s 7ms/step - loss: 8.1611 - mae: 8.1611\n",
            "Epoch 94/500\n",
            "2/2 [==============================] - 0s 8ms/step - loss: 11.3706 - mae: 11.3706\n",
            "Epoch 95/500\n",
            "2/2 [==============================] - 0s 5ms/step - loss: 25.4145 - mae: 25.4145\n",
            "Epoch 96/500\n",
            "2/2 [==============================] - 0s 5ms/step - loss: 10.9907 - mae: 10.9907\n",
            "Epoch 97/500\n",
            "2/2 [==============================] - 0s 5ms/step - loss: 16.2895 - mae: 16.2895\n",
            "Epoch 98/500\n",
            "2/2 [==============================] - 0s 5ms/step - loss: 7.0896 - mae: 7.0896\n",
            "Epoch 99/500\n",
            "2/2 [==============================] - 0s 4ms/step - loss: 9.9027 - mae: 9.9027\n",
            "Epoch 100/500\n",
            "2/2 [==============================] - 0s 5ms/step - loss: 19.4099 - mae: 19.4099\n",
            "Epoch 101/500\n",
            "2/2 [==============================] - 0s 5ms/step - loss: 16.0621 - mae: 16.0621\n",
            "Epoch 102/500\n",
            "2/2 [==============================] - 0s 4ms/step - loss: 11.1762 - mae: 11.1762\n",
            "Epoch 103/500\n",
            "2/2 [==============================] - 0s 8ms/step - loss: 9.3126 - mae: 9.3126\n",
            "Epoch 104/500\n",
            "2/2 [==============================] - 0s 4ms/step - loss: 24.9628 - mae: 24.9628\n",
            "Epoch 105/500\n",
            "2/2 [==============================] - 0s 4ms/step - loss: 11.9774 - mae: 11.9774\n",
            "Epoch 106/500\n",
            "2/2 [==============================] - 0s 4ms/step - loss: 10.0753 - mae: 10.0753\n",
            "Epoch 107/500\n",
            "2/2 [==============================] - 0s 4ms/step - loss: 22.5346 - mae: 22.5346\n",
            "Epoch 108/500\n",
            "2/2 [==============================] - 0s 4ms/step - loss: 8.1217 - mae: 8.1217\n",
            "Epoch 109/500\n",
            "2/2 [==============================] - 0s 4ms/step - loss: 13.3415 - mae: 13.3415\n",
            "Epoch 110/500\n",
            "2/2 [==============================] - 0s 4ms/step - loss: 7.9771 - mae: 7.9771\n",
            "Epoch 111/500\n",
            "2/2 [==============================] - 0s 4ms/step - loss: 15.7424 - mae: 15.7424\n",
            "Epoch 112/500\n",
            "2/2 [==============================] - 0s 4ms/step - loss: 8.7462 - mae: 8.7462\n",
            "Epoch 113/500\n",
            "2/2 [==============================] - 0s 4ms/step - loss: 22.7043 - mae: 22.7043\n",
            "Epoch 114/500\n",
            "2/2 [==============================] - 0s 5ms/step - loss: 19.0496 - mae: 19.0496\n",
            "Epoch 115/500\n",
            "2/2 [==============================] - 0s 4ms/step - loss: 11.0909 - mae: 11.0909\n",
            "Epoch 116/500\n",
            "2/2 [==============================] - 0s 4ms/step - loss: 23.1569 - mae: 23.1569\n",
            "Epoch 117/500\n",
            "2/2 [==============================] - 0s 4ms/step - loss: 9.5777 - mae: 9.5777\n",
            "Epoch 118/500\n",
            "2/2 [==============================] - 0s 4ms/step - loss: 10.6438 - mae: 10.6438\n",
            "Epoch 119/500\n",
            "2/2 [==============================] - 0s 4ms/step - loss: 8.0387 - mae: 8.0387\n",
            "Epoch 120/500\n",
            "2/2 [==============================] - 0s 4ms/step - loss: 29.4864 - mae: 29.4864\n",
            "Epoch 121/500\n",
            "2/2 [==============================] - 0s 4ms/step - loss: 8.0754 - mae: 8.0754\n",
            "Epoch 122/500\n",
            "2/2 [==============================] - 0s 5ms/step - loss: 28.1414 - mae: 28.1414\n",
            "Epoch 123/500\n",
            "2/2 [==============================] - 0s 5ms/step - loss: 32.6942 - mae: 32.6942\n",
            "Epoch 124/500\n",
            "2/2 [==============================] - 0s 4ms/step - loss: 19.4768 - mae: 19.4768\n",
            "Epoch 125/500\n",
            "2/2 [==============================] - 0s 4ms/step - loss: 9.5598 - mae: 9.5598\n",
            "Epoch 126/500\n",
            "2/2 [==============================] - 0s 5ms/step - loss: 9.6272 - mae: 9.6272\n",
            "Epoch 127/500\n",
            "2/2 [==============================] - 0s 4ms/step - loss: 12.8003 - mae: 12.8003\n",
            "Epoch 128/500\n",
            "2/2 [==============================] - 0s 4ms/step - loss: 13.3415 - mae: 13.3415\n",
            "Epoch 129/500\n",
            "2/2 [==============================] - 0s 4ms/step - loss: 10.1917 - mae: 10.1917\n",
            "Epoch 130/500\n",
            "2/2 [==============================] - 0s 4ms/step - loss: 17.4971 - mae: 17.4971\n",
            "Epoch 131/500\n",
            "2/2 [==============================] - 0s 4ms/step - loss: 9.5074 - mae: 9.5074\n",
            "Epoch 132/500\n",
            "2/2 [==============================] - 0s 4ms/step - loss: 17.3983 - mae: 17.3983\n",
            "Epoch 133/500\n",
            "2/2 [==============================] - 0s 4ms/step - loss: 7.0999 - mae: 7.0999\n",
            "Epoch 134/500\n",
            "2/2 [==============================] - 0s 4ms/step - loss: 23.8355 - mae: 23.8355\n",
            "Epoch 135/500\n",
            "2/2 [==============================] - 0s 4ms/step - loss: 16.6562 - mae: 16.6562\n",
            "Epoch 136/500\n",
            "2/2 [==============================] - 0s 4ms/step - loss: 14.8717 - mae: 14.8717\n",
            "Epoch 137/500\n",
            "2/2 [==============================] - 0s 4ms/step - loss: 23.1558 - mae: 23.1558\n",
            "Epoch 138/500\n",
            "2/2 [==============================] - 0s 4ms/step - loss: 9.1351 - mae: 9.1351\n",
            "Epoch 139/500\n",
            "2/2 [==============================] - 0s 4ms/step - loss: 8.9186 - mae: 8.9186\n",
            "Epoch 140/500\n",
            "2/2 [==============================] - 0s 4ms/step - loss: 16.4662 - mae: 16.4662\n",
            "Epoch 141/500\n",
            "2/2 [==============================] - 0s 4ms/step - loss: 8.4239 - mae: 8.4239\n",
            "Epoch 142/500\n",
            "2/2 [==============================] - 0s 5ms/step - loss: 36.9358 - mae: 36.9358\n",
            "Epoch 143/500\n",
            "2/2 [==============================] - 0s 5ms/step - loss: 25.5697 - mae: 25.5697\n",
            "Epoch 144/500\n",
            "2/2 [==============================] - 0s 4ms/step - loss: 9.5429 - mae: 9.5429\n",
            "Epoch 145/500\n",
            "2/2 [==============================] - 0s 4ms/step - loss: 26.6102 - mae: 26.6102\n",
            "Epoch 146/500\n",
            "2/2 [==============================] - 0s 4ms/step - loss: 8.7231 - mae: 8.7231\n",
            "Epoch 147/500\n",
            "2/2 [==============================] - 0s 7ms/step - loss: 15.6229 - mae: 15.6229\n",
            "Epoch 148/500\n",
            "2/2 [==============================] - 0s 4ms/step - loss: 18.3126 - mae: 18.3126\n",
            "Epoch 149/500\n",
            "2/2 [==============================] - 0s 4ms/step - loss: 8.1987 - mae: 8.1987\n",
            "Epoch 150/500\n",
            "2/2 [==============================] - 0s 4ms/step - loss: 7.4985 - mae: 7.4985\n",
            "Epoch 151/500\n",
            "2/2 [==============================] - 0s 5ms/step - loss: 18.3268 - mae: 18.3268\n",
            "Epoch 152/500\n",
            "2/2 [==============================] - 0s 6ms/step - loss: 10.2902 - mae: 10.2902\n",
            "Epoch 153/500\n",
            "2/2 [==============================] - 0s 5ms/step - loss: 29.6247 - mae: 29.6247\n",
            "Epoch 154/500\n",
            "2/2 [==============================] - 0s 11ms/step - loss: 10.5611 - mae: 10.5611\n",
            "Epoch 155/500\n",
            "2/2 [==============================] - 0s 7ms/step - loss: 15.4585 - mae: 15.4585\n",
            "Epoch 156/500\n",
            "2/2 [==============================] - 0s 8ms/step - loss: 17.0258 - mae: 17.0258\n",
            "Epoch 157/500\n",
            "2/2 [==============================] - 0s 7ms/step - loss: 32.8009 - mae: 32.8009\n",
            "Epoch 158/500\n",
            "2/2 [==============================] - 0s 5ms/step - loss: 10.7019 - mae: 10.7019\n",
            "Epoch 159/500\n",
            "2/2 [==============================] - 0s 4ms/step - loss: 8.9063 - mae: 8.9063\n",
            "Epoch 160/500\n",
            "2/2 [==============================] - 0s 5ms/step - loss: 22.1175 - mae: 22.1175\n",
            "Epoch 161/500\n",
            "2/2 [==============================] - 0s 4ms/step - loss: 11.7083 - mae: 11.7083\n",
            "Epoch 162/500\n",
            "2/2 [==============================] - 0s 5ms/step - loss: 21.5596 - mae: 21.5596\n",
            "Epoch 163/500\n",
            "2/2 [==============================] - 0s 6ms/step - loss: 19.2361 - mae: 19.2361\n",
            "Epoch 164/500\n",
            "2/2 [==============================] - 0s 5ms/step - loss: 11.0108 - mae: 11.0108\n",
            "Epoch 165/500\n",
            "2/2 [==============================] - 0s 6ms/step - loss: 9.6227 - mae: 9.6227\n",
            "Epoch 166/500\n",
            "2/2 [==============================] - 0s 7ms/step - loss: 21.5984 - mae: 21.5984\n",
            "Epoch 167/500\n",
            "2/2 [==============================] - 0s 5ms/step - loss: 26.2665 - mae: 26.2665\n",
            "Epoch 168/500\n",
            "2/2 [==============================] - 0s 5ms/step - loss: 9.8529 - mae: 9.8529\n",
            "Epoch 169/500\n",
            "2/2 [==============================] - 0s 5ms/step - loss: 22.5436 - mae: 22.5436\n",
            "Epoch 170/500\n",
            "2/2 [==============================] - 0s 4ms/step - loss: 10.1551 - mae: 10.1551\n",
            "Epoch 171/500\n",
            "2/2 [==============================] - 0s 5ms/step - loss: 18.0552 - mae: 18.0552\n",
            "Epoch 172/500\n",
            "2/2 [==============================] - 0s 4ms/step - loss: 28.8167 - mae: 28.8167\n",
            "Epoch 173/500\n",
            "2/2 [==============================] - 0s 5ms/step - loss: 16.5126 - mae: 16.5126\n",
            "Epoch 174/500\n",
            "2/2 [==============================] - 0s 5ms/step - loss: 11.2153 - mae: 11.2153\n",
            "Epoch 175/500\n",
            "2/2 [==============================] - 0s 4ms/step - loss: 27.5891 - mae: 27.5891\n",
            "Epoch 176/500\n",
            "2/2 [==============================] - 0s 5ms/step - loss: 8.2659 - mae: 8.2659\n",
            "Epoch 177/500\n",
            "2/2 [==============================] - 0s 4ms/step - loss: 9.2576 - mae: 9.2576\n",
            "Epoch 178/500\n",
            "2/2 [==============================] - 0s 5ms/step - loss: 18.1276 - mae: 18.1276\n",
            "Epoch 179/500\n",
            "2/2 [==============================] - 0s 5ms/step - loss: 10.6076 - mae: 10.6076\n",
            "Epoch 180/500\n",
            "2/2 [==============================] - 0s 5ms/step - loss: 7.9000 - mae: 7.9000\n",
            "Epoch 181/500\n",
            "2/2 [==============================] - 0s 4ms/step - loss: 17.3871 - mae: 17.3871\n",
            "Epoch 182/500\n",
            "2/2 [==============================] - 0s 5ms/step - loss: 11.0060 - mae: 11.0060\n",
            "Epoch 183/500\n",
            "2/2 [==============================] - 0s 5ms/step - loss: 11.6970 - mae: 11.6970\n",
            "Epoch 184/500\n",
            "2/2 [==============================] - 0s 4ms/step - loss: 30.3819 - mae: 30.3819\n",
            "Epoch 185/500\n",
            "2/2 [==============================] - 0s 5ms/step - loss: 8.1741 - mae: 8.1741\n",
            "Epoch 186/500\n",
            "2/2 [==============================] - 0s 4ms/step - loss: 22.6801 - mae: 22.6801\n",
            "Epoch 187/500\n",
            "2/2 [==============================] - 0s 5ms/step - loss: 19.2637 - mae: 19.2637\n",
            "Epoch 188/500\n",
            "2/2 [==============================] - 0s 5ms/step - loss: 13.6825 - mae: 13.6825\n",
            "Epoch 189/500\n",
            "2/2 [==============================] - 0s 4ms/step - loss: 15.0561 - mae: 15.0561\n",
            "Epoch 190/500\n",
            "2/2 [==============================] - 0s 5ms/step - loss: 20.5891 - mae: 20.5891\n",
            "Epoch 191/500\n",
            "2/2 [==============================] - 0s 5ms/step - loss: 22.2899 - mae: 22.2899\n",
            "Epoch 192/500\n",
            "2/2 [==============================] - 0s 5ms/step - loss: 10.0248 - mae: 10.0248\n",
            "Epoch 193/500\n",
            "2/2 [==============================] - 0s 4ms/step - loss: 28.5980 - mae: 28.5980\n",
            "Epoch 194/500\n",
            "2/2 [==============================] - 0s 4ms/step - loss: 7.0769 - mae: 7.0769\n",
            "Epoch 195/500\n",
            "2/2 [==============================] - 0s 5ms/step - loss: 7.0846 - mae: 7.0846\n",
            "Epoch 196/500\n",
            "2/2 [==============================] - 0s 5ms/step - loss: 22.0503 - mae: 22.0503\n",
            "Epoch 197/500\n",
            "2/2 [==============================] - 0s 5ms/step - loss: 20.7531 - mae: 20.7531\n",
            "Epoch 198/500\n",
            "2/2 [==============================] - 0s 6ms/step - loss: 12.4275 - mae: 12.4275\n",
            "Epoch 199/500\n",
            "2/2 [==============================] - 0s 4ms/step - loss: 17.8291 - mae: 17.8291\n",
            "Epoch 200/500\n",
            "2/2 [==============================] - 0s 4ms/step - loss: 13.6762 - mae: 13.6762\n",
            "Epoch 201/500\n",
            "2/2 [==============================] - 0s 4ms/step - loss: 5.5060 - mae: 5.5060\n",
            "Epoch 202/500\n",
            "2/2 [==============================] - 0s 4ms/step - loss: 13.6280 - mae: 13.6280\n",
            "Epoch 203/500\n",
            "2/2 [==============================] - 0s 4ms/step - loss: 9.4155 - mae: 9.4155\n",
            "Epoch 204/500\n",
            "2/2 [==============================] - 0s 5ms/step - loss: 20.8324 - mae: 20.8324\n",
            "Epoch 205/500\n",
            "2/2 [==============================] - 0s 4ms/step - loss: 9.5254 - mae: 9.5254\n",
            "Epoch 206/500\n",
            "2/2 [==============================] - 0s 4ms/step - loss: 11.1654 - mae: 11.1654\n",
            "Epoch 207/500\n",
            "2/2 [==============================] - 0s 4ms/step - loss: 17.7193 - mae: 17.7193\n",
            "Epoch 208/500\n",
            "2/2 [==============================] - 0s 4ms/step - loss: 14.4136 - mae: 14.4136\n",
            "Epoch 209/500\n",
            "2/2 [==============================] - 0s 4ms/step - loss: 16.7440 - mae: 16.7440\n",
            "Epoch 210/500\n",
            "2/2 [==============================] - 0s 4ms/step - loss: 18.2658 - mae: 18.2658\n",
            "Epoch 211/500\n",
            "2/2 [==============================] - 0s 4ms/step - loss: 9.9731 - mae: 9.9731\n",
            "Epoch 212/500\n",
            "2/2 [==============================] - 0s 4ms/step - loss: 18.7504 - mae: 18.7504\n",
            "Epoch 213/500\n",
            "2/2 [==============================] - 0s 4ms/step - loss: 14.9393 - mae: 14.9393\n",
            "Epoch 214/500\n",
            "2/2 [==============================] - 0s 4ms/step - loss: 14.5265 - mae: 14.5265\n",
            "Epoch 215/500\n",
            "2/2 [==============================] - 0s 5ms/step - loss: 23.1674 - mae: 23.1674\n",
            "Epoch 216/500\n",
            "2/2 [==============================] - 0s 4ms/step - loss: 13.6040 - mae: 13.6040\n",
            "Epoch 217/500\n",
            "2/2 [==============================] - 0s 4ms/step - loss: 10.0682 - mae: 10.0682\n",
            "Epoch 218/500\n",
            "2/2 [==============================] - 0s 4ms/step - loss: 12.4139 - mae: 12.4139\n",
            "Epoch 219/500\n",
            "2/2 [==============================] - 0s 4ms/step - loss: 5.8668 - mae: 5.8668\n",
            "Epoch 220/500\n",
            "2/2 [==============================] - 0s 4ms/step - loss: 10.2051 - mae: 10.2051\n",
            "Epoch 221/500\n",
            "2/2 [==============================] - 0s 4ms/step - loss: 28.8928 - mae: 28.8928\n",
            "Epoch 222/500\n",
            "2/2 [==============================] - 0s 4ms/step - loss: 28.0847 - mae: 28.0847\n",
            "Epoch 223/500\n",
            "2/2 [==============================] - 0s 4ms/step - loss: 10.0743 - mae: 10.0743\n",
            "Epoch 224/500\n",
            "2/2 [==============================] - 0s 4ms/step - loss: 14.6229 - mae: 14.6229\n",
            "Epoch 225/500\n",
            "2/2 [==============================] - 0s 4ms/step - loss: 16.6384 - mae: 16.6384\n",
            "Epoch 226/500\n",
            "2/2 [==============================] - 0s 4ms/step - loss: 15.8604 - mae: 15.8604\n",
            "Epoch 227/500\n",
            "2/2 [==============================] - 0s 4ms/step - loss: 16.0790 - mae: 16.0790\n",
            "Epoch 228/500\n",
            "2/2 [==============================] - 0s 4ms/step - loss: 13.8589 - mae: 13.8589\n",
            "Epoch 229/500\n",
            "2/2 [==============================] - 0s 4ms/step - loss: 17.9764 - mae: 17.9764\n",
            "Epoch 230/500\n",
            "2/2 [==============================] - 0s 7ms/step - loss: 15.5709 - mae: 15.5709\n",
            "Epoch 231/500\n",
            "2/2 [==============================] - 0s 4ms/step - loss: 21.0905 - mae: 21.0905\n",
            "Epoch 232/500\n",
            "2/2 [==============================] - 0s 4ms/step - loss: 25.5301 - mae: 25.5301\n",
            "Epoch 233/500\n",
            "2/2 [==============================] - 0s 4ms/step - loss: 16.5247 - mae: 16.5247\n",
            "Epoch 234/500\n",
            "2/2 [==============================] - 0s 4ms/step - loss: 7.3614 - mae: 7.3614\n",
            "Epoch 235/500\n",
            "2/2 [==============================] - 0s 4ms/step - loss: 17.1653 - mae: 17.1653\n",
            "Epoch 236/500\n",
            "2/2 [==============================] - 0s 4ms/step - loss: 7.2239 - mae: 7.2239\n",
            "Epoch 237/500\n",
            "2/2 [==============================] - 0s 4ms/step - loss: 9.3255 - mae: 9.3255\n",
            "Epoch 238/500\n",
            "2/2 [==============================] - 0s 4ms/step - loss: 8.1784 - mae: 8.1784\n",
            "Epoch 239/500\n",
            "2/2 [==============================] - 0s 4ms/step - loss: 17.1896 - mae: 17.1896\n",
            "Epoch 240/500\n",
            "2/2 [==============================] - 0s 4ms/step - loss: 8.9538 - mae: 8.9538\n",
            "Epoch 241/500\n",
            "2/2 [==============================] - 0s 5ms/step - loss: 13.2773 - mae: 13.2773\n",
            "Epoch 242/500\n",
            "2/2 [==============================] - 0s 4ms/step - loss: 8.8621 - mae: 8.8621\n",
            "Epoch 243/500\n",
            "2/2 [==============================] - 0s 5ms/step - loss: 18.9284 - mae: 18.9284\n",
            "Epoch 244/500\n",
            "2/2 [==============================] - 0s 5ms/step - loss: 14.0410 - mae: 14.0410\n",
            "Epoch 245/500\n",
            "2/2 [==============================] - 0s 5ms/step - loss: 14.6708 - mae: 14.6708\n",
            "Epoch 246/500\n",
            "2/2 [==============================] - 0s 4ms/step - loss: 15.8035 - mae: 15.8035\n",
            "Epoch 247/500\n",
            "2/2 [==============================] - 0s 4ms/step - loss: 17.6789 - mae: 17.6789\n",
            "Epoch 248/500\n",
            "2/2 [==============================] - 0s 5ms/step - loss: 13.2364 - mae: 13.2364\n",
            "Epoch 249/500\n",
            "2/2 [==============================] - 0s 4ms/step - loss: 14.5158 - mae: 14.5158\n",
            "Epoch 250/500\n",
            "2/2 [==============================] - 0s 5ms/step - loss: 23.2329 - mae: 23.2329\n",
            "Epoch 251/500\n",
            "2/2 [==============================] - 0s 6ms/step - loss: 9.3382 - mae: 9.3382\n",
            "Epoch 252/500\n",
            "2/2 [==============================] - 0s 4ms/step - loss: 36.6570 - mae: 36.6570\n",
            "Epoch 253/500\n",
            "2/2 [==============================] - 0s 4ms/step - loss: 21.8320 - mae: 21.8320\n",
            "Epoch 254/500\n",
            "2/2 [==============================] - 0s 4ms/step - loss: 7.3178 - mae: 7.3178\n",
            "Epoch 255/500\n",
            "2/2 [==============================] - 0s 4ms/step - loss: 24.7004 - mae: 24.7004\n",
            "Epoch 256/500\n",
            "2/2 [==============================] - 0s 4ms/step - loss: 12.4429 - mae: 12.4429\n",
            "Epoch 257/500\n",
            "2/2 [==============================] - 0s 4ms/step - loss: 10.6028 - mae: 10.6028\n",
            "Epoch 258/500\n",
            "2/2 [==============================] - 0s 4ms/step - loss: 14.2231 - mae: 14.2231\n",
            "Epoch 259/500\n",
            "2/2 [==============================] - 0s 4ms/step - loss: 11.2768 - mae: 11.2768\n",
            "Epoch 260/500\n",
            "2/2 [==============================] - 0s 4ms/step - loss: 31.6391 - mae: 31.6391\n",
            "Epoch 261/500\n",
            "2/2 [==============================] - 0s 4ms/step - loss: 11.2039 - mae: 11.2039\n",
            "Epoch 262/500\n",
            "2/2 [==============================] - 0s 4ms/step - loss: 10.0561 - mae: 10.0561\n",
            "Epoch 263/500\n",
            "2/2 [==============================] - 0s 4ms/step - loss: 8.9642 - mae: 8.9642\n",
            "Epoch 264/500\n",
            "2/2 [==============================] - 0s 4ms/step - loss: 21.5175 - mae: 21.5175\n",
            "Epoch 265/500\n",
            "2/2 [==============================] - 0s 4ms/step - loss: 11.4449 - mae: 11.4449\n",
            "Epoch 266/500\n",
            "2/2 [==============================] - 0s 4ms/step - loss: 13.2826 - mae: 13.2826\n",
            "Epoch 267/500\n",
            "2/2 [==============================] - 0s 4ms/step - loss: 11.0798 - mae: 11.0798\n",
            "Epoch 268/500\n",
            "2/2 [==============================] - 0s 4ms/step - loss: 19.1467 - mae: 19.1467\n",
            "Epoch 269/500\n",
            "2/2 [==============================] - 0s 4ms/step - loss: 40.7397 - mae: 40.7397\n",
            "Epoch 270/500\n",
            "2/2 [==============================] - 0s 4ms/step - loss: 12.9490 - mae: 12.9490\n",
            "Epoch 271/500\n",
            "2/2 [==============================] - 0s 4ms/step - loss: 14.7611 - mae: 14.7611\n",
            "Epoch 272/500\n",
            "2/2 [==============================] - 0s 4ms/step - loss: 28.5029 - mae: 28.5029\n",
            "Epoch 273/500\n",
            "2/2 [==============================] - 0s 4ms/step - loss: 7.3827 - mae: 7.3827\n",
            "Epoch 274/500\n",
            "2/2 [==============================] - 0s 4ms/step - loss: 6.3596 - mae: 6.3596\n",
            "Epoch 275/500\n",
            "2/2 [==============================] - 0s 4ms/step - loss: 36.9489 - mae: 36.9489\n",
            "Epoch 276/500\n",
            "2/2 [==============================] - 0s 4ms/step - loss: 8.2980 - mae: 8.2980\n",
            "Epoch 277/500\n",
            "2/2 [==============================] - 0s 4ms/step - loss: 27.7620 - mae: 27.7620\n",
            "Epoch 278/500\n",
            "2/2 [==============================] - 0s 4ms/step - loss: 10.6702 - mae: 10.6702\n",
            "Epoch 279/500\n",
            "2/2 [==============================] - 0s 4ms/step - loss: 16.1020 - mae: 16.1020\n",
            "Epoch 280/500\n",
            "2/2 [==============================] - 0s 4ms/step - loss: 21.2176 - mae: 21.2176\n",
            "Epoch 281/500\n",
            "2/2 [==============================] - 0s 4ms/step - loss: 23.8365 - mae: 23.8365\n",
            "Epoch 282/500\n",
            "2/2 [==============================] - 0s 4ms/step - loss: 8.2786 - mae: 8.2786\n",
            "Epoch 283/500\n",
            "2/2 [==============================] - 0s 4ms/step - loss: 8.4538 - mae: 8.4538\n",
            "Epoch 284/500\n",
            "2/2 [==============================] - 0s 4ms/step - loss: 26.6769 - mae: 26.6769\n",
            "Epoch 285/500\n",
            "2/2 [==============================] - 0s 4ms/step - loss: 14.2675 - mae: 14.2675\n",
            "Epoch 286/500\n",
            "2/2 [==============================] - 0s 4ms/step - loss: 5.2656 - mae: 5.2656\n",
            "Epoch 287/500\n",
            "2/2 [==============================] - 0s 4ms/step - loss: 20.7967 - mae: 20.7967\n",
            "Epoch 288/500\n",
            "2/2 [==============================] - 0s 4ms/step - loss: 27.6760 - mae: 27.6760\n",
            "Epoch 289/500\n",
            "2/2 [==============================] - 0s 4ms/step - loss: 10.4193 - mae: 10.4193\n",
            "Epoch 290/500\n",
            "2/2 [==============================] - 0s 4ms/step - loss: 16.2922 - mae: 16.2922\n",
            "Epoch 291/500\n",
            "2/2 [==============================] - 0s 4ms/step - loss: 16.4745 - mae: 16.4745\n",
            "Epoch 292/500\n",
            "2/2 [==============================] - 0s 4ms/step - loss: 7.4221 - mae: 7.4221\n",
            "Epoch 293/500\n",
            "2/2 [==============================] - 0s 4ms/step - loss: 16.5362 - mae: 16.5362\n",
            "Epoch 294/500\n",
            "2/2 [==============================] - 0s 6ms/step - loss: 25.3119 - mae: 25.3119\n",
            "Epoch 295/500\n",
            "2/2 [==============================] - 0s 4ms/step - loss: 14.6293 - mae: 14.6293\n",
            "Epoch 296/500\n",
            "2/2 [==============================] - 0s 4ms/step - loss: 4.5166 - mae: 4.5166\n",
            "Epoch 297/500\n",
            "2/2 [==============================] - 0s 4ms/step - loss: 9.6856 - mae: 9.6856\n",
            "Epoch 298/500\n",
            "2/2 [==============================] - 0s 4ms/step - loss: 23.8171 - mae: 23.8171\n",
            "Epoch 299/500\n",
            "2/2 [==============================] - 0s 4ms/step - loss: 18.9325 - mae: 18.9325\n",
            "Epoch 300/500\n",
            "2/2 [==============================] - 0s 4ms/step - loss: 8.7793 - mae: 8.7793\n",
            "Epoch 301/500\n",
            "2/2 [==============================] - 0s 4ms/step - loss: 15.8072 - mae: 15.8072\n",
            "Epoch 302/500\n",
            "2/2 [==============================] - 0s 4ms/step - loss: 6.5911 - mae: 6.5911\n",
            "Epoch 303/500\n",
            "2/2 [==============================] - 0s 4ms/step - loss: 21.5710 - mae: 21.5710\n",
            "Epoch 304/500\n",
            "2/2 [==============================] - 0s 4ms/step - loss: 25.8978 - mae: 25.8978\n",
            "Epoch 305/500\n",
            "2/2 [==============================] - 0s 4ms/step - loss: 9.5309 - mae: 9.5309\n",
            "Epoch 306/500\n",
            "2/2 [==============================] - 0s 4ms/step - loss: 17.6775 - mae: 17.6775\n",
            "Epoch 307/500\n",
            "2/2 [==============================] - 0s 4ms/step - loss: 9.8228 - mae: 9.8228\n",
            "Epoch 308/500\n",
            "2/2 [==============================] - 0s 4ms/step - loss: 20.6046 - mae: 20.6046\n",
            "Epoch 309/500\n",
            "2/2 [==============================] - 0s 4ms/step - loss: 13.5593 - mae: 13.5593\n",
            "Epoch 310/500\n",
            "2/2 [==============================] - 0s 4ms/step - loss: 6.6812 - mae: 6.6812\n",
            "Epoch 311/500\n",
            "2/2 [==============================] - 0s 4ms/step - loss: 13.6693 - mae: 13.6693\n",
            "Epoch 312/500\n",
            "2/2 [==============================] - 0s 4ms/step - loss: 30.0286 - mae: 30.0286\n",
            "Epoch 313/500\n",
            "2/2 [==============================] - 0s 4ms/step - loss: 7.5359 - mae: 7.5359\n",
            "Epoch 314/500\n",
            "2/2 [==============================] - 0s 4ms/step - loss: 9.9672 - mae: 9.9672\n",
            "Epoch 315/500\n",
            "2/2 [==============================] - 0s 4ms/step - loss: 23.8846 - mae: 23.8846\n",
            "Epoch 316/500\n",
            "2/2 [==============================] - 0s 4ms/step - loss: 16.1634 - mae: 16.1634\n",
            "Epoch 317/500\n",
            "2/2 [==============================] - 0s 4ms/step - loss: 20.6566 - mae: 20.6566\n",
            "Epoch 318/500\n",
            "2/2 [==============================] - 0s 4ms/step - loss: 8.7256 - mae: 8.7256\n",
            "Epoch 319/500\n",
            "2/2 [==============================] - 0s 4ms/step - loss: 15.2593 - mae: 15.2593\n",
            "Epoch 320/500\n",
            "2/2 [==============================] - 0s 4ms/step - loss: 8.3537 - mae: 8.3537\n",
            "Epoch 321/500\n",
            "2/2 [==============================] - 0s 4ms/step - loss: 14.6723 - mae: 14.6723\n",
            "Epoch 322/500\n",
            "2/2 [==============================] - 0s 4ms/step - loss: 12.8173 - mae: 12.8173\n",
            "Epoch 323/500\n",
            "2/2 [==============================] - 0s 4ms/step - loss: 19.0945 - mae: 19.0945\n",
            "Epoch 324/500\n",
            "2/2 [==============================] - 0s 4ms/step - loss: 17.0166 - mae: 17.0166\n",
            "Epoch 325/500\n",
            "2/2 [==============================] - 0s 4ms/step - loss: 9.2976 - mae: 9.2976\n",
            "Epoch 326/500\n",
            "2/2 [==============================] - 0s 4ms/step - loss: 19.9301 - mae: 19.9301\n",
            "Epoch 327/500\n",
            "2/2 [==============================] - 0s 4ms/step - loss: 28.1072 - mae: 28.1072\n",
            "Epoch 328/500\n",
            "2/2 [==============================] - 0s 4ms/step - loss: 11.7101 - mae: 11.7101\n",
            "Epoch 329/500\n",
            "2/2 [==============================] - 0s 4ms/step - loss: 16.3899 - mae: 16.3899\n",
            "Epoch 330/500\n",
            "2/2 [==============================] - 0s 4ms/step - loss: 7.3243 - mae: 7.3243\n",
            "Epoch 331/500\n",
            "2/2 [==============================] - 0s 4ms/step - loss: 22.5515 - mae: 22.5515\n",
            "Epoch 332/500\n",
            "2/2 [==============================] - 0s 6ms/step - loss: 13.3423 - mae: 13.3423\n",
            "Epoch 333/500\n",
            "2/2 [==============================] - 0s 5ms/step - loss: 10.1623 - mae: 10.1623\n",
            "Epoch 334/500\n",
            "2/2 [==============================] - 0s 5ms/step - loss: 6.6215 - mae: 6.6215\n",
            "Epoch 335/500\n",
            "2/2 [==============================] - 0s 5ms/step - loss: 6.2729 - mae: 6.2729\n",
            "Epoch 336/500\n",
            "2/2 [==============================] - 0s 5ms/step - loss: 34.4954 - mae: 34.4954\n",
            "Epoch 337/500\n",
            "2/2 [==============================] - 0s 6ms/step - loss: 26.9319 - mae: 26.9319\n",
            "Epoch 338/500\n",
            "2/2 [==============================] - 0s 4ms/step - loss: 13.9899 - mae: 13.9899\n",
            "Epoch 339/500\n",
            "2/2 [==============================] - 0s 4ms/step - loss: 11.5348 - mae: 11.5348\n",
            "Epoch 340/500\n",
            "2/2 [==============================] - 0s 5ms/step - loss: 8.8322 - mae: 8.8322\n",
            "Epoch 341/500\n",
            "2/2 [==============================] - 0s 5ms/step - loss: 23.4718 - mae: 23.4718\n",
            "Epoch 342/500\n",
            "2/2 [==============================] - 0s 4ms/step - loss: 13.8789 - mae: 13.8789\n",
            "Epoch 343/500\n",
            "2/2 [==============================] - 0s 4ms/step - loss: 14.8380 - mae: 14.8380\n",
            "Epoch 344/500\n",
            "2/2 [==============================] - 0s 5ms/step - loss: 13.3962 - mae: 13.3962\n",
            "Epoch 345/500\n",
            "2/2 [==============================] - 0s 6ms/step - loss: 31.0320 - mae: 31.0320\n",
            "Epoch 346/500\n",
            "2/2 [==============================] - 0s 6ms/step - loss: 10.7100 - mae: 10.7100\n",
            "Epoch 347/500\n",
            "2/2 [==============================] - 0s 5ms/step - loss: 25.7390 - mae: 25.7390\n",
            "Epoch 348/500\n",
            "2/2 [==============================] - 0s 5ms/step - loss: 12.8646 - mae: 12.8646\n",
            "Epoch 349/500\n",
            "2/2 [==============================] - 0s 5ms/step - loss: 13.1736 - mae: 13.1736\n",
            "Epoch 350/500\n",
            "2/2 [==============================] - 0s 4ms/step - loss: 15.4453 - mae: 15.4453\n",
            "Epoch 351/500\n",
            "2/2 [==============================] - 0s 7ms/step - loss: 32.9661 - mae: 32.9661\n",
            "Epoch 352/500\n",
            "2/2 [==============================] - 0s 5ms/step - loss: 14.2154 - mae: 14.2154\n",
            "Epoch 353/500\n",
            "2/2 [==============================] - 0s 5ms/step - loss: 15.9292 - mae: 15.9292\n",
            "Epoch 354/500\n",
            "2/2 [==============================] - 0s 4ms/step - loss: 19.1062 - mae: 19.1062\n",
            "Epoch 355/500\n",
            "2/2 [==============================] - 0s 5ms/step - loss: 34.0713 - mae: 34.0713\n",
            "Epoch 356/500\n",
            "2/2 [==============================] - 0s 4ms/step - loss: 7.6922 - mae: 7.6922\n",
            "Epoch 357/500\n",
            "2/2 [==============================] - 0s 10ms/step - loss: 25.1797 - mae: 25.1797\n",
            "Epoch 358/500\n",
            "2/2 [==============================] - 0s 4ms/step - loss: 22.6331 - mae: 22.6331\n",
            "Epoch 359/500\n",
            "2/2 [==============================] - 0s 4ms/step - loss: 8.9010 - mae: 8.9010\n",
            "Epoch 360/500\n",
            "2/2 [==============================] - 0s 4ms/step - loss: 21.4990 - mae: 21.4990\n",
            "Epoch 361/500\n",
            "2/2 [==============================] - 0s 4ms/step - loss: 20.5486 - mae: 20.5486\n",
            "Epoch 362/500\n",
            "2/2 [==============================] - 0s 4ms/step - loss: 7.0797 - mae: 7.0797\n",
            "Epoch 363/500\n",
            "2/2 [==============================] - 0s 4ms/step - loss: 25.7433 - mae: 25.7433\n",
            "Epoch 364/500\n",
            "2/2 [==============================] - 0s 4ms/step - loss: 32.1355 - mae: 32.1355\n",
            "Epoch 365/500\n",
            "2/2 [==============================] - 0s 4ms/step - loss: 9.9946 - mae: 9.9946\n",
            "Epoch 366/500\n",
            "2/2 [==============================] - 0s 4ms/step - loss: 9.6915 - mae: 9.6915\n",
            "Epoch 367/500\n",
            "2/2 [==============================] - 0s 4ms/step - loss: 30.4398 - mae: 30.4398\n",
            "Epoch 368/500\n",
            "2/2 [==============================] - 0s 4ms/step - loss: 10.5361 - mae: 10.5361\n",
            "Epoch 369/500\n",
            "2/2 [==============================] - 0s 4ms/step - loss: 15.0245 - mae: 15.0245\n",
            "Epoch 370/500\n",
            "2/2 [==============================] - 0s 6ms/step - loss: 14.6818 - mae: 14.6818\n",
            "Epoch 371/500\n",
            "2/2 [==============================] - 0s 4ms/step - loss: 23.4124 - mae: 23.4124\n",
            "Epoch 372/500\n",
            "2/2 [==============================] - 0s 4ms/step - loss: 13.0325 - mae: 13.0325\n",
            "Epoch 373/500\n",
            "2/2 [==============================] - 0s 4ms/step - loss: 9.2039 - mae: 9.2039\n",
            "Epoch 374/500\n",
            "2/2 [==============================] - 0s 4ms/step - loss: 9.7137 - mae: 9.7137\n",
            "Epoch 375/500\n",
            "2/2 [==============================] - 0s 4ms/step - loss: 13.0453 - mae: 13.0453\n",
            "Epoch 376/500\n",
            "2/2 [==============================] - 0s 8ms/step - loss: 14.9278 - mae: 14.9278\n",
            "Epoch 377/500\n",
            "2/2 [==============================] - 0s 4ms/step - loss: 14.8379 - mae: 14.8379\n",
            "Epoch 378/500\n",
            "2/2 [==============================] - 0s 4ms/step - loss: 16.3091 - mae: 16.3091\n",
            "Epoch 379/500\n",
            "2/2 [==============================] - 0s 6ms/step - loss: 20.8992 - mae: 20.8992\n",
            "Epoch 380/500\n",
            "2/2 [==============================] - 0s 4ms/step - loss: 33.3341 - mae: 33.3341\n",
            "Epoch 381/500\n",
            "2/2 [==============================] - 0s 4ms/step - loss: 8.1911 - mae: 8.1911\n",
            "Epoch 382/500\n",
            "2/2 [==============================] - 0s 4ms/step - loss: 12.9693 - mae: 12.9693\n",
            "Epoch 383/500\n",
            "2/2 [==============================] - 0s 4ms/step - loss: 8.4797 - mae: 8.4797\n",
            "Epoch 384/500\n",
            "2/2 [==============================] - 0s 4ms/step - loss: 7.0833 - mae: 7.0833\n",
            "Epoch 385/500\n",
            "2/2 [==============================] - 0s 4ms/step - loss: 10.9853 - mae: 10.9853\n",
            "Epoch 386/500\n",
            "2/2 [==============================] - 0s 4ms/step - loss: 19.8504 - mae: 19.8504\n",
            "Epoch 387/500\n",
            "2/2 [==============================] - 0s 4ms/step - loss: 24.6656 - mae: 24.6656\n",
            "Epoch 388/500\n",
            "2/2 [==============================] - 0s 5ms/step - loss: 8.6779 - mae: 8.6779\n",
            "Epoch 389/500\n",
            "2/2 [==============================] - 0s 4ms/step - loss: 5.9440 - mae: 5.9440\n",
            "Epoch 390/500\n",
            "2/2 [==============================] - 0s 4ms/step - loss: 24.2244 - mae: 24.2244\n",
            "Epoch 391/500\n",
            "2/2 [==============================] - 0s 4ms/step - loss: 5.9632 - mae: 5.9632\n",
            "Epoch 392/500\n",
            "2/2 [==============================] - 0s 4ms/step - loss: 16.0276 - mae: 16.0276\n",
            "Epoch 393/500\n",
            "2/2 [==============================] - 0s 4ms/step - loss: 6.4745 - mae: 6.4745\n",
            "Epoch 394/500\n",
            "2/2 [==============================] - 0s 4ms/step - loss: 12.4704 - mae: 12.4704\n",
            "Epoch 395/500\n",
            "2/2 [==============================] - 0s 9ms/step - loss: 12.3421 - mae: 12.3421\n",
            "Epoch 396/500\n",
            "2/2 [==============================] - 0s 4ms/step - loss: 7.3222 - mae: 7.3222\n",
            "Epoch 397/500\n",
            "2/2 [==============================] - 0s 4ms/step - loss: 7.5830 - mae: 7.5830\n",
            "Epoch 398/500\n",
            "2/2 [==============================] - 0s 4ms/step - loss: 20.2205 - mae: 20.2205\n",
            "Epoch 399/500\n",
            "2/2 [==============================] - 0s 4ms/step - loss: 5.9140 - mae: 5.9140\n",
            "Epoch 400/500\n",
            "2/2 [==============================] - 0s 3ms/step - loss: 24.6635 - mae: 24.6635\n",
            "Epoch 401/500\n",
            "2/2 [==============================] - 0s 3ms/step - loss: 13.0804 - mae: 13.0804\n",
            "Epoch 402/500\n",
            "2/2 [==============================] - 0s 4ms/step - loss: 8.3310 - mae: 8.3310\n",
            "Epoch 403/500\n",
            "2/2 [==============================] - 0s 4ms/step - loss: 9.8092 - mae: 9.8092\n",
            "Epoch 404/500\n",
            "2/2 [==============================] - 0s 3ms/step - loss: 12.5348 - mae: 12.5348\n",
            "Epoch 405/500\n",
            "2/2 [==============================] - 0s 4ms/step - loss: 8.7792 - mae: 8.7792\n",
            "Epoch 406/500\n",
            "2/2 [==============================] - 0s 4ms/step - loss: 21.6570 - mae: 21.6570\n",
            "Epoch 407/500\n",
            "2/2 [==============================] - 0s 4ms/step - loss: 20.3215 - mae: 20.3215\n",
            "Epoch 408/500\n",
            "2/2 [==============================] - 0s 4ms/step - loss: 10.3396 - mae: 10.3396\n",
            "Epoch 409/500\n",
            "2/2 [==============================] - 0s 4ms/step - loss: 9.3318 - mae: 9.3318\n",
            "Epoch 410/500\n",
            "2/2 [==============================] - 0s 4ms/step - loss: 13.4048 - mae: 13.4048\n",
            "Epoch 411/500\n",
            "2/2 [==============================] - 0s 4ms/step - loss: 15.8604 - mae: 15.8604\n",
            "Epoch 412/500\n",
            "2/2 [==============================] - 0s 6ms/step - loss: 23.5710 - mae: 23.5710\n",
            "Epoch 413/500\n",
            "2/2 [==============================] - 0s 4ms/step - loss: 16.3756 - mae: 16.3756\n",
            "Epoch 414/500\n",
            "2/2 [==============================] - 0s 4ms/step - loss: 4.9333 - mae: 4.9333\n",
            "Epoch 415/500\n",
            "2/2 [==============================] - 0s 4ms/step - loss: 13.9771 - mae: 13.9771\n",
            "Epoch 416/500\n",
            "2/2 [==============================] - 0s 4ms/step - loss: 28.9715 - mae: 28.9715\n",
            "Epoch 417/500\n",
            "2/2 [==============================] - 0s 4ms/step - loss: 5.9609 - mae: 5.9609\n",
            "Epoch 418/500\n",
            "2/2 [==============================] - 0s 4ms/step - loss: 12.4409 - mae: 12.4409\n",
            "Epoch 419/500\n",
            "2/2 [==============================] - 0s 4ms/step - loss: 11.4842 - mae: 11.4842\n",
            "Epoch 420/500\n",
            "2/2 [==============================] - 0s 4ms/step - loss: 23.8643 - mae: 23.8643\n",
            "Epoch 421/500\n",
            "2/2 [==============================] - 0s 4ms/step - loss: 19.7254 - mae: 19.7254\n",
            "Epoch 422/500\n",
            "2/2 [==============================] - 0s 4ms/step - loss: 4.0295 - mae: 4.0295\n",
            "Epoch 423/500\n",
            "2/2 [==============================] - 0s 4ms/step - loss: 34.4397 - mae: 34.4397\n",
            "Epoch 424/500\n",
            "2/2 [==============================] - 0s 4ms/step - loss: 12.9788 - mae: 12.9788\n",
            "Epoch 425/500\n",
            "2/2 [==============================] - 0s 4ms/step - loss: 6.9314 - mae: 6.9314\n",
            "Epoch 426/500\n",
            "2/2 [==============================] - 0s 4ms/step - loss: 19.3926 - mae: 19.3926\n",
            "Epoch 427/500\n",
            "2/2 [==============================] - 0s 4ms/step - loss: 3.7565 - mae: 3.7565\n",
            "Epoch 428/500\n",
            "2/2 [==============================] - 0s 4ms/step - loss: 22.1842 - mae: 22.1842\n",
            "Epoch 429/500\n",
            "2/2 [==============================] - 0s 4ms/step - loss: 16.7142 - mae: 16.7142\n",
            "Epoch 430/500\n",
            "2/2 [==============================] - 0s 4ms/step - loss: 11.8425 - mae: 11.8425\n",
            "Epoch 431/500\n",
            "2/2 [==============================] - 0s 4ms/step - loss: 7.9863 - mae: 7.9863\n",
            "Epoch 432/500\n",
            "2/2 [==============================] - 0s 4ms/step - loss: 22.3042 - mae: 22.3042\n",
            "Epoch 433/500\n",
            "2/2 [==============================] - 0s 4ms/step - loss: 4.8383 - mae: 4.8383\n",
            "Epoch 434/500\n",
            "2/2 [==============================] - 0s 4ms/step - loss: 33.3062 - mae: 33.3062\n",
            "Epoch 435/500\n",
            "2/2 [==============================] - 0s 4ms/step - loss: 14.1640 - mae: 14.1640\n",
            "Epoch 436/500\n",
            "2/2 [==============================] - 0s 5ms/step - loss: 29.8139 - mae: 29.8139\n",
            "Epoch 437/500\n",
            "2/2 [==============================] - 0s 5ms/step - loss: 10.9224 - mae: 10.9224\n",
            "Epoch 438/500\n",
            "2/2 [==============================] - 0s 6ms/step - loss: 12.7005 - mae: 12.7005\n",
            "Epoch 439/500\n",
            "2/2 [==============================] - 0s 5ms/step - loss: 33.5461 - mae: 33.5461\n",
            "Epoch 440/500\n",
            "2/2 [==============================] - 0s 5ms/step - loss: 14.9280 - mae: 14.9280\n",
            "Epoch 441/500\n",
            "2/2 [==============================] - 0s 6ms/step - loss: 17.3572 - mae: 17.3572\n",
            "Epoch 442/500\n",
            "2/2 [==============================] - 0s 5ms/step - loss: 22.0343 - mae: 22.0343\n",
            "Epoch 443/500\n",
            "2/2 [==============================] - 0s 7ms/step - loss: 24.2299 - mae: 24.2299\n",
            "Epoch 444/500\n",
            "2/2 [==============================] - 0s 4ms/step - loss: 11.5253 - mae: 11.5253\n",
            "Epoch 445/500\n",
            "2/2 [==============================] - 0s 4ms/step - loss: 14.7695 - mae: 14.7695\n",
            "Epoch 446/500\n",
            "2/2 [==============================] - 0s 4ms/step - loss: 17.7835 - mae: 17.7835\n",
            "Epoch 447/500\n",
            "2/2 [==============================] - 0s 4ms/step - loss: 5.6892 - mae: 5.6892\n",
            "Epoch 448/500\n",
            "2/2 [==============================] - 0s 4ms/step - loss: 9.5334 - mae: 9.5334\n",
            "Epoch 449/500\n",
            "2/2 [==============================] - 0s 4ms/step - loss: 14.1907 - mae: 14.1907\n",
            "Epoch 450/500\n",
            "2/2 [==============================] - 0s 8ms/step - loss: 16.9585 - mae: 16.9585\n",
            "Epoch 451/500\n",
            "2/2 [==============================] - 0s 4ms/step - loss: 14.3718 - mae: 14.3718\n",
            "Epoch 452/500\n",
            "2/2 [==============================] - 0s 4ms/step - loss: 30.7787 - mae: 30.7787\n",
            "Epoch 453/500\n",
            "2/2 [==============================] - 0s 7ms/step - loss: 9.1142 - mae: 9.1142\n",
            "Epoch 454/500\n",
            "2/2 [==============================] - 0s 8ms/step - loss: 27.1239 - mae: 27.1239\n",
            "Epoch 455/500\n",
            "2/2 [==============================] - 0s 7ms/step - loss: 11.6043 - mae: 11.6043\n",
            "Epoch 456/500\n",
            "2/2 [==============================] - 0s 5ms/step - loss: 15.5170 - mae: 15.5170\n",
            "Epoch 457/500\n",
            "2/2 [==============================] - 0s 5ms/step - loss: 19.3923 - mae: 19.3923\n",
            "Epoch 458/500\n",
            "2/2 [==============================] - 0s 4ms/step - loss: 22.7823 - mae: 22.7823\n",
            "Epoch 459/500\n",
            "2/2 [==============================] - 0s 5ms/step - loss: 16.1891 - mae: 16.1891\n",
            "Epoch 460/500\n",
            "2/2 [==============================] - 0s 7ms/step - loss: 4.7195 - mae: 4.7195\n",
            "Epoch 461/500\n",
            "2/2 [==============================] - 0s 6ms/step - loss: 17.0827 - mae: 17.0827\n",
            "Epoch 462/500\n",
            "2/2 [==============================] - 0s 9ms/step - loss: 13.9680 - mae: 13.9680\n",
            "Epoch 463/500\n",
            "2/2 [==============================] - 0s 8ms/step - loss: 30.5104 - mae: 30.5104\n",
            "Epoch 464/500\n",
            "2/2 [==============================] - 0s 9ms/step - loss: 8.8727 - mae: 8.8727\n",
            "Epoch 465/500\n",
            "2/2 [==============================] - 0s 9ms/step - loss: 21.1727 - mae: 21.1727\n",
            "Epoch 466/500\n",
            "2/2 [==============================] - 0s 6ms/step - loss: 25.8282 - mae: 25.8282\n",
            "Epoch 467/500\n",
            "2/2 [==============================] - 0s 8ms/step - loss: 15.5234 - mae: 15.5234\n",
            "Epoch 468/500\n",
            "2/2 [==============================] - 0s 5ms/step - loss: 9.8103 - mae: 9.8103\n",
            "Epoch 469/500\n",
            "2/2 [==============================] - 0s 7ms/step - loss: 27.5311 - mae: 27.5311\n",
            "Epoch 470/500\n",
            "2/2 [==============================] - 0s 7ms/step - loss: 12.1267 - mae: 12.1267\n",
            "Epoch 471/500\n",
            "2/2 [==============================] - 0s 5ms/step - loss: 11.5631 - mae: 11.5631\n",
            "Epoch 472/500\n",
            "2/2 [==============================] - 0s 9ms/step - loss: 15.6612 - mae: 15.6612\n",
            "Epoch 473/500\n",
            "2/2 [==============================] - 0s 7ms/step - loss: 15.7806 - mae: 15.7806\n",
            "Epoch 474/500\n",
            "2/2 [==============================] - 0s 6ms/step - loss: 30.0992 - mae: 30.0992\n",
            "Epoch 475/500\n",
            "2/2 [==============================] - 0s 7ms/step - loss: 9.7078 - mae: 9.7078\n",
            "Epoch 476/500\n",
            "2/2 [==============================] - 0s 4ms/step - loss: 13.4167 - mae: 13.4167\n",
            "Epoch 477/500\n",
            "2/2 [==============================] - 0s 5ms/step - loss: 29.6913 - mae: 29.6913\n",
            "Epoch 478/500\n",
            "2/2 [==============================] - 0s 5ms/step - loss: 3.1208 - mae: 3.1208\n",
            "Epoch 479/500\n",
            "2/2 [==============================] - 0s 5ms/step - loss: 10.5359 - mae: 10.5359\n",
            "Epoch 480/500\n",
            "2/2 [==============================] - 0s 5ms/step - loss: 17.7232 - mae: 17.7232\n",
            "Epoch 481/500\n",
            "2/2 [==============================] - 0s 5ms/step - loss: 15.6758 - mae: 15.6758\n",
            "Epoch 482/500\n",
            "2/2 [==============================] - 0s 4ms/step - loss: 20.9913 - mae: 20.9913\n",
            "Epoch 483/500\n",
            "2/2 [==============================] - 0s 4ms/step - loss: 26.1669 - mae: 26.1669\n",
            "Epoch 484/500\n",
            "2/2 [==============================] - 0s 4ms/step - loss: 24.8321 - mae: 24.8321\n",
            "Epoch 485/500\n",
            "2/2 [==============================] - 0s 4ms/step - loss: 5.9519 - mae: 5.9519\n",
            "Epoch 486/500\n",
            "2/2 [==============================] - 0s 4ms/step - loss: 20.8496 - mae: 20.8496\n",
            "Epoch 487/500\n",
            "2/2 [==============================] - 0s 4ms/step - loss: 13.9584 - mae: 13.9584\n",
            "Epoch 488/500\n",
            "2/2 [==============================] - 0s 4ms/step - loss: 30.4431 - mae: 30.4431\n",
            "Epoch 489/500\n",
            "2/2 [==============================] - 0s 5ms/step - loss: 11.6840 - mae: 11.6840\n",
            "Epoch 490/500\n",
            "2/2 [==============================] - 0s 5ms/step - loss: 12.4321 - mae: 12.4321\n",
            "Epoch 491/500\n",
            "2/2 [==============================] - 0s 4ms/step - loss: 23.5740 - mae: 23.5740\n",
            "Epoch 492/500\n",
            "2/2 [==============================] - 0s 4ms/step - loss: 20.6443 - mae: 20.6443\n",
            "Epoch 493/500\n",
            "2/2 [==============================] - 0s 6ms/step - loss: 5.0517 - mae: 5.0517\n",
            "Epoch 494/500\n",
            "2/2 [==============================] - 0s 6ms/step - loss: 12.8888 - mae: 12.8888\n",
            "Epoch 495/500\n",
            "2/2 [==============================] - 0s 4ms/step - loss: 13.3566 - mae: 13.3566\n",
            "Epoch 496/500\n",
            "2/2 [==============================] - 0s 3ms/step - loss: 12.6594 - mae: 12.6594\n",
            "Epoch 497/500\n",
            "2/2 [==============================] - 0s 4ms/step - loss: 17.5993 - mae: 17.5993\n",
            "Epoch 498/500\n",
            "2/2 [==============================] - 0s 4ms/step - loss: 23.6243 - mae: 23.6243\n",
            "Epoch 499/500\n",
            "2/2 [==============================] - 0s 7ms/step - loss: 9.4247 - mae: 9.4247\n",
            "Epoch 500/500\n",
            "2/2 [==============================] - 0s 6ms/step - loss: 14.6383 - mae: 14.6383\n"
          ]
        },
        {
          "output_type": "execute_result",
          "data": {
            "text/plain": [
              "<keras.callbacks.History at 0x7a6fff531480>"
            ]
          },
          "metadata": {},
          "execution_count": 45
        }
      ]
    },
    {
      "cell_type": "code",
      "source": [
        "# Make and plot predictions for model_2\n",
        "y_preds_3 = model_3.predict(X_test)\n",
        "plot_predictions(predictions=y_preds_3)"
      ],
      "metadata": {
        "id": "OBbDA_zrNwDH",
        "outputId": "a0b702c7-61b0-4be3-e389-f1d6931e791e",
        "colab": {
          "base_uri": "https://localhost:8080/",
          "height": 654
        }
      },
      "execution_count": null,
      "outputs": [
        {
          "output_type": "stream",
          "name": "stderr",
          "text": [
            "WARNING:tensorflow:6 out of the last 7 calls to <function Model.make_predict_function.<locals>.predict_function at 0x7a6fff52c430> triggered tf.function retracing. Tracing is expensive and the excessive number of tracings could be due to (1) creating @tf.function repeatedly in a loop, (2) passing tensors with different shapes, (3) passing Python objects instead of tensors. For (1), please define your @tf.function outside of the loop. For (2), @tf.function has reduce_retracing=True option that can avoid unnecessary retracing. For (3), please refer to https://www.tensorflow.org/guide/function#controlling_retracing and https://www.tensorflow.org/api_docs/python/tf/function for  more details.\n"
          ]
        },
        {
          "output_type": "stream",
          "name": "stdout",
          "text": [
            "1/1 [==============================] - 0s 47ms/step\n"
          ]
        },
        {
          "output_type": "display_data",
          "data": {
            "text/plain": [
              "<Figure size 1000x700 with 1 Axes>"
            ],
            "image/png": "[encoded data removed]"
          },
          "metadata": {}
        }
      ]
    },
    {
      "cell_type": "code",
      "source": [
        "# Calculate model_3 evaluation metrics\n",
        "mae_3 = mae(X_test, y_preds_3)\n",
        "mse_3 = mse(X_test, y_preds_3)\n",
        "mae_3, mse_3"
      ],
      "metadata": {
        "id": "rfU58OQZOjbX",
        "outputId": "a51c1805-a84f-4069-8f06-24a56422b6ef",
        "colab": {
          "base_uri": "https://localhost:8080/"
        }
      },
      "execution_count": null,
      "outputs": [
        {
          "output_type": "execute_result",
          "data": {
            "text/plain": [
              "(<tf.Tensor: shape=(), dtype=float32, numpy=21.542385>,\n",
              " <tf.Tensor: shape=(), dtype=float32, numpy=472.6342>)"
            ]
          },
          "metadata": {},
          "execution_count": 47
        }
      ]
    },
    {
      "cell_type": "markdown",
      "source": [
        "** Comparing the Results of our Experiments**\n",
        "\n",
        "We have run a few experiments lets compare the result"
      ],
      "metadata": {
        "id": "Mh-gBymKgZ5Q"
      }
    },
    {
      "cell_type": "markdown",
      "source": [],
      "metadata": {
        "id": "lb2LhzXwg86Q"
      }
    },
    {
      "cell_type": "markdown",
      "source": [
        "🔑**Note:** You want to start with small experiments(small models) and make sure they work and then increase their scale when necessary.\n"
      ],
      "metadata": {
        "id": "C9HSg1rNhGdU"
      }
    },
    {
      "cell_type": "code",
      "source": [
        "# Let's Compare our model's results using a pandas DataFrame\n",
        "\n",
        "import pandas as pd\n",
        "\n",
        "model_results = [[\"model_1\", mae_1.numpy(), mse_1.numpy()],\n",
        "                [\"model_2\", mae_2.numpy(), mse_2.numpy()],\n",
        "                [\"model_3\", mae_3.numpy(), mse_3.numpy()]]\n",
        "\n",
        "all_results = pd.DataFrame(model_results,columns=[\"model\",\"mae\",\"mse\"])\n",
        "all_results"
      ],
      "metadata": {
        "id": "lIDpvdDwiGEU",
        "outputId": "62055dbf-846d-4b5f-de4b-e193c56a25e0",
        "colab": {
          "base_uri": "https://localhost:8080/",
          "height": 143
        }
      },
      "execution_count": null,
      "outputs": [
        {
          "output_type": "execute_result",
          "data": {
            "text/plain": [
              "     model        mae         mse\n",
              "0  model_1  11.542387  141.786453\n",
              "1  model_2  11.542387  141.786453\n",
              "2  model_3  21.542385  472.634186"
            ],
            "text/html": [
              "\n",
              "\n",
              "  <div id=\"df-bfe053c4-8df0-4907-be34-2a5e14889253\">\n",
              "    <div class=\"colab-df-container\">\n",
              "      <div>\n",
              "<style scoped>\n",
              "    .dataframe tbody tr th:only-of-type {\n",
              "        vertical-align: middle;\n",
              "    }\n",
              "\n",
              "    .dataframe tbody tr th {\n",
              "        vertical-align: top;\n",
              "    }\n",
              "\n",
              "    .dataframe thead th {\n",
              "        text-align: right;\n",
              "    }\n",
              "</style>\n",
              "<table border=\"1\" class=\"dataframe\">\n",
              "  <thead>\n",
              "    <tr style=\"text-align: right;\">\n",
              "      <th></th>\n",
              "      <th>model</th>\n",
              "      <th>mae</th>\n",
              "      <th>mse</th>\n",
              "    </tr>\n",
              "  </thead>\n",
              "  <tbody>\n",
              "    <tr>\n",
              "      <th>0</th>\n",
              "      <td>model_1</td>\n",
              "      <td>11.542387</td>\n",
              "      <td>141.786453</td>\n",
              "    </tr>\n",
              "    <tr>\n",
              "      <th>1</th>\n",
              "      <td>model_2</td>\n",
              "      <td>11.542387</td>\n",
              "      <td>141.786453</td>\n",
              "    </tr>\n",
              "    <tr>\n",
              "      <th>2</th>\n",
              "      <td>model_3</td>\n",
              "      <td>21.542385</td>\n",
              "      <td>472.634186</td>\n",
              "    </tr>\n",
              "  </tbody>\n",
              "</table>\n",
              "</div>\n",
              "      <button class=\"colab-df-convert\" onclick=\"convertToInteractive('df-bfe053c4-8df0-4907-be34-2a5e14889253')\"\n",
              "              title=\"Convert this dataframe to an interactive table.\"\n",
              "              style=\"display:none;\">\n",
              "\n",
              "  <svg xmlns=\"http://www.w3.org/2000/svg\" height=\"24px\"viewBox=\"0 0 24 24\"\n",
              "       width=\"24px\">\n",
              "    <path d=\"M0 0h24v24H0V0z\" fill=\"none\"/>\n",
              "    <path d=\"M18.56 5.44l.94 2.06.94-2.06 2.06-.94-2.06-.94-.94-2.06-.94 2.06-2.06.94zm-11 1L8.5 8.5l.94-2.06 2.06-.94-2.06-.94L8.5 2.5l-.94 2.06-2.06.94zm10 10l.94 2.06.94-2.06 2.06-.94-2.06-.94-.94-2.06-.94 2.06-2.06.94z\"/><path d=\"M17.41 7.96l-1.37-1.37c-.4-.4-.92-.59-1.43-.59-.52 0-1.04.2-1.43.59L10.3 9.45l-7.72 7.72c-.78.78-.78 2.05 0 2.83L4 21.41c.39.39.9.59 1.41.59.51 0 1.02-.2 1.41-.59l7.78-7.78 2.81-2.81c.8-.78.8-2.07 0-2.86zM5.41 20L4 18.59l7.72-7.72 1.47 1.35L5.41 20z\"/>\n",
              "  </svg>\n",
              "      </button>\n",
              "\n",
              "\n",
              "\n",
              "    <div id=\"df-56fbc834-c122-47ba-b9b6-94ce70798ef6\">\n",
              "      <button class=\"colab-df-quickchart\" onclick=\"quickchart('df-56fbc834-c122-47ba-b9b6-94ce70798ef6')\"\n",
              "              title=\"Suggest charts.\"\n",
              "              style=\"display:none;\">\n",
              "\n",
              "<svg xmlns=\"http://www.w3.org/2000/svg\" height=\"24px\"viewBox=\"0 0 24 24\"\n",
              "     width=\"24px\">\n",
              "    <g>\n",
              "        <path d=\"M19 3H5c-1.1 0-2 .9-2 2v14c0 1.1.9 2 2 2h14c1.1 0 2-.9 2-2V5c0-1.1-.9-2-2-2zM9 17H7v-7h2v7zm4 0h-2V7h2v10zm4 0h-2v-4h2v4z\"/>\n",
              "    </g>\n",
              "</svg>\n",
              "      </button>\n",
              "    </div>\n",
              "\n",
              "<style>\n",
              "  .colab-df-quickchart {\n",
              "    background-color: #E8F0FE;\n",
              "    border: none;\n",
              "    border-radius: 50%;\n",
              "    cursor: pointer;\n",
              "    display: none;\n",
              "    fill: #1967D2;\n",
              "    height: 32px;\n",
              "    padding: 0 0 0 0;\n",
              "    width: 32px;\n",
              "  }\n",
              "\n",
              "  .colab-df-quickchart:hover {\n",
              "    background-color: #E2EBFA;\n",
              "    box-shadow: 0px 1px 2px rgba(60, 64, 67, 0.3), 0px 1px 3px 1px rgba(60, 64, 67, 0.15);\n",
              "    fill: #174EA6;\n",
              "  }\n",
              "\n",
              "  [theme=dark] .colab-df-quickchart {\n",
              "    background-color: #3B4455;\n",
              "    fill: #D2E3FC;\n",
              "  }\n",
              "\n",
              "  [theme=dark] .colab-df-quickchart:hover {\n",
              "    background-color: #434B5C;\n",
              "    box-shadow: 0px 1px 3px 1px rgba(0, 0, 0, 0.15);\n",
              "    filter: drop-shadow(0px 1px 2px rgba(0, 0, 0, 0.3));\n",
              "    fill: #FFFFFF;\n",
              "  }\n",
              "</style>\n",
              "\n",
              "    <script>\n",
              "      async function quickchart(key) {\n",
              "        const containerElement = document.querySelector('#' + key);\n",
              "        const charts = await google.colab.kernel.invokeFunction(\n",
              "            'suggestCharts', [key], {});\n",
              "      }\n",
              "    </script>\n",
              "\n",
              "      <script>\n",
              "\n",
              "function displayQuickchartButton(domScope) {\n",
              "  let quickchartButtonEl =\n",
              "    domScope.querySelector('#df-56fbc834-c122-47ba-b9b6-94ce70798ef6 button.colab-df-quickchart');\n",
              "  quickchartButtonEl.style.display =\n",
              "    google.colab.kernel.accessAllowed ? 'block' : 'none';\n",
              "}\n",
              "\n",
              "        displayQuickchartButton(document);\n",
              "      </script>\n",
              "      <style>\n",
              "    .colab-df-container {\n",
              "      display:flex;\n",
              "      flex-wrap:wrap;\n",
              "      gap: 12px;\n",
              "    }\n",
              "\n",
              "    .colab-df-convert {\n",
              "      background-color: #E8F0FE;\n",
              "      border: none;\n",
              "      border-radius: 50%;\n",
              "      cursor: pointer;\n",
              "      display: none;\n",
              "      fill: #1967D2;\n",
              "      height: 32px;\n",
              "      padding: 0 0 0 0;\n",
              "      width: 32px;\n",
              "    }\n",
              "\n",
              "    .colab-df-convert:hover {\n",
              "      background-color: #E2EBFA;\n",
              "      box-shadow: 0px 1px 2px rgba(60, 64, 67, 0.3), 0px 1px 3px 1px rgba(60, 64, 67, 0.15);\n",
              "      fill: #174EA6;\n",
              "    }\n",
              "\n",
              "    [theme=dark] .colab-df-convert {\n",
              "      background-color: #3B4455;\n",
              "      fill: #D2E3FC;\n",
              "    }\n",
              "\n",
              "    [theme=dark] .colab-df-convert:hover {\n",
              "      background-color: #434B5C;\n",
              "      box-shadow: 0px 1px 3px 1px rgba(0, 0, 0, 0.15);\n",
              "      filter: drop-shadow(0px 1px 2px rgba(0, 0, 0, 0.3));\n",
              "      fill: #FFFFFF;\n",
              "    }\n",
              "  </style>\n",
              "\n",
              "      <script>\n",
              "        const buttonEl =\n",
              "          document.querySelector('#df-bfe053c4-8df0-4907-be34-2a5e14889253 button.colab-df-convert');\n",
              "        buttonEl.style.display =\n",
              "          google.colab.kernel.accessAllowed ? 'block' : 'none';\n",
              "\n",
              "        async function convertToInteractive(key) {\n",
              "          const element = document.querySelector('#df-bfe053c4-8df0-4907-be34-2a5e14889253');\n",
              "          const dataTable =\n",
              "            await google.colab.kernel.invokeFunction('convertToInteractive',\n",
              "                                                     [key], {});\n",
              "          if (!dataTable) return;\n",
              "\n",
              "          const docLinkHtml = 'Like what you see? Visit the ' +\n",
              "            '<a target=\"_blank\" href=https://colab.research.google.com/notebooks/data_table.ipynb>data table notebook</a>'\n",
              "            + ' to learn more about interactive tables.';\n",
              "          element.innerHTML = '';\n",
              "          dataTable['output_type'] = 'display_data';\n",
              "          await google.colab.output.renderOutput(dataTable, element);\n",
              "          const docLink = document.createElement('div');\n",
              "          docLink.innerHTML = docLinkHtml;\n",
              "          element.appendChild(docLink);\n",
              "        }\n",
              "      </script>\n",
              "    </div>\n",
              "  </div>\n"
            ]
          },
          "metadata": {},
          "execution_count": 48
        }
      ]
    },
    {
      "cell_type": "code",
      "source": [
        "model_3.summary()"
      ],
      "metadata": {
        "id": "6f5Kx8ULk_Fd",
        "outputId": "eea96bc5-5ba3-4b23-a9e3-99dd12f29ce1",
        "colab": {
          "base_uri": "https://localhost:8080/"
        }
      },
      "execution_count": null,
      "outputs": [
        {
          "output_type": "stream",
          "name": "stdout",
          "text": [
            "Model: \"sequential_4\"\n",
            "_________________________________________________________________\n",
            " Layer (type)                Output Shape              Param #   \n",
            "=================================================================\n",
            " dense_6 (Dense)             (None, 10)                20        \n",
            "                                                                 \n",
            " dense_7 (Dense)             (None, 1)                 11        \n",
            "                                                                 \n",
            "=================================================================\n",
            "Total params: 31\n",
            "Trainable params: 31\n",
            "Non-trainable params: 0\n",
            "_________________________________________________________________\n"
          ]
        }
      ]
    },
    {
      "cell_type": "markdown",
      "source": [
        "🔑 one of your main goal should be to minimize the time between your experiments. The more things you will figure out which don't work and in turn, get closure to figure out what does. learning practitioner's motto: \"experiment, experiment, experiment\"."
      ],
      "metadata": {
        "id": "NPdPAcG8vyw_"
      }
    },
    {
      "cell_type": "code",
      "source": [
        "## Tracking your experiments\n",
        "\n",
        "# One really good habits in machine learning modelling"
      ],
      "metadata": {
        "id": "27rxFlymxOVm"
      },
      "execution_count": null,
      "outputs": []
    },
    {
      "cell_type": "markdown",
      "source": [
        "## Tracking your experiments\n",
        "\n",
        "One really good habits in machine learning modelling is to track the results of your experiments.\n",
        "\n",
        "And while doing so, can be tedious when running lots of experiments.\n",
        "\n",
        "Luckily, there are tools to help us!\n",
        "\n",
        "📔 Resources: As you build your models, you'll want to look into using:\n",
        "\n",
        "*   [Tensorboard](https://www.tensorflow.org/tensorboard) - a component of the TensorFlow library to help tracking modelling experiments(We'll see this one later).\n",
        "*   [Weight & Biases](https://wandb.ai/site) - A tool for tracking all kind of machine learning experiments(plug straight to TensorBoard).\n",
        "\n",
        "🔽 **Saving our models**\n",
        "\n",
        "Saving our models help us to use them outside of Google Colab(or whereever they were trained) such as in a mobile application or Web app.\n",
        "1. The SavedModel format.\n",
        "2. The HDF5 format.\n"
      ],
      "metadata": {
        "id": "vXSBmYAQxpm2"
      }
    },
    {
      "cell_type": "code",
      "source": [
        "# Save model using SavedModel format\n",
        "model_2.save(\"best_model_SavedModel_format\")"
      ],
      "metadata": {
        "colab": {
          "base_uri": "https://localhost:8080/"
        },
        "id": "hVY_eCgm_2Sd",
        "outputId": "39c09230-3bed-49f8-bccd-394919f20e35"
      },
      "execution_count": null,
      "outputs": [
        {
          "output_type": "stream",
          "name": "stderr",
          "text": [
            "WARNING:absl:Found untraced functions such as _update_step_xla while saving (showing 1 of 1). These functions will not be directly callable after loading.\n"
          ]
        }
      ]
    },
    {
      "cell_type": "code",
      "source": [
        "# Save model using HDF5 format\n",
        "model_2.save(\"best_model_HDF5_format.h5\")"
      ],
      "metadata": {
        "id": "mgvx-MPWAxXR"
      },
      "execution_count": null,
      "outputs": []
    },
    {
      "cell_type": "markdown",
      "source": [
        "🔽\n",
        "**Loading in a Saved Model**"
      ],
      "metadata": {
        "id": "eEWc2D3JBHlw"
      }
    },
    {
      "cell_type": "code",
      "source": [
        "# Load in the SaveModel format model\n",
        "loaded_SavedModel_format = tf.keras.models.load_model(\"best_model_SavedModel_format\")\n",
        "loaded_SavedModel_format.summary()"
      ],
      "metadata": {
        "colab": {
          "base_uri": "https://localhost:8080/"
        },
        "id": "o3eurtWOBbBp",
        "outputId": "295d5bbc-b41c-4691-e969-988f0b273b75"
      },
      "execution_count": null,
      "outputs": [
        {
          "output_type": "stream",
          "name": "stdout",
          "text": [
            "Model: \"sequential_3\"\n",
            "_________________________________________________________________\n",
            " Layer (type)                Output Shape              Param #   \n",
            "=================================================================\n",
            " dense_4 (Dense)             (None, 10)                20        \n",
            "                                                                 \n",
            " dense_5 (Dense)             (None, 1)                 11        \n",
            "                                                                 \n",
            "=================================================================\n",
            "Total params: 31\n",
            "Trainable params: 31\n",
            "Non-trainable params: 0\n",
            "_________________________________________________________________\n"
          ]
        }
      ]
    },
    {
      "cell_type": "code",
      "source": [
        "# Compare model_2 predictions with SavedModel format model predictions\n",
        "model_2_preds = model_2.predict(X_test)\n",
        "loaded_SavedModel_format_preds = loaded_SavedModel_format.predict(X_test)\n",
        "model_2_preds == loaded_SavedModel_format_preds"
      ],
      "metadata": {
        "colab": {
          "base_uri": "https://localhost:8080/"
        },
        "id": "oaEjG088B669",
        "outputId": "2d218dc7-4b14-418d-f8a8-bfc903ceec0e"
      },
      "execution_count": null,
      "outputs": [
        {
          "output_type": "stream",
          "name": "stdout",
          "text": [
            "1/1 [==============================] - 0s 24ms/step\n",
            "1/1 [==============================] - 0s 42ms/step\n"
          ]
        },
        {
          "output_type": "execute_result",
          "data": {
            "text/plain": [
              "array([[ True],\n",
              "       [ True],\n",
              "       [ True],\n",
              "       [ True],\n",
              "       [ True],\n",
              "       [ True],\n",
              "       [ True],\n",
              "       [ True],\n",
              "       [ True],\n",
              "       [ True]])"
            ]
          },
          "metadata": {},
          "execution_count": 54
        }
      ]
    },
    {
      "cell_type": "code",
      "source": [
        "# Compare the MAE of model_2 preds and loaded SavedModel_preds\n",
        "mae(y_true=Y_test, Y_pred=model_2_preds) == mae(y_true=Y_test, Y_pred=loaded_SavedModel_format_preds)"
      ],
      "metadata": {
        "colab": {
          "base_uri": "https://localhost:8080/"
        },
        "id": "xvq-f4W6E1X6",
        "outputId": "2a891f38-079c-4914-efb2-cf8f57a78c6d"
      },
      "execution_count": null,
      "outputs": [
        {
          "output_type": "execute_result",
          "data": {
            "text/plain": [
              "<tf.Tensor: shape=(), dtype=bool, numpy=True>"
            ]
          },
          "metadata": {},
          "execution_count": 55
        }
      ]
    },
    {
      "cell_type": "code",
      "source": [
        "# Load in  a model using  the .h5 format\n",
        "loaded_h5_model = tf.keras.models.load_model(\"/content/best_model_HDF5_format.h5\")\n",
        "loaded_h5_model.summary()"
      ],
      "metadata": {
        "colab": {
          "base_uri": "https://localhost:8080/"
        },
        "id": "eB4KSJdyPCYq",
        "outputId": "c2276cc8-50d7-45c3-cefe-f4ec68351581"
      },
      "execution_count": null,
      "outputs": [
        {
          "output_type": "stream",
          "name": "stdout",
          "text": [
            "Model: \"sequential_3\"\n",
            "_________________________________________________________________\n",
            " Layer (type)                Output Shape              Param #   \n",
            "=================================================================\n",
            " dense_4 (Dense)             (None, 10)                20        \n",
            "                                                                 \n",
            " dense_5 (Dense)             (None, 1)                 11        \n",
            "                                                                 \n",
            "=================================================================\n",
            "Total params: 31\n",
            "Trainable params: 31\n",
            "Non-trainable params: 0\n",
            "_________________________________________________________________\n"
          ]
        }
      ]
    },
    {
      "cell_type": "code",
      "source": [
        "# Check to see if loaded .h5 model predictions match model_2\n",
        "model_2_preds = model_2.predict(X_test)\n",
        "loaded_h5_model_preds = loaded_h5_model.predict(X_test)\n",
        "model_2_preds == loaded_h5_model_preds"
      ],
      "metadata": {
        "colab": {
          "base_uri": "https://localhost:8080/"
        },
        "id": "weIy0kPFPhjq",
        "outputId": "d39ec37a-f0f8-4983-b383-c638dc7dc71c"
      },
      "execution_count": null,
      "outputs": [
        {
          "output_type": "stream",
          "name": "stdout",
          "text": [
            "1/1 [==============================] - 0s 19ms/step\n",
            "1/1 [==============================] - 0s 44ms/step\n"
          ]
        },
        {
          "output_type": "execute_result",
          "data": {
            "text/plain": [
              "array([[ True],\n",
              "       [ True],\n",
              "       [ True],\n",
              "       [ True],\n",
              "       [ True],\n",
              "       [ True],\n",
              "       [ True],\n",
              "       [ True],\n",
              "       [ True],\n",
              "       [ True]])"
            ]
          },
          "metadata": {},
          "execution_count": 57
        }
      ]
    },
    {
      "cell_type": "markdown",
      "source": [
        "## Download a model (or any other file) from Google Colab\n",
        "\n",
        "If you want to download your files from Google Colab:\n",
        "\n",
        "1. You can go to the \"files\" tab and right click on the file you're after and click \"download\".\n",
        "2. Use Code (see )"
      ],
      "metadata": {
        "id": "YvZO3aRDQvI9"
      }
    },
    {
      "cell_type": "code",
      "source": [
        "X_train, Y_train"
      ],
      "metadata": {
        "colab": {
          "base_uri": "https://localhost:8080/"
        },
        "id": "_bXEatCJoWYg",
        "outputId": "608bcdbf-0b50-4be7-ec0d-bf2831e513c2"
      },
      "execution_count": null,
      "outputs": [
        {
          "output_type": "execute_result",
          "data": {
            "text/plain": [
              "(<tf.Tensor: shape=(40,), dtype=int32, numpy=\n",
              " array([-100,  -96,  -92,  -88,  -84,  -80,  -76,  -72,  -68,  -64,  -60,\n",
              "         -56,  -52,  -48,  -44,  -40,  -36,  -32,  -28,  -24,  -20,  -16,\n",
              "         -12,   -8,   -4,    0,    4,    8,   12,   16,   20,   24,   28,\n",
              "          32,   36,   40,   44,   48,   52,   56], dtype=int32)>,\n",
              " <tf.Tensor: shape=(40,), dtype=int32, numpy=\n",
              " array([-90, -86, -82, -78, -74, -70, -66, -62, -58, -54, -50, -46, -42,\n",
              "        -38, -34, -30, -26, -22, -18, -14, -10,  -6,  -2,   2,   6,  10,\n",
              "         14,  18,  22,  26,  30,  34,  38,  42,  46,  50,  54,  58,  62,\n",
              "         66], dtype=int32)>)"
            ]
          },
          "metadata": {},
          "execution_count": 58
        }
      ]
    },
    {
      "cell_type": "markdown",
      "source": [
        "**A Larger Dataset**"
      ],
      "metadata": {
        "id": "Z7YcRxJaqUc4"
      }
    },
    {
      "cell_type": "code",
      "source": [
        "# Important required library\n",
        "import tensorflow as tf\n",
        "import pandas as pd\n",
        "import matplotlib.pyplot as plt\n"
      ],
      "metadata": {
        "id": "i-_1jFKAquDz"
      },
      "execution_count": null,
      "outputs": []
    },
    {
      "cell_type": "code",
      "source": [
        "# Read in the insurance dataset\n",
        "insurance = pd.read_csv(\"https://raw.githubusercontent.com/stedy/Machine-Learning-with-R-datasets/master/insurance.csv\")\n",
        "\n"
      ],
      "metadata": {
        "colab": {
          "base_uri": "https://localhost:8080/",
          "height": 349
        },
        "id": "wp67WuHb0lvi",
        "outputId": "84f70301-f3f1-4379-b913-5a93222b7a35"
      },
      "execution_count": 61,
      "outputs": [
        {
          "output_type": "error",
          "ename": "AttributeError",
          "evalue": "ignored",
          "traceback": [
            "\u001b[0;31m---------------------------------------------------------------------------\u001b[0m",
            "\u001b[0;31mAttributeError\u001b[0m                            Traceback (most recent call last)",
            "\u001b[0;32m<ipython-input-61-35319db662a9>\u001b[0m in \u001b[0;36m<cell line: 3>\u001b[0;34m()\u001b[0m\n\u001b[1;32m      1\u001b[0m \u001b[0;31m# Read in the insurance dataset\u001b[0m\u001b[0;34m\u001b[0m\u001b[0;34m\u001b[0m\u001b[0m\n\u001b[1;32m      2\u001b[0m \u001b[0minsurance\u001b[0m \u001b[0;34m=\u001b[0m \u001b[0mpd\u001b[0m\u001b[0;34m.\u001b[0m\u001b[0mread_csv\u001b[0m\u001b[0;34m(\u001b[0m\u001b[0;34m\"https://raw.githubusercontent.com/stedy/Machine-Learning-with-R-datasets/master/insurance.csv\"\u001b[0m\u001b[0;34m)\u001b[0m\u001b[0;34m\u001b[0m\u001b[0;34m\u001b[0m\u001b[0m\n\u001b[0;32m----> 3\u001b[0;31m \u001b[0minsurance\u001b[0m\u001b[0;34m.\u001b[0m\u001b[0mget_dummies\u001b[0m\u001b[0;34m(\u001b[0m\u001b[0;34m)\u001b[0m\u001b[0;34m\u001b[0m\u001b[0;34m\u001b[0m\u001b[0m\n\u001b[0m",
            "\u001b[0;32m/usr/local/lib/python3.10/dist-packages/pandas/core/generic.py\u001b[0m in \u001b[0;36m__getattr__\u001b[0;34m(self, name)\u001b[0m\n\u001b[1;32m   5900\u001b[0m         ):\n\u001b[1;32m   5901\u001b[0m             \u001b[0;32mreturn\u001b[0m \u001b[0mself\u001b[0m\u001b[0;34m[\u001b[0m\u001b[0mname\u001b[0m\u001b[0;34m]\u001b[0m\u001b[0;34m\u001b[0m\u001b[0;34m\u001b[0m\u001b[0m\n\u001b[0;32m-> 5902\u001b[0;31m         \u001b[0;32mreturn\u001b[0m \u001b[0mobject\u001b[0m\u001b[0;34m.\u001b[0m\u001b[0m__getattribute__\u001b[0m\u001b[0;34m(\u001b[0m\u001b[0mself\u001b[0m\u001b[0;34m,\u001b[0m \u001b[0mname\u001b[0m\u001b[0;34m)\u001b[0m\u001b[0;34m\u001b[0m\u001b[0;34m\u001b[0m\u001b[0m\n\u001b[0m\u001b[1;32m   5903\u001b[0m \u001b[0;34m\u001b[0m\u001b[0m\n\u001b[1;32m   5904\u001b[0m     \u001b[0;32mdef\u001b[0m \u001b[0m__setattr__\u001b[0m\u001b[0;34m(\u001b[0m\u001b[0mself\u001b[0m\u001b[0;34m,\u001b[0m \u001b[0mname\u001b[0m\u001b[0;34m:\u001b[0m \u001b[0mstr\u001b[0m\u001b[0;34m,\u001b[0m \u001b[0mvalue\u001b[0m\u001b[0;34m)\u001b[0m \u001b[0;34m->\u001b[0m \u001b[0;32mNone\u001b[0m\u001b[0;34m:\u001b[0m\u001b[0;34m\u001b[0m\u001b[0;34m\u001b[0m\u001b[0m\n",
            "\u001b[0;31mAttributeError\u001b[0m: 'DataFrame' object has no attribute 'get_dummies'"
          ]
        }
      ]
    },
    {
      "cell_type": "code",
      "source": [
        "# Lets try one-hot encode our DataFrame so it's all numbers\n",
        "insurance_one_hot = pd.get_dummies(insurance)\n",
        "insurance_one_hot.head()"
      ],
      "metadata": {
        "colab": {
          "base_uri": "https://localhost:8080/",
          "height": 270
        },
        "id": "eh9ZCR148pQR",
        "outputId": "5824cd35-8940-416b-9073-0b91f4632ac4"
      },
      "execution_count": 63,
      "outputs": [
        {
          "output_type": "execute_result",
          "data": {
            "text/plain": [
              "   age     bmi  children      charges  sex_female  sex_male  smoker_no  \\\n",
              "0   19  27.900         0  16884.92400           1         0          0   \n",
              "1   18  33.770         1   1725.55230           0         1          1   \n",
              "2   28  33.000         3   4449.46200           0         1          1   \n",
              "3   33  22.705         0  21984.47061           0         1          1   \n",
              "4   32  28.880         0   3866.85520           0         1          1   \n",
              "\n",
              "   smoker_yes  region_northeast  region_northwest  region_southeast  \\\n",
              "0           1                 0                 0                 0   \n",
              "1           0                 0                 0                 1   \n",
              "2           0                 0                 0                 1   \n",
              "3           0                 0                 1                 0   \n",
              "4           0                 0                 1                 0   \n",
              "\n",
              "   region_southwest  \n",
              "0                 1  \n",
              "1                 0  \n",
              "2                 0  \n",
              "3                 0  \n",
              "4                 0  "
            ],
            "text/html": [
              "\n",
              "\n",
              "  <div id=\"df-8c0a3a8d-16f9-41c6-881e-2c730a99f55e\">\n",
              "    <div class=\"colab-df-container\">\n",
              "      <div>\n",
              "<style scoped>\n",
              "    .dataframe tbody tr th:only-of-type {\n",
              "        vertical-align: middle;\n",
              "    }\n",
              "\n",
              "    .dataframe tbody tr th {\n",
              "        vertical-align: top;\n",
              "    }\n",
              "\n",
              "    .dataframe thead th {\n",
              "        text-align: right;\n",
              "    }\n",
              "</style>\n",
              "<table border=\"1\" class=\"dataframe\">\n",
              "  <thead>\n",
              "    <tr style=\"text-align: right;\">\n",
              "      <th></th>\n",
              "      <th>age</th>\n",
              "      <th>bmi</th>\n",
              "      <th>children</th>\n",
              "      <th>charges</th>\n",
              "      <th>sex_female</th>\n",
              "      <th>sex_male</th>\n",
              "      <th>smoker_no</th>\n",
              "      <th>smoker_yes</th>\n",
              "      <th>region_northeast</th>\n",
              "      <th>region_northwest</th>\n",
              "      <th>region_southeast</th>\n",
              "      <th>region_southwest</th>\n",
              "    </tr>\n",
              "  </thead>\n",
              "  <tbody>\n",
              "    <tr>\n",
              "      <th>0</th>\n",
              "      <td>19</td>\n",
              "      <td>27.900</td>\n",
              "      <td>0</td>\n",
              "      <td>16884.92400</td>\n",
              "      <td>1</td>\n",
              "      <td>0</td>\n",
              "      <td>0</td>\n",
              "      <td>1</td>\n",
              "      <td>0</td>\n",
              "      <td>0</td>\n",
              "      <td>0</td>\n",
              "      <td>1</td>\n",
              "    </tr>\n",
              "    <tr>\n",
              "      <th>1</th>\n",
              "      <td>18</td>\n",
              "      <td>33.770</td>\n",
              "      <td>1</td>\n",
              "      <td>1725.55230</td>\n",
              "      <td>0</td>\n",
              "      <td>1</td>\n",
              "      <td>1</td>\n",
              "      <td>0</td>\n",
              "      <td>0</td>\n",
              "      <td>0</td>\n",
              "      <td>1</td>\n",
              "      <td>0</td>\n",
              "    </tr>\n",
              "    <tr>\n",
              "      <th>2</th>\n",
              "      <td>28</td>\n",
              "      <td>33.000</td>\n",
              "      <td>3</td>\n",
              "      <td>4449.46200</td>\n",
              "      <td>0</td>\n",
              "      <td>1</td>\n",
              "      <td>1</td>\n",
              "      <td>0</td>\n",
              "      <td>0</td>\n",
              "      <td>0</td>\n",
              "      <td>1</td>\n",
              "      <td>0</td>\n",
              "    </tr>\n",
              "    <tr>\n",
              "      <th>3</th>\n",
              "      <td>33</td>\n",
              "      <td>22.705</td>\n",
              "      <td>0</td>\n",
              "      <td>21984.47061</td>\n",
              "      <td>0</td>\n",
              "      <td>1</td>\n",
              "      <td>1</td>\n",
              "      <td>0</td>\n",
              "      <td>0</td>\n",
              "      <td>1</td>\n",
              "      <td>0</td>\n",
              "      <td>0</td>\n",
              "    </tr>\n",
              "    <tr>\n",
              "      <th>4</th>\n",
              "      <td>32</td>\n",
              "      <td>28.880</td>\n",
              "      <td>0</td>\n",
              "      <td>3866.85520</td>\n",
              "      <td>0</td>\n",
              "      <td>1</td>\n",
              "      <td>1</td>\n",
              "      <td>0</td>\n",
              "      <td>0</td>\n",
              "      <td>1</td>\n",
              "      <td>0</td>\n",
              "      <td>0</td>\n",
              "    </tr>\n",
              "  </tbody>\n",
              "</table>\n",
              "</div>\n",
              "      <button class=\"colab-df-convert\" onclick=\"convertToInteractive('df-8c0a3a8d-16f9-41c6-881e-2c730a99f55e')\"\n",
              "              title=\"Convert this dataframe to an interactive table.\"\n",
              "              style=\"display:none;\">\n",
              "\n",
              "  <svg xmlns=\"http://www.w3.org/2000/svg\" height=\"24px\"viewBox=\"0 0 24 24\"\n",
              "       width=\"24px\">\n",
              "    <path d=\"M0 0h24v24H0V0z\" fill=\"none\"/>\n",
              "    <path d=\"M18.56 5.44l.94 2.06.94-2.06 2.06-.94-2.06-.94-.94-2.06-.94 2.06-2.06.94zm-11 1L8.5 8.5l.94-2.06 2.06-.94-2.06-.94L8.5 2.5l-.94 2.06-2.06.94zm10 10l.94 2.06.94-2.06 2.06-.94-2.06-.94-.94-2.06-.94 2.06-2.06.94z\"/><path d=\"M17.41 7.96l-1.37-1.37c-.4-.4-.92-.59-1.43-.59-.52 0-1.04.2-1.43.59L10.3 9.45l-7.72 7.72c-.78.78-.78 2.05 0 2.83L4 21.41c.39.39.9.59 1.41.59.51 0 1.02-.2 1.41-.59l7.78-7.78 2.81-2.81c.8-.78.8-2.07 0-2.86zM5.41 20L4 18.59l7.72-7.72 1.47 1.35L5.41 20z\"/>\n",
              "  </svg>\n",
              "      </button>\n",
              "\n",
              "\n",
              "\n",
              "    <div id=\"df-e3fd6c93-0d94-49bf-af9d-14a042a769b5\">\n",
              "      <button class=\"colab-df-quickchart\" onclick=\"quickchart('df-e3fd6c93-0d94-49bf-af9d-14a042a769b5')\"\n",
              "              title=\"Suggest charts.\"\n",
              "              style=\"display:none;\">\n",
              "\n",
              "<svg xmlns=\"http://www.w3.org/2000/svg\" height=\"24px\"viewBox=\"0 0 24 24\"\n",
              "     width=\"24px\">\n",
              "    <g>\n",
              "        <path d=\"M19 3H5c-1.1 0-2 .9-2 2v14c0 1.1.9 2 2 2h14c1.1 0 2-.9 2-2V5c0-1.1-.9-2-2-2zM9 17H7v-7h2v7zm4 0h-2V7h2v10zm4 0h-2v-4h2v4z\"/>\n",
              "    </g>\n",
              "</svg>\n",
              "      </button>\n",
              "    </div>\n",
              "\n",
              "<style>\n",
              "  .colab-df-quickchart {\n",
              "    background-color: #E8F0FE;\n",
              "    border: none;\n",
              "    border-radius: 50%;\n",
              "    cursor: pointer;\n",
              "    display: none;\n",
              "    fill: #1967D2;\n",
              "    height: 32px;\n",
              "    padding: 0 0 0 0;\n",
              "    width: 32px;\n",
              "  }\n",
              "\n",
              "  .colab-df-quickchart:hover {\n",
              "    background-color: #E2EBFA;\n",
              "    box-shadow: 0px 1px 2px rgba(60, 64, 67, 0.3), 0px 1px 3px 1px rgba(60, 64, 67, 0.15);\n",
              "    fill: #174EA6;\n",
              "  }\n",
              "\n",
              "  [theme=dark] .colab-df-quickchart {\n",
              "    background-color: #3B4455;\n",
              "    fill: #D2E3FC;\n",
              "  }\n",
              "\n",
              "  [theme=dark] .colab-df-quickchart:hover {\n",
              "    background-color: #434B5C;\n",
              "    box-shadow: 0px 1px 3px 1px rgba(0, 0, 0, 0.15);\n",
              "    filter: drop-shadow(0px 1px 2px rgba(0, 0, 0, 0.3));\n",
              "    fill: #FFFFFF;\n",
              "  }\n",
              "</style>\n",
              "\n",
              "    <script>\n",
              "      async function quickchart(key) {\n",
              "        const containerElement = document.querySelector('#' + key);\n",
              "        const charts = await google.colab.kernel.invokeFunction(\n",
              "            'suggestCharts', [key], {});\n",
              "      }\n",
              "    </script>\n",
              "\n",
              "      <script>\n",
              "\n",
              "function displayQuickchartButton(domScope) {\n",
              "  let quickchartButtonEl =\n",
              "    domScope.querySelector('#df-e3fd6c93-0d94-49bf-af9d-14a042a769b5 button.colab-df-quickchart');\n",
              "  quickchartButtonEl.style.display =\n",
              "    google.colab.kernel.accessAllowed ? 'block' : 'none';\n",
              "}\n",
              "\n",
              "        displayQuickchartButton(document);\n",
              "      </script>\n",
              "      <style>\n",
              "    .colab-df-container {\n",
              "      display:flex;\n",
              "      flex-wrap:wrap;\n",
              "      gap: 12px;\n",
              "    }\n",
              "\n",
              "    .colab-df-convert {\n",
              "      background-color: #E8F0FE;\n",
              "      border: none;\n",
              "      border-radius: 50%;\n",
              "      cursor: pointer;\n",
              "      display: none;\n",
              "      fill: #1967D2;\n",
              "      height: 32px;\n",
              "      padding: 0 0 0 0;\n",
              "      width: 32px;\n",
              "    }\n",
              "\n",
              "    .colab-df-convert:hover {\n",
              "      background-color: #E2EBFA;\n",
              "      box-shadow: 0px 1px 2px rgba(60, 64, 67, 0.3), 0px 1px 3px 1px rgba(60, 64, 67, 0.15);\n",
              "      fill: #174EA6;\n",
              "    }\n",
              "\n",
              "    [theme=dark] .colab-df-convert {\n",
              "      background-color: #3B4455;\n",
              "      fill: #D2E3FC;\n",
              "    }\n",
              "\n",
              "    [theme=dark] .colab-df-convert:hover {\n",
              "      background-color: #434B5C;\n",
              "      box-shadow: 0px 1px 3px 1px rgba(0, 0, 0, 0.15);\n",
              "      filter: drop-shadow(0px 1px 2px rgba(0, 0, 0, 0.3));\n",
              "      fill: #FFFFFF;\n",
              "    }\n",
              "  </style>\n",
              "\n",
              "      <script>\n",
              "        const buttonEl =\n",
              "          document.querySelector('#df-8c0a3a8d-16f9-41c6-881e-2c730a99f55e button.colab-df-convert');\n",
              "        buttonEl.style.display =\n",
              "          google.colab.kernel.accessAllowed ? 'block' : 'none';\n",
              "\n",
              "        async function convertToInteractive(key) {\n",
              "          const element = document.querySelector('#df-8c0a3a8d-16f9-41c6-881e-2c730a99f55e');\n",
              "          const dataTable =\n",
              "            await google.colab.kernel.invokeFunction('convertToInteractive',\n",
              "                                                     [key], {});\n",
              "          if (!dataTable) return;\n",
              "\n",
              "          const docLinkHtml = 'Like what you see? Visit the ' +\n",
              "            '<a target=\"_blank\" href=https://colab.research.google.com/notebooks/data_table.ipynb>data table notebook</a>'\n",
              "            + ' to learn more about interactive tables.';\n",
              "          element.innerHTML = '';\n",
              "          dataTable['output_type'] = 'display_data';\n",
              "          await google.colab.output.renderOutput(dataTable, element);\n",
              "          const docLink = document.createElement('div');\n",
              "          docLink.innerHTML = docLinkHtml;\n",
              "          element.appendChild(docLink);\n",
              "        }\n",
              "      </script>\n",
              "    </div>\n",
              "  </div>\n"
            ]
          },
          "metadata": {},
          "execution_count": 63
        }
      ]
    },
    {
      "cell_type": "code",
      "source": [
        "# Create X & Y values (feature and labels)\n",
        "# Create training and headset\n",
        "# Build a neural network (sort of like model_2 above)"
      ],
      "metadata": {
        "id": "Rwg8p3Vs9s5h"
      },
      "execution_count": null,
      "outputs": []
    }
  ],
  "metadata": {
    "colab": {
      "provenance": [],
      "toc_visible": true,
      "include_colab_link": true
    },
    "kernelspec": {
      "display_name": "Python 3",
      "name": "python3"
    }
  },
  "nbformat": 4,
  "nbformat_minor": 0
}