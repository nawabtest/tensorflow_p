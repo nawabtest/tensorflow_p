{
  "cells": [
    {
      "cell_type": "markdown",
      "metadata": {
        "id": "view-in-github",
        "colab_type": "text"
      },
      "source": [
        "<a href=\"https://colab.research.google.com/github/nawabtest/tensorflow_p/blob/dev/Copy_of_Overview_of_Colaboratory_Features.ipynb\" target=\"_parent\"><img src=\"https://colab.research.google.com/assets/colab-badge.svg\" alt=\"Open In Colab\"/></a>"
      ]
    },
    {
      "cell_type": "markdown",
      "metadata": {
        "id": "JyG45Qk3qQLS"
      },
      "source": [
        "# Cells\n",
        "A notebook is a list of cells. Cells contain either explanatory text or executable code and its output. Click a cell to select it."
      ]
    },
    {
      "cell_type": "code",
      "source": [],
      "metadata": {
        "id": "70n77ofaEnea"
      },
      "execution_count": null,
      "outputs": []
    },
    {
      "cell_type": "markdown",
      "metadata": {
        "id": "KR921S_OQSHG"
      },
      "source": [
        "## Code cells\n",
        "Below is a **code cell**. Once the toolbar button indicates CONNECTED, click in the cell to select it and execute the contents in the following ways:\n",
        "\n",
        "* Click the **Play icon** in the left gutter of the cell;\n",
        "* Type **Cmd/Ctrl+Enter** to run the cell in place;\n",
        "* Type **Shift+Enter** to run the cell and move focus to the next cell (adding one if none exists); or\n",
        "* Type **Alt+Enter** to run the cell and insert a new code cell immediately below it.\n",
        "\n",
        "There are additional options for running some or all cells in the **Runtime** menu.\n"
      ]
    },
    {
      "cell_type": "code",
      "execution_count": 1,
      "metadata": {
        "cellView": "both",
        "colab": {
          "base_uri": "https://localhost:8080/"
        },
        "id": "WUtu4316QSHL",
        "outputId": "e5b7c933-d3cb-4baa-aae6-39fcc8ac58a1"
      },
      "outputs": [
        {
          "output_type": "execute_result",
          "data": {
            "text/plain": [
              "10"
            ]
          },
          "metadata": {},
          "execution_count": 1
        }
      ],
      "source": [
        "a = 10\n",
        "a"
      ]
    },
    {
      "cell_type": "markdown",
      "metadata": {
        "id": "Id6tDF1HQSHD"
      },
      "source": [
        "## Text cells\n",
        "This is a **text cell**. You can **double-click** to edit this cell. Text cells\n",
        "use markdown syntax. To learn more, see our [markdown\n",
        "guide](/notebooks/markdown_guide.ipynb).\n",
        "\n",
        "You can also add math to text cells using [LaTeX](http://www.latex-project.org/)\n",
        "to be rendered by [MathJax](https://www.mathjax.org). Just place the statement\n",
        "within a pair of **\\$** signs. For example `$\\sqrt{3x-1}+(1+x)^2$` becomes\n",
        "$\\sqrt{3x-1}+(1+x)^2.$\n"
      ]
    },
    {
      "cell_type": "markdown",
      "metadata": {
        "id": "7bqjkGKwQSHW"
      },
      "source": [
        "## Adding and moving cells\n",
        "You can add new cells by using the **+ CODE** and **+ TEXT** buttons that show when you hover between cells. These buttons are also in the toolbar above the notebook where they can be used to add a cell below the currently selected cell.\n",
        "\n",
        "You can move a cell by selecting it and clicking **Cell Up** or **Cell Down** in the top toolbar.\n",
        "\n",
        "Consecutive cells can be selected by \"lasso selection\" by dragging from outside one cell and through the group.  Non-adjacent cells can be selected concurrently by clicking one and then holding down Ctrl while clicking another.  Similarly, using Shift instead of Ctrl will select all intermediate cells."
      ]
    },
    {
      "cell_type": "markdown",
      "metadata": {
        "id": "GOwlZRXEQSHZ"
      },
      "source": [
        "# Working with python\n",
        "Colaboratory is built on top of [Jupyter Notebook](https://jupyter.org/). Below are some examples of convenience functions provided."
      ]
    },
    {
      "cell_type": "markdown",
      "metadata": {
        "id": "RVuqWUXPQSHa"
      },
      "source": [
        "Long running python processes can be interrupted. Run the following cell and select **Runtime -> Interrupt execution** (*hotkey: Cmd/Ctrl-M I*) to stop execution."
      ]
    },
    {
      "cell_type": "code",
      "execution_count": 2,
      "metadata": {
        "cellView": "both",
        "colab": {
          "base_uri": "https://localhost:8080/"
        },
        "id": "d-S-3nYLQSHb",
        "outputId": "bd8a32c1-d787-4538-cf96-e7682b79bcc8"
      },
      "outputs": [
        {
          "output_type": "stream",
          "name": "stdout",
          "text": [
            "Sleeping\n",
            "Done Sleeping\n"
          ]
        }
      ],
      "source": [
        "import time\n",
        "print(\"Sleeping\")\n",
        "time.sleep(30) # sleep for a while; interrupt me!\n",
        "print(\"Done Sleeping\")"
      ]
    },
    {
      "cell_type": "markdown",
      "metadata": {
        "id": "Wej_mEyXQSHc"
      },
      "source": [
        "## System aliases\n",
        "\n",
        "Jupyter includes shortcuts for common operations, such as ls:"
      ]
    },
    {
      "cell_type": "code",
      "execution_count": 3,
      "metadata": {
        "cellView": "both",
        "colab": {
          "base_uri": "https://localhost:8080/"
        },
        "id": "5OCYEvK5QSHf",
        "outputId": "8b0ea461-76d7-4580-e3eb-df3d7ed26c90"
      },
      "outputs": [
        {
          "output_type": "stream",
          "name": "stdout",
          "text": [
            "'['\t\t\t\t      mpiCC\n",
            " 2to3-2.7\t\t\t      mpicc.openmpi\n",
            " 2to3-3.10\t\t\t      mpiCC.openmpi\n",
            " 7z\t\t\t\t      mpic++.openmpi\n",
            " 7za\t\t\t\t      mpicxx\n",
            " 7zr\t\t\t\t      mpicxx.openmpi\n",
            " aclocal\t\t\t      mpiexec\n",
            " aclocal-1.16\t\t\t      mpiexec.openmpi\n",
            " acyclic\t\t\t      mpif77\n",
            " add-apt-repository\t\t      mpif77.openmpi\n",
            " addpart\t\t\t      mpif90\n",
            " addr2line\t\t\t      mpif90.openmpi\n",
            " apropos\t\t\t      mpifort\n",
            " apt\t\t\t\t      mpifort.openmpi\n",
            " apt-add-repository\t\t      mpirun\n",
            " apt-cache\t\t\t      mpirun.openmpi\n",
            " apt-cdrom\t\t\t      mtrace\n",
            " apt-config\t\t\t      mv\n",
            " apt-extracttemplates\t\t      mysql_config\n",
            " apt-ftparchive\t\t\t      namei\n",
            " apt-get\t\t\t      nawk\n",
            " apt-key\t\t\t      ncal\n",
            " apt-mark\t\t\t      nc-config\n",
            " apt-sortpkgs\t\t\t      ncurses5-config\n",
            " ar\t\t\t\t      ncurses6-config\n",
            " arch\t\t\t\t      ncursesw5-config\n",
            " as\t\t\t\t      ncursesw6-config\n",
            " asan_symbolize\t\t\t      neato\n",
            " asan_symbolize-10\t\t      neqn\n",
            " assistant\t\t\t      networkctl\n",
            " autoconf\t\t\t      newgrp\n",
            " autoheader\t\t\t      nice\n",
            " autom4te\t\t\t      nisdomainname\n",
            " automake\t\t\t      nl\n",
            " automake-1.16\t\t\t      nm\n",
            " autoreconf\t\t\t      nns\n",
            " autoscan\t\t\t      nnsd\n",
            " autoupdate\t\t\t      nnslog\n",
            " awk\t\t\t\t      nohup\n",
            " b2\t\t\t\t      nop\n",
            " b2sum\t\t\t\t      nproc\n",
            " base32\t\t\t\t      nroff\n",
            " base64\t\t\t\t      nsenter\n",
            " basename\t\t\t      nstat\n",
            " bash\t\t\t\t      numfmt\n",
            " bashbug\t\t\t      objcopy\n",
            " bcomps\t\t\t\t      objdump\n",
            " bcp\t\t\t\t      od\n",
            " bjam\t\t\t\t      odbcinst\n",
            " bootctl\t\t\t      ogdi-config\n",
            " browse\t\t\t\t      ompi-clean\n",
            " bsd-from\t\t\t      ompi_info\n",
            " bsd-write\t\t\t      ompi-server\n",
            " bunzip2\t\t\t      opalc++\n",
            " busctl\t\t\t\t      opalcc\n",
            " bzcat\t\t\t\t      opal_wrapper\n",
            " bzcmp\t\t\t\t      opencv_annotation\n",
            " bzdiff\t\t\t\t      opencv_interactive-calibration\n",
            " bzegrep\t\t\t      opencv_version\n",
            " bzexe\t\t\t\t      opencv_visualisation\n",
            " bzfgrep\t\t\t      opencv_waldboost_detector\n",
            " bzgrep\t\t\t\t      openssl\n",
            " bzip2\t\t\t\t      orte-clean\n",
            " bzip2recover\t\t\t      orted\n",
            " bzless\t\t\t\t      orterun\n",
            " bzmore\t\t\t\t      orte-server\n",
            " c++\t\t\t\t      osage\n",
            " c89\t\t\t\t      p7zip\n",
            " c89-gcc\t\t\t      pack200\n",
            " c99\t\t\t\t      page\n",
            " c99-gcc\t\t\t      pager\n",
            " cal\t\t\t\t      pandoc\n",
            " calendar\t\t\t      paperconf\n",
            " captoinfo\t\t\t      parallel\n",
            " cat\t\t\t\t      partx\n",
            " catchsegv\t\t\t      passwd\n",
            " catman\t\t\t\t      paste\n",
            " cautious-launcher\t\t      patch\n",
            " cc\t\t\t\t      patchwork\n",
            " ccomps\t\t\t\t      pathchk\n",
            " c++filt\t\t\t      pcre2-config\n",
            " chage\t\t\t\t      pcre-config\n",
            " chardet3\t\t\t      pdb2.7\n",
            " chardetect3\t\t\t      pdb3\n",
            " chattr\t\t\t\t      pdb3.10\n",
            " chcon\t\t\t\t      pdb3.8\n",
            " chfn\t\t\t\t      pee\n",
            " chgrp\t\t\t\t      peekfd\n",
            " chmod\t\t\t\t      perl\n",
            " choom\t\t\t\t      perl5.30.0\n",
            " chown\t\t\t\t      perl5.30-x86_64-linux-gnu\n",
            " chronic\t\t\t      perlbug\n",
            " chrt\t\t\t\t      perldoc\n",
            " chsh\t\t\t\t      perlivp\n",
            " circo\t\t\t\t      perlthanks\n",
            " cksum\t\t\t\t      pg_config\n",
            " clang\t\t\t\t      pgrep\n",
            " clang++\t\t\t      pic\n",
            " clang++-10\t\t\t      piconv\n",
            " clang-10\t\t\t      pidof\n",
            " clang-cpp-10\t\t\t      pinentry\n",
            " clear\t\t\t\t      pinentry-curses\n",
            " clear_console\t\t\t      pinky\n",
            " clinfo\t\t\t\t      pixeltool\n",
            " cluster\t\t\t      pkaction\n",
            " cmake\t\t\t\t      pkcheck\n",
            " cmp\t\t\t\t      pkexec\n",
            " col\t\t\t\t      pkg-config\n",
            " colcrt\t\t\t\t      pkgdata\n",
            " colrm\t\t\t\t      pkill\n",
            " column\t\t\t\t      pkttyagent\n",
            " combine\t\t\t      pl2pm\n",
            " comm\t\t\t\t      pldd\n",
            " compile_et\t\t\t      pmap\n",
            " compose\t\t\t      pngfix\n",
            " corelist\t\t\t      png-fix-itxt\n",
            " cp\t\t\t\t      pod2html\n",
            " cpack\t\t\t\t      pod2man\n",
            " cpan\t\t\t\t      pod2text\n",
            " cpan5.30-x86_64-linux-gnu\t      pod2usage\n",
            " cpp\t\t\t\t      podchecker\n",
            " cpp-9\t\t\t\t      podselect\n",
            " c_rehash\t\t\t      pr\n",
            " csplit\t\t\t\t      preconv\n",
            " ctest\t\t\t\t      prename\n",
            " ctstat\t\t\t\t      print\n",
            " curl\t\t\t\t      printenv\n",
            " curl-config\t\t\t      printerbanner\n",
            " cut\t\t\t\t      printf\n",
            " cvtsudoers\t\t\t      prlimit\n",
            " dash\t\t\t\t      protoc\n",
            " date\t\t\t\t      prove\n",
            " dbus-cleanup-sockets\t\t      prtstat\n",
            " dbus-daemon\t\t\t      prune\n",
            " dbus-monitor\t\t\t      ps\n",
            " dbus-run-session\t\t      pslog\n",
            " dbus-send\t\t\t      pstree\n",
            " dbus-update-activation-environment   pstree.x11\n",
            " dbus-uuidgen\t\t\t      pt\n",
            " dd\t\t\t\t      ptar\n",
            " debconf\t\t\t      ptardiff\n",
            " debconf-apt-progress\t\t      ptargrep\n",
            " debconf-communicate\t\t      ptx\n",
            " debconf-copydb\t\t\t      pwd\n",
            " debconf-escape\t\t\t      pwdx\n",
            " debconf-set-selections\t\t      py3clean\n",
            " debconf-show\t\t\t      py3compile\n",
            " deb-systemd-helper\t\t      py3versions\n",
            " deb-systemd-invoke\t\t      pydoc2.7\n",
            " delpart\t\t\t      pydoc3\n",
            " derb\t\t\t\t      pydoc3.10\n",
            " designer\t\t\t      pydoc3.8\n",
            " df\t\t\t\t      pygettext2.7\n",
            " dh_autotools-dev_restoreconfig       pygettext3\n",
            " dh_autotools-dev_updateconfig\t      pygettext3.10\n",
            " diff\t\t\t\t      pygettext3.8\n",
            " diff3\t\t\t\t      python2.7\n",
            " diffimg\t\t\t      python3\n",
            " dijkstra\t\t\t      python3.10\n",
            " dir\t\t\t\t      python3.10-config\n",
            " dircolors\t\t\t      python3.8\n",
            " dirmngr\t\t\t      python3.8-config\n",
            " dirmngr-client\t\t\t      python3-config\n",
            " dirname\t\t\t      qcollectiongenerator\n",
            " dmesg\t\t\t\t      qdbus\n",
            " dnsdomainname\t\t\t      qdbuscpp2xml\n",
            " domainname\t\t\t      qdbusviewer\n",
            " dot\t\t\t\t      qdbusxml2cpp\n",
            " dot2gxl\t\t\t      qdoc\n",
            " dot_builtins\t\t\t      qdoc3\n",
            " dotty\t\t\t\t      qgltf\n",
            " dpkg\t\t\t\t      qhelpconverter\n",
            " dpkg-architecture\t\t      qhelpgenerator\n",
            " dpkg-buildflags\t\t      qlalr\n",
            " dpkg-buildpackage\t\t      qmake\n",
            " dpkg-checkbuilddeps\t\t      qml\n",
            " dpkg-deb\t\t\t      qml1plugindump\n",
            " dpkg-distaddfile\t\t      qmlbundle\n",
            " dpkg-divert\t\t\t      qmlcachegen\n",
            " dpkg-genbuildinfo\t\t      qmleasing\n",
            " dpkg-genchanges\t\t      qmlimportscanner\n",
            " dpkg-gencontrol\t\t      qmljs\n",
            " dpkg-gensymbols\t\t      qmllint\n",
            " dpkg-maintscript-helper\t      qmlmin\n",
            " dpkg-mergechangelogs\t\t      qmlplugindump\n",
            " dpkg-name\t\t\t      qmlprofiler\n",
            " dpkg-parsechangelog\t\t      qmlscene\n",
            " dpkg-query\t\t\t      qmltestrunner\n",
            " dpkg-scanpackages\t\t      qmlviewer\n",
            " dpkg-scansources\t\t      qtattributionsscanner\n",
            " dpkg-shlibdeps\t\t\t      qtchooser\n",
            " dpkg-source\t\t\t      qtconfig\n",
            " dpkg-split\t\t\t      qtdiag\n",
            " dpkg-statoverride\t\t      qt-faststart\n",
            " dpkg-trigger\t\t\t      qtpaths\n",
            " dpkg-vendor\t\t\t      qtplugininfo\n",
            " dtplite\t\t\t      quickbook\n",
            " du\t\t\t\t      qvkgen\n",
            " dumpsexp\t\t\t      R\n",
            " dwp\t\t\t\t      ranlib\n",
            " echo\t\t\t\t      rbash\n",
            " edgepaint\t\t\t      rcc\n",
            " edit\t\t\t\t      rcp\n",
            " editor\t\t\t\t      rdma\n",
            " egrep\t\t\t\t      readelf\n",
            " elfedit\t\t\t      readlink\n",
            " enc2xs\t\t\t\t      realpath\n",
            " encguess\t\t\t      rename\n",
            " env\t\t\t\t      rename.ul\n",
            " eqn\t\t\t\t      renice\n",
            " errno\t\t\t\t      repc\n",
            " ex\t\t\t\t      reset\n",
            " expand\t\t\t\t      resizepart\n",
            " expiry\t\t\t\t      resolvectl\n",
            " expr\t\t\t\t      rev\n",
            " f77\t\t\t\t      rgrep\n",
            " f95\t\t\t\t      rlogin\n",
            " factor\t\t\t\t      rm\n",
            " faillog\t\t\t      rmdir\n",
            " fallocate\t\t\t      rmic\n",
            " false\t\t\t\t      rmid\n",
            " fc-cache\t\t\t      rmiregistry\n",
            " fc-cat\t\t\t\t      routef\n",
            " fc-conflist\t\t\t      routel\n",
            " fc-list\t\t\t      rpcgen\n",
            " fc-match\t\t\t      rrsync\n",
            " fc-pattern\t\t\t      Rscript\n",
            " fc-query\t\t\t      rsh\n",
            " fc-scan\t\t\t      rsync\n",
            " fc-validate\t\t\t      rtstat\n",
            " fdp\t\t\t\t      runcon\n",
            " ffmpeg\t\t\t\t      run-mailcap\n",
            " ffplay\t\t\t\t      run-parts\n",
            " ffprobe\t\t\t      rview\n",
            " fgrep\t\t\t\t      rvim\n",
            " file\t\t\t\t      savelog\n",
            " file-rename\t\t\t      sccmap\n",
            " fincore\t\t\t      scp\n",
            " find\t\t\t\t      script\n",
            " findmnt\t\t\t      scriptreplay\n",
            " fio\t\t\t\t      sdiff\n",
            " fio2gnuplot\t\t\t      sed\n",
            " fio-btrace2fio\t\t\t      see\n",
            " fio-dedupe\t\t\t      select-editor\n",
            " fio_generate_plots\t\t      sensible-browser\n",
            " fio-genzipf\t\t\t      sensible-editor\n",
            " flock\t\t\t\t      sensible-pager\n",
            " fmt\t\t\t\t      seq\n",
            " fold\t\t\t\t      serialver\n",
            " free\t\t\t\t      setarch\n",
            " from\t\t\t\t      setpriv\n",
            " funzip\t\t\t\t      setsid\n",
            " fuser\t\t\t\t      setterm\n",
            " fusermount\t\t\t      sfdp\n",
            " g++\t\t\t\t      sftp\n",
            " g++-9\t\t\t\t      sg\n",
            " gapplication\t\t\t      sh\n",
            " gc\t\t\t\t      sha1sum\n",
            " gcc\t\t\t\t      sha224sum\n",
            " gcc-9\t\t\t\t      sha256sum\n",
            " gcc-ar\t\t\t\t      sha384sum\n",
            " gcc-ar-9\t\t\t      sha512sum\n",
            " gcc-nm\t\t\t\t      shasum\n",
            " gcc-nm-9\t\t\t      shred\n",
            " gcc-ranlib\t\t\t      shuf\n",
            " gcc-ranlib-9\t\t\t      size\n",
            " gcov\t\t\t\t      skill\n",
            " gcov-9\t\t\t\t      slabtop\n",
            " gcov-dump\t\t\t      sleep\n",
            " gcov-dump-9\t\t\t      slogin\n",
            " gcov-tool\t\t\t      snice\n",
            " gcov-tool-9\t\t\t      soelim\n",
            " gdal-config\t\t\t      sort\n",
            " gdbus\t\t\t\t      sotruss\n",
            " genbrk\t\t\t\t      splain\n",
            " gencat\t\t\t\t      split\n",
            " gencfu\t\t\t\t      sponge\n",
            " gencnval\t\t\t      sprof\n",
            " gendict\t\t\t      ss\n",
            " genfio\t\t\t\t      ssh\n",
            " genrb\t\t\t\t      ssh-add\n",
            " geos-config\t\t\t      ssh-agent\n",
            " geqn\t\t\t\t      ssh-argv0\n",
            " getconf\t\t\t      ssh-copy-id\n",
            " getent\t\t\t\t      ssh-keygen\n",
            " getopt\t\t\t\t      ssh-keyscan\n",
            " gfortran\t\t\t      stat\n",
            " gfortran-9\t\t\t      stdbuf\n",
            " gio\t\t\t\t      strings\n",
            " gio-querymodules\t\t      strip\n",
            " git\t\t\t\t      stty\n",
            " git-lfs\t\t\t      su\n",
            " git-receive-pack\t\t      sudo\n",
            " git-shell\t\t\t      sudoedit\n",
            " git-upload-archive\t\t      sudoreplay\n",
            " git-upload-pack\t\t      sum\n",
            " glib-compile-schemas\t\t      symcryptrun\n",
            " gml2gv\t\t\t\t      sync\n",
            " gold\t\t\t\t      systemctl\n",
            " google-pprof\t\t\t      systemd\n",
            " gpasswd\t\t\t      systemd-analyze\n",
            " gpg\t\t\t\t      systemd-ask-password\n",
            " gpg2\t\t\t\t      systemd-cat\n",
            " gpg-agent\t\t\t      systemd-cgls\n",
            " gpgcompose\t\t\t      systemd-cgtop\n",
            " gpgconf\t\t\t      systemd-delta\n",
            " gpg-connect-agent\t\t      systemd-detect-virt\n",
            " gpg-error-config\t\t      systemd-escape\n",
            " gpgparsemail\t\t\t      systemd-id128\n",
            " gpgrt-config\t\t\t      systemd-inhibit\n",
            " gpgsm\t\t\t\t      systemd-machine-id-setup\n",
            " gpgsplit\t\t\t      systemd-mount\n",
            " gpgtar\t\t\t\t      systemd-notify\n",
            " gpgv\t\t\t\t      systemd-path\n",
            " gpg-wks-server\t\t\t      systemd-resolve\n",
            " gpg-zip\t\t\t      systemd-run\n",
            " gpic\t\t\t\t      systemd-socket-activate\n",
            " gprof\t\t\t\t      systemd-stdio-bridge\n",
            " graphml2gv\t\t\t      systemd-sysusers\n",
            " grep\t\t\t\t      systemd-tmpfiles\n",
            " gresource\t\t\t      systemd-tty-ask-password-agent\n",
            " groff\t\t\t\t      systemd-umount\n",
            " grog\t\t\t\t      tabs\n",
            " grops\t\t\t\t      tac\n",
            " grotty\t\t\t\t      tail\n",
            " groups\t\t\t\t      tar\n",
            " gsettings\t\t\t      taskset\n",
            " gtbl\t\t\t\t      tbl\n",
            " gtk-update-icon-cache\t\t      tcldocstrip\n",
            " gunzip\t\t\t\t      tclsh\n",
            " gv2gml\t\t\t\t      tclsh8.6\n",
            " gv2gxl\t\t\t\t      tcltk-depends\n",
            " gvcolor\t\t\t      tee\n",
            " gvgen\t\t\t\t      tempfile\n",
            " gvmap\t\t\t\t      test\n",
            " gvmap.sh\t\t\t      tic\n",
            " gvpack\t\t\t\t      timedatectl\n",
            " gvpr\t\t\t\t      timeout\n",
            " gxl2dot\t\t\t      tload\n",
            " gxl2gv\t\t\t\t      tmux\n",
            " gzexe\t\t\t\t      toe\n",
            " gzip\t\t\t\t      top\n",
            " h2ph\t\t\t\t      touch\n",
            " h2xs\t\t\t\t      tput\n",
            " h5c++\t\t\t\t      tr\n",
            " h5cc\t\t\t\t      tred\n",
            " h5fc\t\t\t\t      troff\n",
            " hd\t\t\t\t      true\n",
            " head\t\t\t\t      truncate\n",
            " helpztags\t\t\t      ts\n",
            " hexdump\t\t\t      tset\n",
            " hmac256\t\t\t      tsort\n",
            " hostid\t\t\t\t      tty\n",
            " hostname\t\t\t      twopi\n",
            " hostnamectl\t\t\t      tzselect\n",
            " i386\t\t\t\t      ucf\n",
            " iconv\t\t\t\t      ucfq\n",
            " icuinfo\t\t\t      ucfr\n",
            " id\t\t\t\t      uconv\n",
            " ifdata\t\t\t\t      uic\n",
            " ifnames\t\t\t      uic3\n",
            " ifne\t\t\t\t      ul\n",
            " infocmp\t\t\t      ulockmgr_server\n",
            " infotocap\t\t\t      umount\n",
            " inspect\t\t\t      uname\n",
            " install\t\t\t      uncompress\n",
            " instmodsh\t\t\t      unexpand\n",
            " ionice\t\t\t\t      unflatten\n",
            " ip\t\t\t\t      uniq\n",
            " ipcmk\t\t\t\t      unlink\n",
            " ipcrm\t\t\t\t      unlzma\n",
            " ipcs\t\t\t\t      unpack200\n",
            " ischroot\t\t\t      unrar\n",
            " isutf8\t\t\t\t      unrar-nonfree\n",
            " jaotc\t\t\t\t      unshare\n",
            " jar\t\t\t\t      unxz\n",
            " jarsigner\t\t\t      unzip\n",
            " java\t\t\t\t      unzipsfx\n",
            " javac\t\t\t\t      update-alternatives\n",
            " javadoc\t\t\t      update-mime-database\n",
            " javap\t\t\t\t      uptime\n",
            " jcmd\t\t\t\t      users\n",
            " jdb\t\t\t\t      utmpdump\n",
            " jdeprscan\t\t\t      vdir\n",
            " jdeps\t\t\t\t      vi\n",
            " jexec\t\t\t\t      vidir\n",
            " jfr\t\t\t\t      view\n",
            " jhsdb\t\t\t\t      vim\n",
            " jimage\t\t\t\t      vim.basic\n",
            " jinfo\t\t\t\t      vimdiff\n",
            " jjs\t\t\t\t      vimdot\n",
            " jlink\t\t\t\t      vimtutor\n",
            " jmap\t\t\t\t      vipe\n",
            " jmod\t\t\t\t      vmstat\n",
            " join\t\t\t\t      w\n",
            " journalctl\t\t\t      wall\n",
            " jps\t\t\t\t      watch\n",
            " jrunscript\t\t\t      watchgnupg\n",
            " jshell\t\t\t\t      wc\n",
            " json_pp\t\t\t      wdctl\n",
            " jstack\t\t\t\t      wget\n",
            " jstat\t\t\t\t      whatis\n",
            " jstatd\t\t\t\t      whereis\n",
            " kbxutil\t\t\t      which\n",
            " kernel-install\t\t\t      who\n",
            " keytool\t\t\t      whoami\n",
            " kill\t\t\t\t      wish\n",
            " killall\t\t\t      wish8.6\n",
            " kmod\t\t\t\t      w.procps\n",
            " krb5-config\t\t\t      write\n",
            " krb5-config.mit\t\t      X11\n",
            " last\t\t\t\t      x86_64\n",
            " lastb\t\t\t\t      x86_64-linux-gnu-addr2line\n",
            " lastlog\t\t\t      x86_64-linux-gnu-ar\n",
            " lcf\t\t\t\t      x86_64-linux-gnu-as\n",
            " lckdo\t\t\t\t      x86_64-linux-gnu-c++filt\n",
            " lconvert\t\t\t      x86_64-linux-gnu-cpp\n",
            " ld\t\t\t\t      x86_64-linux-gnu-cpp-9\n",
            " ld.bfd\t\t\t\t      x86_64-linux-gnu-dwp\n",
            " ldd\t\t\t\t      x86_64-linux-gnu-elfedit\n",
            " ld.gold\t\t\t      x86_64-linux-gnu-g++\n",
            " lefty\t\t\t\t      x86_64-linux-gnu-g++-9\n",
            " less\t\t\t\t      x86_64-linux-gnu-gcc\n",
            " lessecho\t\t\t      x86_64-linux-gnu-gcc-9\n",
            " lessfile\t\t\t      x86_64-linux-gnu-gcc-ar\n",
            " lesskey\t\t\t      x86_64-linux-gnu-gcc-ar-9\n",
            " lesspipe\t\t\t      x86_64-linux-gnu-gcc-nm\n",
            " lexgrog\t\t\t      x86_64-linux-gnu-gcc-nm-9\n",
            " libgcrypt-config\t\t      x86_64-linux-gnu-gcc-ranlib\n",
            " libnetcfg\t\t\t      x86_64-linux-gnu-gcc-ranlib-9\n",
            " libpng16-config\t\t      x86_64-linux-gnu-gcov\n",
            " libpng-config\t\t\t      x86_64-linux-gnu-gcov-9\n",
            " linguist\t\t\t      x86_64-linux-gnu-gcov-dump\n",
            " link\t\t\t\t      x86_64-linux-gnu-gcov-dump-9\n",
            " linux32\t\t\t      x86_64-linux-gnu-gcov-tool\n",
            " linux64\t\t\t      x86_64-linux-gnu-gcov-tool-9\n",
            " ln\t\t\t\t      x86_64-linux-gnu-gfortran\n",
            " lneato\t\t\t\t      x86_64-linux-gnu-gfortran-9\n",
            " lnstat\t\t\t\t      x86_64-linux-gnu-gold\n",
            " locale\t\t\t\t      x86_64-linux-gnu-gprof\n",
            " locale-check\t\t\t      x86_64-linux-gnu-ld\n",
            " localectl\t\t\t      x86_64-linux-gnu-ld.bfd\n",
            " localedef\t\t\t      x86_64-linux-gnu-ld.gold\n",
            " logger\t\t\t\t      x86_64-linux-gnu-nm\n",
            " login\t\t\t\t      x86_64-linux-gnu-objcopy\n",
            " loginctl\t\t\t      x86_64-linux-gnu-objdump\n",
            " logname\t\t\t      x86_64-linux-gnu-pkg-config\n",
            " look\t\t\t\t      x86_64-linux-gnu-python3.10-config\n",
            " lorder\t\t\t\t      x86_64-linux-gnu-python3.8-config\n",
            " lrelease\t\t\t      x86_64-linux-gnu-python3-config\n",
            " ls\t\t\t\t      x86_64-linux-gnu-qmake\n",
            " lsattr\t\t\t\t      x86_64-linux-gnu-ranlib\n",
            " lsblk\t\t\t\t      x86_64-linux-gnu-readelf\n",
            " lsb_release\t\t\t      x86_64-linux-gnu-size\n",
            " lscpu\t\t\t\t      x86_64-linux-gnu-strings\n",
            " lsipc\t\t\t\t      x86_64-linux-gnu-strip\n",
            " lslocks\t\t\t      x86_64-pc-linux-gnu-pkg-config\n",
            " lslogins\t\t\t      xargs\n",
            " lsmem\t\t\t\t      xauth\n",
            " lsmod\t\t\t\t      xdg-desktop-icon\n",
            " lsns\t\t\t\t      xdg-desktop-menu\n",
            " lsof\t\t\t\t      xdg-email\n",
            " lspgpot\t\t\t      xdg-icon-resource\n",
            " lupdate\t\t\t      xdg-mime\n",
            " lzcat\t\t\t\t      xdg-open\n",
            " lzcmp\t\t\t\t      xdg-screensaver\n",
            " lzdiff\t\t\t\t      xdg-settings\n",
            " lzegrep\t\t\t      xml2-config\n",
            " lzfgrep\t\t\t      xmlpatterns\n",
            " lzgrep\t\t\t\t      xmlpatternsvalidator\n",
            " lzless\t\t\t\t      xsel\n",
            " lzma\t\t\t\t      xsubpp\n",
            " lzmainfo\t\t\t      xxd\n",
            " lzmore\t\t\t\t      xz\n",
            " m4\t\t\t\t      xzcat\n",
            " make\t\t\t\t      xzcmp\n",
            " makeconv\t\t\t      xzdiff\n",
            " make-first-existing-target\t      xzegrep\n",
            " man\t\t\t\t      xzfgrep\n",
            " mandb\t\t\t\t      xzgrep\n",
            " manpath\t\t\t      xzless\n",
            " man.REAL\t\t\t      xzmore\n",
            " man-recode\t\t\t      yes\n",
            " mawk\t\t\t\t      ypdomainname\n",
            " mcookie\t\t\t      zcat\n",
            " md5sum\t\t\t\t      zcmp\n",
            " md5sum.textutils\t\t      zdiff\n",
            " mesg\t\t\t\t      zdump\n",
            " migrate-pubring-from-classic-gpg     zegrep\n",
            " mingle\t\t\t\t      zfgrep\n",
            " mispipe\t\t\t      zforce\n",
            " mkdir\t\t\t\t      zgrep\n",
            " mkfifo\t\t\t\t      zip\n",
            " mknod\t\t\t\t      zipcloak\n",
            " mktemp\t\t\t\t      zipdetails\n",
            " mm2gv\t\t\t\t      zipgrep\n",
            " moc\t\t\t\t      zipinfo\n",
            " more\t\t\t\t      zipnote\n",
            " mount\t\t\t\t      zipsplit\n",
            " mountpoint\t\t\t      zless\n",
            " mpexpand\t\t\t      zmore\n",
            " mpic++\t\t\t\t      znew\n",
            " mpicalc\t\t\t      zrun\n",
            " mpicc\n"
          ]
        }
      ],
      "source": [
        "!ls /bin"
      ]
    },
    {
      "cell_type": "markdown",
      "metadata": {
        "id": "y8Da6JWKQSHh"
      },
      "source": [
        "That `!ls` probably generated a large output. You can select the cell and clear the output by either:\n",
        "\n",
        "1. Clicking on the clear output button (x) in the toolbar above the cell; or\n",
        "2. Right clicking the left gutter of the output area and selecting \"Clear output\" from the context menu.\n",
        "\n",
        "Execute any other process using `!` with string interpolation from python variables, and note the result can be assigned to a variable:"
      ]
    },
    {
      "cell_type": "code",
      "execution_count": 4,
      "metadata": {
        "cellView": "both",
        "id": "zqGrv0blQSHj",
        "outputId": "07c71277-9999-4e57-aff6-7090449874bc",
        "colab": {
          "base_uri": "https://localhost:8080/"
        }
      },
      "outputs": [
        {
          "output_type": "execute_result",
          "data": {
            "text/plain": [
              "['Colaboratory is great!',\n",
              " 'Colaboratory is great!',\n",
              " 'Colaboratory is great!',\n",
              " 'Colaboratory is great!']"
            ]
          },
          "metadata": {},
          "execution_count": 4
        }
      ],
      "source": [
        "# In https://github.com/ipython/ipython/pull/10545, single quote strings are ignored\n",
        "message = 'Colaboratory is great!'\n",
        "foo = !unset message && echo -e '{message}\\n{message}\\n'$message\"\\n$message\"\n",
        "foo"
      ]
    },
    {
      "cell_type": "markdown",
      "metadata": {
        "id": "qM4myQGfQboQ"
      },
      "source": [
        "## Magics\n",
        "Colaboratory shares the notion of magics from Jupyter. There are shorthand annotations that change how a cell's text is executed. To learn more, see [Jupyter's magics page](http://nbviewer.jupyter.org/github/ipython/ipython/blob/1.x/examples/notebooks/Cell%20Magics.ipynb).\n"
      ]
    },
    {
      "cell_type": "code",
      "execution_count": 5,
      "metadata": {
        "cellView": "both",
        "colab": {
          "height": 39,
          "base_uri": "https://localhost:8080/"
        },
        "id": "odfM-_GxWbCy",
        "outputId": "28122e86-e308-452d-93fe-c3ef83fb4e4b"
      },
      "outputs": [
        {
          "output_type": "display_data",
          "data": {
            "text/plain": [
              "<IPython.core.display.HTML object>"
            ],
            "text/html": [
              "<marquee style='width: 30%; color: blue;'><b>Whee!</b></marquee>\n"
            ]
          },
          "metadata": {}
        }
      ],
      "source": [
        "%%html\n",
        "<marquee style='width: 30%; color: blue;'><b>Whee!</b></marquee>"
      ]
    },
    {
      "cell_type": "code",
      "execution_count": 6,
      "metadata": {
        "colab": {
          "height": 221,
          "base_uri": "https://localhost:8080/"
        },
        "id": "_YrTcK7k22Fp",
        "outputId": "79af9652-21a0-4074-9efb-c494e12b3f0c"
      },
      "outputs": [
        {
          "output_type": "display_data",
          "data": {
            "text/plain": [
              "<IPython.core.display.HTML object>"
            ],
            "text/html": [
              "<svg xmlns=\"http://www.w3.org/2000/svg\" viewBox=\"0 0 450 400\" width=\"200\" height=\"200\">\n",
              "  <rect x=\"80\" y=\"60\" width=\"250\" height=\"250\" rx=\"20\" style=\"fill:red; stroke:black; fill-opacity:0.7\" />\n",
              "  <rect x=\"180\" y=\"110\" width=\"250\" height=\"250\" rx=\"40\" style=\"fill:blue; stroke:black; fill-opacity:0.5;\" />\n",
              "</svg>\n"
            ]
          },
          "metadata": {}
        }
      ],
      "source": [
        "%%html\n",
        "<svg xmlns=\"http://www.w3.org/2000/svg\" viewBox=\"0 0 450 400\" width=\"200\" height=\"200\">\n",
        "  <rect x=\"80\" y=\"60\" width=\"250\" height=\"250\" rx=\"20\" style=\"fill:red; stroke:black; fill-opacity:0.7\" />\n",
        "  <rect x=\"180\" y=\"110\" width=\"250\" height=\"250\" rx=\"40\" style=\"fill:blue; stroke:black; fill-opacity:0.5;\" />\n",
        "</svg>"
      ]
    },
    {
      "cell_type": "markdown",
      "metadata": {
        "id": "d4L9TOP9QSHn"
      },
      "source": [
        "## Automatic completions and exploring code\n",
        "\n",
        "Colab provides automatic completions to explore attributes of Python objects, as well as to quickly view documentation strings. As an example, first run the following cell to import the  [`numpy`](http://www.numpy.org) module."
      ]
    },
    {
      "cell_type": "code",
      "execution_count": 7,
      "metadata": {
        "cellView": "both",
        "id": "Q0JKWcmtQSHp"
      },
      "outputs": [],
      "source": [
        "import numpy as np"
      ]
    },
    {
      "cell_type": "markdown",
      "metadata": {
        "id": "1M890-bXeyYp"
      },
      "source": [
        "If you now insert your cursor after `np` and press **Period**(`.`), you will see the list of available completions within the `np` module. Completions can be opened again by using **Ctrl+Space**."
      ]
    },
    {
      "cell_type": "code",
      "execution_count": 8,
      "metadata": {
        "cellView": "both",
        "id": "j6QRIfUHQSHq",
        "outputId": "cf368503-b7ee-4879-c3a6-1e60d524ad80",
        "colab": {
          "base_uri": "https://localhost:8080/"
        }
      },
      "outputs": [
        {
          "output_type": "execute_result",
          "data": {
            "text/plain": [
              "<module 'numpy' from '/usr/local/lib/python3.10/dist-packages/numpy/__init__.py'>"
            ]
          },
          "metadata": {},
          "execution_count": 8
        }
      ],
      "source": [
        "np"
      ]
    },
    {
      "cell_type": "markdown",
      "metadata": {
        "id": "g6MfomFhQSHs"
      },
      "source": [
        "If you type an open parenthesis after any function or class in the module, you will see a pop-up of its documentation string:"
      ]
    },
    {
      "cell_type": "code",
      "execution_count": 9,
      "metadata": {
        "cellView": "both",
        "id": "SD0XnrVhQSHt",
        "outputId": "fe75c085-3149-40ae-f3b9-cc912d3bf868",
        "colab": {
          "base_uri": "https://localhost:8080/"
        }
      },
      "outputs": [
        {
          "output_type": "execute_result",
          "data": {
            "text/plain": [
              "numpy.ndarray"
            ]
          },
          "metadata": {},
          "execution_count": 9
        }
      ],
      "source": [
        "np.ndarray"
      ]
    },
    {
      "cell_type": "markdown",
      "metadata": {
        "id": "GVIVDgdaRjPQ"
      },
      "source": [
        "The documentation can be opened again using **Ctrl+Shift+Space** or you can view the documentation for method by mouse hovering over the method name.\n",
        "\n",
        "When hovering over the method name the `Open in tab` link will open the documentation in a persistent pane. The `View source` link will navigate to the source code for the method."
      ]
    },
    {
      "cell_type": "markdown",
      "metadata": {
        "id": "TYTBdJXxfqiJ"
      },
      "source": [
        "## Exception Formatting"
      ]
    },
    {
      "cell_type": "markdown",
      "metadata": {
        "id": "4bqAVK-aQSHx"
      },
      "source": [
        "Exceptions are formatted nicely in Colab outputs:"
      ]
    },
    {
      "cell_type": "code",
      "execution_count": 10,
      "metadata": {
        "cellView": "both",
        "id": "CrJf1PEmQSHx",
        "outputId": "c59c1b8a-8740-4599-fc94-4ed9db7074dc",
        "colab": {
          "base_uri": "https://localhost:8080/",
          "height": 200
        }
      },
      "outputs": [
        {
          "output_type": "error",
          "ename": "ZeroDivisionError",
          "evalue": "ignored",
          "traceback": [
            "\u001b[0;31m---------------------------------------------------------------------------\u001b[0m",
            "\u001b[0;31mZeroDivisionError\u001b[0m                         Traceback (most recent call last)",
            "\u001b[0;32m<ipython-input-10-d93e730d8440>\u001b[0m in \u001b[0;36m<cell line: 3>\u001b[0;34m()\u001b[0m\n\u001b[1;32m      1\u001b[0m \u001b[0mx\u001b[0m \u001b[0;34m=\u001b[0m \u001b[0;36m1\u001b[0m\u001b[0;34m\u001b[0m\u001b[0;34m\u001b[0m\u001b[0m\n\u001b[1;32m      2\u001b[0m \u001b[0my\u001b[0m \u001b[0;34m=\u001b[0m \u001b[0;36m4\u001b[0m\u001b[0;34m\u001b[0m\u001b[0;34m\u001b[0m\u001b[0m\n\u001b[0;32m----> 3\u001b[0;31m \u001b[0mz\u001b[0m \u001b[0;34m=\u001b[0m \u001b[0my\u001b[0m\u001b[0;34m/\u001b[0m\u001b[0;34m(\u001b[0m\u001b[0;36m1\u001b[0m\u001b[0;34m-\u001b[0m\u001b[0mx\u001b[0m\u001b[0;34m)\u001b[0m\u001b[0;34m\u001b[0m\u001b[0;34m\u001b[0m\u001b[0m\n\u001b[0m",
            "\u001b[0;31mZeroDivisionError\u001b[0m: division by zero"
          ]
        }
      ],
      "source": [
        "x = 1\n",
        "y = 4\n",
        "z = y/(1-x)"
      ]
    },
    {
      "cell_type": "markdown",
      "metadata": {
        "id": "7cRnhv_7N4Pa"
      },
      "source": [
        "## Rich, interactive outputs\n",
        "Until now all of the generated outputs have been text, but they can be more interesting, like the chart below."
      ]
    },
    {
      "cell_type": "code",
      "execution_count": 12,
      "metadata": {
        "id": "JVXnTqyE9RET",
        "outputId": "6d4285ae-32e0-4032-94e2-e1589aa58bfe",
        "colab": {
          "base_uri": "https://localhost:8080/",
          "height": 452
        }
      },
      "outputs": [
        {
          "output_type": "display_data",
          "data": {
            "text/plain": [
              "<Figure size 640x480 with 1 Axes>"
            ],
            "image/png": "[encoded data removed]"
          },
          "metadata": {}
        }
      ],
      "source": [
        "import numpy as np\n",
        "from matplotlib import pyplot as plt\n",
        "\n",
        "ys = 200 + np.random.randn(100)\n",
        "x = [x for x in range(len(ys))]\n",
        "\n",
        "plt.plot(x, ys, '-')\n",
        "plt.fill_between(x, ys, 195, where=(ys > 195), facecolor='g', alpha=0.6)\n",
        "\n",
        "plt.title(\"Fills and Alpha Example\")\n",
        "plt.show()"
      ]
    },
    {
      "cell_type": "markdown",
      "metadata": {
        "id": "aro-UJgUQSH1"
      },
      "source": [
        "# Integration with Drive\n",
        "\n",
        "Colaboratory is integrated with Google Drive. It allows you to share, comment, and collaborate on the same document with multiple people:\n",
        "\n",
        "* The **SHARE** button (top-right of the toolbar) allows you to share the notebook and control permissions set on it.\n",
        "\n",
        "* **File->Make a Copy** creates a copy of the notebook in Drive.\n",
        "\n",
        "* **File->Save** saves the File to Drive. **File->Save and checkpoint** pins the version so it doesn't get deleted from the revision history.\n",
        "\n",
        "* **File->Revision history** shows the notebook's revision history."
      ]
    },
    {
      "cell_type": "markdown",
      "metadata": {
        "id": "4hfV37gxpP_c"
      },
      "source": [
        "## Commenting on a cell\n",
        "You can comment on a Colaboratory notebook like you would on a Google Document. Comments are attached to cells, and are displayed next to the cell they refer to. If you have **comment-only** permissions, you will see a comment button on the top right of the cell when you hover over it.\n",
        "\n",
        "If you have edit or comment permissions you can comment on a cell in one of three ways:\n",
        "\n",
        "1. Select a cell and click the comment button in the toolbar above the top-right corner of the cell.\n",
        "1. Right click a text cell and select **Add a comment** from the context menu.\n",
        "3. Use the shortcut **Ctrl+Shift+M** to add a comment to the currently selected cell.\n",
        "\n",
        "You can resolve and reply to comments, and you can target comments to specific collaborators by typing *+[email address]* (e.g., `+user@domain.com`). Addressed collaborators will be emailed.\n",
        "\n",
        "The Comment button in the top-right corner of the page shows all comments attached to the notebook."
      ]
    },
    {
      "cell_type": "code",
      "source": [
        "import tensorflow as tf\n",
        "X = tf.constant([-7., -4., -1., 2., 5., 8., 11., 14.], dtype=tf.float32)\n",
        "Y = tf.constant([3., 6., 9., 12., 15., 18., 21., 24.], dtype=tf.float32)\n",
        "X,Y"
      ],
      "metadata": {
        "colab": {
          "base_uri": "https://localhost:8080/"
        },
        "id": "iWfDrkSIcn6V",
        "outputId": "f01aa6bf-b431-421f-f721-2d3608f43899"
      },
      "execution_count": 13,
      "outputs": [
        {
          "output_type": "execute_result",
          "data": {
            "text/plain": [
              "(<tf.Tensor: shape=(8,), dtype=float32, numpy=array([-7., -4., -1.,  2.,  5.,  8., 11., 14.], dtype=float32)>,\n",
              " <tf.Tensor: shape=(8,), dtype=float32, numpy=array([ 3.,  6.,  9., 12., 15., 18., 21., 24.], dtype=float32)>)"
            ]
          },
          "metadata": {},
          "execution_count": 13
        }
      ]
    },
    {
      "cell_type": "code",
      "source": [
        "input_shape = X[0].shape\n",
        "output_shape = Y[0].shape\n",
        "input_shape, output_shape"
      ],
      "metadata": {
        "colab": {
          "base_uri": "https://localhost:8080/"
        },
        "id": "mwB-O4WLdh34",
        "outputId": "6f2b662c-24c4-4890-b018-bfc9de4efbe6"
      },
      "execution_count": 14,
      "outputs": [
        {
          "output_type": "execute_result",
          "data": {
            "text/plain": [
              "(TensorShape([]), TensorShape([]))"
            ]
          },
          "metadata": {},
          "execution_count": 14
        }
      ]
    },
    {
      "cell_type": "code",
      "source": [
        "import matplotlib.pyplot as plt\n",
        "plt.scatter(X,Y)"
      ],
      "metadata": {
        "colab": {
          "base_uri": "https://localhost:8080/",
          "height": 452
        },
        "id": "9SsGQ0b9dxv4",
        "outputId": "2a9ef0d5-e781-4ae4-f06e-0ebab3265018"
      },
      "execution_count": 15,
      "outputs": [
        {
          "output_type": "execute_result",
          "data": {
            "text/plain": [
              "<matplotlib.collections.PathCollection at 0x79c9ddd896c0>"
            ]
          },
          "metadata": {},
          "execution_count": 15
        },
        {
          "output_type": "display_data",
          "data": {
            "text/plain": [
              "<Figure size 640x480 with 1 Axes>"
            ],
            "image/png": "[encoded data removed]"
          },
          "metadata": {}
        }
      ]
    },
    {
      "cell_type": "code",
      "source": [
        "# Set Random Seed\n",
        "tf.random.set_seed(42)\n",
        "\n",
        "# 1. Create a Model using the sequential API\n",
        "model = tf.keras.Sequential(\n",
        "    [tf.keras.layers.Dense(1)]\n",
        ")\n",
        "\n",
        "# 2. Compile the Model\n",
        "model.compile(loss=tf.keras.losses.mae, # mae is short for mean optimizer error\n",
        "              optimizer=tf.keras.optimizers.SGD(), # SGD is short for stochaistic Gradient Descent\n",
        "               metrics=[\"mae\"])\n",
        "\n",
        "# 3. Fit the Model\n",
        "# model.fit(X, Y, epochs=5)\n",
        "model.fit(tf.expand_dims(X, axis=-1), Y, epochs=5) # <- updated line\n",
        "\n"
      ],
      "metadata": {
        "colab": {
          "base_uri": "https://localhost:8080/"
        },
        "id": "8rcr4f_qeI3T",
        "outputId": "42ac3c2f-8b5c-4642-ff72-80a21eb35424"
      },
      "execution_count": 16,
      "outputs": [
        {
          "output_type": "stream",
          "name": "stdout",
          "text": [
            "Epoch 1/5\n",
            "1/1 [==============================] - 1s 655ms/step - loss: 10.5806 - mae: 10.5806\n",
            "Epoch 2/5\n",
            "1/1 [==============================] - 0s 11ms/step - loss: 10.4481 - mae: 10.4481\n",
            "Epoch 3/5\n",
            "1/1 [==============================] - 0s 15ms/step - loss: 10.3156 - mae: 10.3156\n",
            "Epoch 4/5\n",
            "1/1 [==============================] - 0s 11ms/step - loss: 10.1831 - mae: 10.1831\n",
            "Epoch 5/5\n",
            "1/1 [==============================] - 0s 17ms/step - loss: 10.0506 - mae: 10.0506\n"
          ]
        },
        {
          "output_type": "execute_result",
          "data": {
            "text/plain": [
              "<keras.callbacks.History at 0x79c9dc336710>"
            ]
          },
          "metadata": {},
          "execution_count": 16
        }
      ]
    },
    {
      "cell_type": "code",
      "source": [
        "# Try and make a prediction using our model\n",
        "model.predict([17.0])"
      ],
      "metadata": {
        "id": "96pKUXMQ0C5h",
        "outputId": "e4d661a7-d7e1-465a-c265-b3214ae0bd45",
        "colab": {
          "base_uri": "https://localhost:8080/"
        }
      },
      "execution_count": 17,
      "outputs": [
        {
          "output_type": "stream",
          "name": "stdout",
          "text": [
            "1/1 [==============================] - 0s 115ms/step\n"
          ]
        },
        {
          "output_type": "execute_result",
          "data": {
            "text/plain": [
              "array([[17.204771]], dtype=float32)"
            ]
          },
          "metadata": {},
          "execution_count": 17
        }
      ]
    },
    {
      "cell_type": "code",
      "source": [
        "y_pred = model.predict([17.0])\n",
        "y_pred"
      ],
      "metadata": {
        "id": "WGbNYxyZ0kYp",
        "outputId": "9f05f925-806d-4db8-f279-80bc2f9ff2cf",
        "colab": {
          "base_uri": "https://localhost:8080/"
        }
      },
      "execution_count": 18,
      "outputs": [
        {
          "output_type": "stream",
          "name": "stdout",
          "text": [
            "1/1 [==============================] - 0s 43ms/step\n"
          ]
        },
        {
          "output_type": "execute_result",
          "data": {
            "text/plain": [
              "array([[17.204771]], dtype=float32)"
            ]
          },
          "metadata": {},
          "execution_count": 18
        }
      ]
    },
    {
      "cell_type": "code",
      "source": [
        "y_pred + 11"
      ],
      "metadata": {
        "id": "flmdJNJg0vkW",
        "outputId": "01bbd898-593b-41ac-a9a4-2ddb75798743",
        "colab": {
          "base_uri": "https://localhost:8080/"
        }
      },
      "execution_count": 19,
      "outputs": [
        {
          "output_type": "execute_result",
          "data": {
            "text/plain": [
              "array([[28.204771]], dtype=float32)"
            ]
          },
          "metadata": {},
          "execution_count": 19
        }
      ]
    },
    {
      "cell_type": "markdown",
      "source": [
        "# Improving the Model\n",
        "We can improve our model by altering the steps we used to create a model.\n",
        "\n",
        "1. ** Creating a Model ** - we might add more layers, increase the number of hidden units\n",
        "within each of the hidden layers, change activation function of each layer\n",
        "2. ** Compiling a Model** - we might change the optimization function or perhaps\n",
        "** learning rate ** of the optimization function\n",
        "3. ** Fitting a Model ** - here we might fit a model for more **epochs**\n",
        "(leave it training for longer) or on more data(give the model more examples to learn)"
      ],
      "metadata": {
        "id": "nvn_9GkHSKJQ"
      }
    },
    {
      "cell_type": "code",
      "source": [
        "# Lets rebuild our model\n",
        "#1. Create the model\n",
        "model = tf.keras.Sequential([\n",
        "    tf.keras.layers.Dense(50, activation=None),\n",
        "    tf.keras.layers.Dense(1)\n",
        "])\n",
        "\n",
        "#2. Compile the Model\n",
        "model.compile(loss=tf.keras.losses.mae,\n",
        "              optimizer=tf.keras.optimizers.Adam(lr=0.01),\n",
        "              metrics=[\"mae\"])\n",
        "\n",
        "#3. Fit the Model (this time we will train for longer)\n",
        "#model.fit(X,Y,epochs=100)\n",
        "model.fit(tf.expand_dims(X, axis=-1), Y, epochs=100) # <- updated line\n",
        "\n"
      ],
      "metadata": {
        "id": "Uen2WbAFS-U2",
        "outputId": "0a693fe1-f45b-4116-8097-b8311fc30312",
        "colab": {
          "base_uri": "https://localhost:8080/"
        }
      },
      "execution_count": 20,
      "outputs": [
        {
          "output_type": "stream",
          "name": "stderr",
          "text": [
            "WARNING:absl:`lr` is deprecated in Keras optimizer, please use `learning_rate` or use the legacy optimizer, e.g.,tf.keras.optimizers.legacy.Adam.\n"
          ]
        },
        {
          "output_type": "stream",
          "name": "stdout",
          "text": [
            "Epoch 1/100\n",
            "1/1 [==============================] - 1s 728ms/step - loss: 12.5260 - mae: 12.5260\n",
            "Epoch 2/100\n",
            "1/1 [==============================] - 0s 14ms/step - loss: 12.4512 - mae: 12.4512\n",
            "Epoch 3/100\n",
            "1/1 [==============================] - 0s 16ms/step - loss: 12.3762 - mae: 12.3762\n",
            "Epoch 4/100\n",
            "1/1 [==============================] - 0s 19ms/step - loss: 12.3012 - mae: 12.3012\n",
            "Epoch 5/100\n",
            "1/1 [==============================] - 0s 17ms/step - loss: 12.2262 - mae: 12.2262\n",
            "Epoch 6/100\n",
            "1/1 [==============================] - 0s 11ms/step - loss: 12.1510 - mae: 12.1510\n",
            "Epoch 7/100\n",
            "1/1 [==============================] - 0s 14ms/step - loss: 12.0759 - mae: 12.0759\n",
            "Epoch 8/100\n",
            "1/1 [==============================] - 0s 17ms/step - loss: 12.0006 - mae: 12.0006\n",
            "Epoch 9/100\n",
            "1/1 [==============================] - 0s 18ms/step - loss: 11.9253 - mae: 11.9253\n",
            "Epoch 10/100\n",
            "1/1 [==============================] - 0s 18ms/step - loss: 11.8500 - mae: 11.8500\n",
            "Epoch 11/100\n",
            "1/1 [==============================] - 0s 14ms/step - loss: 11.7745 - mae: 11.7745\n",
            "Epoch 12/100\n",
            "1/1 [==============================] - 0s 13ms/step - loss: 11.6990 - mae: 11.6990\n",
            "Epoch 13/100\n",
            "1/1 [==============================] - 0s 15ms/step - loss: 11.6234 - mae: 11.6234\n",
            "Epoch 14/100\n",
            "1/1 [==============================] - 0s 12ms/step - loss: 11.5478 - mae: 11.5478\n",
            "Epoch 15/100\n",
            "1/1 [==============================] - 0s 16ms/step - loss: 11.4720 - mae: 11.4720\n",
            "Epoch 16/100\n",
            "1/1 [==============================] - 0s 14ms/step - loss: 11.3962 - mae: 11.3962\n",
            "Epoch 17/100\n",
            "1/1 [==============================] - 0s 11ms/step - loss: 11.3203 - mae: 11.3203\n",
            "Epoch 18/100\n",
            "1/1 [==============================] - 0s 12ms/step - loss: 11.2443 - mae: 11.2443\n",
            "Epoch 19/100\n",
            "1/1 [==============================] - 0s 15ms/step - loss: 11.1682 - mae: 11.1682\n",
            "Epoch 20/100\n",
            "1/1 [==============================] - 0s 14ms/step - loss: 11.0919 - mae: 11.0919\n",
            "Epoch 21/100\n",
            "1/1 [==============================] - 0s 13ms/step - loss: 11.0156 - mae: 11.0156\n",
            "Epoch 22/100\n",
            "1/1 [==============================] - 0s 17ms/step - loss: 10.9392 - mae: 10.9392\n",
            "Epoch 23/100\n",
            "1/1 [==============================] - 0s 18ms/step - loss: 10.8626 - mae: 10.8626\n",
            "Epoch 24/100\n",
            "1/1 [==============================] - 0s 17ms/step - loss: 10.7859 - mae: 10.7859\n",
            "Epoch 25/100\n",
            "1/1 [==============================] - 0s 16ms/step - loss: 10.7091 - mae: 10.7091\n",
            "Epoch 26/100\n",
            "1/1 [==============================] - 0s 13ms/step - loss: 10.6321 - mae: 10.6321\n",
            "Epoch 27/100\n",
            "1/1 [==============================] - 0s 16ms/step - loss: 10.5549 - mae: 10.5549\n",
            "Epoch 28/100\n",
            "1/1 [==============================] - 0s 13ms/step - loss: 10.4776 - mae: 10.4776\n",
            "Epoch 29/100\n",
            "1/1 [==============================] - 0s 14ms/step - loss: 10.4002 - mae: 10.4002\n",
            "Epoch 30/100\n",
            "1/1 [==============================] - 0s 13ms/step - loss: 10.3225 - mae: 10.3225\n",
            "Epoch 31/100\n",
            "1/1 [==============================] - 0s 15ms/step - loss: 10.2447 - mae: 10.2447\n",
            "Epoch 32/100\n",
            "1/1 [==============================] - 0s 14ms/step - loss: 10.1667 - mae: 10.1667\n",
            "Epoch 33/100\n",
            "1/1 [==============================] - 0s 15ms/step - loss: 10.0885 - mae: 10.0885\n",
            "Epoch 34/100\n",
            "1/1 [==============================] - 0s 13ms/step - loss: 10.0100 - mae: 10.0100\n",
            "Epoch 35/100\n",
            "1/1 [==============================] - 0s 16ms/step - loss: 9.9314 - mae: 9.9314\n",
            "Epoch 36/100\n",
            "1/1 [==============================] - 0s 15ms/step - loss: 9.8525 - mae: 9.8525\n",
            "Epoch 37/100\n",
            "1/1 [==============================] - 0s 13ms/step - loss: 9.7734 - mae: 9.7734\n",
            "Epoch 38/100\n",
            "1/1 [==============================] - 0s 15ms/step - loss: 9.6940 - mae: 9.6940\n",
            "Epoch 39/100\n",
            "1/1 [==============================] - 0s 13ms/step - loss: 9.6144 - mae: 9.6144\n",
            "Epoch 40/100\n",
            "1/1 [==============================] - 0s 12ms/step - loss: 9.5345 - mae: 9.5345\n",
            "Epoch 41/100\n",
            "1/1 [==============================] - 0s 11ms/step - loss: 9.4543 - mae: 9.4543\n",
            "Epoch 42/100\n",
            "1/1 [==============================] - 0s 12ms/step - loss: 9.3738 - mae: 9.3738\n",
            "Epoch 43/100\n",
            "1/1 [==============================] - 0s 12ms/step - loss: 9.2931 - mae: 9.2931\n",
            "Epoch 44/100\n",
            "1/1 [==============================] - 0s 13ms/step - loss: 9.2120 - mae: 9.2120\n",
            "Epoch 45/100\n",
            "1/1 [==============================] - 0s 11ms/step - loss: 9.1306 - mae: 9.1306\n",
            "Epoch 46/100\n",
            "1/1 [==============================] - 0s 13ms/step - loss: 9.0489 - mae: 9.0489\n",
            "Epoch 47/100\n",
            "1/1 [==============================] - 0s 14ms/step - loss: 8.9669 - mae: 8.9669\n",
            "Epoch 48/100\n",
            "1/1 [==============================] - 0s 16ms/step - loss: 8.8845 - mae: 8.8845\n",
            "Epoch 49/100\n",
            "1/1 [==============================] - 0s 13ms/step - loss: 8.8018 - mae: 8.8018\n",
            "Epoch 50/100\n",
            "1/1 [==============================] - 0s 16ms/step - loss: 8.7188 - mae: 8.7188\n",
            "Epoch 51/100\n",
            "1/1 [==============================] - 0s 11ms/step - loss: 8.6354 - mae: 8.6354\n",
            "Epoch 52/100\n",
            "1/1 [==============================] - 0s 18ms/step - loss: 8.5516 - mae: 8.5516\n",
            "Epoch 53/100\n",
            "1/1 [==============================] - 0s 11ms/step - loss: 8.4674 - mae: 8.4674\n",
            "Epoch 54/100\n",
            "1/1 [==============================] - 0s 11ms/step - loss: 8.3829 - mae: 8.3829\n",
            "Epoch 55/100\n",
            "1/1 [==============================] - 0s 11ms/step - loss: 8.2980 - mae: 8.2980\n",
            "Epoch 56/100\n",
            "1/1 [==============================] - 0s 12ms/step - loss: 8.2127 - mae: 8.2127\n",
            "Epoch 57/100\n",
            "1/1 [==============================] - 0s 12ms/step - loss: 8.1270 - mae: 8.1270\n",
            "Epoch 58/100\n",
            "1/1 [==============================] - 0s 11ms/step - loss: 8.0408 - mae: 8.0408\n",
            "Epoch 59/100\n",
            "1/1 [==============================] - 0s 12ms/step - loss: 7.9543 - mae: 7.9543\n",
            "Epoch 60/100\n",
            "1/1 [==============================] - 0s 14ms/step - loss: 7.8673 - mae: 7.8673\n",
            "Epoch 61/100\n",
            "1/1 [==============================] - 0s 12ms/step - loss: 7.7800 - mae: 7.7800\n",
            "Epoch 62/100\n",
            "1/1 [==============================] - 0s 13ms/step - loss: 7.6921 - mae: 7.6921\n",
            "Epoch 63/100\n",
            "1/1 [==============================] - 0s 12ms/step - loss: 7.6039 - mae: 7.6039\n",
            "Epoch 64/100\n",
            "1/1 [==============================] - 0s 12ms/step - loss: 7.5152 - mae: 7.5152\n",
            "Epoch 65/100\n",
            "1/1 [==============================] - 0s 11ms/step - loss: 7.4260 - mae: 7.4260\n",
            "Epoch 66/100\n",
            "1/1 [==============================] - 0s 11ms/step - loss: 7.3364 - mae: 7.3364\n",
            "Epoch 67/100\n",
            "1/1 [==============================] - 0s 12ms/step - loss: 7.2463 - mae: 7.2463\n",
            "Epoch 68/100\n",
            "1/1 [==============================] - 0s 13ms/step - loss: 7.1558 - mae: 7.1558\n",
            "Epoch 69/100\n",
            "1/1 [==============================] - 0s 13ms/step - loss: 7.0648 - mae: 7.0648\n",
            "Epoch 70/100\n",
            "1/1 [==============================] - 0s 14ms/step - loss: 6.9733 - mae: 6.9733\n",
            "Epoch 71/100\n",
            "1/1 [==============================] - 0s 12ms/step - loss: 6.8869 - mae: 6.8869\n",
            "Epoch 72/100\n",
            "1/1 [==============================] - 0s 16ms/step - loss: 6.8764 - mae: 6.8764\n",
            "Epoch 73/100\n",
            "1/1 [==============================] - 0s 19ms/step - loss: 6.8661 - mae: 6.8661\n",
            "Epoch 74/100\n",
            "1/1 [==============================] - 0s 12ms/step - loss: 6.8561 - mae: 6.8561\n",
            "Epoch 75/100\n",
            "1/1 [==============================] - 0s 11ms/step - loss: 6.8462 - mae: 6.8462\n",
            "Epoch 76/100\n",
            "1/1 [==============================] - 0s 11ms/step - loss: 6.8365 - mae: 6.8365\n",
            "Epoch 77/100\n",
            "1/1 [==============================] - 0s 12ms/step - loss: 6.8269 - mae: 6.8269\n",
            "Epoch 78/100\n",
            "1/1 [==============================] - 0s 13ms/step - loss: 6.8174 - mae: 6.8174\n",
            "Epoch 79/100\n",
            "1/1 [==============================] - 0s 13ms/step - loss: 6.8081 - mae: 6.8081\n",
            "Epoch 80/100\n",
            "1/1 [==============================] - 0s 13ms/step - loss: 6.7988 - mae: 6.7988\n",
            "Epoch 81/100\n",
            "1/1 [==============================] - 0s 14ms/step - loss: 6.7897 - mae: 6.7897\n",
            "Epoch 82/100\n",
            "1/1 [==============================] - 0s 13ms/step - loss: 6.7806 - mae: 6.7806\n",
            "Epoch 83/100\n",
            "1/1 [==============================] - 0s 12ms/step - loss: 6.7716 - mae: 6.7716\n",
            "Epoch 84/100\n",
            "1/1 [==============================] - 0s 15ms/step - loss: 6.7626 - mae: 6.7626\n",
            "Epoch 85/100\n",
            "1/1 [==============================] - 0s 13ms/step - loss: 6.7686 - mae: 6.7686\n",
            "Epoch 86/100\n",
            "1/1 [==============================] - 0s 11ms/step - loss: 6.7728 - mae: 6.7728\n",
            "Epoch 87/100\n",
            "1/1 [==============================] - 0s 14ms/step - loss: 6.7707 - mae: 6.7707\n",
            "Epoch 88/100\n",
            "1/1 [==============================] - 0s 12ms/step - loss: 6.7629 - mae: 6.7629\n",
            "Epoch 89/100\n",
            "1/1 [==============================] - 0s 11ms/step - loss: 6.7501 - mae: 6.7501\n",
            "Epoch 90/100\n",
            "1/1 [==============================] - 0s 15ms/step - loss: 6.7328 - mae: 6.7328\n",
            "Epoch 91/100\n",
            "1/1 [==============================] - 0s 11ms/step - loss: 6.7114 - mae: 6.7114\n",
            "Epoch 92/100\n",
            "1/1 [==============================] - 0s 12ms/step - loss: 6.7023 - mae: 6.7023\n",
            "Epoch 93/100\n",
            "1/1 [==============================] - 0s 11ms/step - loss: 6.6958 - mae: 6.6958\n",
            "Epoch 94/100\n",
            "1/1 [==============================] - 0s 11ms/step - loss: 6.6890 - mae: 6.6890\n",
            "Epoch 95/100\n",
            "1/1 [==============================] - 0s 12ms/step - loss: 6.6820 - mae: 6.6820\n",
            "Epoch 96/100\n",
            "1/1 [==============================] - 0s 12ms/step - loss: 6.6749 - mae: 6.6749\n",
            "Epoch 97/100\n",
            "1/1 [==============================] - 0s 13ms/step - loss: 6.6677 - mae: 6.6677\n",
            "Epoch 98/100\n",
            "1/1 [==============================] - 0s 12ms/step - loss: 6.6603 - mae: 6.6603\n",
            "Epoch 99/100\n",
            "1/1 [==============================] - 0s 12ms/step - loss: 6.6528 - mae: 6.6528\n",
            "Epoch 100/100\n",
            "1/1 [==============================] - 0s 12ms/step - loss: 6.6451 - mae: 6.6451\n"
          ]
        },
        {
          "output_type": "execute_result",
          "data": {
            "text/plain": [
              "<keras.callbacks.History at 0x79c9dc189540>"
            ]
          },
          "metadata": {},
          "execution_count": 20
        }
      ]
    },
    {
      "cell_type": "code",
      "source": [
        "# Lets see if our model prediction has improved\n",
        "model.predict([17.0])"
      ],
      "metadata": {
        "id": "k7ByTruEYMj7",
        "outputId": "36ed3d9d-7f99-4f39-eacb-27064944a5dc",
        "colab": {
          "base_uri": "https://localhost:8080/"
        }
      },
      "execution_count": 21,
      "outputs": [
        {
          "output_type": "stream",
          "name": "stdout",
          "text": [
            "1/1 [==============================] - 0s 139ms/step\n"
          ]
        },
        {
          "output_type": "execute_result",
          "data": {
            "text/plain": [
              "array([[31.180029]], dtype=float32)"
            ]
          },
          "metadata": {},
          "execution_count": 21
        }
      ]
    },
    {
      "cell_type": "code",
      "source": [
        "import tensorflow as tf\n",
        "X = tf.range(-100,100,4)\n",
        "X"
      ],
      "metadata": {
        "id": "qmvBYlhuwO08",
        "outputId": "2e2058d7-be1d-42d1-8ad7-48e92209f485",
        "colab": {
          "base_uri": "https://localhost:8080/"
        }
      },
      "execution_count": 22,
      "outputs": [
        {
          "output_type": "execute_result",
          "data": {
            "text/plain": [
              "<tf.Tensor: shape=(50,), dtype=int32, numpy=\n",
              "array([-100,  -96,  -92,  -88,  -84,  -80,  -76,  -72,  -68,  -64,  -60,\n",
              "        -56,  -52,  -48,  -44,  -40,  -36,  -32,  -28,  -24,  -20,  -16,\n",
              "        -12,   -8,   -4,    0,    4,    8,   12,   16,   20,   24,   28,\n",
              "         32,   36,   40,   44,   48,   52,   56,   60,   64,   68,   72,\n",
              "         76,   80,   84,   88,   92,   96], dtype=int32)>"
            ]
          },
          "metadata": {},
          "execution_count": 22
        }
      ]
    },
    {
      "cell_type": "code",
      "source": [
        "Y = X + 10\n",
        "Y"
      ],
      "metadata": {
        "id": "tAm2m_GpRYla",
        "outputId": "06522e9f-b883-48a1-f0ea-0e8e8b8482d9",
        "colab": {
          "base_uri": "https://localhost:8080/"
        }
      },
      "execution_count": 23,
      "outputs": [
        {
          "output_type": "execute_result",
          "data": {
            "text/plain": [
              "<tf.Tensor: shape=(50,), dtype=int32, numpy=\n",
              "array([-90, -86, -82, -78, -74, -70, -66, -62, -58, -54, -50, -46, -42,\n",
              "       -38, -34, -30, -26, -22, -18, -14, -10,  -6,  -2,   2,   6,  10,\n",
              "        14,  18,  22,  26,  30,  34,  38,  42,  46,  50,  54,  58,  62,\n",
              "        66,  70,  74,  78,  82,  86,  90,  94,  98, 102, 106], dtype=int32)>"
            ]
          },
          "metadata": {},
          "execution_count": 23
        }
      ]
    },
    {
      "cell_type": "code",
      "source": [
        "X_train = X[:40]\n",
        "X_train\n",
        "X_test = X[40:]\n",
        "Y_train = Y[:40]\n",
        "Y_train\n",
        "Y_test = Y[40:]"
      ],
      "metadata": {
        "id": "n6vX6cF3ULhE"
      },
      "execution_count": 24,
      "outputs": []
    },
    {
      "cell_type": "markdown",
      "source": [
        "Common ways to Improve a Deep Model\n",
        "1. Adding Layers\n",
        "2. Improve the number of hidden units\n",
        "3. Change the Activation Function\n",
        "4. Change the Optimization function\n",
        "5. Change the Learning Rate\n",
        "6. Fitting on moredata\n",
        "7. Fitting for longer"
      ],
      "metadata": {
        "id": "36S3eZ_iYHso"
      }
    },
    {
      "cell_type": "markdown",
      "source": [
        "* Total params - total number of parameter in the model.\n",
        "* Trainable parameter - these are the trainable parameters (pattern) the model can update as it trains.\n",
        "* Non-Trainable params - these parameters aren't updated during training (this is typical when you bring already learn patterns or parameter from other models during *transfer learning*)"
      ],
      "metadata": {
        "id": "eBMazMtiJzrV"
      }
    },
    {
      "cell_type": "markdown",
      "source": [
        "# Improving the Model\n",
        "We can improve our model by altering the steps we used to create a model.\n",
        "\n",
        "1. ** Creating a Model ** - we might add more layers, increase the number of hidden units\n",
        "within each of the hidden layers, change activation function of each layer\n",
        "2. ** Compiling a Model** - we might change the optimization function or perhaps ** learning rate ** of the optimization function\n",
        "3. ** Fitting a Model ** - here we might fit a model for more **epochs**\n",
        "(leave it training for longer) or on more data(give the model more examples to learn)"
      ],
      "metadata": {
        "id": "xT6OfNMwKbXQ"
      }
    },
    {
      "cell_type": "code",
      "source": [
        "# Lets create a model which builds automatically by defining the input_shape argument in the first layer\n",
        "tf.random.set_seed(42)\n",
        "\n",
        "# 1. Create a model\n",
        "model = tf.keras.Sequential([\n",
        "    tf.keras.layers.Dense(10,input_shape=[1],name=\"input_layer\"),\n",
        "    tf.keras.layers.Dense(1, name=\"output_layer\")\n",
        "], name=\"model_1\")\n",
        "\n",
        "# 2. Compile the model\n",
        "model.compile(loss=tf.keras.losses.mae,\n",
        "              optimizer=tf.keras.optimizers.SGD(),\n",
        "              metrics=[\"mae\"])\n",
        "\n",
        "# 3. Summary\n",
        "model.summary()\n",
        "\n",
        "# 4. Fit the Model\n",
        "model.fit(X_train, Y_train, epochs=100, verbose=0)"
      ],
      "metadata": {
        "id": "n31FExTjQpD-",
        "outputId": "4019ba75-9926-42e3-d484-34fcfaec3ad8",
        "colab": {
          "base_uri": "https://localhost:8080/"
        }
      },
      "execution_count": 25,
      "outputs": [
        {
          "output_type": "stream",
          "name": "stdout",
          "text": [
            "Model: \"model_1\"\n",
            "_________________________________________________________________\n",
            " Layer (type)                Output Shape              Param #   \n",
            "=================================================================\n",
            " input_layer (Dense)         (None, 10)                20        \n",
            "                                                                 \n",
            " output_layer (Dense)        (None, 1)                 11        \n",
            "                                                                 \n",
            "=================================================================\n",
            "Total params: 31\n",
            "Trainable params: 31\n",
            "Non-trainable params: 0\n",
            "_________________________________________________________________\n"
          ]
        },
        {
          "output_type": "execute_result",
          "data": {
            "text/plain": [
              "<keras.callbacks.History at 0x79c9d6711c60>"
            ]
          },
          "metadata": {},
          "execution_count": 25
        }
      ]
    },
    {
      "cell_type": "code",
      "source": [
        "from tensorflow.keras.utils import plot_model\n",
        "\n",
        "plot_model(model=model, show_shapes=True)"
      ],
      "metadata": {
        "id": "vQMliUpnSlIb",
        "outputId": "debb6c25-7478-4814-8c2f-e315765cead2",
        "colab": {
          "base_uri": "https://localhost:8080/",
          "height": 312
        }
      },
      "execution_count": 26,
      "outputs": [
        {
          "output_type": "execute_result",
          "data": {
            "image/png": "[encoded data removed]",
            "text/plain": [
              "<IPython.core.display.Image object>"
            ]
          },
          "metadata": {},
          "execution_count": 26
        }
      ]
    },
    {
      "cell_type": "markdown",
      "source": [
        "** Visualizing our model predictions **\n",
        "To visualize predictions, its a good idea to plot them against the ground truth labels.\n",
        "\n",
        "Often you will see this in the form of y_test or y_true versus y_pred(ground truth versus your model)"
      ],
      "metadata": {
        "id": "4rZEd29xVud6"
      }
    },
    {
      "cell_type": "code",
      "source": [
        "# Visualizinig our Model prediction\n",
        "y_pred = model.predict(X_test)\n",
        "y_pred"
      ],
      "metadata": {
        "id": "jHDr_oySVUr_",
        "outputId": "0e599497-552a-4edf-e68b-4bb2ef4edbcf",
        "colab": {
          "base_uri": "https://localhost:8080/"
        }
      },
      "execution_count": 27,
      "outputs": [
        {
          "output_type": "stream",
          "name": "stdout",
          "text": [
            "1/1 [==============================] - 0s 63ms/step\n"
          ]
        },
        {
          "output_type": "execute_result",
          "data": {
            "text/plain": [
              "array([[ 78.262   ],\n",
              "       [ 83.360794],\n",
              "       [ 88.45959 ],\n",
              "       [ 93.55838 ],\n",
              "       [ 98.65718 ],\n",
              "       [103.755974],\n",
              "       [108.85477 ],\n",
              "       [113.95357 ],\n",
              "       [119.05237 ],\n",
              "       [124.15115 ]], dtype=float32)"
            ]
          },
          "metadata": {},
          "execution_count": 27
        }
      ]
    },
    {
      "cell_type": "code",
      "source": [
        "# Lets create a plotting function\n",
        "def plot_predictions(train_data=X_train,\n",
        "                     train_labels=Y_train,\n",
        "                     test_data=X_test,\n",
        "                     test_labels=Y_test,\n",
        "                     predictions=y_pred):\n",
        "\n",
        "  \"\"\"\n",
        "  Plot Traing, Test Data and Predictions and compare predictions to ground truth table\n",
        "\n",
        "  \"\"\"\n",
        "\n",
        "  plt.figure(figsize=(10, 7))\n",
        "  #Plot Training Data in Blue\n",
        "  plt.scatter(train_data, train_labels, c=\"b\", label=\"Training Data\")\n",
        "  #Plot Testing Data in Green\n",
        "  plt.scatter(test_data, test_labels, c=\"g\", label=\"Test Data\")\n",
        "  #Plot Model's prediction in Red\n",
        "  plt.scatter(test_data, predictions, c=\"r\", label=\"Predictions\")\n",
        "  #Show the Legend\n",
        "  plt.legend()"
      ],
      "metadata": {
        "id": "ni3173x5W5OL"
      },
      "execution_count": 28,
      "outputs": []
    },
    {
      "cell_type": "code",
      "source": [
        "import matplotlib.pyplot as plt\n",
        "plot_predictions()"
      ],
      "metadata": {
        "id": "bLmBZf24ZMw5",
        "outputId": "43e58ac5-7a9f-4c6d-9cba-9f3b4a4c4b68",
        "colab": {
          "base_uri": "https://localhost:8080/",
          "height": 599
        }
      },
      "execution_count": 29,
      "outputs": [
        {
          "output_type": "display_data",
          "data": {
            "text/plain": [
              "<Figure size 1000x700 with 1 Axes>"
            ],
            "image/png": "[encoded data removed]"
          },
          "metadata": {}
        }
      ]
    },
    {
      "cell_type": "markdown",
      "source": [
        "### Evaluating a Model prediction's with regression evaluation metrics\n",
        "\n",
        "Depending on the problem you are working on there will be different evaluation metrics to evaluate your model's performance.\n",
        "\n",
        "Since we are working on a regression two of the main metrics:\n",
        "* MAE - Mean Absolute Error, On an average how wrong if each of the model's predictions.\n",
        "* MSE - Mean Square Error, \"square the average errors\""
      ],
      "metadata": {
        "id": "s4m7V-J8TvNp"
      }
    },
    {
      "cell_type": "code",
      "source": [
        "# Evaluate the model on the test\n",
        "model.evaluate(X_test, Y_test)"
      ],
      "metadata": {
        "id": "vpg9R4xkWz25",
        "outputId": "77dd7f4b-3372-4a10-ed06-768b9d5ee804",
        "colab": {
          "base_uri": "https://localhost:8080/"
        }
      },
      "execution_count": 30,
      "outputs": [
        {
          "output_type": "stream",
          "name": "stdout",
          "text": [
            "1/1 [==============================] - 0s 186ms/step - loss: 13.2066 - mae: 13.2066\n"
          ]
        },
        {
          "output_type": "execute_result",
          "data": {
            "text/plain": [
              "[13.206576347351074, 13.206576347351074]"
            ]
          },
          "metadata": {},
          "execution_count": 30
        }
      ]
    },
    {
      "cell_type": "code",
      "source": [
        "tf.constant(y_pred)\n",
        "tf.squeeze(y_pred)"
      ],
      "metadata": {
        "id": "sduLF_cSXEbr",
        "outputId": "81c4f60c-acc5-4395-deb8-2ce9db7c0453",
        "colab": {
          "base_uri": "https://localhost:8080/"
        }
      },
      "execution_count": 31,
      "outputs": [
        {
          "output_type": "execute_result",
          "data": {
            "text/plain": [
              "<tf.Tensor: shape=(10,), dtype=float32, numpy=\n",
              "array([ 78.262   ,  83.360794,  88.45959 ,  93.55838 ,  98.65718 ,\n",
              "       103.755974, 108.85477 , 113.95357 , 119.05237 , 124.15115 ],\n",
              "      dtype=float32)>"
            ]
          },
          "metadata": {},
          "execution_count": 31
        }
      ]
    },
    {
      "cell_type": "code",
      "source": [
        "# Calculate the mean absolute error\n",
        "#tf.keras.losses.MAE(y_pred, Y_test)\n",
        "tf.keras.losses.MSE(y_pred, Y_test)\n",
        "#tf.keras.losses.Huber(y_pred, Y_test)"
      ],
      "metadata": {
        "id": "8Cg1L_eNXRUy",
        "outputId": "bc216363-2b62-4b5b-df67-7fd224691123",
        "colab": {
          "base_uri": "https://localhost:8080/"
        }
      },
      "execution_count": 32,
      "outputs": [
        {
          "output_type": "execute_result",
          "data": {
            "text/plain": [
              "<tf.Tensor: shape=(10,), dtype=int32, numpy=\n",
              "array([ 232,  157,  132,  157,  232,  357,  532,  757, 1093, 1428],\n",
              "      dtype=int32)>"
            ]
          },
          "metadata": {},
          "execution_count": 32
        }
      ]
    },
    {
      "cell_type": "code",
      "source": [
        "mae = tf.metrics.mean_absolute_error(y_true=Y_test,\n",
        "                                     y_pred=tf.squeeze(y_pred))\n",
        "\n",
        "mae"
      ],
      "metadata": {
        "id": "5I7lhEAMZ3mj",
        "outputId": "0d31a5e9-0be4-47db-9492-47000f4b8e15",
        "colab": {
          "base_uri": "https://localhost:8080/"
        }
      },
      "execution_count": 33,
      "outputs": [
        {
          "output_type": "execute_result",
          "data": {
            "text/plain": [
              "<tf.Tensor: shape=(), dtype=float32, numpy=13.206576>"
            ]
          },
          "metadata": {},
          "execution_count": 33
        }
      ]
    },
    {
      "cell_type": "code",
      "source": [
        "Y_test"
      ],
      "metadata": {
        "id": "2IQgI3rcXG3d",
        "outputId": "344cee75-8d37-4c59-8cfb-1c30215246ad",
        "colab": {
          "base_uri": "https://localhost:8080/"
        }
      },
      "execution_count": 34,
      "outputs": [
        {
          "output_type": "execute_result",
          "data": {
            "text/plain": [
              "<tf.Tensor: shape=(10,), dtype=int32, numpy=array([ 70,  74,  78,  82,  86,  90,  94,  98, 102, 106], dtype=int32)>"
            ]
          },
          "metadata": {},
          "execution_count": 34
        }
      ]
    },
    {
      "cell_type": "code",
      "source": [
        "# Calculate the Mean Square Error vvvvvvvvmx  jjjjjjjjjjjjjjjjjjjjjjjjjm hhhhhhhhhhhh            hhh   hhhhhhhhhhhhhhh\n",
        "mse = tf.metrics.mean_squared_error(y_true=Y_test,\n",
        "                                    y_pred=tf.squeeze(y_pred))\n",
        "\n",
        "mse"
      ],
      "metadata": {
        "id": "J47cktdxf1Mv",
        "outputId": "8eaa346c-1865-4988-9056-84d1cad4d787",
        "colab": {
          "base_uri": "https://localhost:8080/"
        }
      },
      "execution_count": 35,
      "outputs": [
        {
          "output_type": "execute_result",
          "data": {
            "text/plain": [
              "<tf.Tensor: shape=(), dtype=float32, numpy=184.37433>"
            ]
          },
          "metadata": {},
          "execution_count": 35
        }
      ]
    },
    {
      "cell_type": "code",
      "source": [
        "# Make some functions to reuse MAE and MSE\n",
        "def mae(y_true, Y_pred):\n",
        "  return tf.metrics.mean_absolute_error(y_true=y_true,\n",
        "                                        y_pred=tf.squeeze(y_pred))\n",
        "\n",
        "def mse(y_true, Y_pred):\n",
        "  return tf.metrics.mean_squared_error(y_true=y_true,\n",
        "                                        y_pred=tf.squeeze(y_pred))\n",
        "mae(Y_test,y_pred)\n",
        "mse(Y_test,y_pred)"
      ],
      "metadata": {
        "id": "l2QfQG2uhFPV",
        "outputId": "be4a100a-85c5-4f95-db9b-fcf0f43f06b5",
        "colab": {
          "base_uri": "https://localhost:8080/"
        }
      },
      "execution_count": 36,
      "outputs": [
        {
          "output_type": "execute_result",
          "data": {
            "text/plain": [
              "<tf.Tensor: shape=(), dtype=float32, numpy=184.37433>"
            ]
          },
          "metadata": {},
          "execution_count": 36
        }
      ]
    },
    {
      "cell_type": "markdown",
      "source": [
        "### Running experiments to improve our model\n",
        "\n",
        "1.   List item\n",
        "2.   List item\n",
        "\n",
        "\n",
        "```Build a model -> fit it -> evaluate it -> tweak it -> fit it -> evaluate it -> tweak it -> fit it -> evaluate it....\n"
      ],
      "metadata": {
        "id": "oxKDNU2QkrEo"
      }
    },
    {
      "cell_type": "code",
      "source": [
        "X_train, Y_train"
      ],
      "metadata": {
        "id": "4PxzLLVjpzez",
        "outputId": "6be43fc6-ef9f-48c1-9472-acc0a3b7bb20",
        "colab": {
          "base_uri": "https://localhost:8080/"
        }
      },
      "execution_count": 37,
      "outputs": [
        {
          "output_type": "execute_result",
          "data": {
            "text/plain": [
              "(<tf.Tensor: shape=(40,), dtype=int32, numpy=\n",
              " array([-100,  -96,  -92,  -88,  -84,  -80,  -76,  -72,  -68,  -64,  -60,\n",
              "         -56,  -52,  -48,  -44,  -40,  -36,  -32,  -28,  -24,  -20,  -16,\n",
              "         -12,   -8,   -4,    0,    4,    8,   12,   16,   20,   24,   28,\n",
              "          32,   36,   40,   44,   48,   52,   56], dtype=int32)>,\n",
              " <tf.Tensor: shape=(40,), dtype=int32, numpy=\n",
              " array([-90, -86, -82, -78, -74, -70, -66, -62, -58, -54, -50, -46, -42,\n",
              "        -38, -34, -30, -26, -22, -18, -14, -10,  -6,  -2,   2,   6,  10,\n",
              "         14,  18,  22,  26,  30,  34,  38,  42,  46,  50,  54,  58,  62,\n",
              "         66], dtype=int32)>)"
            ]
          },
          "metadata": {},
          "execution_count": 37
        }
      ]
    },
    {
      "cell_type": "markdown",
      "source": [
        "1. Get more data - get more examples for your model to train on (more oppertunities to learn patterns or relationship between features and labels).\n",
        "2. Make your model larger(using a more complex model) - this might come in form of more layers or more hidden units in each layer.\n",
        "3. Train for longer - give your model more of a change to find patterns in data.\n",
        "\n",
        "Lets do 3 modelling experiments\n",
        "1. `model_1` - same as the original model, 1 layer, trained for 100 epochs.\n",
        "2. `model_2` - 2 layers trained for 100 epochs.\n",
        "3. `model_3` - 2 layers trained for 500 epochs.\n",
        "\n",
        "**Build model_1"
      ],
      "metadata": {
        "id": "pr9az1ekWBrJ"
      }
    },
    {
      "cell_type": "code",
      "source": [
        "#Set random seed\n",
        "tf.random.set_seed(42)\n",
        "\n",
        "# 1. Create the model\n",
        "#model_1 = tf.keras.Sequential([\n",
        " #   tf.keras.layers.Dense(1)\n",
        "#])\n",
        "model_1 = tf.keras.Sequential([\n",
        "   #tf.keras.layers.Dense(1,input_shape=[1]) #name=\"output_layer\")\n",
        "    tf.keras.layers.Dense(1) #name=\"output_layer\")\n",
        "])\n",
        "\n",
        "# 2. Compile the model\n",
        "model_1.compile(loss=tf.keras.losses.mae,\n",
        "                optimizer=tf.keras.optimizers.SGD(),\n",
        "                metrics=[\"mae\"])\n",
        "\n",
        "# 3. Summary\n",
        "#model_1.summary()\n",
        "\n",
        "# 4. Fit the model\n",
        "model_1.fit(tf.expand_dims(X_train, axis=-1), Y_train, epochs=100)\n",
        "#model.fit(tf.expand_dims(X, axis=-1), Y, epochs=100)\n"
      ],
      "metadata": {
        "id": "_8AQS9KNXmtA",
        "outputId": "32013d50-e05f-47de-8d68-eb2c06fe0287",
        "colab": {
          "base_uri": "https://localhost:8080/"
        }
      },
      "execution_count": 38,
      "outputs": [
        {
          "output_type": "stream",
          "name": "stdout",
          "text": [
            "Epoch 1/100\n",
            "2/2 [==============================] - 0s 14ms/step - loss: 28.5509 - mae: 28.5509\n",
            "Epoch 2/100\n",
            "2/2 [==============================] - 0s 11ms/step - loss: 9.0147 - mae: 9.0147\n",
            "Epoch 3/100\n",
            "2/2 [==============================] - 0s 9ms/step - loss: 8.2148 - mae: 8.2148\n",
            "Epoch 4/100\n",
            "2/2 [==============================] - 0s 8ms/step - loss: 7.5371 - mae: 7.5371\n",
            "Epoch 5/100\n",
            "2/2 [==============================] - 0s 8ms/step - loss: 7.5480 - mae: 7.5480\n",
            "Epoch 6/100\n",
            "2/2 [==============================] - 0s 15ms/step - loss: 9.0383 - mae: 9.0383\n",
            "Epoch 7/100\n",
            "2/2 [==============================] - 0s 12ms/step - loss: 9.4503 - mae: 9.4503\n",
            "Epoch 8/100\n",
            "2/2 [==============================] - 0s 9ms/step - loss: 9.3090 - mae: 9.3090\n",
            "Epoch 9/100\n",
            "2/2 [==============================] - 0s 9ms/step - loss: 7.5026 - mae: 7.5026\n",
            "Epoch 10/100\n",
            "2/2 [==============================] - 0s 8ms/step - loss: 12.5710 - mae: 12.5710\n",
            "Epoch 11/100\n",
            "2/2 [==============================] - 0s 8ms/step - loss: 10.3187 - mae: 10.3187\n",
            "Epoch 12/100\n",
            "2/2 [==============================] - 0s 7ms/step - loss: 18.5172 - mae: 18.5172\n",
            "Epoch 13/100\n",
            "2/2 [==============================] - 0s 7ms/step - loss: 9.7209 - mae: 9.7209\n",
            "Epoch 14/100\n",
            "2/2 [==============================] - 0s 8ms/step - loss: 15.6029 - mae: 15.6029\n",
            "Epoch 15/100\n",
            "2/2 [==============================] - 0s 9ms/step - loss: 11.7145 - mae: 11.7145\n",
            "Epoch 16/100\n",
            "2/2 [==============================] - 0s 10ms/step - loss: 8.4365 - mae: 8.4365\n",
            "Epoch 17/100\n",
            "2/2 [==============================] - 0s 11ms/step - loss: 13.4074 - mae: 13.4074\n",
            "Epoch 18/100\n",
            "2/2 [==============================] - 0s 11ms/step - loss: 11.1812 - mae: 11.1812\n",
            "Epoch 19/100\n",
            "2/2 [==============================] - 0s 10ms/step - loss: 18.3348 - mae: 18.3348\n",
            "Epoch 20/100\n",
            "2/2 [==============================] - 0s 7ms/step - loss: 15.0383 - mae: 15.0383\n",
            "Epoch 21/100\n",
            "2/2 [==============================] - 0s 8ms/step - loss: 11.0099 - mae: 11.0099\n",
            "Epoch 22/100\n",
            "2/2 [==============================] - 0s 8ms/step - loss: 8.1435 - mae: 8.1435\n",
            "Epoch 23/100\n",
            "2/2 [==============================] - 0s 11ms/step - loss: 9.5066 - mae: 9.5066\n",
            "Epoch 24/100\n",
            "2/2 [==============================] - 0s 9ms/step - loss: 7.6510 - mae: 7.6510\n",
            "Epoch 25/100\n",
            "2/2 [==============================] - 0s 8ms/step - loss: 13.1870 - mae: 13.1870\n",
            "Epoch 26/100\n",
            "2/2 [==============================] - 0s 8ms/step - loss: 16.4101 - mae: 16.4101\n",
            "Epoch 27/100\n",
            "2/2 [==============================] - 0s 8ms/step - loss: 13.1551 - mae: 13.1551\n",
            "Epoch 28/100\n",
            "2/2 [==============================] - 0s 9ms/step - loss: 14.2438 - mae: 14.2438\n",
            "Epoch 29/100\n",
            "2/2 [==============================] - 0s 12ms/step - loss: 10.0567 - mae: 10.0567\n",
            "Epoch 30/100\n",
            "2/2 [==============================] - 0s 11ms/step - loss: 16.3285 - mae: 16.3285\n",
            "Epoch 31/100\n",
            "2/2 [==============================] - 0s 7ms/step - loss: 23.6484 - mae: 23.6484\n",
            "Epoch 32/100\n",
            "2/2 [==============================] - 0s 8ms/step - loss: 7.6128 - mae: 7.6128\n",
            "Epoch 33/100\n",
            "2/2 [==============================] - 0s 9ms/step - loss: 9.3140 - mae: 9.3140\n",
            "Epoch 34/100\n",
            "2/2 [==============================] - 0s 9ms/step - loss: 13.7282 - mae: 13.7282\n",
            "Epoch 35/100\n",
            "2/2 [==============================] - 0s 8ms/step - loss: 11.1158 - mae: 11.1158\n",
            "Epoch 36/100\n",
            "2/2 [==============================] - 0s 8ms/step - loss: 13.3100 - mae: 13.3100\n",
            "Epoch 37/100\n",
            "2/2 [==============================] - 0s 9ms/step - loss: 9.4689 - mae: 9.4689\n",
            "Epoch 38/100\n",
            "2/2 [==============================] - 0s 8ms/step - loss: 10.1312 - mae: 10.1312\n",
            "Epoch 39/100\n",
            "2/2 [==============================] - 0s 8ms/step - loss: 10.1674 - mae: 10.1674\n",
            "Epoch 40/100\n",
            "2/2 [==============================] - 0s 8ms/step - loss: 10.9019 - mae: 10.9019\n",
            "Epoch 41/100\n",
            "2/2 [==============================] - 0s 10ms/step - loss: 7.8940 - mae: 7.8940\n",
            "Epoch 42/100\n",
            "2/2 [==============================] - 0s 9ms/step - loss: 10.0842 - mae: 10.0842\n",
            "Epoch 43/100\n",
            "2/2 [==============================] - 0s 10ms/step - loss: 8.6920 - mae: 8.6920\n",
            "Epoch 44/100\n",
            "2/2 [==============================] - 0s 12ms/step - loss: 12.2016 - mae: 12.2016\n",
            "Epoch 45/100\n",
            "2/2 [==============================] - 0s 11ms/step - loss: 13.7849 - mae: 13.7849\n",
            "Epoch 46/100\n",
            "2/2 [==============================] - 0s 10ms/step - loss: 8.4561 - mae: 8.4561\n",
            "Epoch 47/100\n",
            "2/2 [==============================] - 0s 8ms/step - loss: 9.1258 - mae: 9.1258\n",
            "Epoch 48/100\n",
            "2/2 [==============================] - 0s 8ms/step - loss: 10.6124 - mae: 10.6124\n",
            "Epoch 49/100\n",
            "2/2 [==============================] - 0s 8ms/step - loss: 7.7432 - mae: 7.7432\n",
            "Epoch 50/100\n",
            "2/2 [==============================] - 0s 8ms/step - loss: 9.5343 - mae: 9.5343\n",
            "Epoch 51/100\n",
            "2/2 [==============================] - 0s 9ms/step - loss: 9.1497 - mae: 9.1497\n",
            "Epoch 52/100\n",
            "2/2 [==============================] - 0s 9ms/step - loss: 16.3665 - mae: 16.3665\n",
            "Epoch 53/100\n",
            "2/2 [==============================] - 0s 9ms/step - loss: 14.1200 - mae: 14.1200\n",
            "Epoch 54/100\n",
            "2/2 [==============================] - 0s 8ms/step - loss: 21.1126 - mae: 21.1126\n",
            "Epoch 55/100\n",
            "2/2 [==============================] - 0s 8ms/step - loss: 16.3971 - mae: 16.3971\n",
            "Epoch 56/100\n",
            "2/2 [==============================] - 0s 8ms/step - loss: 9.9687 - mae: 9.9687\n",
            "Epoch 57/100\n",
            "2/2 [==============================] - 0s 8ms/step - loss: 9.9537 - mae: 9.9537\n",
            "Epoch 58/100\n",
            "2/2 [==============================] - 0s 8ms/step - loss: 9.2133 - mae: 9.2133\n",
            "Epoch 59/100\n",
            "2/2 [==============================] - 0s 9ms/step - loss: 8.4176 - mae: 8.4176\n",
            "Epoch 60/100\n",
            "2/2 [==============================] - 0s 8ms/step - loss: 9.4790 - mae: 9.4790\n",
            "Epoch 61/100\n",
            "2/2 [==============================] - 0s 9ms/step - loss: 11.4294 - mae: 11.4294\n",
            "Epoch 62/100\n",
            "2/2 [==============================] - 0s 8ms/step - loss: 11.6763 - mae: 11.6763\n",
            "Epoch 63/100\n",
            "2/2 [==============================] - 0s 8ms/step - loss: 7.0751 - mae: 7.0751\n",
            "Epoch 64/100\n",
            "2/2 [==============================] - 0s 9ms/step - loss: 16.9566 - mae: 16.9566\n",
            "Epoch 65/100\n",
            "2/2 [==============================] - 0s 8ms/step - loss: 12.4487 - mae: 12.4487\n",
            "Epoch 66/100\n",
            "2/2 [==============================] - 0s 12ms/step - loss: 13.0064 - mae: 13.0064\n",
            "Epoch 67/100\n",
            "2/2 [==============================] - 0s 8ms/step - loss: 8.0488 - mae: 8.0488\n",
            "Epoch 68/100\n",
            "2/2 [==============================] - 0s 11ms/step - loss: 10.1775 - mae: 10.1775\n",
            "Epoch 69/100\n",
            "2/2 [==============================] - 0s 8ms/step - loss: 12.3508 - mae: 12.3508\n",
            "Epoch 70/100\n",
            "2/2 [==============================] - 0s 12ms/step - loss: 9.0439 - mae: 9.0439\n",
            "Epoch 71/100\n",
            "2/2 [==============================] - 0s 9ms/step - loss: 10.0306 - mae: 10.0306\n",
            "Epoch 72/100\n",
            "2/2 [==============================] - 0s 11ms/step - loss: 10.0439 - mae: 10.0439\n",
            "Epoch 73/100\n",
            "2/2 [==============================] - 0s 8ms/step - loss: 12.6105 - mae: 12.6105\n",
            "Epoch 74/100\n",
            "2/2 [==============================] - 0s 10ms/step - loss: 10.3690 - mae: 10.3690\n",
            "Epoch 75/100\n",
            "2/2 [==============================] - 0s 9ms/step - loss: 9.7158 - mae: 9.7158\n",
            "Epoch 76/100\n",
            "2/2 [==============================] - 0s 9ms/step - loss: 11.2184 - mae: 11.2184\n",
            "Epoch 77/100\n",
            "2/2 [==============================] - 0s 8ms/step - loss: 8.3574 - mae: 8.3574\n",
            "Epoch 78/100\n",
            "2/2 [==============================] - 0s 8ms/step - loss: 9.1214 - mae: 9.1214\n",
            "Epoch 79/100\n",
            "2/2 [==============================] - 0s 8ms/step - loss: 19.4918 - mae: 19.4918\n",
            "Epoch 80/100\n",
            "2/2 [==============================] - 0s 8ms/step - loss: 14.8940 - mae: 14.8940\n",
            "Epoch 81/100\n",
            "2/2 [==============================] - 0s 8ms/step - loss: 8.9899 - mae: 8.9899\n",
            "Epoch 82/100\n",
            "2/2 [==============================] - 0s 8ms/step - loss: 13.0183 - mae: 13.0183\n",
            "Epoch 83/100\n",
            "2/2 [==============================] - 0s 9ms/step - loss: 7.9235 - mae: 7.9235\n",
            "Epoch 84/100\n",
            "2/2 [==============================] - 0s 9ms/step - loss: 7.6765 - mae: 7.6765\n",
            "Epoch 85/100\n",
            "2/2 [==============================] - 0s 9ms/step - loss: 10.0213 - mae: 10.0213\n",
            "Epoch 86/100\n",
            "2/2 [==============================] - 0s 8ms/step - loss: 9.2326 - mae: 9.2326\n",
            "Epoch 87/100\n",
            "2/2 [==============================] - 0s 9ms/step - loss: 12.0103 - mae: 12.0103\n",
            "Epoch 88/100\n",
            "2/2 [==============================] - 0s 8ms/step - loss: 10.6272 - mae: 10.6272\n",
            "Epoch 89/100\n",
            "2/2 [==============================] - 0s 8ms/step - loss: 7.2566 - mae: 7.2566\n",
            "Epoch 90/100\n",
            "2/2 [==============================] - 0s 9ms/step - loss: 12.7667 - mae: 12.7667\n",
            "Epoch 91/100\n",
            "2/2 [==============================] - 0s 8ms/step - loss: 7.3370 - mae: 7.3370\n",
            "Epoch 92/100\n",
            "2/2 [==============================] - 0s 9ms/step - loss: 7.7057 - mae: 7.7057\n",
            "Epoch 93/100\n",
            "2/2 [==============================] - 0s 9ms/step - loss: 7.1163 - mae: 7.1163\n",
            "Epoch 94/100\n",
            "2/2 [==============================] - 0s 8ms/step - loss: 12.6073 - mae: 12.6073\n",
            "Epoch 95/100\n",
            "2/2 [==============================] - 0s 8ms/step - loss: 10.0785 - mae: 10.0785\n",
            "Epoch 96/100\n",
            "2/2 [==============================] - 0s 8ms/step - loss: 9.3476 - mae: 9.3476\n",
            "Epoch 97/100\n",
            "2/2 [==============================] - 0s 8ms/step - loss: 12.6809 - mae: 12.6809\n",
            "Epoch 98/100\n",
            "2/2 [==============================] - 0s 8ms/step - loss: 8.6689 - mae: 8.6689\n",
            "Epoch 99/100\n",
            "2/2 [==============================] - 0s 8ms/step - loss: 9.4624 - mae: 9.4624\n",
            "Epoch 100/100\n",
            "2/2 [==============================] - 0s 8ms/step - loss: 8.6949 - mae: 8.6949\n"
          ]
        },
        {
          "output_type": "execute_result",
          "data": {
            "text/plain": [
              "<keras.callbacks.History at 0x79c9d67f6dd0>"
            ]
          },
          "metadata": {},
          "execution_count": 38
        }
      ]
    },
    {
      "cell_type": "code",
      "source": [
        "# Make and plot predictions for model_1_1\n",
        "y_preds_1 = model_1.predict(X_test)\n",
        "plot_predictions(predictions=y_preds_1)"
      ],
      "metadata": {
        "colab": {
          "base_uri": "https://localhost:8080/",
          "height": 616
        },
        "id": "bm6WPt2A7jin",
        "outputId": "abbb30a0-e732-4afc-8dbf-253623f003e8"
      },
      "execution_count": 39,
      "outputs": [
        {
          "output_type": "stream",
          "name": "stdout",
          "text": [
            "1/1 [==============================] - 0s 54ms/step\n"
          ]
        },
        {
          "output_type": "display_data",
          "data": {
            "text/plain": [
              "<Figure size 1000x700 with 1 Axes>"
            ],
            "image/png": "[encoded data removed]"
          },
          "metadata": {}
        }
      ]
    },
    {
      "cell_type": "code",
      "source": [
        "# Calculate model_1evaluation metrics\n",
        "mae_1 = mae(Y_test, y_preds_1)\n",
        "mse_1 = mse(Y_test, y_preds_1)\n",
        "mae_1, mse_1"
      ],
      "metadata": {
        "colab": {
          "base_uri": "https://localhost:8080/"
        },
        "id": "-7ZHurag5RTh",
        "outputId": "40eebec2-2687-4fdd-f498-48b080788cc5"
      },
      "execution_count": 40,
      "outputs": [
        {
          "output_type": "execute_result",
          "data": {
            "text/plain": [
              "(<tf.Tensor: shape=(), dtype=float32, numpy=13.206576>,\n",
              " <tf.Tensor: shape=(), dtype=float32, numpy=184.37433>)"
            ]
          },
          "metadata": {},
          "execution_count": 40
        }
      ]
    },
    {
      "cell_type": "markdown",
      "source": [
        "** Build `model_2`**\n",
        "\n",
        "* 2 dense layers, trained for 100 epochs"
      ],
      "metadata": {
        "id": "5u18qu5rFie2"
      }
    },
    {
      "cell_type": "code",
      "source": [
        "# Set the random seed\n",
        "tf.random.set_seed(42)\n",
        "\n",
        "# 1. Create the model\n",
        "model_2 = tf.keras.Sequential([\n",
        "    tf.keras.layers.Dense(10),\n",
        "    tf.keras.layers.Dense(1)\n",
        "])\n",
        "\n",
        "#2. Compile the model\n",
        "model_2.compile(loss=tf.keras.losses.mae,\n",
        "                optimizer=tf.keras.optimizers.SGD(),\n",
        "                metrics=[\"mse\"])\n",
        "\n",
        "#3. Fit the model\n",
        "#model_2.fit(X_train, Y_train, epochs=100)\n",
        "model_2.fit(tf.expand_dims(X_train, axis=-1), Y_train, epochs=100)"
      ],
      "metadata": {
        "id": "ieaVjvkKGAK4",
        "outputId": "a2738f76-99c6-48c8-99e6-1ead2a6df1f6",
        "colab": {
          "base_uri": "https://localhost:8080/"
        }
      },
      "execution_count": 41,
      "outputs": [
        {
          "output_type": "stream",
          "name": "stdout",
          "text": [
            "Epoch 1/100\n",
            "2/2 [==============================] - 1s 13ms/step - loss: 39.8785 - mse: 2456.0398\n",
            "Epoch 2/100\n",
            "2/2 [==============================] - 0s 10ms/step - loss: 18.6425 - mse: 546.8273\n",
            "Epoch 3/100\n",
            "2/2 [==============================] - 0s 10ms/step - loss: 15.5250 - mse: 333.0975\n",
            "Epoch 4/100\n",
            "2/2 [==============================] - 0s 12ms/step - loss: 16.1270 - mse: 358.6251\n",
            "Epoch 5/100\n",
            "2/2 [==============================] - 0s 9ms/step - loss: 15.3087 - mse: 299.6886\n",
            "Epoch 6/100\n",
            "2/2 [==============================] - 0s 9ms/step - loss: 12.1529 - mse: 182.6498\n",
            "Epoch 7/100\n",
            "2/2 [==============================] - 0s 8ms/step - loss: 11.4506 - mse: 159.4355\n",
            "Epoch 8/100\n",
            "2/2 [==============================] - 0s 15ms/step - loss: 11.1827 - mse: 174.1423\n",
            "Epoch 9/100\n",
            "2/2 [==============================] - 0s 8ms/step - loss: 41.7312 - mse: 2775.0918\n",
            "Epoch 10/100\n",
            "2/2 [==============================] - 0s 8ms/step - loss: 28.9660 - mse: 1185.8877\n",
            "Epoch 11/100\n",
            "2/2 [==============================] - 0s 9ms/step - loss: 8.5334 - mse: 96.0818\n",
            "Epoch 12/100\n",
            "2/2 [==============================] - 0s 11ms/step - loss: 27.4148 - mse: 1033.2927\n",
            "Epoch 13/100\n",
            "2/2 [==============================] - 0s 9ms/step - loss: 12.1173 - mse: 175.2358\n",
            "Epoch 14/100\n",
            "2/2 [==============================] - 0s 10ms/step - loss: 34.9313 - mse: 2007.1643\n",
            "Epoch 15/100\n",
            "2/2 [==============================] - 0s 9ms/step - loss: 22.7400 - mse: 735.1766\n",
            "Epoch 16/100\n",
            "2/2 [==============================] - 0s 10ms/step - loss: 9.9477 - mse: 124.6950\n",
            "Epoch 17/100\n",
            "2/2 [==============================] - 0s 9ms/step - loss: 17.9429 - mse: 428.3585\n",
            "Epoch 18/100\n",
            "2/2 [==============================] - 0s 8ms/step - loss: 14.7684 - mse: 344.5443\n",
            "Epoch 19/100\n",
            "2/2 [==============================] - 0s 8ms/step - loss: 11.5833 - mse: 195.0425\n",
            "Epoch 20/100\n",
            "2/2 [==============================] - 0s 11ms/step - loss: 10.5318 - mse: 146.9929\n",
            "Epoch 21/100\n",
            "2/2 [==============================] - 0s 9ms/step - loss: 15.4073 - mse: 323.6635\n",
            "Epoch 22/100\n",
            "2/2 [==============================] - 0s 8ms/step - loss: 16.0885 - mse: 360.7241\n",
            "Epoch 23/100\n",
            "2/2 [==============================] - 0s 6ms/step - loss: 9.2382 - mse: 118.2936\n",
            "Epoch 24/100\n",
            "2/2 [==============================] - 0s 9ms/step - loss: 17.3254 - mse: 412.2597\n",
            "Epoch 25/100\n",
            "2/2 [==============================] - 0s 9ms/step - loss: 15.9763 - mse: 335.9247\n",
            "Epoch 26/100\n",
            "2/2 [==============================] - 0s 11ms/step - loss: 21.0311 - mse: 654.1595\n",
            "Epoch 27/100\n",
            "2/2 [==============================] - 0s 9ms/step - loss: 25.7352 - mse: 1031.1039\n",
            "Epoch 28/100\n",
            "2/2 [==============================] - 0s 9ms/step - loss: 18.2618 - mse: 527.3983\n",
            "Epoch 29/100\n",
            "2/2 [==============================] - 0s 9ms/step - loss: 9.2225 - mse: 98.4122\n",
            "Epoch 30/100\n",
            "2/2 [==============================] - 0s 9ms/step - loss: 28.8748 - mse: 1483.4244\n",
            "Epoch 31/100\n",
            "2/2 [==============================] - 0s 7ms/step - loss: 52.2723 - mse: 4881.9526\n",
            "Epoch 32/100\n",
            "2/2 [==============================] - 0s 9ms/step - loss: 11.8283 - mse: 201.2412\n",
            "Epoch 33/100\n",
            "2/2 [==============================] - 0s 8ms/step - loss: 15.3732 - mse: 325.3121\n",
            "Epoch 34/100\n",
            "2/2 [==============================] - 0s 8ms/step - loss: 12.5027 - mse: 204.5438\n",
            "Epoch 35/100\n",
            "2/2 [==============================] - 0s 16ms/step - loss: 9.1471 - mse: 90.3149\n",
            "Epoch 36/100\n",
            "2/2 [==============================] - 0s 8ms/step - loss: 16.3390 - mse: 387.6121\n",
            "Epoch 37/100\n",
            "2/2 [==============================] - 0s 7ms/step - loss: 11.1099 - mse: 191.8857\n",
            "Epoch 38/100\n",
            "2/2 [==============================] - 0s 12ms/step - loss: 18.2432 - mse: 439.3683\n",
            "Epoch 39/100\n",
            "2/2 [==============================] - 0s 11ms/step - loss: 19.1700 - mse: 536.5311\n",
            "Epoch 40/100\n",
            "2/2 [==============================] - 0s 11ms/step - loss: 20.5612 - mse: 617.4647\n",
            "Epoch 41/100\n",
            "2/2 [==============================] - 0s 10ms/step - loss: 14.7252 - mse: 270.6362\n",
            "Epoch 42/100\n",
            "2/2 [==============================] - 0s 8ms/step - loss: 12.1405 - mse: 179.2659\n",
            "Epoch 43/100\n",
            "2/2 [==============================] - 0s 8ms/step - loss: 10.6594 - mse: 160.6710\n",
            "Epoch 44/100\n",
            "2/2 [==============================] - 0s 8ms/step - loss: 32.1371 - mse: 1697.0472\n",
            "Epoch 45/100\n",
            "2/2 [==============================] - 0s 9ms/step - loss: 12.4147 - mse: 199.1115\n",
            "Epoch 46/100\n",
            "2/2 [==============================] - 0s 9ms/step - loss: 17.4158 - mse: 454.2716\n",
            "Epoch 47/100\n",
            "2/2 [==============================] - 0s 8ms/step - loss: 15.7820 - mse: 340.3146\n",
            "Epoch 48/100\n",
            "2/2 [==============================] - 0s 8ms/step - loss: 8.3833 - mse: 112.5814\n",
            "Epoch 49/100\n",
            "2/2 [==============================] - 0s 8ms/step - loss: 14.2358 - mse: 283.9115\n",
            "Epoch 50/100\n",
            "2/2 [==============================] - 0s 9ms/step - loss: 15.1693 - mse: 308.8317\n",
            "Epoch 51/100\n",
            "2/2 [==============================] - 0s 10ms/step - loss: 13.6798 - mse: 256.5857\n",
            "Epoch 52/100\n",
            "2/2 [==============================] - 0s 9ms/step - loss: 18.0944 - mse: 461.8769\n",
            "Epoch 53/100\n",
            "2/2 [==============================] - 0s 9ms/step - loss: 22.7526 - mse: 748.1880\n",
            "Epoch 54/100\n",
            "2/2 [==============================] - 0s 9ms/step - loss: 26.8432 - mse: 1109.8180\n",
            "Epoch 55/100\n",
            "2/2 [==============================] - 0s 8ms/step - loss: 26.4800 - mse: 1066.2013\n",
            "Epoch 56/100\n",
            "2/2 [==============================] - 0s 8ms/step - loss: 11.3557 - mse: 171.6550\n",
            "Epoch 57/100\n",
            "2/2 [==============================] - 0s 8ms/step - loss: 13.3868 - mse: 226.9404\n",
            "Epoch 58/100\n",
            "2/2 [==============================] - 0s 8ms/step - loss: 9.9592 - mse: 109.8958\n",
            "Epoch 59/100\n",
            "2/2 [==============================] - 0s 8ms/step - loss: 13.9624 - mse: 278.3860\n",
            "Epoch 60/100\n",
            "2/2 [==============================] - 0s 8ms/step - loss: 10.0036 - mse: 118.7650\n",
            "Epoch 61/100\n",
            "2/2 [==============================] - 0s 9ms/step - loss: 15.0251 - mse: 310.9318\n",
            "Epoch 62/100\n",
            "2/2 [==============================] - 0s 8ms/step - loss: 11.9533 - mse: 198.7937\n",
            "Epoch 63/100\n",
            "2/2 [==============================] - 0s 9ms/step - loss: 10.2981 - mse: 136.6532\n",
            "Epoch 64/100\n",
            "2/2 [==============================] - 0s 8ms/step - loss: 24.0042 - mse: 847.2689\n",
            "Epoch 65/100\n",
            "2/2 [==============================] - 0s 9ms/step - loss: 10.4767 - mse: 131.4008\n",
            "Epoch 66/100\n",
            "2/2 [==============================] - 0s 8ms/step - loss: 21.0404 - mse: 651.9432\n",
            "Epoch 67/100\n",
            "2/2 [==============================] - 0s 12ms/step - loss: 10.4646 - mse: 127.2245\n",
            "Epoch 68/100\n",
            "2/2 [==============================] - 0s 9ms/step - loss: 14.2544 - mse: 306.1906\n",
            "Epoch 69/100\n",
            "2/2 [==============================] - 0s 10ms/step - loss: 10.5469 - mse: 127.1679\n",
            "Epoch 70/100\n",
            "2/2 [==============================] - 0s 6ms/step - loss: 12.6244 - mse: 202.4846\n",
            "Epoch 71/100\n",
            "2/2 [==============================] - 0s 8ms/step - loss: 13.0572 - mse: 228.7509\n",
            "Epoch 72/100\n",
            "2/2 [==============================] - 0s 8ms/step - loss: 19.4876 - mse: 539.1071\n",
            "Epoch 73/100\n",
            "2/2 [==============================] - 0s 8ms/step - loss: 11.1509 - mse: 192.0073\n",
            "Epoch 74/100\n",
            "2/2 [==============================] - 0s 8ms/step - loss: 21.7586 - mse: 736.4531\n",
            "Epoch 75/100\n",
            "2/2 [==============================] - 0s 10ms/step - loss: 7.1999 - mse: 71.3005\n",
            "Epoch 76/100\n",
            "2/2 [==============================] - 0s 10ms/step - loss: 9.4323 - mse: 149.2696\n",
            "Epoch 77/100\n",
            "2/2 [==============================] - 0s 11ms/step - loss: 22.1038 - mse: 729.9122\n",
            "Epoch 78/100\n",
            "2/2 [==============================] - 0s 9ms/step - loss: 17.5904 - mse: 470.1117\n",
            "Epoch 79/100\n",
            "2/2 [==============================] - 0s 9ms/step - loss: 14.7851 - mse: 319.9655\n",
            "Epoch 80/100\n",
            "2/2 [==============================] - 0s 8ms/step - loss: 25.0387 - mse: 955.8928\n",
            "Epoch 81/100\n",
            "2/2 [==============================] - 0s 7ms/step - loss: 10.8534 - mse: 138.9983\n",
            "Epoch 82/100\n",
            "2/2 [==============================] - 0s 8ms/step - loss: 12.7767 - mse: 232.7694\n",
            "Epoch 83/100\n",
            "2/2 [==============================] - 0s 9ms/step - loss: 17.5566 - mse: 402.0675\n",
            "Epoch 84/100\n",
            "2/2 [==============================] - 0s 9ms/step - loss: 7.2825 - mse: 72.9777\n",
            "Epoch 85/100\n",
            "2/2 [==============================] - 0s 10ms/step - loss: 15.0639 - mse: 316.7579\n",
            "Epoch 86/100\n",
            "2/2 [==============================] - 0s 14ms/step - loss: 15.3640 - mse: 317.3515\n",
            "Epoch 87/100\n",
            "2/2 [==============================] - 0s 9ms/step - loss: 19.2676 - mse: 528.5466\n",
            "Epoch 88/100\n",
            "2/2 [==============================] - 0s 10ms/step - loss: 29.4035 - mse: 1248.7401\n",
            "Epoch 89/100\n",
            "2/2 [==============================] - 0s 9ms/step - loss: 10.1072 - mse: 123.9420\n",
            "Epoch 90/100\n",
            "2/2 [==============================] - 0s 8ms/step - loss: 21.1848 - mse: 642.5914\n",
            "Epoch 91/100\n",
            "2/2 [==============================] - 0s 8ms/step - loss: 10.4850 - mse: 163.0530\n",
            "Epoch 92/100\n",
            "2/2 [==============================] - 0s 8ms/step - loss: 18.0965 - mse: 448.2815\n",
            "Epoch 93/100\n",
            "2/2 [==============================] - 0s 8ms/step - loss: 6.5361 - mse: 60.6307\n",
            "Epoch 94/100\n",
            "2/2 [==============================] - 0s 8ms/step - loss: 11.1467 - mse: 154.5763\n",
            "Epoch 95/100\n",
            "2/2 [==============================] - 0s 9ms/step - loss: 24.5405 - mse: 904.1061\n",
            "Epoch 96/100\n",
            "2/2 [==============================] - 0s 8ms/step - loss: 10.7559 - mse: 171.6906\n",
            "Epoch 97/100\n",
            "2/2 [==============================] - 0s 10ms/step - loss: 15.4688 - mse: 363.1043\n",
            "Epoch 98/100\n",
            "2/2 [==============================] - 0s 9ms/step - loss: 9.0283 - mse: 143.6733\n",
            "Epoch 99/100\n",
            "2/2 [==============================] - 0s 12ms/step - loss: 10.8486 - mse: 138.3308\n",
            "Epoch 100/100\n",
            "2/2 [==============================] - 0s 9ms/step - loss: 27.0776 - mse: 1117.9475\n"
          ]
        },
        {
          "output_type": "execute_result",
          "data": {
            "text/plain": [
              "<keras.callbacks.History at 0x79c9d65a78e0>"
            ]
          },
          "metadata": {},
          "execution_count": 41
        }
      ]
    },
    {
      "cell_type": "code",
      "source": [
        "# Make and plot predictions for model_2\n",
        "y_preds_2 = model_2.predict(X_test)\n",
        "plot_predictions(predictions=y_preds_2)"
      ],
      "metadata": {
        "id": "JwBQPHNZLOFU",
        "outputId": "d55938f0-e4af-457a-fbb8-545259f50195",
        "colab": {
          "base_uri": "https://localhost:8080/",
          "height": 654
        }
      },
      "execution_count": 42,
      "outputs": [
        {
          "output_type": "stream",
          "name": "stderr",
          "text": [
            "WARNING:tensorflow:5 out of the last 6 calls to <function Model.make_predict_function.<locals>.predict_function at 0x79c9d67d00d0> triggered tf.function retracing. Tracing is expensive and the excessive number of tracings could be due to (1) creating @tf.function repeatedly in a loop, (2) passing tensors with different shapes, (3) passing Python objects instead of tensors. For (1), please define your @tf.function outside of the loop. For (2), @tf.function has reduce_retracing=True option that can avoid unnecessary retracing. For (3), please refer to https://www.tensorflow.org/guide/function#controlling_retracing and https://www.tensorflow.org/api_docs/python/tf/function for  more details.\n"
          ]
        },
        {
          "output_type": "stream",
          "name": "stdout",
          "text": [
            "1/1 [==============================] - 0s 71ms/step\n"
          ]
        },
        {
          "output_type": "display_data",
          "data": {
            "text/plain": [
              "<Figure size 1000x700 with 1 Axes>"
            ],
            "image/png": "[encoded data removed]"
          },
          "metadata": {}
        }
      ]
    },
    {
      "cell_type": "code",
      "source": [
        "# Calculate model_2 evaluation metrics\n",
        "mae_2 = mae(Y_test, y_preds_2)\n",
        "mse_2 = mse(Y_test, y_preds_2)\n",
        "mae_2, mse_2"
      ],
      "metadata": {
        "id": "cHovZ9qhL0eW",
        "outputId": "8be45563-6e85-48c1-e562-8e06a24ab351",
        "colab": {
          "base_uri": "https://localhost:8080/"
        }
      },
      "execution_count": 43,
      "outputs": [
        {
          "output_type": "execute_result",
          "data": {
            "text/plain": [
              "(<tf.Tensor: shape=(), dtype=float32, numpy=13.206576>,\n",
              " <tf.Tensor: shape=(), dtype=float32, numpy=184.37433>)"
            ]
          },
          "metadata": {},
          "execution_count": 43
        }
      ]
    },
    {
      "cell_type": "markdown",
      "source": [
        "**Build model_3**\n",
        "\n",
        "2 layers trained for 100 epochs"
      ],
      "metadata": {
        "id": "_hN_S9a8M-PZ"
      }
    },
    {
      "cell_type": "code",
      "source": [
        "# Set the random seed\n",
        "tf.random.set_seed(42)\n",
        "\n",
        "# 1. Create the model\n",
        "model_3 = tf.keras.Sequential([\n",
        "    #tf.keras.layers.Dense(10),\n",
        "    #tf.keras.layers.Dense(1)\n",
        "    tf.keras.layers.Dense(10, input_shape=[1]),\n",
        "    tf.keras.layers.Dense(1, input_shape=[1])\n",
        "])\n",
        "\n",
        "#2. Compile the model\n",
        "model_3.compile(loss=tf.keras.losses.mae,\n",
        "                optimizer=tf.keras.optimizers.SGD(),\n",
        "                metrics=[\"mae\"])\n",
        "\n",
        "#3. Fit the model\n",
        "model_3.fit(X_train, Y_train, epochs=500)"
      ],
      "metadata": {
        "id": "Q6KE5N9JM8n7",
        "outputId": "d3ca53b2-d8e1-4c3f-e174-68952741c24e",
        "colab": {
          "base_uri": "https://localhost:8080/"
        }
      },
      "execution_count": 44,
      "outputs": [
        {
          "output_type": "stream",
          "name": "stdout",
          "text": [
            "Epoch 1/500\n",
            "2/2 [==============================] - 0s 13ms/step - loss: 26.0399 - mae: 26.0399\n",
            "Epoch 2/500\n",
            "2/2 [==============================] - 0s 13ms/step - loss: 24.5029 - mae: 24.5029\n",
            "Epoch 3/500\n",
            "2/2 [==============================] - 0s 9ms/step - loss: 29.8454 - mae: 29.8454\n",
            "Epoch 4/500\n",
            "2/2 [==============================] - 0s 8ms/step - loss: 27.0558 - mae: 27.0558\n",
            "Epoch 5/500\n",
            "2/2 [==============================] - 0s 9ms/step - loss: 14.7801 - mae: 14.7801\n",
            "Epoch 6/500\n",
            "2/2 [==============================] - 0s 8ms/step - loss: 11.7604 - mae: 11.7604\n",
            "Epoch 7/500\n",
            "2/2 [==============================] - 0s 10ms/step - loss: 11.0920 - mae: 11.0920\n",
            "Epoch 8/500\n",
            "2/2 [==============================] - 0s 8ms/step - loss: 11.0556 - mae: 11.0556\n",
            "Epoch 9/500\n",
            "2/2 [==============================] - 0s 9ms/step - loss: 40.0216 - mae: 40.0216\n",
            "Epoch 10/500\n",
            "2/2 [==============================] - 0s 6ms/step - loss: 27.4719 - mae: 27.4719\n",
            "Epoch 11/500\n",
            "2/2 [==============================] - 0s 6ms/step - loss: 10.2470 - mae: 10.2470\n",
            "Epoch 12/500\n",
            "2/2 [==============================] - 0s 9ms/step - loss: 25.4005 - mae: 25.4005\n",
            "Epoch 13/500\n",
            "2/2 [==============================] - 0s 9ms/step - loss: 16.8025 - mae: 16.8025\n",
            "Epoch 14/500\n",
            "2/2 [==============================] - 0s 10ms/step - loss: 25.5783 - mae: 25.5783\n",
            "Epoch 15/500\n",
            "2/2 [==============================] - 0s 9ms/step - loss: 17.4727 - mae: 17.4727\n",
            "Epoch 16/500\n",
            "2/2 [==============================] - 0s 8ms/step - loss: 10.0160 - mae: 10.0160\n",
            "Epoch 17/500\n",
            "2/2 [==============================] - 0s 7ms/step - loss: 18.4985 - mae: 18.4985\n",
            "Epoch 18/500\n",
            "2/2 [==============================] - 0s 8ms/step - loss: 11.3440 - mae: 11.3440\n",
            "Epoch 19/500\n",
            "2/2 [==============================] - 0s 9ms/step - loss: 13.9194 - mae: 13.9194\n",
            "Epoch 20/500\n",
            "2/2 [==============================] - 0s 9ms/step - loss: 11.1890 - mae: 11.1890\n",
            "Epoch 21/500\n",
            "2/2 [==============================] - 0s 8ms/step - loss: 17.2370 - mae: 17.2370\n",
            "Epoch 22/500\n",
            "2/2 [==============================] - 0s 8ms/step - loss: 15.4739 - mae: 15.4739\n",
            "Epoch 23/500\n",
            "2/2 [==============================] - 0s 9ms/step - loss: 9.2398 - mae: 9.2398\n",
            "Epoch 24/500\n",
            "2/2 [==============================] - 0s 8ms/step - loss: 17.2796 - mae: 17.2796\n",
            "Epoch 25/500\n",
            "2/2 [==============================] - 0s 8ms/step - loss: 15.9483 - mae: 15.9483\n",
            "Epoch 26/500\n",
            "2/2 [==============================] - 0s 8ms/step - loss: 20.9559 - mae: 20.9559\n",
            "Epoch 27/500\n",
            "2/2 [==============================] - 0s 7ms/step - loss: 25.9066 - mae: 25.9066\n",
            "Epoch 28/500\n",
            "2/2 [==============================] - 0s 7ms/step - loss: 18.4116 - mae: 18.4116\n",
            "Epoch 29/500\n",
            "2/2 [==============================] - 0s 7ms/step - loss: 9.2388 - mae: 9.2388\n",
            "Epoch 30/500\n",
            "2/2 [==============================] - 0s 8ms/step - loss: 29.0249 - mae: 29.0249\n",
            "Epoch 31/500\n",
            "2/2 [==============================] - 0s 9ms/step - loss: 52.5623 - mae: 52.5623\n",
            "Epoch 32/500\n",
            "2/2 [==============================] - 0s 9ms/step - loss: 11.8997 - mae: 11.8997\n",
            "Epoch 33/500\n",
            "2/2 [==============================] - 0s 9ms/step - loss: 15.4773 - mae: 15.4773\n",
            "Epoch 34/500\n",
            "2/2 [==============================] - 0s 9ms/step - loss: 12.5811 - mae: 12.5811\n",
            "Epoch 35/500\n",
            "2/2 [==============================] - 0s 8ms/step - loss: 9.1883 - mae: 9.1883\n",
            "Epoch 36/500\n",
            "2/2 [==============================] - 0s 10ms/step - loss: 16.4540 - mae: 16.4540\n",
            "Epoch 37/500\n",
            "2/2 [==============================] - 0s 8ms/step - loss: 11.0894 - mae: 11.0894\n",
            "Epoch 38/500\n",
            "2/2 [==============================] - 0s 10ms/step - loss: 18.2197 - mae: 18.2197\n",
            "Epoch 39/500\n",
            "2/2 [==============================] - 0s 8ms/step - loss: 19.1510 - mae: 19.1510\n",
            "Epoch 40/500\n",
            "2/2 [==============================] - 0s 9ms/step - loss: 20.5237 - mae: 20.5237\n",
            "Epoch 41/500\n",
            "2/2 [==============================] - 0s 8ms/step - loss: 14.7909 - mae: 14.7909\n",
            "Epoch 42/500\n",
            "2/2 [==============================] - 0s 9ms/step - loss: 12.1904 - mae: 12.1904\n",
            "Epoch 43/500\n",
            "2/2 [==============================] - 0s 8ms/step - loss: 10.6880 - mae: 10.6880\n",
            "Epoch 44/500\n",
            "2/2 [==============================] - 0s 9ms/step - loss: 32.2423 - mae: 32.2423\n",
            "Epoch 45/500\n",
            "2/2 [==============================] - 0s 9ms/step - loss: 12.4580 - mae: 12.4580\n",
            "Epoch 46/500\n",
            "2/2 [==============================] - 0s 9ms/step - loss: 17.4957 - mae: 17.4957\n",
            "Epoch 47/500\n",
            "2/2 [==============================] - 0s 9ms/step - loss: 15.7618 - mae: 15.7618\n",
            "Epoch 48/500\n",
            "2/2 [==============================] - 0s 13ms/step - loss: 8.3776 - mae: 8.3776\n",
            "Epoch 49/500\n",
            "2/2 [==============================] - 0s 8ms/step - loss: 13.9898 - mae: 13.9898\n",
            "Epoch 50/500\n",
            "2/2 [==============================] - 0s 12ms/step - loss: 12.8313 - mae: 12.8313\n",
            "Epoch 51/500\n",
            "2/2 [==============================] - 0s 9ms/step - loss: 14.8399 - mae: 14.8399\n",
            "Epoch 52/500\n",
            "2/2 [==============================] - 0s 10ms/step - loss: 18.7245 - mae: 18.7245\n",
            "Epoch 53/500\n",
            "2/2 [==============================] - 0s 10ms/step - loss: 24.1782 - mae: 24.1782\n",
            "Epoch 54/500\n",
            "2/2 [==============================] - 0s 9ms/step - loss: 23.1561 - mae: 23.1561\n",
            "Epoch 55/500\n",
            "2/2 [==============================] - 0s 9ms/step - loss: 24.0037 - mae: 24.0037\n",
            "Epoch 56/500\n",
            "2/2 [==============================] - 0s 10ms/step - loss: 11.1485 - mae: 11.1485\n",
            "Epoch 57/500\n",
            "2/2 [==============================] - 0s 13ms/step - loss: 13.1001 - mae: 13.1001\n",
            "Epoch 58/500\n",
            "2/2 [==============================] - 0s 11ms/step - loss: 9.8005 - mae: 9.8005\n",
            "Epoch 59/500\n",
            "2/2 [==============================] - 0s 8ms/step - loss: 13.2864 - mae: 13.2864\n",
            "Epoch 60/500\n",
            "2/2 [==============================] - 0s 8ms/step - loss: 10.8577 - mae: 10.8577\n",
            "Epoch 61/500\n",
            "2/2 [==============================] - 0s 9ms/step - loss: 13.4554 - mae: 13.4554\n",
            "Epoch 62/500\n",
            "2/2 [==============================] - 0s 10ms/step - loss: 17.4718 - mae: 17.4718\n",
            "Epoch 63/500\n",
            "2/2 [==============================] - 0s 12ms/step - loss: 9.1507 - mae: 9.1507\n",
            "Epoch 64/500\n",
            "2/2 [==============================] - 0s 10ms/step - loss: 18.3437 - mae: 18.3437\n",
            "Epoch 65/500\n",
            "2/2 [==============================] - 0s 9ms/step - loss: 10.1060 - mae: 10.1060\n",
            "Epoch 66/500\n",
            "2/2 [==============================] - 0s 12ms/step - loss: 24.1993 - mae: 24.1993\n",
            "Epoch 67/500\n",
            "2/2 [==============================] - 0s 8ms/step - loss: 10.8690 - mae: 10.8690\n",
            "Epoch 68/500\n",
            "2/2 [==============================] - 0s 9ms/step - loss: 10.7556 - mae: 10.7556\n",
            "Epoch 69/500\n",
            "2/2 [==============================] - 0s 9ms/step - loss: 23.1814 - mae: 23.1814\n",
            "Epoch 70/500\n",
            "2/2 [==============================] - 0s 9ms/step - loss: 8.8249 - mae: 8.8249\n",
            "Epoch 71/500\n",
            "2/2 [==============================] - 0s 10ms/step - loss: 16.0404 - mae: 16.0404\n",
            "Epoch 72/500\n",
            "2/2 [==============================] - 0s 9ms/step - loss: 7.7421 - mae: 7.7421\n",
            "Epoch 73/500\n",
            "2/2 [==============================] - 0s 8ms/step - loss: 10.1524 - mae: 10.1524\n",
            "Epoch 74/500\n",
            "2/2 [==============================] - 0s 9ms/step - loss: 28.3199 - mae: 28.3199\n",
            "Epoch 75/500\n",
            "2/2 [==============================] - 0s 17ms/step - loss: 10.0192 - mae: 10.0192\n",
            "Epoch 76/500\n",
            "2/2 [==============================] - 0s 10ms/step - loss: 12.9373 - mae: 12.9373\n",
            "Epoch 77/500\n",
            "2/2 [==============================] - 0s 12ms/step - loss: 17.9242 - mae: 17.9242\n",
            "Epoch 78/500\n",
            "2/2 [==============================] - 0s 10ms/step - loss: 8.9633 - mae: 8.9633\n",
            "Epoch 79/500\n",
            "2/2 [==============================] - 0s 11ms/step - loss: 28.7627 - mae: 28.7627\n",
            "Epoch 80/500\n",
            "2/2 [==============================] - 0s 14ms/step - loss: 31.1074 - mae: 31.1074\n",
            "Epoch 81/500\n",
            "2/2 [==============================] - 0s 10ms/step - loss: 13.4433 - mae: 13.4433\n",
            "Epoch 82/500\n",
            "2/2 [==============================] - 0s 10ms/step - loss: 14.3107 - mae: 14.3107\n",
            "Epoch 83/500\n",
            "2/2 [==============================] - 0s 10ms/step - loss: 18.8428 - mae: 18.8428\n",
            "Epoch 84/500\n",
            "2/2 [==============================] - 0s 8ms/step - loss: 9.4550 - mae: 9.4550\n",
            "Epoch 85/500\n",
            "2/2 [==============================] - 0s 10ms/step - loss: 25.2389 - mae: 25.2389\n",
            "Epoch 86/500\n",
            "2/2 [==============================] - 0s 8ms/step - loss: 16.4508 - mae: 16.4508\n",
            "Epoch 87/500\n",
            "2/2 [==============================] - 0s 9ms/step - loss: 11.4728 - mae: 11.4728\n",
            "Epoch 88/500\n",
            "2/2 [==============================] - 0s 8ms/step - loss: 27.0697 - mae: 27.0697\n",
            "Epoch 89/500\n",
            "2/2 [==============================] - 0s 10ms/step - loss: 9.7437 - mae: 9.7437\n",
            "Epoch 90/500\n",
            "2/2 [==============================] - 0s 8ms/step - loss: 19.1035 - mae: 19.1035\n",
            "Epoch 91/500\n",
            "2/2 [==============================] - 0s 9ms/step - loss: 10.6031 - mae: 10.6031\n",
            "Epoch 92/500\n",
            "2/2 [==============================] - 0s 10ms/step - loss: 18.3166 - mae: 18.3166\n",
            "Epoch 93/500\n",
            "2/2 [==============================] - 0s 9ms/step - loss: 6.8602 - mae: 6.8602\n",
            "Epoch 94/500\n",
            "2/2 [==============================] - 0s 12ms/step - loss: 13.0786 - mae: 13.0786\n",
            "Epoch 95/500\n",
            "2/2 [==============================] - 0s 8ms/step - loss: 18.4641 - mae: 18.4641\n",
            "Epoch 96/500\n",
            "2/2 [==============================] - 0s 8ms/step - loss: 10.4109 - mae: 10.4109\n",
            "Epoch 97/500\n",
            "2/2 [==============================] - 0s 8ms/step - loss: 14.4641 - mae: 14.4641\n",
            "Epoch 98/500\n",
            "2/2 [==============================] - 0s 8ms/step - loss: 6.6189 - mae: 6.6189\n",
            "Epoch 99/500\n",
            "2/2 [==============================] - 0s 8ms/step - loss: 12.6202 - mae: 12.6202\n",
            "Epoch 100/500\n",
            "2/2 [==============================] - 0s 8ms/step - loss: 19.4334 - mae: 19.4334\n",
            "Epoch 101/500\n",
            "2/2 [==============================] - 0s 9ms/step - loss: 16.0525 - mae: 16.0525\n",
            "Epoch 102/500\n",
            "2/2 [==============================] - 0s 8ms/step - loss: 11.2026 - mae: 11.2026\n",
            "Epoch 103/500\n",
            "2/2 [==============================] - 0s 8ms/step - loss: 9.3482 - mae: 9.3482\n",
            "Epoch 104/500\n",
            "2/2 [==============================] - 0s 9ms/step - loss: 24.8583 - mae: 24.8583\n",
            "Epoch 105/500\n",
            "2/2 [==============================] - 0s 13ms/step - loss: 11.9597 - mae: 11.9597\n",
            "Epoch 106/500\n",
            "2/2 [==============================] - 0s 10ms/step - loss: 10.0984 - mae: 10.0984\n",
            "Epoch 107/500\n",
            "2/2 [==============================] - 0s 9ms/step - loss: 22.3769 - mae: 22.3769\n",
            "Epoch 108/500\n",
            "2/2 [==============================] - 0s 8ms/step - loss: 8.1338 - mae: 8.1338\n",
            "Epoch 109/500\n",
            "2/2 [==============================] - 0s 9ms/step - loss: 13.2624 - mae: 13.2624\n",
            "Epoch 110/500\n",
            "2/2 [==============================] - 0s 8ms/step - loss: 8.0345 - mae: 8.0345\n",
            "Epoch 111/500\n",
            "2/2 [==============================] - 0s 8ms/step - loss: 15.8412 - mae: 15.8412\n",
            "Epoch 112/500\n",
            "2/2 [==============================] - 0s 8ms/step - loss: 8.7556 - mae: 8.7556\n",
            "Epoch 113/500\n",
            "2/2 [==============================] - 0s 8ms/step - loss: 22.4821 - mae: 22.4821\n",
            "Epoch 114/500\n",
            "2/2 [==============================] - 0s 8ms/step - loss: 18.8615 - mae: 18.8615\n",
            "Epoch 115/500\n",
            "2/2 [==============================] - 0s 8ms/step - loss: 11.0727 - mae: 11.0727\n",
            "Epoch 116/500\n",
            "2/2 [==============================] - 0s 8ms/step - loss: 22.9060 - mae: 22.9060\n",
            "Epoch 117/500\n",
            "2/2 [==============================] - 0s 9ms/step - loss: 9.5353 - mae: 9.5353\n",
            "Epoch 118/500\n",
            "2/2 [==============================] - 0s 8ms/step - loss: 10.5783 - mae: 10.5783\n",
            "Epoch 119/500\n",
            "2/2 [==============================] - 0s 9ms/step - loss: 8.0684 - mae: 8.0684\n",
            "Epoch 120/500\n",
            "2/2 [==============================] - 0s 8ms/step - loss: 38.4104 - mae: 38.4104\n",
            "Epoch 121/500\n",
            "2/2 [==============================] - 0s 8ms/step - loss: 11.4286 - mae: 11.4286\n",
            "Epoch 122/500\n",
            "2/2 [==============================] - 0s 9ms/step - loss: 25.6032 - mae: 25.6032\n",
            "Epoch 123/500\n",
            "2/2 [==============================] - 0s 8ms/step - loss: 29.5566 - mae: 29.5566\n",
            "Epoch 124/500\n",
            "2/2 [==============================] - 0s 8ms/step - loss: 16.9926 - mae: 16.9926\n",
            "Epoch 125/500\n",
            "2/2 [==============================] - 0s 8ms/step - loss: 9.4914 - mae: 9.4914\n",
            "Epoch 126/500\n",
            "2/2 [==============================] - 0s 8ms/step - loss: 9.5691 - mae: 9.5691\n",
            "Epoch 127/500\n",
            "2/2 [==============================] - 0s 8ms/step - loss: 12.2208 - mae: 12.2208\n",
            "Epoch 128/500\n",
            "2/2 [==============================] - 0s 8ms/step - loss: 15.2220 - mae: 15.2220\n",
            "Epoch 129/500\n",
            "2/2 [==============================] - 0s 8ms/step - loss: 9.6388 - mae: 9.6388\n",
            "Epoch 130/500\n",
            "2/2 [==============================] - 0s 8ms/step - loss: 20.5637 - mae: 20.5637\n",
            "Epoch 131/500\n",
            "2/2 [==============================] - 0s 8ms/step - loss: 9.3437 - mae: 9.3437\n",
            "Epoch 132/500\n",
            "2/2 [==============================] - 0s 8ms/step - loss: 16.6136 - mae: 16.6136\n",
            "Epoch 133/500\n",
            "2/2 [==============================] - 0s 8ms/step - loss: 7.7189 - mae: 7.7189\n",
            "Epoch 134/500\n",
            "2/2 [==============================] - 0s 10ms/step - loss: 18.9715 - mae: 18.9715\n",
            "Epoch 135/500\n",
            "2/2 [==============================] - 0s 8ms/step - loss: 10.7325 - mae: 10.7325\n",
            "Epoch 136/500\n",
            "2/2 [==============================] - 0s 8ms/step - loss: 18.5681 - mae: 18.5681\n",
            "Epoch 137/500\n",
            "2/2 [==============================] - 0s 16ms/step - loss: 23.5628 - mae: 23.5628\n",
            "Epoch 138/500\n",
            "2/2 [==============================] - 0s 17ms/step - loss: 9.3394 - mae: 9.3394\n",
            "Epoch 139/500\n",
            "2/2 [==============================] - 0s 12ms/step - loss: 9.0605 - mae: 9.0605\n",
            "Epoch 140/500\n",
            "2/2 [==============================] - 0s 13ms/step - loss: 16.7012 - mae: 16.7012\n",
            "Epoch 141/500\n",
            "2/2 [==============================] - 0s 8ms/step - loss: 8.5106 - mae: 8.5106\n",
            "Epoch 142/500\n",
            "2/2 [==============================] - 0s 8ms/step - loss: 37.2258 - mae: 37.2258\n",
            "Epoch 143/500\n",
            "2/2 [==============================] - 0s 8ms/step - loss: 25.8556 - mae: 25.8556\n",
            "Epoch 144/500\n",
            "2/2 [==============================] - 0s 8ms/step - loss: 9.5911 - mae: 9.5911\n",
            "Epoch 145/500\n",
            "2/2 [==============================] - 0s 8ms/step - loss: 26.5649 - mae: 26.5649\n",
            "Epoch 146/500\n",
            "2/2 [==============================] - 0s 8ms/step - loss: 8.8740 - mae: 8.8740\n",
            "Epoch 147/500\n",
            "2/2 [==============================] - 0s 8ms/step - loss: 15.6307 - mae: 15.6307\n",
            "Epoch 148/500\n",
            "2/2 [==============================] - 0s 8ms/step - loss: 18.3026 - mae: 18.3026\n",
            "Epoch 149/500\n",
            "2/2 [==============================] - 0s 8ms/step - loss: 8.2844 - mae: 8.2844\n",
            "Epoch 150/500\n",
            "2/2 [==============================] - 0s 9ms/step - loss: 7.5722 - mae: 7.5722\n",
            "Epoch 151/500\n",
            "2/2 [==============================] - 0s 8ms/step - loss: 18.3523 - mae: 18.3523\n",
            "Epoch 152/500\n",
            "2/2 [==============================] - 0s 8ms/step - loss: 10.3580 - mae: 10.3580\n",
            "Epoch 153/500\n",
            "2/2 [==============================] - 0s 8ms/step - loss: 29.5955 - mae: 29.5955\n",
            "Epoch 154/500\n",
            "2/2 [==============================] - 0s 8ms/step - loss: 10.6090 - mae: 10.6090\n",
            "Epoch 155/500\n",
            "2/2 [==============================] - 0s 8ms/step - loss: 15.5003 - mae: 15.5003\n",
            "Epoch 156/500\n",
            "2/2 [==============================] - 0s 8ms/step - loss: 17.0941 - mae: 17.0941\n",
            "Epoch 157/500\n",
            "2/2 [==============================] - 0s 8ms/step - loss: 32.6459 - mae: 32.6459\n",
            "Epoch 158/500\n",
            "2/2 [==============================] - 0s 8ms/step - loss: 10.7290 - mae: 10.7290\n",
            "Epoch 159/500\n",
            "2/2 [==============================] - 0s 11ms/step - loss: 8.9459 - mae: 8.9459\n",
            "Epoch 160/500\n",
            "2/2 [==============================] - 0s 11ms/step - loss: 21.9610 - mae: 21.9610\n",
            "Epoch 161/500\n",
            "2/2 [==============================] - 0s 9ms/step - loss: 11.1662 - mae: 11.1662\n",
            "Epoch 162/500\n",
            "2/2 [==============================] - 0s 12ms/step - loss: 21.4633 - mae: 21.4633\n",
            "Epoch 163/500\n",
            "2/2 [==============================] - 0s 13ms/step - loss: 18.9466 - mae: 18.9466\n",
            "Epoch 164/500\n",
            "2/2 [==============================] - 0s 9ms/step - loss: 12.7831 - mae: 12.7831\n",
            "Epoch 165/500\n",
            "2/2 [==============================] - 0s 9ms/step - loss: 12.7301 - mae: 12.7301\n",
            "Epoch 166/500\n",
            "2/2 [==============================] - 0s 10ms/step - loss: 18.8949 - mae: 18.8949\n",
            "Epoch 167/500\n",
            "2/2 [==============================] - 0s 10ms/step - loss: 26.8606 - mae: 26.8606\n",
            "Epoch 168/500\n",
            "2/2 [==============================] - 0s 8ms/step - loss: 10.0394 - mae: 10.0394\n",
            "Epoch 169/500\n",
            "2/2 [==============================] - 0s 8ms/step - loss: 23.0761 - mae: 23.0761\n",
            "Epoch 170/500\n",
            "2/2 [==============================] - 0s 9ms/step - loss: 9.6281 - mae: 9.6281\n",
            "Epoch 171/500\n",
            "2/2 [==============================] - 0s 8ms/step - loss: 15.8892 - mae: 15.8892\n",
            "Epoch 172/500\n",
            "2/2 [==============================] - 0s 8ms/step - loss: 13.9235 - mae: 13.9235\n",
            "Epoch 173/500\n",
            "2/2 [==============================] - 0s 8ms/step - loss: 22.6279 - mae: 22.6279\n",
            "Epoch 174/500\n",
            "2/2 [==============================] - 0s 8ms/step - loss: 10.7726 - mae: 10.7726\n",
            "Epoch 175/500\n",
            "2/2 [==============================] - 0s 8ms/step - loss: 23.9821 - mae: 23.9821\n",
            "Epoch 176/500\n",
            "2/2 [==============================] - 0s 8ms/step - loss: 7.8698 - mae: 7.8698\n",
            "Epoch 177/500\n",
            "2/2 [==============================] - 0s 8ms/step - loss: 8.9597 - mae: 8.9597\n",
            "Epoch 178/500\n",
            "2/2 [==============================] - 0s 8ms/step - loss: 16.7982 - mae: 16.7982\n",
            "Epoch 179/500\n",
            "2/2 [==============================] - 0s 8ms/step - loss: 9.9247 - mae: 9.9247\n",
            "Epoch 180/500\n",
            "2/2 [==============================] - 0s 8ms/step - loss: 7.9081 - mae: 7.9081\n",
            "Epoch 181/500\n",
            "2/2 [==============================] - 0s 8ms/step - loss: 17.3125 - mae: 17.3125\n",
            "Epoch 182/500\n",
            "2/2 [==============================] - 0s 8ms/step - loss: 10.9942 - mae: 10.9942\n",
            "Epoch 183/500\n",
            "2/2 [==============================] - 0s 8ms/step - loss: 11.6647 - mae: 11.6647\n",
            "Epoch 184/500\n",
            "2/2 [==============================] - 0s 11ms/step - loss: 30.2304 - mae: 30.2304\n",
            "Epoch 185/500\n",
            "2/2 [==============================] - 0s 9ms/step - loss: 8.2032 - mae: 8.2032\n",
            "Epoch 186/500\n",
            "2/2 [==============================] - 0s 11ms/step - loss: 18.7040 - mae: 18.7040\n",
            "Epoch 187/500\n",
            "2/2 [==============================] - 0s 9ms/step - loss: 8.7894 - mae: 8.7894\n",
            "Epoch 188/500\n",
            "2/2 [==============================] - 0s 8ms/step - loss: 23.6889 - mae: 23.6889\n",
            "Epoch 189/500\n",
            "2/2 [==============================] - 0s 10ms/step - loss: 9.4024 - mae: 9.4024\n",
            "Epoch 190/500\n",
            "2/2 [==============================] - 0s 11ms/step - loss: 17.1220 - mae: 17.1220\n",
            "Epoch 191/500\n",
            "2/2 [==============================] - 0s 9ms/step - loss: 8.5902 - mae: 8.5902\n",
            "Epoch 192/500\n",
            "2/2 [==============================] - 0s 8ms/step - loss: 15.1762 - mae: 15.1762\n",
            "Epoch 193/500\n",
            "2/2 [==============================] - 0s 8ms/step - loss: 30.0153 - mae: 30.0153\n",
            "Epoch 194/500\n",
            "2/2 [==============================] - 0s 8ms/step - loss: 9.6352 - mae: 9.6352\n",
            "Epoch 195/500\n",
            "2/2 [==============================] - 0s 8ms/step - loss: 12.0144 - mae: 12.0144\n",
            "Epoch 196/500\n",
            "2/2 [==============================] - 0s 14ms/step - loss: 23.3726 - mae: 23.3726\n",
            "Epoch 197/500\n",
            "2/2 [==============================] - 0s 10ms/step - loss: 17.8855 - mae: 17.8855\n",
            "Epoch 198/500\n",
            "2/2 [==============================] - 0s 11ms/step - loss: 12.6551 - mae: 12.6551\n",
            "Epoch 199/500\n",
            "2/2 [==============================] - 0s 8ms/step - loss: 18.1502 - mae: 18.1502\n",
            "Epoch 200/500\n",
            "2/2 [==============================] - 0s 8ms/step - loss: 13.9745 - mae: 13.9745\n",
            "Epoch 201/500\n",
            "2/2 [==============================] - 0s 8ms/step - loss: 6.0860 - mae: 6.0860\n",
            "Epoch 202/500\n",
            "2/2 [==============================] - 0s 8ms/step - loss: 22.9966 - mae: 22.9966\n",
            "Epoch 203/500\n",
            "2/2 [==============================] - 0s 8ms/step - loss: 9.0283 - mae: 9.0283\n",
            "Epoch 204/500\n",
            "2/2 [==============================] - 0s 8ms/step - loss: 18.9291 - mae: 18.9291\n",
            "Epoch 205/500\n",
            "2/2 [==============================] - 0s 7ms/step - loss: 9.4374 - mae: 9.4374\n",
            "Epoch 206/500\n",
            "2/2 [==============================] - 0s 8ms/step - loss: 10.4942 - mae: 10.4942\n",
            "Epoch 207/500\n",
            "2/2 [==============================] - 0s 8ms/step - loss: 21.1469 - mae: 21.1469\n",
            "Epoch 208/500\n",
            "2/2 [==============================] - 0s 8ms/step - loss: 16.5279 - mae: 16.5279\n",
            "Epoch 209/500\n",
            "2/2 [==============================] - 0s 7ms/step - loss: 14.4018 - mae: 14.4018\n",
            "Epoch 210/500\n",
            "2/2 [==============================] - 0s 8ms/step - loss: 17.3818 - mae: 17.3818\n",
            "Epoch 211/500\n",
            "2/2 [==============================] - 0s 8ms/step - loss: 10.3051 - mae: 10.3051\n",
            "Epoch 212/500\n",
            "2/2 [==============================] - 0s 8ms/step - loss: 19.8890 - mae: 19.8890\n",
            "Epoch 213/500\n",
            "2/2 [==============================] - 0s 8ms/step - loss: 14.6402 - mae: 14.6402\n",
            "Epoch 214/500\n",
            "2/2 [==============================] - 0s 11ms/step - loss: 14.3359 - mae: 14.3359\n",
            "Epoch 215/500\n",
            "2/2 [==============================] - 0s 11ms/step - loss: 22.7742 - mae: 22.7742\n",
            "Epoch 216/500\n",
            "2/2 [==============================] - 0s 11ms/step - loss: 14.5750 - mae: 14.5750\n",
            "Epoch 217/500\n",
            "2/2 [==============================] - 0s 9ms/step - loss: 9.2958 - mae: 9.2958\n",
            "Epoch 218/500\n",
            "2/2 [==============================] - 0s 10ms/step - loss: 11.8171 - mae: 11.8171\n",
            "Epoch 219/500\n",
            "2/2 [==============================] - 0s 8ms/step - loss: 6.8527 - mae: 6.8527\n",
            "Epoch 220/500\n",
            "2/2 [==============================] - 0s 8ms/step - loss: 7.1316 - mae: 7.1316\n",
            "Epoch 221/500\n",
            "2/2 [==============================] - 0s 8ms/step - loss: 38.7035 - mae: 38.7035\n",
            "Epoch 222/500\n",
            "2/2 [==============================] - 0s 8ms/step - loss: 38.7705 - mae: 38.7705\n",
            "Epoch 223/500\n",
            "2/2 [==============================] - 0s 9ms/step - loss: 5.0751 - mae: 5.0751\n",
            "Epoch 224/500\n",
            "2/2 [==============================] - 0s 8ms/step - loss: 11.2487 - mae: 11.2487\n",
            "Epoch 225/500\n",
            "2/2 [==============================] - 0s 8ms/step - loss: 31.0822 - mae: 31.0822\n",
            "Epoch 226/500\n",
            "2/2 [==============================] - 0s 8ms/step - loss: 12.2663 - mae: 12.2663\n",
            "Epoch 227/500\n",
            "2/2 [==============================] - 0s 8ms/step - loss: 19.2177 - mae: 19.2177\n",
            "Epoch 228/500\n",
            "2/2 [==============================] - 0s 8ms/step - loss: 11.3277 - mae: 11.3277\n",
            "Epoch 229/500\n",
            "2/2 [==============================] - 0s 8ms/step - loss: 13.7736 - mae: 13.7736\n",
            "Epoch 230/500\n",
            "2/2 [==============================] - 0s 8ms/step - loss: 8.7786 - mae: 8.7786\n",
            "Epoch 231/500\n",
            "2/2 [==============================] - 0s 8ms/step - loss: 20.5321 - mae: 20.5321\n",
            "Epoch 232/500\n",
            "2/2 [==============================] - 0s 8ms/step - loss: 20.9349 - mae: 20.9349\n",
            "Epoch 233/500\n",
            "2/2 [==============================] - 0s 8ms/step - loss: 15.5355 - mae: 15.5355\n",
            "Epoch 234/500\n",
            "2/2 [==============================] - 0s 8ms/step - loss: 7.1265 - mae: 7.1265\n",
            "Epoch 235/500\n",
            "2/2 [==============================] - 0s 8ms/step - loss: 16.1710 - mae: 16.1710\n",
            "Epoch 236/500\n",
            "2/2 [==============================] - 0s 8ms/step - loss: 6.8838 - mae: 6.8838\n",
            "Epoch 237/500\n",
            "2/2 [==============================] - 0s 8ms/step - loss: 8.8449 - mae: 8.8449\n",
            "Epoch 238/500\n",
            "2/2 [==============================] - 0s 8ms/step - loss: 7.9202 - mae: 7.9202\n",
            "Epoch 239/500\n",
            "2/2 [==============================] - 0s 8ms/step - loss: 15.9981 - mae: 15.9981\n",
            "Epoch 240/500\n",
            "2/2 [==============================] - 0s 8ms/step - loss: 9.2010 - mae: 9.2010\n",
            "Epoch 241/500\n",
            "2/2 [==============================] - 0s 8ms/step - loss: 13.6992 - mae: 13.6992\n",
            "Epoch 242/500\n",
            "2/2 [==============================] - 0s 8ms/step - loss: 9.0478 - mae: 9.0478\n",
            "Epoch 243/500\n",
            "2/2 [==============================] - 0s 8ms/step - loss: 19.6729 - mae: 19.6729\n",
            "Epoch 244/500\n",
            "2/2 [==============================] - 0s 9ms/step - loss: 14.3747 - mae: 14.3747\n",
            "Epoch 245/500\n",
            "2/2 [==============================] - 0s 8ms/step - loss: 14.9632 - mae: 14.9632\n",
            "Epoch 246/500\n",
            "2/2 [==============================] - 0s 8ms/step - loss: 16.0750 - mae: 16.0750\n",
            "Epoch 247/500\n",
            "2/2 [==============================] - 0s 8ms/step - loss: 18.0379 - mae: 18.0379\n",
            "Epoch 248/500\n",
            "2/2 [==============================] - 0s 8ms/step - loss: 13.5757 - mae: 13.5757\n",
            "Epoch 249/500\n",
            "2/2 [==============================] - 0s 8ms/step - loss: 14.7252 - mae: 14.7252\n",
            "Epoch 250/500\n",
            "2/2 [==============================] - 0s 8ms/step - loss: 23.6331 - mae: 23.6331\n",
            "Epoch 251/500\n",
            "2/2 [==============================] - 0s 8ms/step - loss: 13.8269 - mae: 13.8269\n",
            "Epoch 252/500\n",
            "2/2 [==============================] - 0s 8ms/step - loss: 22.9706 - mae: 22.9706\n",
            "Epoch 253/500\n",
            "2/2 [==============================] - 0s 8ms/step - loss: 10.4380 - mae: 10.4380\n",
            "Epoch 254/500\n",
            "2/2 [==============================] - 0s 8ms/step - loss: 12.3712 - mae: 12.3712\n",
            "Epoch 255/500\n",
            "2/2 [==============================] - 0s 8ms/step - loss: 16.7821 - mae: 16.7821\n",
            "Epoch 256/500\n",
            "2/2 [==============================] - 0s 9ms/step - loss: 9.4267 - mae: 9.4267\n",
            "Epoch 257/500\n",
            "2/2 [==============================] - 0s 9ms/step - loss: 13.2818 - mae: 13.2818\n",
            "Epoch 258/500\n",
            "2/2 [==============================] - 0s 9ms/step - loss: 7.5010 - mae: 7.5010\n",
            "Epoch 259/500\n",
            "2/2 [==============================] - 0s 8ms/step - loss: 18.4179 - mae: 18.4179\n",
            "Epoch 260/500\n",
            "2/2 [==============================] - 0s 8ms/step - loss: 25.9601 - mae: 25.9601\n",
            "Epoch 261/500\n",
            "2/2 [==============================] - 0s 8ms/step - loss: 9.5193 - mae: 9.5193\n",
            "Epoch 262/500\n",
            "2/2 [==============================] - 0s 9ms/step - loss: 8.6058 - mae: 8.6058\n",
            "Epoch 263/500\n",
            "2/2 [==============================] - 0s 8ms/step - loss: 8.0986 - mae: 8.0986\n",
            "Epoch 264/500\n",
            "2/2 [==============================] - 0s 8ms/step - loss: 17.9401 - mae: 17.9401\n",
            "Epoch 265/500\n",
            "2/2 [==============================] - 0s 8ms/step - loss: 12.2329 - mae: 12.2329\n",
            "Epoch 266/500\n",
            "2/2 [==============================] - 0s 8ms/step - loss: 13.6114 - mae: 13.6114\n",
            "Epoch 267/500\n",
            "2/2 [==============================] - 0s 8ms/step - loss: 11.2569 - mae: 11.2569\n",
            "Epoch 268/500\n",
            "2/2 [==============================] - 0s 8ms/step - loss: 19.5629 - mae: 19.5629\n",
            "Epoch 269/500\n",
            "2/2 [==============================] - 0s 9ms/step - loss: 39.4564 - mae: 39.4564\n",
            "Epoch 270/500\n",
            "2/2 [==============================] - 0s 9ms/step - loss: 12.1132 - mae: 12.1132\n",
            "Epoch 271/500\n",
            "2/2 [==============================] - 0s 8ms/step - loss: 14.1446 - mae: 14.1446\n",
            "Epoch 272/500\n",
            "2/2 [==============================] - 0s 11ms/step - loss: 27.9983 - mae: 27.9983\n",
            "Epoch 273/500\n",
            "2/2 [==============================] - 0s 14ms/step - loss: 8.0051 - mae: 8.0051\n",
            "Epoch 274/500\n",
            "2/2 [==============================] - 0s 11ms/step - loss: 6.4559 - mae: 6.4559\n",
            "Epoch 275/500\n",
            "2/2 [==============================] - 0s 13ms/step - loss: 33.7913 - mae: 33.7913\n",
            "Epoch 276/500\n",
            "2/2 [==============================] - 0s 12ms/step - loss: 7.9741 - mae: 7.9741\n",
            "Epoch 277/500\n",
            "2/2 [==============================] - 0s 8ms/step - loss: 25.1372 - mae: 25.1372\n",
            "Epoch 278/500\n",
            "2/2 [==============================] - 0s 9ms/step - loss: 11.5619 - mae: 11.5619\n",
            "Epoch 279/500\n",
            "2/2 [==============================] - 0s 8ms/step - loss: 16.2913 - mae: 16.2913\n",
            "Epoch 280/500\n",
            "2/2 [==============================] - 0s 8ms/step - loss: 21.6245 - mae: 21.6245\n",
            "Epoch 281/500\n",
            "2/2 [==============================] - 0s 8ms/step - loss: 22.8686 - mae: 22.8686\n",
            "Epoch 282/500\n",
            "2/2 [==============================] - 0s 8ms/step - loss: 8.0101 - mae: 8.0101\n",
            "Epoch 283/500\n",
            "2/2 [==============================] - 0s 8ms/step - loss: 8.3104 - mae: 8.3104\n",
            "Epoch 284/500\n",
            "2/2 [==============================] - 0s 8ms/step - loss: 25.6055 - mae: 25.6055\n",
            "Epoch 285/500\n",
            "2/2 [==============================] - 0s 8ms/step - loss: 14.2050 - mae: 14.2050\n",
            "Epoch 286/500\n",
            "2/2 [==============================] - 0s 8ms/step - loss: 5.2857 - mae: 5.2857\n",
            "Epoch 287/500\n",
            "2/2 [==============================] - 0s 8ms/step - loss: 20.8440 - mae: 20.8440\n",
            "Epoch 288/500\n",
            "2/2 [==============================] - 0s 8ms/step - loss: 27.5498 - mae: 27.5498\n",
            "Epoch 289/500\n",
            "2/2 [==============================] - 0s 11ms/step - loss: 10.4594 - mae: 10.4594\n",
            "Epoch 290/500\n",
            "2/2 [==============================] - 0s 13ms/step - loss: 16.3310 - mae: 16.3310\n",
            "Epoch 291/500\n",
            "2/2 [==============================] - 0s 9ms/step - loss: 16.5266 - mae: 16.5266\n",
            "Epoch 292/500\n",
            "2/2 [==============================] - 0s 10ms/step - loss: 7.4597 - mae: 7.4597\n",
            "Epoch 293/500\n",
            "2/2 [==============================] - 0s 9ms/step - loss: 16.5686 - mae: 16.5686\n",
            "Epoch 294/500\n",
            "2/2 [==============================] - 0s 9ms/step - loss: 25.3662 - mae: 25.3662\n",
            "Epoch 295/500\n",
            "2/2 [==============================] - 0s 9ms/step - loss: 14.5157 - mae: 14.5157\n",
            "Epoch 296/500\n",
            "2/2 [==============================] - 0s 8ms/step - loss: 4.7061 - mae: 4.7061\n",
            "Epoch 297/500\n",
            "2/2 [==============================] - 0s 9ms/step - loss: 6.2879 - mae: 6.2879\n",
            "Epoch 298/500\n",
            "2/2 [==============================] - 0s 9ms/step - loss: 26.6472 - mae: 26.6472\n",
            "Epoch 299/500\n",
            "2/2 [==============================] - 0s 8ms/step - loss: 7.2610 - mae: 7.2610\n",
            "Epoch 300/500\n",
            "2/2 [==============================] - 0s 10ms/step - loss: 26.7976 - mae: 26.7976\n",
            "Epoch 301/500\n",
            "2/2 [==============================] - 0s 10ms/step - loss: 11.7828 - mae: 11.7828\n",
            "Epoch 302/500\n",
            "2/2 [==============================] - 0s 8ms/step - loss: 7.9048 - mae: 7.9048\n",
            "Epoch 303/500\n",
            "2/2 [==============================] - 0s 9ms/step - loss: 19.8283 - mae: 19.8283\n",
            "Epoch 304/500\n",
            "2/2 [==============================] - 0s 11ms/step - loss: 13.6622 - mae: 13.6622\n",
            "Epoch 305/500\n",
            "2/2 [==============================] - 0s 11ms/step - loss: 7.0792 - mae: 7.0792\n",
            "Epoch 306/500\n",
            "2/2 [==============================] - 0s 9ms/step - loss: 19.1711 - mae: 19.1711\n",
            "Epoch 307/500\n",
            "2/2 [==============================] - 0s 12ms/step - loss: 9.0232 - mae: 9.0232\n",
            "Epoch 308/500\n",
            "2/2 [==============================] - 0s 14ms/step - loss: 20.6525 - mae: 20.6525\n",
            "Epoch 309/500\n",
            "2/2 [==============================] - 0s 12ms/step - loss: 13.4796 - mae: 13.4796\n",
            "Epoch 310/500\n",
            "2/2 [==============================] - 0s 11ms/step - loss: 6.7174 - mae: 6.7174\n",
            "Epoch 311/500\n",
            "2/2 [==============================] - 0s 12ms/step - loss: 13.6895 - mae: 13.6895\n",
            "Epoch 312/500\n",
            "2/2 [==============================] - 0s 8ms/step - loss: 30.0609 - mae: 30.0609\n",
            "Epoch 313/500\n",
            "2/2 [==============================] - 0s 14ms/step - loss: 7.4994 - mae: 7.4994\n",
            "Epoch 314/500\n",
            "2/2 [==============================] - 0s 8ms/step - loss: 10.4862 - mae: 10.4862\n",
            "Epoch 315/500\n",
            "2/2 [==============================] - 0s 9ms/step - loss: 23.3853 - mae: 23.3853\n",
            "Epoch 316/500\n",
            "2/2 [==============================] - 0s 9ms/step - loss: 14.7476 - mae: 14.7476\n",
            "Epoch 317/500\n",
            "2/2 [==============================] - 0s 17ms/step - loss: 20.4214 - mae: 20.4214\n",
            "Epoch 318/500\n",
            "2/2 [==============================] - 0s 8ms/step - loss: 8.1526 - mae: 8.1526\n",
            "Epoch 319/500\n",
            "2/2 [==============================] - 0s 11ms/step - loss: 18.5002 - mae: 18.5002\n",
            "Epoch 320/500\n",
            "2/2 [==============================] - 0s 9ms/step - loss: 10.9245 - mae: 10.9245\n",
            "Epoch 321/500\n",
            "2/2 [==============================] - 0s 11ms/step - loss: 7.2246 - mae: 7.2246\n",
            "Epoch 322/500\n",
            "2/2 [==============================] - 0s 9ms/step - loss: 8.6121 - mae: 8.6121\n",
            "Epoch 323/500\n",
            "2/2 [==============================] - 0s 8ms/step - loss: 18.2366 - mae: 18.2366\n",
            "Epoch 324/500\n",
            "2/2 [==============================] - 0s 13ms/step - loss: 16.2977 - mae: 16.2977\n",
            "Epoch 325/500\n",
            "2/2 [==============================] - 0s 8ms/step - loss: 18.2491 - mae: 18.2491\n",
            "Epoch 326/500\n",
            "2/2 [==============================] - 0s 8ms/step - loss: 22.5122 - mae: 22.5122\n",
            "Epoch 327/500\n",
            "2/2 [==============================] - 0s 11ms/step - loss: 8.5730 - mae: 8.5730\n",
            "Epoch 328/500\n",
            "2/2 [==============================] - 0s 10ms/step - loss: 7.0873 - mae: 7.0873\n",
            "Epoch 329/500\n",
            "2/2 [==============================] - 0s 10ms/step - loss: 10.3364 - mae: 10.3364\n",
            "Epoch 330/500\n",
            "2/2 [==============================] - 0s 11ms/step - loss: 9.3973 - mae: 9.3973\n",
            "Epoch 331/500\n",
            "2/2 [==============================] - 0s 8ms/step - loss: 22.6989 - mae: 22.6989\n",
            "Epoch 332/500\n",
            "2/2 [==============================] - 0s 8ms/step - loss: 19.9854 - mae: 19.9854\n",
            "Epoch 333/500\n",
            "2/2 [==============================] - 0s 8ms/step - loss: 11.0793 - mae: 11.0793\n",
            "Epoch 334/500\n",
            "2/2 [==============================] - 0s 9ms/step - loss: 9.0536 - mae: 9.0536\n",
            "Epoch 335/500\n",
            "2/2 [==============================] - 0s 9ms/step - loss: 13.0712 - mae: 13.0712\n",
            "Epoch 336/500\n",
            "2/2 [==============================] - 0s 9ms/step - loss: 32.5303 - mae: 32.5303\n",
            "Epoch 337/500\n",
            "2/2 [==============================] - 0s 8ms/step - loss: 11.0680 - mae: 11.0680\n",
            "Epoch 338/500\n",
            "2/2 [==============================] - 0s 8ms/step - loss: 20.0182 - mae: 20.0182\n",
            "Epoch 339/500\n",
            "2/2 [==============================] - 0s 7ms/step - loss: 34.1381 - mae: 34.1381\n",
            "Epoch 340/500\n",
            "2/2 [==============================] - 0s 8ms/step - loss: 8.6970 - mae: 8.6970\n",
            "Epoch 341/500\n",
            "2/2 [==============================] - 0s 8ms/step - loss: 21.7958 - mae: 21.7958\n",
            "Epoch 342/500\n",
            "2/2 [==============================] - 0s 8ms/step - loss: 13.8961 - mae: 13.8961\n",
            "Epoch 343/500\n",
            "2/2 [==============================] - 0s 8ms/step - loss: 11.7506 - mae: 11.7506\n",
            "Epoch 344/500\n",
            "2/2 [==============================] - 0s 11ms/step - loss: 10.7051 - mae: 10.7051\n",
            "Epoch 345/500\n",
            "2/2 [==============================] - 0s 18ms/step - loss: 30.9403 - mae: 30.9403\n",
            "Epoch 346/500\n",
            "2/2 [==============================] - 0s 9ms/step - loss: 10.6652 - mae: 10.6652\n",
            "Epoch 347/500\n",
            "2/2 [==============================] - 0s 15ms/step - loss: 25.6175 - mae: 25.6175\n",
            "Epoch 348/500\n",
            "2/2 [==============================] - 0s 9ms/step - loss: 13.1623 - mae: 13.1623\n",
            "Epoch 349/500\n",
            "2/2 [==============================] - 0s 9ms/step - loss: 13.0840 - mae: 13.0840\n",
            "Epoch 350/500\n",
            "2/2 [==============================] - 0s 9ms/step - loss: 15.4198 - mae: 15.4198\n",
            "Epoch 351/500\n",
            "2/2 [==============================] - 0s 10ms/step - loss: 32.9053 - mae: 32.9053\n",
            "Epoch 352/500\n",
            "2/2 [==============================] - 0s 9ms/step - loss: 14.1316 - mae: 14.1316\n",
            "Epoch 353/500\n",
            "2/2 [==============================] - 0s 10ms/step - loss: 15.8629 - mae: 15.8629\n",
            "Epoch 354/500\n",
            "2/2 [==============================] - 0s 14ms/step - loss: 18.9650 - mae: 18.9650\n",
            "Epoch 355/500\n",
            "2/2 [==============================] - 0s 11ms/step - loss: 34.4710 - mae: 34.4710\n",
            "Epoch 356/500\n",
            "2/2 [==============================] - 0s 9ms/step - loss: 8.3479 - mae: 8.3479\n",
            "Epoch 357/500\n",
            "2/2 [==============================] - 0s 7ms/step - loss: 21.9283 - mae: 21.9283\n",
            "Epoch 358/500\n",
            "2/2 [==============================] - 0s 9ms/step - loss: 20.0830 - mae: 20.0830\n",
            "Epoch 359/500\n",
            "2/2 [==============================] - 0s 9ms/step - loss: 11.0548 - mae: 11.0548\n",
            "Epoch 360/500\n",
            "2/2 [==============================] - 0s 7ms/step - loss: 20.2657 - mae: 20.2657\n",
            "Epoch 361/500\n",
            "2/2 [==============================] - 0s 7ms/step - loss: 11.0409 - mae: 11.0409\n",
            "Epoch 362/500\n",
            "2/2 [==============================] - 0s 12ms/step - loss: 6.8497 - mae: 6.8497\n",
            "Epoch 363/500\n",
            "2/2 [==============================] - 0s 8ms/step - loss: 24.0028 - mae: 24.0028\n",
            "Epoch 364/500\n",
            "2/2 [==============================] - 0s 8ms/step - loss: 29.7723 - mae: 29.7723\n",
            "Epoch 365/500\n",
            "2/2 [==============================] - 0s 9ms/step - loss: 8.3792 - mae: 8.3792\n",
            "Epoch 366/500\n",
            "2/2 [==============================] - 0s 6ms/step - loss: 6.1206 - mae: 6.1206\n",
            "Epoch 367/500\n",
            "2/2 [==============================] - 0s 11ms/step - loss: 34.8715 - mae: 34.8715\n",
            "Epoch 368/500\n",
            "2/2 [==============================] - 0s 10ms/step - loss: 7.4286 - mae: 7.4286\n",
            "Epoch 369/500\n",
            "2/2 [==============================] - 0s 11ms/step - loss: 9.2337 - mae: 9.2337\n",
            "Epoch 370/500\n",
            "2/2 [==============================] - 0s 12ms/step - loss: 10.9258 - mae: 10.9258\n",
            "Epoch 371/500\n",
            "2/2 [==============================] - 0s 8ms/step - loss: 8.9882 - mae: 8.9882\n",
            "Epoch 372/500\n",
            "2/2 [==============================] - 0s 9ms/step - loss: 7.7199 - mae: 7.7199\n",
            "Epoch 373/500\n",
            "2/2 [==============================] - 0s 11ms/step - loss: 25.0785 - mae: 25.0785\n",
            "Epoch 374/500\n",
            "2/2 [==============================] - 0s 15ms/step - loss: 13.1820 - mae: 13.1820\n",
            "Epoch 375/500\n",
            "2/2 [==============================] - 0s 9ms/step - loss: 11.8781 - mae: 11.8781\n",
            "Epoch 376/500\n",
            "2/2 [==============================] - 0s 9ms/step - loss: 14.1499 - mae: 14.1499\n",
            "Epoch 377/500\n",
            "2/2 [==============================] - 0s 9ms/step - loss: 15.7423 - mae: 15.7423\n",
            "Epoch 378/500\n",
            "2/2 [==============================] - 0s 9ms/step - loss: 17.0774 - mae: 17.0774\n",
            "Epoch 379/500\n",
            "2/2 [==============================] - 0s 8ms/step - loss: 19.3300 - mae: 19.3300\n",
            "Epoch 380/500\n",
            "2/2 [==============================] - 0s 9ms/step - loss: 15.6859 - mae: 15.6859\n",
            "Epoch 381/500\n",
            "2/2 [==============================] - 0s 9ms/step - loss: 11.4892 - mae: 11.4892\n",
            "Epoch 382/500\n",
            "2/2 [==============================] - 0s 8ms/step - loss: 16.3649 - mae: 16.3649\n",
            "Epoch 383/500\n",
            "2/2 [==============================] - 0s 9ms/step - loss: 22.1341 - mae: 22.1341\n",
            "Epoch 384/500\n",
            "2/2 [==============================] - 0s 8ms/step - loss: 7.7363 - mae: 7.7363\n",
            "Epoch 385/500\n",
            "2/2 [==============================] - 0s 9ms/step - loss: 10.6461 - mae: 10.6461\n",
            "Epoch 386/500\n",
            "2/2 [==============================] - 0s 8ms/step - loss: 19.1502 - mae: 19.1502\n",
            "Epoch 387/500\n",
            "2/2 [==============================] - 0s 9ms/step - loss: 26.3618 - mae: 26.3618\n",
            "Epoch 388/500\n",
            "2/2 [==============================] - 0s 8ms/step - loss: 10.0516 - mae: 10.0516\n",
            "Epoch 389/500\n",
            "2/2 [==============================] - 0s 9ms/step - loss: 5.1800 - mae: 5.1800\n",
            "Epoch 390/500\n",
            "2/2 [==============================] - 0s 9ms/step - loss: 18.7009 - mae: 18.7009\n",
            "Epoch 391/500\n",
            "2/2 [==============================] - 0s 8ms/step - loss: 9.3760 - mae: 9.3760\n",
            "Epoch 392/500\n",
            "2/2 [==============================] - 0s 9ms/step - loss: 14.4435 - mae: 14.4435\n",
            "Epoch 393/500\n",
            "2/2 [==============================] - 0s 10ms/step - loss: 12.1156 - mae: 12.1156\n",
            "Epoch 394/500\n",
            "2/2 [==============================] - 0s 9ms/step - loss: 14.1074 - mae: 14.1074\n",
            "Epoch 395/500\n",
            "2/2 [==============================] - 0s 9ms/step - loss: 28.4809 - mae: 28.4809\n",
            "Epoch 396/500\n",
            "2/2 [==============================] - 0s 9ms/step - loss: 8.4747 - mae: 8.4747\n",
            "Epoch 397/500\n",
            "2/2 [==============================] - 0s 9ms/step - loss: 11.1567 - mae: 11.1567\n",
            "Epoch 398/500\n",
            "2/2 [==============================] - 0s 9ms/step - loss: 6.8861 - mae: 6.8861\n",
            "Epoch 399/500\n",
            "2/2 [==============================] - 0s 9ms/step - loss: 13.9585 - mae: 13.9585\n",
            "Epoch 400/500\n",
            "2/2 [==============================] - 0s 9ms/step - loss: 6.6638 - mae: 6.6638\n",
            "Epoch 401/500\n",
            "2/2 [==============================] - 0s 9ms/step - loss: 7.4824 - mae: 7.4824\n",
            "Epoch 402/500\n",
            "2/2 [==============================] - 0s 8ms/step - loss: 19.3767 - mae: 19.3767\n",
            "Epoch 403/500\n",
            "2/2 [==============================] - 0s 15ms/step - loss: 10.4790 - mae: 10.4790\n",
            "Epoch 404/500\n",
            "2/2 [==============================] - 0s 8ms/step - loss: 23.2457 - mae: 23.2457\n",
            "Epoch 405/500\n",
            "2/2 [==============================] - 0s 9ms/step - loss: 17.4247 - mae: 17.4247\n",
            "Epoch 406/500\n",
            "2/2 [==============================] - 0s 8ms/step - loss: 6.8353 - mae: 6.8353\n",
            "Epoch 407/500\n",
            "2/2 [==============================] - 0s 10ms/step - loss: 11.9191 - mae: 11.9191\n",
            "Epoch 408/500\n",
            "2/2 [==============================] - 0s 8ms/step - loss: 7.0946 - mae: 7.0946\n",
            "Epoch 409/500\n",
            "2/2 [==============================] - 0s 8ms/step - loss: 23.4255 - mae: 23.4255\n",
            "Epoch 410/500\n",
            "2/2 [==============================] - 0s 8ms/step - loss: 12.4095 - mae: 12.4095\n",
            "Epoch 411/500\n",
            "2/2 [==============================] - 0s 9ms/step - loss: 15.2005 - mae: 15.2005\n",
            "Epoch 412/500\n",
            "2/2 [==============================] - 0s 15ms/step - loss: 22.3244 - mae: 22.3244\n",
            "Epoch 413/500\n",
            "2/2 [==============================] - 0s 8ms/step - loss: 15.6558 - mae: 15.6558\n",
            "Epoch 414/500\n",
            "2/2 [==============================] - 0s 8ms/step - loss: 6.6237 - mae: 6.6237\n",
            "Epoch 415/500\n",
            "2/2 [==============================] - 0s 8ms/step - loss: 12.7006 - mae: 12.7006\n",
            "Epoch 416/500\n",
            "2/2 [==============================] - 0s 9ms/step - loss: 26.9320 - mae: 26.9320\n",
            "Epoch 417/500\n",
            "2/2 [==============================] - 0s 9ms/step - loss: 12.0434 - mae: 12.0434\n",
            "Epoch 418/500\n",
            "2/2 [==============================] - 0s 8ms/step - loss: 13.0712 - mae: 13.0712\n",
            "Epoch 419/500\n",
            "2/2 [==============================] - 0s 9ms/step - loss: 16.0390 - mae: 16.0390\n",
            "Epoch 420/500\n",
            "2/2 [==============================] - 0s 9ms/step - loss: 25.0785 - mae: 25.0785\n",
            "Epoch 421/500\n",
            "2/2 [==============================] - 0s 8ms/step - loss: 16.5795 - mae: 16.5795\n",
            "Epoch 422/500\n",
            "2/2 [==============================] - 0s 9ms/step - loss: 8.6993 - mae: 8.6993\n",
            "Epoch 423/500\n",
            "2/2 [==============================] - 0s 7ms/step - loss: 24.8083 - mae: 24.8083\n",
            "Epoch 424/500\n",
            "2/2 [==============================] - 0s 10ms/step - loss: 16.4901 - mae: 16.4901\n",
            "Epoch 425/500\n",
            "2/2 [==============================] - 0s 10ms/step - loss: 7.2425 - mae: 7.2425\n",
            "Epoch 426/500\n",
            "2/2 [==============================] - 0s 10ms/step - loss: 20.6252 - mae: 20.6252\n",
            "Epoch 427/500\n",
            "2/2 [==============================] - 0s 9ms/step - loss: 6.4092 - mae: 6.4092\n",
            "Epoch 428/500\n",
            "2/2 [==============================] - 0s 9ms/step - loss: 13.1896 - mae: 13.1896\n",
            "Epoch 429/500\n",
            "2/2 [==============================] - 0s 9ms/step - loss: 10.9535 - mae: 10.9535\n",
            "Epoch 430/500\n",
            "2/2 [==============================] - 0s 8ms/step - loss: 11.8251 - mae: 11.8251\n",
            "Epoch 431/500\n",
            "2/2 [==============================] - 0s 9ms/step - loss: 7.9690 - mae: 7.9690\n",
            "Epoch 432/500\n",
            "2/2 [==============================] - 0s 13ms/step - loss: 22.2817 - mae: 22.2817\n",
            "Epoch 433/500\n",
            "2/2 [==============================] - 0s 10ms/step - loss: 5.9427 - mae: 5.9427\n",
            "Epoch 434/500\n",
            "2/2 [==============================] - 0s 10ms/step - loss: 32.6395 - mae: 32.6395\n",
            "Epoch 435/500\n",
            "2/2 [==============================] - 0s 8ms/step - loss: 13.4927 - mae: 13.4927\n",
            "Epoch 436/500\n",
            "2/2 [==============================] - 0s 12ms/step - loss: 29.0540 - mae: 29.0540\n",
            "Epoch 437/500\n",
            "2/2 [==============================] - 0s 9ms/step - loss: 9.1801 - mae: 9.1801\n",
            "Epoch 438/500\n",
            "2/2 [==============================] - 0s 11ms/step - loss: 12.3642 - mae: 12.3642\n",
            "Epoch 439/500\n",
            "2/2 [==============================] - 0s 11ms/step - loss: 33.6491 - mae: 33.6491\n",
            "Epoch 440/500\n",
            "2/2 [==============================] - 0s 11ms/step - loss: 15.0489 - mae: 15.0489\n",
            "Epoch 441/500\n",
            "2/2 [==============================] - 0s 10ms/step - loss: 17.4469 - mae: 17.4469\n",
            "Epoch 442/500\n",
            "2/2 [==============================] - 0s 12ms/step - loss: 22.2366 - mae: 22.2366\n",
            "Epoch 443/500\n",
            "2/2 [==============================] - 0s 10ms/step - loss: 23.7500 - mae: 23.7500\n",
            "Epoch 444/500\n",
            "2/2 [==============================] - 0s 9ms/step - loss: 11.1313 - mae: 11.1313\n",
            "Epoch 445/500\n",
            "2/2 [==============================] - 0s 8ms/step - loss: 14.8783 - mae: 14.8783\n",
            "Epoch 446/500\n",
            "2/2 [==============================] - 0s 11ms/step - loss: 17.9422 - mae: 17.9422\n",
            "Epoch 447/500\n",
            "2/2 [==============================] - 0s 9ms/step - loss: 5.5007 - mae: 5.5007\n",
            "Epoch 448/500\n",
            "2/2 [==============================] - 0s 12ms/step - loss: 9.6628 - mae: 9.6628\n",
            "Epoch 449/500\n",
            "2/2 [==============================] - 0s 11ms/step - loss: 14.2989 - mae: 14.2989\n",
            "Epoch 450/500\n",
            "2/2 [==============================] - 0s 10ms/step - loss: 17.0611 - mae: 17.0611\n",
            "Epoch 451/500\n",
            "2/2 [==============================] - 0s 11ms/step - loss: 14.4102 - mae: 14.4102\n",
            "Epoch 452/500\n",
            "2/2 [==============================] - 0s 11ms/step - loss: 30.8732 - mae: 30.8732\n",
            "Epoch 453/500\n",
            "2/2 [==============================] - 0s 8ms/step - loss: 9.1369 - mae: 9.1369\n",
            "Epoch 454/500\n",
            "2/2 [==============================] - 0s 11ms/step - loss: 27.2440 - mae: 27.2440\n",
            "Epoch 455/500\n",
            "2/2 [==============================] - 0s 9ms/step - loss: 11.2686 - mae: 11.2686\n",
            "Epoch 456/500\n",
            "2/2 [==============================] - 0s 10ms/step - loss: 15.6857 - mae: 15.6857\n",
            "Epoch 457/500\n",
            "2/2 [==============================] - 0s 12ms/step - loss: 19.3749 - mae: 19.3749\n",
            "Epoch 458/500\n",
            "2/2 [==============================] - 0s 9ms/step - loss: 22.8167 - mae: 22.8167\n",
            "Epoch 459/500\n",
            "2/2 [==============================] - 0s 15ms/step - loss: 16.2088 - mae: 16.2088\n",
            "Epoch 460/500\n",
            "2/2 [==============================] - 0s 10ms/step - loss: 4.0910 - mae: 4.0910\n",
            "Epoch 461/500\n",
            "2/2 [==============================] - 0s 9ms/step - loss: 16.1558 - mae: 16.1558\n",
            "Epoch 462/500\n",
            "2/2 [==============================] - 0s 8ms/step - loss: 15.5817 - mae: 15.5817\n",
            "Epoch 463/500\n",
            "2/2 [==============================] - 0s 8ms/step - loss: 17.3731 - mae: 17.3731\n",
            "Epoch 464/500\n",
            "2/2 [==============================] - 0s 12ms/step - loss: 11.5744 - mae: 11.5744\n",
            "Epoch 465/500\n",
            "2/2 [==============================] - 0s 8ms/step - loss: 22.2725 - mae: 22.2725\n",
            "Epoch 466/500\n",
            "2/2 [==============================] - 0s 10ms/step - loss: 23.3321 - mae: 23.3321\n",
            "Epoch 467/500\n",
            "2/2 [==============================] - 0s 9ms/step - loss: 13.3231 - mae: 13.3231\n",
            "Epoch 468/500\n",
            "2/2 [==============================] - 0s 9ms/step - loss: 10.3722 - mae: 10.3722\n",
            "Epoch 469/500\n",
            "2/2 [==============================] - 0s 9ms/step - loss: 27.3607 - mae: 27.3607\n",
            "Epoch 470/500\n",
            "2/2 [==============================] - 0s 10ms/step - loss: 12.4554 - mae: 12.4554\n",
            "Epoch 471/500\n",
            "2/2 [==============================] - 0s 9ms/step - loss: 12.0934 - mae: 12.0934\n",
            "Epoch 472/500\n",
            "2/2 [==============================] - 0s 10ms/step - loss: 15.5118 - mae: 15.5118\n",
            "Epoch 473/500\n",
            "2/2 [==============================] - 0s 11ms/step - loss: 15.5268 - mae: 15.5268\n",
            "Epoch 474/500\n",
            "2/2 [==============================] - 0s 9ms/step - loss: 9.1048 - mae: 9.1048\n",
            "Epoch 475/500\n",
            "2/2 [==============================] - 0s 11ms/step - loss: 7.1964 - mae: 7.1964\n",
            "Epoch 476/500\n",
            "2/2 [==============================] - 0s 11ms/step - loss: 11.9229 - mae: 11.9229\n",
            "Epoch 477/500\n",
            "2/2 [==============================] - 0s 8ms/step - loss: 27.9711 - mae: 27.9711\n",
            "Epoch 478/500\n",
            "2/2 [==============================] - 0s 9ms/step - loss: 8.3424 - mae: 8.3424\n",
            "Epoch 479/500\n",
            "2/2 [==============================] - 0s 7ms/step - loss: 10.6653 - mae: 10.6653\n",
            "Epoch 480/500\n",
            "2/2 [==============================] - 0s 8ms/step - loss: 17.8515 - mae: 17.8515\n",
            "Epoch 481/500\n",
            "2/2 [==============================] - 0s 9ms/step - loss: 15.7720 - mae: 15.7720\n",
            "Epoch 482/500\n",
            "2/2 [==============================] - 0s 12ms/step - loss: 21.2192 - mae: 21.2192\n",
            "Epoch 483/500\n",
            "2/2 [==============================] - 0s 8ms/step - loss: 25.6361 - mae: 25.6361\n",
            "Epoch 484/500\n",
            "2/2 [==============================] - 0s 10ms/step - loss: 24.2482 - mae: 24.2482\n",
            "Epoch 485/500\n",
            "2/2 [==============================] - 0s 8ms/step - loss: 5.8164 - mae: 5.8164\n",
            "Epoch 486/500\n",
            "2/2 [==============================] - 0s 10ms/step - loss: 20.2693 - mae: 20.2693\n",
            "Epoch 487/500\n",
            "2/2 [==============================] - 0s 9ms/step - loss: 14.0156 - mae: 14.0156\n",
            "Epoch 488/500\n",
            "2/2 [==============================] - 0s 9ms/step - loss: 30.5599 - mae: 30.5599\n",
            "Epoch 489/500\n",
            "2/2 [==============================] - 0s 10ms/step - loss: 11.8586 - mae: 11.8586\n",
            "Epoch 490/500\n",
            "2/2 [==============================] - 0s 9ms/step - loss: 12.5137 - mae: 12.5137\n",
            "Epoch 491/500\n",
            "2/2 [==============================] - 0s 13ms/step - loss: 23.7574 - mae: 23.7574\n",
            "Epoch 492/500\n",
            "2/2 [==============================] - 0s 12ms/step - loss: 20.1905 - mae: 20.1905\n",
            "Epoch 493/500\n",
            "2/2 [==============================] - 0s 11ms/step - loss: 4.9180 - mae: 4.9180\n",
            "Epoch 494/500\n",
            "2/2 [==============================] - 0s 10ms/step - loss: 12.5025 - mae: 12.5025\n",
            "Epoch 495/500\n",
            "2/2 [==============================] - 0s 10ms/step - loss: 13.5027 - mae: 13.5027\n",
            "Epoch 496/500\n",
            "2/2 [==============================] - 0s 9ms/step - loss: 12.7607 - mae: 12.7607\n",
            "Epoch 497/500\n",
            "2/2 [==============================] - 0s 9ms/step - loss: 17.7767 - mae: 17.7767\n",
            "Epoch 498/500\n",
            "2/2 [==============================] - 0s 10ms/step - loss: 23.2089 - mae: 23.2089\n",
            "Epoch 499/500\n",
            "2/2 [==============================] - 0s 10ms/step - loss: 8.9885 - mae: 8.9885\n",
            "Epoch 500/500\n",
            "2/2 [==============================] - 0s 9ms/step - loss: 14.3992 - mae: 14.3992\n"
          ]
        },
        {
          "output_type": "execute_result",
          "data": {
            "text/plain": [
              "<keras.callbacks.History at 0x79c9d6f9d2a0>"
            ]
          },
          "metadata": {},
          "execution_count": 44
        }
      ]
    },
    {
      "cell_type": "code",
      "source": [
        "# Make and plot predictions for model_2\n",
        "y_preds_3 = model_3.predict(X_test)\n",
        "plot_predictions(predictions=y_preds_3)"
      ],
      "metadata": {
        "id": "OBbDA_zrNwDH",
        "outputId": "b48b3b4f-f450-41f4-de6c-3dd0a61dde7b",
        "colab": {
          "base_uri": "https://localhost:8080/",
          "height": 654
        }
      },
      "execution_count": 45,
      "outputs": [
        {
          "output_type": "stream",
          "name": "stderr",
          "text": [
            "WARNING:tensorflow:6 out of the last 7 calls to <function Model.make_predict_function.<locals>.predict_function at 0x79c9d6f75fc0> triggered tf.function retracing. Tracing is expensive and the excessive number of tracings could be due to (1) creating @tf.function repeatedly in a loop, (2) passing tensors with different shapes, (3) passing Python objects instead of tensors. For (1), please define your @tf.function outside of the loop. For (2), @tf.function has reduce_retracing=True option that can avoid unnecessary retracing. For (3), please refer to https://www.tensorflow.org/guide/function#controlling_retracing and https://www.tensorflow.org/api_docs/python/tf/function for  more details.\n"
          ]
        },
        {
          "output_type": "stream",
          "name": "stdout",
          "text": [
            "1/1 [==============================] - 0s 62ms/step\n"
          ]
        },
        {
          "output_type": "display_data",
          "data": {
            "text/plain": [
              "<Figure size 1000x700 with 1 Axes>"
            ],
            "image/png": "[encoded data removed]"
          },
          "metadata": {}
        }
      ]
    },
    {
      "cell_type": "code",
      "source": [
        "# Calculate model_3 evaluation metrics\n",
        "mae_3 = mae(X_test, y_preds_3)\n",
        "mse_3 = mse(X_test, y_preds_3)\n",
        "mae_3, mse_3"
      ],
      "metadata": {
        "id": "rfU58OQZOjbX",
        "outputId": "8f8bff34-504d-46da-fcb5-de346a97f0e7",
        "colab": {
          "base_uri": "https://localhost:8080/"
        }
      },
      "execution_count": 46,
      "outputs": [
        {
          "output_type": "execute_result",
          "data": {
            "text/plain": [
              "(<tf.Tensor: shape=(), dtype=float32, numpy=23.206577>,\n",
              " <tf.Tensor: shape=(), dtype=float32, numpy=548.50586>)"
            ]
          },
          "metadata": {},
          "execution_count": 46
        }
      ]
    },
    {
      "cell_type": "markdown",
      "source": [
        "** Comparing the Results of our Experiments**\n",
        "\n",
        "We have run a few experiments lets compare the result"
      ],
      "metadata": {
        "id": "Mh-gBymKgZ5Q"
      }
    },
    {
      "cell_type": "markdown",
      "source": [],
      "metadata": {
        "id": "lb2LhzXwg86Q"
      }
    },
    {
      "cell_type": "markdown",
      "source": [
        "🔑**Note:** You want to start with small experiments(small models) and make sure they work and then increase their scale when necessary.\n"
      ],
      "metadata": {
        "id": "C9HSg1rNhGdU"
      }
    },
    {
      "cell_type": "code",
      "source": [
        "# Let's Compare our model's results using a pandas DataFrame\n",
        "\n",
        "import pandas as pd\n",
        "\n",
        "model_results = [[\"model_1\", mae_1.numpy(), mse_1.numpy()],\n",
        "                [\"model_2\", mae_2.numpy(), mse_2.numpy()],\n",
        "                [\"model_3\", mae_3.numpy(), mse_3.numpy()]]\n",
        "\n",
        "all_results = pd.DataFrame(model_results,columns=[\"model\",\"mae\",\"mse\"])\n",
        "all_results"
      ],
      "metadata": {
        "id": "lIDpvdDwiGEU",
        "outputId": "3a45997b-a2f8-403a-a603-1fefef863549",
        "colab": {
          "base_uri": "https://localhost:8080/",
          "height": 143
        }
      },
      "execution_count": 47,
      "outputs": [
        {
          "output_type": "execute_result",
          "data": {
            "text/plain": [
              "     model        mae         mse\n",
              "0  model_1  13.206576  184.374329\n",
              "1  model_2  13.206576  184.374329\n",
              "2  model_3  23.206577  548.505859"
            ],
            "text/html": [
              "\n",
              "\n",
              "  <div id=\"df-21d16c2d-c161-430c-960d-8fa940267238\">\n",
              "    <div class=\"colab-df-container\">\n",
              "      <div>\n",
              "<style scoped>\n",
              "    .dataframe tbody tr th:only-of-type {\n",
              "        vertical-align: middle;\n",
              "    }\n",
              "\n",
              "    .dataframe tbody tr th {\n",
              "        vertical-align: top;\n",
              "    }\n",
              "\n",
              "    .dataframe thead th {\n",
              "        text-align: right;\n",
              "    }\n",
              "</style>\n",
              "<table border=\"1\" class=\"dataframe\">\n",
              "  <thead>\n",
              "    <tr style=\"text-align: right;\">\n",
              "      <th></th>\n",
              "      <th>model</th>\n",
              "      <th>mae</th>\n",
              "      <th>mse</th>\n",
              "    </tr>\n",
              "  </thead>\n",
              "  <tbody>\n",
              "    <tr>\n",
              "      <th>0</th>\n",
              "      <td>model_1</td>\n",
              "      <td>13.206576</td>\n",
              "      <td>184.374329</td>\n",
              "    </tr>\n",
              "    <tr>\n",
              "      <th>1</th>\n",
              "      <td>model_2</td>\n",
              "      <td>13.206576</td>\n",
              "      <td>184.374329</td>\n",
              "    </tr>\n",
              "    <tr>\n",
              "      <th>2</th>\n",
              "      <td>model_3</td>\n",
              "      <td>23.206577</td>\n",
              "      <td>548.505859</td>\n",
              "    </tr>\n",
              "  </tbody>\n",
              "</table>\n",
              "</div>\n",
              "      <button class=\"colab-df-convert\" onclick=\"convertToInteractive('df-21d16c2d-c161-430c-960d-8fa940267238')\"\n",
              "              title=\"Convert this dataframe to an interactive table.\"\n",
              "              style=\"display:none;\">\n",
              "\n",
              "  <svg xmlns=\"http://www.w3.org/2000/svg\" height=\"24px\"viewBox=\"0 0 24 24\"\n",
              "       width=\"24px\">\n",
              "    <path d=\"M0 0h24v24H0V0z\" fill=\"none\"/>\n",
              "    <path d=\"M18.56 5.44l.94 2.06.94-2.06 2.06-.94-2.06-.94-.94-2.06-.94 2.06-2.06.94zm-11 1L8.5 8.5l.94-2.06 2.06-.94-2.06-.94L8.5 2.5l-.94 2.06-2.06.94zm10 10l.94 2.06.94-2.06 2.06-.94-2.06-.94-.94-2.06-.94 2.06-2.06.94z\"/><path d=\"M17.41 7.96l-1.37-1.37c-.4-.4-.92-.59-1.43-.59-.52 0-1.04.2-1.43.59L10.3 9.45l-7.72 7.72c-.78.78-.78 2.05 0 2.83L4 21.41c.39.39.9.59 1.41.59.51 0 1.02-.2 1.41-.59l7.78-7.78 2.81-2.81c.8-.78.8-2.07 0-2.86zM5.41 20L4 18.59l7.72-7.72 1.47 1.35L5.41 20z\"/>\n",
              "  </svg>\n",
              "      </button>\n",
              "\n",
              "\n",
              "\n",
              "    <div id=\"df-e59af413-8e34-4f0f-b552-0938fe0315a7\">\n",
              "      <button class=\"colab-df-quickchart\" onclick=\"quickchart('df-e59af413-8e34-4f0f-b552-0938fe0315a7')\"\n",
              "              title=\"Suggest charts.\"\n",
              "              style=\"display:none;\">\n",
              "\n",
              "<svg xmlns=\"http://www.w3.org/2000/svg\" height=\"24px\"viewBox=\"0 0 24 24\"\n",
              "     width=\"24px\">\n",
              "    <g>\n",
              "        <path d=\"M19 3H5c-1.1 0-2 .9-2 2v14c0 1.1.9 2 2 2h14c1.1 0 2-.9 2-2V5c0-1.1-.9-2-2-2zM9 17H7v-7h2v7zm4 0h-2V7h2v10zm4 0h-2v-4h2v4z\"/>\n",
              "    </g>\n",
              "</svg>\n",
              "      </button>\n",
              "    </div>\n",
              "\n",
              "<style>\n",
              "  .colab-df-quickchart {\n",
              "    background-color: #E8F0FE;\n",
              "    border: none;\n",
              "    border-radius: 50%;\n",
              "    cursor: pointer;\n",
              "    display: none;\n",
              "    fill: #1967D2;\n",
              "    height: 32px;\n",
              "    padding: 0 0 0 0;\n",
              "    width: 32px;\n",
              "  }\n",
              "\n",
              "  .colab-df-quickchart:hover {\n",
              "    background-color: #E2EBFA;\n",
              "    box-shadow: 0px 1px 2px rgba(60, 64, 67, 0.3), 0px 1px 3px 1px rgba(60, 64, 67, 0.15);\n",
              "    fill: #174EA6;\n",
              "  }\n",
              "\n",
              "  [theme=dark] .colab-df-quickchart {\n",
              "    background-color: #3B4455;\n",
              "    fill: #D2E3FC;\n",
              "  }\n",
              "\n",
              "  [theme=dark] .colab-df-quickchart:hover {\n",
              "    background-color: #434B5C;\n",
              "    box-shadow: 0px 1px 3px 1px rgba(0, 0, 0, 0.15);\n",
              "    filter: drop-shadow(0px 1px 2px rgba(0, 0, 0, 0.3));\n",
              "    fill: #FFFFFF;\n",
              "  }\n",
              "</style>\n",
              "\n",
              "    <script>\n",
              "      async function quickchart(key) {\n",
              "        const containerElement = document.querySelector('#' + key);\n",
              "        const charts = await google.colab.kernel.invokeFunction(\n",
              "            'suggestCharts', [key], {});\n",
              "      }\n",
              "    </script>\n",
              "\n",
              "      <script>\n",
              "\n",
              "function displayQuickchartButton(domScope) {\n",
              "  let quickchartButtonEl =\n",
              "    domScope.querySelector('#df-e59af413-8e34-4f0f-b552-0938fe0315a7 button.colab-df-quickchart');\n",
              "  quickchartButtonEl.style.display =\n",
              "    google.colab.kernel.accessAllowed ? 'block' : 'none';\n",
              "}\n",
              "\n",
              "        displayQuickchartButton(document);\n",
              "      </script>\n",
              "      <style>\n",
              "    .colab-df-container {\n",
              "      display:flex;\n",
              "      flex-wrap:wrap;\n",
              "      gap: 12px;\n",
              "    }\n",
              "\n",
              "    .colab-df-convert {\n",
              "      background-color: #E8F0FE;\n",
              "      border: none;\n",
              "      border-radius: 50%;\n",
              "      cursor: pointer;\n",
              "      display: none;\n",
              "      fill: #1967D2;\n",
              "      height: 32px;\n",
              "      padding: 0 0 0 0;\n",
              "      width: 32px;\n",
              "    }\n",
              "\n",
              "    .colab-df-convert:hover {\n",
              "      background-color: #E2EBFA;\n",
              "      box-shadow: 0px 1px 2px rgba(60, 64, 67, 0.3), 0px 1px 3px 1px rgba(60, 64, 67, 0.15);\n",
              "      fill: #174EA6;\n",
              "    }\n",
              "\n",
              "    [theme=dark] .colab-df-convert {\n",
              "      background-color: #3B4455;\n",
              "      fill: #D2E3FC;\n",
              "    }\n",
              "\n",
              "    [theme=dark] .colab-df-convert:hover {\n",
              "      background-color: #434B5C;\n",
              "      box-shadow: 0px 1px 3px 1px rgba(0, 0, 0, 0.15);\n",
              "      filter: drop-shadow(0px 1px 2px rgba(0, 0, 0, 0.3));\n",
              "      fill: #FFFFFF;\n",
              "    }\n",
              "  </style>\n",
              "\n",
              "      <script>\n",
              "        const buttonEl =\n",
              "          document.querySelector('#df-21d16c2d-c161-430c-960d-8fa940267238 button.colab-df-convert');\n",
              "        buttonEl.style.display =\n",
              "          google.colab.kernel.accessAllowed ? 'block' : 'none';\n",
              "\n",
              "        async function convertToInteractive(key) {\n",
              "          const element = document.querySelector('#df-21d16c2d-c161-430c-960d-8fa940267238');\n",
              "          const dataTable =\n",
              "            await google.colab.kernel.invokeFunction('convertToInteractive',\n",
              "                                                     [key], {});\n",
              "          if (!dataTable) return;\n",
              "\n",
              "          const docLinkHtml = 'Like what you see? Visit the ' +\n",
              "            '<a target=\"_blank\" href=https://colab.research.google.com/notebooks/data_table.ipynb>data table notebook</a>'\n",
              "            + ' to learn more about interactive tables.';\n",
              "          element.innerHTML = '';\n",
              "          dataTable['output_type'] = 'display_data';\n",
              "          await google.colab.output.renderOutput(dataTable, element);\n",
              "          const docLink = document.createElement('div');\n",
              "          docLink.innerHTML = docLinkHtml;\n",
              "          element.appendChild(docLink);\n",
              "        }\n",
              "      </script>\n",
              "    </div>\n",
              "  </div>\n"
            ]
          },
          "metadata": {},
          "execution_count": 47
        }
      ]
    },
    {
      "cell_type": "code",
      "source": [
        "model_3.summary()"
      ],
      "metadata": {
        "id": "6f5Kx8ULk_Fd",
        "outputId": "74245259-9f76-4a3c-d9b4-bfc85c755718",
        "colab": {
          "base_uri": "https://localhost:8080/"
        }
      },
      "execution_count": 48,
      "outputs": [
        {
          "output_type": "stream",
          "name": "stdout",
          "text": [
            "Model: \"sequential_4\"\n",
            "_________________________________________________________________\n",
            " Layer (type)                Output Shape              Param #   \n",
            "=================================================================\n",
            " dense_6 (Dense)             (None, 10)                20        \n",
            "                                                                 \n",
            " dense_7 (Dense)             (None, 1)                 11        \n",
            "                                                                 \n",
            "=================================================================\n",
            "Total params: 31\n",
            "Trainable params: 31\n",
            "Non-trainable params: 0\n",
            "_________________________________________________________________\n"
          ]
        }
      ]
    },
    {
      "cell_type": "markdown",
      "source": [
        "🔑 one of your main goal should be to minimize the time between your experiments. The more things you will figure out which don't work and in turn, get closure to figure out what does. learning practitioner's motto: \"experiment, experiment, experiment\"."
      ],
      "metadata": {
        "id": "NPdPAcG8vyw_"
      }
    },
    {
      "cell_type": "code",
      "source": [
        "## Tracking your experiments\n",
        "\n",
        "# One really good habits in machine learning modelling"
      ],
      "metadata": {
        "id": "27rxFlymxOVm",
        "colab": {
          "base_uri": "https://localhost:8080/",
          "height": 130
        },
        "outputId": "4de3e6ad-81ca-4953-fe7f-90d593797be2"
      },
      "execution_count": 49,
      "outputs": [
        {
          "output_type": "error",
          "ename": "SyntaxError",
          "evalue": "ignored",
          "traceback": [
            "\u001b[0;36m  File \u001b[0;32m\"<ipython-input-49-80e4c00b7be7>\"\u001b[0;36m, line \u001b[0;32m3\u001b[0m\n\u001b[0;31m    One really good habits in machine learning modelling\u001b[0m\n\u001b[0m        ^\u001b[0m\n\u001b[0;31mSyntaxError\u001b[0m\u001b[0;31m:\u001b[0m invalid syntax\n"
          ]
        }
      ]
    },
    {
      "cell_type": "markdown",
      "source": [
        "## Tracking your experiments\n",
        "\n",
        "One really good habits in machine learning modelling is to track the results of your experiments.\n",
        "\n",
        "And while doing so, can be tedious when running lots of experiments.\n",
        "\n",
        "Luckily, there are tools to help us!\n",
        "\n",
        "📔 Resources: As you build your models, you'll want to look into using:\n",
        "\n",
        "*   [Tensorboard](https://www.tensorflow.org/tensorboard) - a component of the TensorFlow library to help tracking modelling experiments(We'll see this one later).\n",
        "*   [Weight & Biases](https://wandb.ai/site) - A tool for tracking all kind of machine learning experiments(plug straight to TensorBoard).\n",
        "\n",
        "🔽 **Saving our models**\n",
        "\n",
        "Saving our models help us to use them outside of Google Colab(or whereever they were trained) such as in a mobile application or Web app.\n",
        "1. The SavedModel format.\n",
        "2. The HDF5 format.\n"
      ],
      "metadata": {
        "id": "vXSBmYAQxpm2"
      }
    },
    {
      "cell_type": "code",
      "source": [
        "# Save model using SavedModel format\n",
        "model_2.save(\"best_model_SavedModel_format\")"
      ],
      "metadata": {
        "colab": {
          "base_uri": "https://localhost:8080/"
        },
        "id": "hVY_eCgm_2Sd",
        "outputId": "3351f447-bf0a-49e6-bf32-d2ce6e86a790"
      },
      "execution_count": 50,
      "outputs": [
        {
          "output_type": "stream",
          "name": "stderr",
          "text": [
            "WARNING:absl:Found untraced functions such as _update_step_xla while saving (showing 1 of 1). These functions will not be directly callable after loading.\n"
          ]
        }
      ]
    },
    {
      "cell_type": "code",
      "source": [
        "# Save model using HDF5 format\n",
        "model_2.save(\"best_model_HDF5_format.h5\")"
      ],
      "metadata": {
        "id": "mgvx-MPWAxXR"
      },
      "execution_count": 51,
      "outputs": []
    },
    {
      "cell_type": "markdown",
      "source": [
        "🔽\n",
        "**Loading in a Saved Model**"
      ],
      "metadata": {
        "id": "eEWc2D3JBHlw"
      }
    },
    {
      "cell_type": "code",
      "source": [
        "# Load in the SaveModel format model\n",
        "loaded_SavedModel_format = tf.keras.models.load_model(\"best_model_SavedModel_format\")\n",
        "loaded_SavedModel_format.summary()"
      ],
      "metadata": {
        "colab": {
          "base_uri": "https://localhost:8080/"
        },
        "id": "o3eurtWOBbBp",
        "outputId": "6dc33794-9915-4adb-ba84-8c6d9f26800a"
      },
      "execution_count": 52,
      "outputs": [
        {
          "output_type": "stream",
          "name": "stdout",
          "text": [
            "Model: \"sequential_3\"\n",
            "_________________________________________________________________\n",
            " Layer (type)                Output Shape              Param #   \n",
            "=================================================================\n",
            " dense_4 (Dense)             (None, 10)                20        \n",
            "                                                                 \n",
            " dense_5 (Dense)             (None, 1)                 11        \n",
            "                                                                 \n",
            "=================================================================\n",
            "Total params: 31\n",
            "Trainable params: 31\n",
            "Non-trainable params: 0\n",
            "_________________________________________________________________\n"
          ]
        }
      ]
    },
    {
      "cell_type": "code",
      "source": [
        "# Compare model_2 predictions with SavedModel format model predictions\n",
        "model_2_preds = model_2.predicts(X_test)\n",
        "loaded_SavedModel_format_preds = loaded_SavedModel_format.predict(X_test)"
      ],
      "metadata": {
        "id": "oaEjG088B669"
      },
      "execution_count": null,
      "outputs": []
    }
  ],
  "metadata": {
    "colab": {
      "provenance": [],
      "include_colab_link": true
    },
    "kernelspec": {
      "display_name": "Python 3",
      "name": "python3"
    }
  },
  "nbformat": 4,
  "nbformat_minor": 0
}